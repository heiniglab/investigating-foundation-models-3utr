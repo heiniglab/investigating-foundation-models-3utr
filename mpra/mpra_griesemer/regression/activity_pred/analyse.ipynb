{
 "cells": [
  {
   "cell_type": "code",
   "execution_count": 1,
   "id": "675d33de-ab99-477c-940c-fa2631fe7212",
   "metadata": {
    "tags": []
   },
   "outputs": [],
   "source": [
    "import numpy as np\n",
    "import pandas as pd\n",
    "import scipy\n",
    "import sklearn.metrics\n",
    "import os\n",
    "\n",
    "import matplotlib.pyplot as plt\n",
    "import matplotlib as mpl\n",
    "import seaborn as sns\n",
    "\n",
    "from scipy import stats\n",
    "import statsmodels.stats.multicomp as mc\n",
    "\n",
    "from statannotations.Annotator import Annotator"
   ]
  },
  {
   "cell_type": "code",
   "execution_count": 2,
   "id": "82c157d3-f18c-4f89-8adf-69f06cbcf277",
   "metadata": {
    "tags": []
   },
   "outputs": [],
   "source": [
    "mpl.rcParams.update({'xtick.labelsize': 14, 'ytick.labelsize': 14, \n",
    "                     'axes.titlesize':14, 'axes.labelsize':16}) #default font sizes for plots"
   ]
  },
  {
   "cell_type": "markdown",
   "id": "c73a321e-15a2-45ca-843d-4ef3f738dcd8",
   "metadata": {},
   "source": [
    "# Auxiliary functions"
   ]
  },
  {
   "cell_type": "code",
   "execution_count": 3,
   "id": "f0898be5-7d4e-40ca-967a-013f9cfba159",
   "metadata": {
    "tags": []
   },
   "outputs": [],
   "source": [
    "def compute_score(df):\n",
    "    pearson_r = scipy.stats.pearsonr(df.y_true,df.y_pred)\n",
    "    ci_95 = pearson_r.confidence_interval()\n",
    "    ci_95 = np.diff(ci_95)[0]/2\n",
    "    pearson_r = pearson_r[0]\n",
    "    return (pearson_r,ci_95)\n",
    "    \n",
    "def get_best_models(df):\n",
    "\n",
    "    def is_overlap(a, b):\n",
    "        return max(0, min(a[1], b[1]) - max(a[0], b[0]))>0\n",
    "\n",
    "    best_models = []\n",
    "\n",
    "    best_auc, best_auc_err =  df.sort_values().iloc[-1]\n",
    "\n",
    "    for model, (auc, auc_err) in df.items():\n",
    "            if is_overlap((best_auc-best_auc_err,best_auc+best_auc_err),(auc-auc_err,auc+auc_err)):\n",
    "                best_models.append(model)\n",
    "\n",
    "    return best_models\n",
    "\n",
    "def highlight_ns(x, best_models):\n",
    "    #make the best model and models with insignificant difference with the best model bold\n",
    "    cell_type = x.name\n",
    "    return ['font-weight: bold' if model in best_models[cell_type] else ''\n",
    "                for model in x.index]"
   ]
  },
  {
   "cell_type": "markdown",
   "id": "e430f7c8-7cd0-4194-8bf7-26c19cc0efa1",
   "metadata": {},
   "source": [
    "# Collect predictions"
   ]
  },
  {
   "cell_type": "code",
   "execution_count": 4,
   "id": "67aade92-3d4e-4862-a4a7-302ee521c36b",
   "metadata": {},
   "outputs": [],
   "source": [
    "regressor = 'Ridge' # Ridge or SVR"
   ]
  },
  {
   "cell_type": "code",
   "execution_count": 5,
   "id": "c6b77ddf-2b51-4a9f-ace6-d16c65a03fc9",
   "metadata": {
    "tags": []
   },
   "outputs": [],
   "source": [
    "data_dir = f'/lustre/groups/epigenereg01/workspace/projects/vale/MLM/griesemer/{regressor}_LeaveGroupOut/'"
   ]
  },
  {
   "cell_type": "code",
   "execution_count": 6,
   "id": "ba0d9e61-0bcf-4d8b-ba1b-6af7f5a88922",
   "metadata": {
    "tags": []
   },
   "outputs": [],
   "source": [
    "models = ['DNABERT','DNABERT-2','NT-MS-v2-500M','Species-agnostic','Species-aware','griesemer']\n",
    "\n",
    "cell_types = ['HEK293FT', 'HMEC', 'HEPG2', 'GM12878', 'K562', 'SKNSH']"
   ]
  },
  {
   "cell_type": "code",
   "execution_count": 13,
   "id": "eb820876-4815-409b-b40d-90bbc8979907",
   "metadata": {},
   "outputs": [
    {
     "name": "stdout",
     "output_type": "stream",
     "text": [
      "HEK293FT 14944\n",
      "HMEC 14946\n",
      "HEPG2 14946\n",
      "GM12878 14946\n",
      "K562 14946\n",
      "SKNSH 14946\n"
     ]
    }
   ],
   "source": [
    "res = {}\n",
    "\n",
    "for cell_type in cell_types:\n",
    "        res[cell_type] = []\n",
    "        for model in models:\n",
    "            res_tsv = data_dir + f'{cell_type}-{model}.tsv'\n",
    "            if os.path.isfile(res_tsv):\n",
    "                df = pd.read_csv(res_tsv, sep='\\t', skiprows=1, usecols=[84,85],names=['y_true','y_pred'])\n",
    "                df['model'] = model\n",
    "                res[cell_type].append(df)\n",
    "        if len(res[cell_type])>0:\n",
    "            res[cell_type] = pd.concat(res[cell_type])\n",
    "            print(cell_type, int(res[cell_type].groupby('model').size().mean()))"
   ]
  },
  {
   "cell_type": "markdown",
   "id": "a94c3ead-7e46-4560-8393-ec5f7b0df7da",
   "metadata": {},
   "source": [
    "# Expression prediction"
   ]
  },
  {
   "cell_type": "code",
   "execution_count": 44,
   "id": "1d9172f3-beb1-4cbc-80a5-58af28b553a2",
   "metadata": {
    "tags": []
   },
   "outputs": [
    {
     "data": {
      "text/html": [
       "<style type=\"text/css\">\n",
       "#T_b8292_row3_col0, #T_b8292_row3_col1, #T_b8292_row3_col2, #T_b8292_row3_col3, #T_b8292_row3_col4, #T_b8292_row3_col5, #T_b8292_row4_col0, #T_b8292_row4_col1, #T_b8292_row4_col3, #T_b8292_row4_col5 {\n",
       "  font-weight: bold;\n",
       "}\n",
       "</style>\n",
       "<table id=\"T_b8292\">\n",
       "  <thead>\n",
       "    <tr>\n",
       "      <th class=\"blank level0\" >&nbsp;</th>\n",
       "      <th id=\"T_b8292_level0_col0\" class=\"col_heading level0 col0\" >HEK293FT</th>\n",
       "      <th id=\"T_b8292_level0_col1\" class=\"col_heading level0 col1\" >HMEC</th>\n",
       "      <th id=\"T_b8292_level0_col2\" class=\"col_heading level0 col2\" >HEPG2</th>\n",
       "      <th id=\"T_b8292_level0_col3\" class=\"col_heading level0 col3\" >GM12878</th>\n",
       "      <th id=\"T_b8292_level0_col4\" class=\"col_heading level0 col4\" >K562</th>\n",
       "      <th id=\"T_b8292_level0_col5\" class=\"col_heading level0 col5\" >SKNSH</th>\n",
       "    </tr>\n",
       "    <tr>\n",
       "      <th class=\"index_name level0\" >model</th>\n",
       "      <th class=\"blank col0\" >&nbsp;</th>\n",
       "      <th class=\"blank col1\" >&nbsp;</th>\n",
       "      <th class=\"blank col2\" >&nbsp;</th>\n",
       "      <th class=\"blank col3\" >&nbsp;</th>\n",
       "      <th class=\"blank col4\" >&nbsp;</th>\n",
       "      <th class=\"blank col5\" >&nbsp;</th>\n",
       "    </tr>\n",
       "  </thead>\n",
       "  <tbody>\n",
       "    <tr>\n",
       "      <th id=\"T_b8292_level0_row0\" class=\"row_heading level0 row0\" >DNABERT</th>\n",
       "      <td id=\"T_b8292_row0_col0\" class=\"data row0 col0\" >0.08±0.02</td>\n",
       "      <td id=\"T_b8292_row0_col1\" class=\"data row0 col1\" >0.30±0.01</td>\n",
       "      <td id=\"T_b8292_row0_col2\" class=\"data row0 col2\" >0.14±0.02</td>\n",
       "      <td id=\"T_b8292_row0_col3\" class=\"data row0 col3\" >0.13±0.02</td>\n",
       "      <td id=\"T_b8292_row0_col4\" class=\"data row0 col4\" >0.15±0.02</td>\n",
       "      <td id=\"T_b8292_row0_col5\" class=\"data row0 col5\" >0.11±0.02</td>\n",
       "    </tr>\n",
       "    <tr>\n",
       "      <th id=\"T_b8292_level0_row1\" class=\"row_heading level0 row1\" >DNABERT-2</th>\n",
       "      <td id=\"T_b8292_row1_col0\" class=\"data row1 col0\" >0.18±0.02</td>\n",
       "      <td id=\"T_b8292_row1_col1\" class=\"data row1 col1\" >0.36±0.01</td>\n",
       "      <td id=\"T_b8292_row1_col2\" class=\"data row1 col2\" >0.30±0.01</td>\n",
       "      <td id=\"T_b8292_row1_col3\" class=\"data row1 col3\" >0.30±0.01</td>\n",
       "      <td id=\"T_b8292_row1_col4\" class=\"data row1 col4\" >0.22±0.02</td>\n",
       "      <td id=\"T_b8292_row1_col5\" class=\"data row1 col5\" >0.20±0.02</td>\n",
       "    </tr>\n",
       "    <tr>\n",
       "      <th id=\"T_b8292_level0_row2\" class=\"row_heading level0 row2\" >NT-MS-v2-500M</th>\n",
       "      <td id=\"T_b8292_row2_col0\" class=\"data row2 col0\" >0.13±0.02</td>\n",
       "      <td id=\"T_b8292_row2_col1\" class=\"data row2 col1\" >0.32±0.01</td>\n",
       "      <td id=\"T_b8292_row2_col2\" class=\"data row2 col2\" >0.19±0.02</td>\n",
       "      <td id=\"T_b8292_row2_col3\" class=\"data row2 col3\" >0.19±0.02</td>\n",
       "      <td id=\"T_b8292_row2_col4\" class=\"data row2 col4\" >0.18±0.02</td>\n",
       "      <td id=\"T_b8292_row2_col5\" class=\"data row2 col5\" >0.16±0.02</td>\n",
       "    </tr>\n",
       "    <tr>\n",
       "      <th id=\"T_b8292_level0_row3\" class=\"row_heading level0 row3\" >Species-agnostic</th>\n",
       "      <td id=\"T_b8292_row3_col0\" class=\"data row3 col0\" >0.32±0.01</td>\n",
       "      <td id=\"T_b8292_row3_col1\" class=\"data row3 col1\" >0.49±0.01</td>\n",
       "      <td id=\"T_b8292_row3_col2\" class=\"data row3 col2\" >0.39±0.01</td>\n",
       "      <td id=\"T_b8292_row3_col3\" class=\"data row3 col3\" >0.39±0.01</td>\n",
       "      <td id=\"T_b8292_row3_col4\" class=\"data row3 col4\" >0.34±0.01</td>\n",
       "      <td id=\"T_b8292_row3_col5\" class=\"data row3 col5\" >0.32±0.01</td>\n",
       "    </tr>\n",
       "    <tr>\n",
       "      <th id=\"T_b8292_level0_row4\" class=\"row_heading level0 row4\" >Species-aware</th>\n",
       "      <td id=\"T_b8292_row4_col0\" class=\"data row4 col0\" >0.31±0.01</td>\n",
       "      <td id=\"T_b8292_row4_col1\" class=\"data row4 col1\" >0.49±0.01</td>\n",
       "      <td id=\"T_b8292_row4_col2\" class=\"data row4 col2\" >0.36±0.01</td>\n",
       "      <td id=\"T_b8292_row4_col3\" class=\"data row4 col3\" >0.37±0.01</td>\n",
       "      <td id=\"T_b8292_row4_col4\" class=\"data row4 col4\" >0.30±0.01</td>\n",
       "      <td id=\"T_b8292_row4_col5\" class=\"data row4 col5\" >0.29±0.01</td>\n",
       "    </tr>\n",
       "    <tr>\n",
       "      <th id=\"T_b8292_level0_row5\" class=\"row_heading level0 row5\" >griesemer</th>\n",
       "      <td id=\"T_b8292_row5_col0\" class=\"data row5 col0\" >0.22±0.02</td>\n",
       "      <td id=\"T_b8292_row5_col1\" class=\"data row5 col1\" >0.44±0.01</td>\n",
       "      <td id=\"T_b8292_row5_col2\" class=\"data row5 col2\" >0.25±0.02</td>\n",
       "      <td id=\"T_b8292_row5_col3\" class=\"data row5 col3\" >0.25±0.02</td>\n",
       "      <td id=\"T_b8292_row5_col4\" class=\"data row5 col4\" >0.28±0.01</td>\n",
       "      <td id=\"T_b8292_row5_col5\" class=\"data row5 col5\" >0.26±0.01</td>\n",
       "    </tr>\n",
       "  </tbody>\n",
       "</table>\n"
      ],
      "text/plain": [
       "<pandas.io.formats.style.Styler at 0x7f1214134ee0>"
      ]
     },
     "execution_count": 44,
     "metadata": {},
     "output_type": "execute_result"
    }
   ],
   "source": [
    "preds_res = {}\n",
    "best_models = {}\n",
    "\n",
    "\n",
    "for cell_type in cell_types:\n",
    "\n",
    "        preds_res[cell_type] = res[cell_type].groupby('model').apply(compute_score)\n",
    "        best_models[cell_type] = get_best_models(preds_res[cell_type])\n",
    "        \n",
    "preds_res = pd.DataFrame(preds_res).map(lambda x: f'{x[0]:.2f}±{x[1]:.2f}')\n",
    "\n",
    "preds_res.loc[models].style.apply(lambda x: highlight_ns(x, best_models))"
   ]
  },
  {
   "cell_type": "code",
   "execution_count": null,
   "id": "b974399e-44f9-489e-ba92-d3be00ba76e8",
   "metadata": {},
   "outputs": [],
   "source": []
  }
 ],
 "metadata": {
  "kernelspec": {
   "display_name": "Python 3 (ipykernel)",
   "language": "python",
   "name": "python3"
  },
  "language_info": {
   "codemirror_mode": {
    "name": "ipython",
    "version": 3
   },
   "file_extension": ".py",
   "mimetype": "text/x-python",
   "name": "python",
   "nbconvert_exporter": "python",
   "pygments_lexer": "ipython3",
   "version": "3.10.13"
  }
 },
 "nbformat": 4,
 "nbformat_minor": 5
}

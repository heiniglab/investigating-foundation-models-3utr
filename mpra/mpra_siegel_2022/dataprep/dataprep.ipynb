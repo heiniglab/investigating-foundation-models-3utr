{
 "cells": [
  {
   "cell_type": "code",
   "execution_count": 1,
   "id": "e5096b4c-649e-46fe-ab34-3de7727db3a3",
   "metadata": {
    "tags": []
   },
   "outputs": [],
   "source": [
    "import numpy as np\n",
    "import pandas as pd\n",
    "from textwrap import wrap\n",
    "from tqdm import tqdm\n",
    "import pysam"
   ]
  },
  {
   "cell_type": "code",
   "execution_count": 2,
   "id": "d7a7fd71-3639-4f5b-b52e-94995c25845e",
   "metadata": {},
   "outputs": [],
   "source": [
    "def reverse_complement(seq):\n",
    "    '''\n",
    "    Take sequence reverse complement\n",
    "    '''\n",
    "    compl_dict = {'A':'T', 'C':'G', 'G':'C', 'T':'A','a':'t', 'c':'g', 'g':'c', 't':'a'}\n",
    "    compl_seq = ''.join([compl_dict.get(x,x) for x in seq])\n",
    "    rev_seq = compl_seq[::-1]\n",
    "    return rev_seq"
   ]
  },
  {
   "cell_type": "code",
   "execution_count": 3,
   "id": "bf27f09b-4632-425c-aed7-eea5d459a5b5",
   "metadata": {
    "tags": []
   },
   "outputs": [],
   "source": [
    "data_dir = '/lustre/groups/epigenereg01/workspace/projects/vale/mlm/mpra/siegel_2022/'"
   ]
  },
  {
   "cell_type": "code",
   "execution_count": 28,
   "id": "24dcdc9c-9c69-47c1-9821-dcb39e5a9365",
   "metadata": {
    "tags": []
   },
   "outputs": [],
   "source": [
    "cell_type = 'Beas2B' #  Beas2B or Jurkat"
   ]
  },
  {
   "cell_type": "code",
   "execution_count": 29,
   "id": "74fe10ad-0a84-43ec-989b-814665dfaa13",
   "metadata": {
    "tags": []
   },
   "outputs": [],
   "source": [
    "#Sequences on the negative strand are already reverse-complemented!\n",
    "\n",
    "mpra_df = pd.read_csv(data_dir + f'siegel_supplemantary/sequence_level_data_{cell_type}.csv')"
   ]
  },
  {
   "cell_type": "code",
   "execution_count": 30,
   "id": "047ed3a4-b94e-40a6-bc92-34a130600333",
   "metadata": {
    "tags": []
   },
   "outputs": [],
   "source": [
    "mpra_df = mpra_df[~mpra_df.parent_control_oligo.isna()] #remove variants with unknown reference (only 20)\n",
    "mpra_df['gene'] = mpra_df['region'].apply(lambda x:x.split('|')[0])\n",
    "mpra_df.drop(columns='region', inplace=True)"
   ]
  },
  {
   "cell_type": "code",
   "execution_count": 31,
   "id": "17d1fd03-c376-4c6f-990f-6060ab211e50",
   "metadata": {},
   "outputs": [],
   "source": [
    "regions_utr_map = pd.read_csv(data_dir + 'preprocessing/regions_hg38/regions_3UTR_GRCh38.bed', sep='\\t',\n",
    "                             names = ['chrom','oligo_start','oligo_end','ids','utr_start','utr_end','utr_name','strand','gene']) #mapping between regions and 3'UTR coordinates\n",
    "\n",
    "regions_utr_map = regions_utr_map[(regions_utr_map.oligo_start>=regions_utr_map.utr_start) & \n",
    "    (regions_utr_map.oligo_end<=regions_utr_map.utr_end)].drop_duplicates() #region should be entirely within 3'UTR"
   ]
  },
  {
   "cell_type": "code",
   "execution_count": 32,
   "id": "6830d0c0-a4bf-406d-a490-ccd0df065976",
   "metadata": {},
   "outputs": [],
   "source": [
    "mpra_df = mpra_df.merge(regions_utr_map, how='left')\n",
    "mpra_df = mpra_df[~mpra_df.utr_name.isna()]"
   ]
  },
  {
   "cell_type": "code",
   "execution_count": 33,
   "id": "d926f694-64d7-4032-b59f-3a41f043b897",
   "metadata": {},
   "outputs": [],
   "source": [
    "#if there're more than one 3'UTRs for a given variant, take the longest\n",
    "mpra_df['utr_len'] = mpra_df.utr_end-mpra_df.utr_start\n",
    "mpra_df = mpra_df.sort_values(by='utr_len',ascending=False).drop_duplicates(['ids'],keep='first')#.drop(columns='utr_len')"
   ]
  },
  {
   "cell_type": "code",
   "execution_count": 34,
   "id": "33f14ed8-3f32-4f91-9984-e2d0a1c5b6bc",
   "metadata": {},
   "outputs": [],
   "source": [
    "human_fasta = pysam.FastaFile(data_dir + '../../fasta/hg38.fa')"
   ]
  },
  {
   "cell_type": "code",
   "execution_count": 35,
   "id": "37399ec6-46cd-4ab4-b4dc-5d4acc18c380",
   "metadata": {},
   "outputs": [
    {
     "name": "stderr",
     "output_type": "stream",
     "text": [
      "100%|██████████| 11411/11411 [00:01<00:00, 8999.51it/s]\n"
     ]
    }
   ],
   "source": [
    "ref_df = mpra_df[mpra_df.iscontrol==1].set_index('ids')\n",
    "\n",
    "checked_ids = []\n",
    "\n",
    "for oligo_id,oligo in tqdm(ref_df.iterrows(),total=len(ref_df)):\n",
    "    refseq = human_fasta.fetch(oligo.chrom, oligo.oligo_start, oligo.oligo_end).upper()\n",
    "    if oligo.strand=='-':\n",
    "        refseq = reverse_complement(refseq)\n",
    "    n_mismatches = np.sum([s1!=s2 for s1,s2 in zip(oligo.seq,refseq)])\n",
    "    if n_mismatches==0:\n",
    "        checked_ids.append(oligo_id)"
   ]
  },
  {
   "cell_type": "code",
   "execution_count": 36,
   "id": "c67ef0e0-d7e1-4926-be5d-d10523c5cb13",
   "metadata": {},
   "outputs": [
    {
     "data": {
      "text/plain": [
       "True"
      ]
     },
     "execution_count": 36,
     "metadata": {},
     "output_type": "execute_result"
    }
   ],
   "source": [
    "mpra_df.ids.is_unique"
   ]
  },
  {
   "cell_type": "code",
   "execution_count": 37,
   "id": "ef9369ff-8995-4154-8e15-e2f1029c17a1",
   "metadata": {},
   "outputs": [],
   "source": [
    "ref_df = ref_df.loc[checked_ids]\n",
    "alt_df = mpra_df[(mpra_df.iscontrol==0)&(mpra_df.parent_control_oligo.isin(checked_ids))]\n",
    "\n",
    "ref_df = ref_df.loc[alt_df.parent_control_oligo].reset_index() #get the reference for each alternative\n",
    "#now ref_df and alt_df are of the same length"
   ]
  },
  {
   "cell_type": "code",
   "execution_count": 38,
   "id": "d1ca9872-1408-40cd-a88b-93fb8b551543",
   "metadata": {
    "tags": []
   },
   "outputs": [],
   "source": [
    "alt_df.index = range(0,len(alt_df)*2,2) #index from 0 to -1\n",
    "\n",
    "ref_df.index = range(1,1+len(ref_df)*2,2)#index from 1 to -1"
   ]
  },
  {
   "cell_type": "code",
   "execution_count": 39,
   "id": "41bc4181-1a41-4594-a1c8-fc9942fac7ed",
   "metadata": {
    "tags": []
   },
   "outputs": [],
   "source": [
    "ref_df.issnp = alt_df.issnp.values"
   ]
  },
  {
   "cell_type": "code",
   "execution_count": 40,
   "id": "eabdd0ec-7971-4dc5-879b-f41c665f85c6",
   "metadata": {
    "tags": []
   },
   "outputs": [],
   "source": [
    "mpra_df = pd.concat([alt_df,ref_df]).sort_index() #now alternative and reference sequences alternate"
   ]
  },
  {
   "cell_type": "code",
   "execution_count": 41,
   "id": "e3ddfc26-7bd0-4c77-bc16-9f2893461a8c",
   "metadata": {
    "tags": []
   },
   "outputs": [],
   "source": [
    "mpra_df.to_csv(data_dir + f'/preprocessing/{cell_type}.tsv', sep='\\t', index=None)"
   ]
  },
  {
   "cell_type": "markdown",
   "id": "9605e8f9-7dd0-43e2-90c9-4681403a7639",
   "metadata": {},
   "source": [
    "# Seed oligos to sequences"
   ]
  },
  {
   "cell_type": "code",
   "execution_count": 45,
   "id": "8387f3c7-05f2-4335-929f-d242c299abc8",
   "metadata": {},
   "outputs": [],
   "source": [
    "WINDOW_WIDTH = None"
   ]
  },
  {
   "cell_type": "code",
   "execution_count": 46,
   "id": "ecad11d6-0c63-4908-a628-1a1802702a4a",
   "metadata": {},
   "outputs": [],
   "source": [
    "oligos_df = pd.read_csv(data_dir + f'/preprocessing/Jurkat.tsv', sep='\\t') "
   ]
  },
  {
   "cell_type": "code",
   "execution_count": 47,
   "id": "60ce89ea-562a-46e4-b41d-e88f33288b09",
   "metadata": {},
   "outputs": [],
   "source": [
    "oligos_df = oligos_df.drop_duplicates(subset='ids').set_index('ids')"
   ]
  },
  {
   "cell_type": "code",
   "execution_count": 48,
   "id": "62b21547-4f32-4663-9f6b-e5082e3b88e7",
   "metadata": {},
   "outputs": [],
   "source": [
    "def extract_oligo_seq(oligo, seq_len, \n",
    "                      rc_on_negative=False, seq_clip_3utr=False,oligo_to_lower=False):\n",
    "    \n",
    "    oligo_seq = oligo.seq\n",
    "    \n",
    "    if oligo.strand == '-':\n",
    "        #initial sequences are reverse complemented for negative genes, we rreverse complement them back to match DNA\n",
    "        oligo_seq = reverse_complement(oligo_seq)\n",
    "\n",
    "    if seq_len is not None:\n",
    "\n",
    "        L = len(oligo_seq)\n",
    "        \n",
    "        left = oligo.oligo_start-(seq_len-L)//2\n",
    "        right = oligo.oligo_end+(seq_len-L)//2\n",
    "    \n",
    "        if seq_clip_3utr:\n",
    "            left = max(left,oligo.utr_start)\n",
    "            right = min(right,oligo.utr_end)\n",
    "        \n",
    "        flanking_left_seq = human_fasta.fetch(oligo.chrom, left, oligo.oligo_start).upper()\n",
    "        flanking_right_seq = human_fasta.fetch(oligo.chrom, oligo.oligo_end, right).upper()\n",
    "\n",
    "    else:\n",
    "\n",
    "        flanking_left_seq = ''\n",
    "        flanking_right_seq = ''\n",
    "        \n",
    "            \n",
    "    if oligo_to_lower:\n",
    "        oligo_seq = oligo_seq.lower()\n",
    "        \n",
    "    seq = flanking_left_seq + oligo_seq + flanking_right_seq\n",
    "\n",
    "    #print(n_mismatches)\n",
    "    #for genes on the negative strand, take reverse complement\n",
    "    if rc_on_negative and oligo.strand=='-':\n",
    "        seq = reverse_complement(seq)\n",
    "\n",
    "    return seq"
   ]
  },
  {
   "cell_type": "code",
   "execution_count": 49,
   "id": "6ad12e20-c393-48da-a10e-72a18c266f9c",
   "metadata": {},
   "outputs": [],
   "source": [
    "def write_fasta(fasta_path, **kwargs):\n",
    "\n",
    "    c = 0\n",
    "    \n",
    "    with open(fasta_path, 'w') as f:\n",
    "        for idx, oligo in tqdm(oligos_df.iterrows(), total=len(oligos_df)):\n",
    "            seq = extract_oligo_seq(oligo, **kwargs)\n",
    "            f.write(f'>{idx}\\n')\n",
    "            for line in wrap(seq, 80): #wrap reference sequence with standard FASTA width\n",
    "                f.write(line+'\\n')\n",
    "            c += 1\n",
    "            \n",
    "    return c"
   ]
  },
  {
   "cell_type": "code",
   "execution_count": 50,
   "id": "16f7fded-6fc7-4a35-a663-2f78c56c1bd9",
   "metadata": {},
   "outputs": [],
   "source": [
    "human_fasta = pysam.FastaFile(data_dir + '../../fasta/hg38.fa')"
   ]
  },
  {
   "cell_type": "code",
   "execution_count": 51,
   "id": "a23298a6-4a93-43e5-9b4d-9cea9b73ea2c",
   "metadata": {},
   "outputs": [
    {
     "name": "stderr",
     "output_type": "stream",
     "text": [
      "100%|██████████| 35285/35285 [01:43<00:00, 341.51it/s]\n"
     ]
    },
    {
     "name": "stdout",
     "output_type": "stream",
     "text": [
      "35285 pairs written\n"
     ]
    },
    {
     "name": "stderr",
     "output_type": "stream",
     "text": [
      "100%|██████████| 35285/35285 [00:30<00:00, 1141.02it/s]\n"
     ]
    },
    {
     "name": "stdout",
     "output_type": "stream",
     "text": [
      "35285 pairs written\n"
     ]
    }
   ],
   "source": [
    "if WINDOW_WIDTH is None:\n",
    "    oligo_to_lower=False\n",
    "else:\n",
    "    oligo_to_lower=True\n",
    "\n",
    "N_pairs=write_fasta(data_dir + 'fasta/variants_dna_fwd.fa',seq_len=WINDOW_WIDTH,rc_on_negative=False,\n",
    "                   seq_clip_3utr=False,oligo_to_lower=oligo_to_lower)\n",
    "\n",
    "print(f'{N_pairs} pairs written')\n",
    "\n",
    "N_pairs=write_fasta(data_dir + 'fasta/variants_rna.fa',seq_len=WINDOW_WIDTH,rc_on_negative=True,\n",
    "                   seq_clip_3utr=True,oligo_to_lower=oligo_to_lower)\n",
    "\n",
    "print(f'{N_pairs} pairs written')"
   ]
  },
  {
   "cell_type": "code",
   "execution_count": 52,
   "id": "15010da1-798b-45f6-ad37-9a560ce08454",
   "metadata": {},
   "outputs": [],
   "source": [
    "! samtools faidx {data_dir}/fasta/variants_rna.fa"
   ]
  },
  {
   "cell_type": "code",
   "execution_count": 53,
   "id": "96d1a3d6-a86e-46bd-a929-3a67be5a54ff",
   "metadata": {},
   "outputs": [],
   "source": [
    "! samtools faidx {data_dir}/fasta/variants_dna_fwd.fa"
   ]
  },
  {
   "cell_type": "code",
   "execution_count": null,
   "id": "cdaa54d7-0d92-4588-810b-54577d103214",
   "metadata": {},
   "outputs": [],
   "source": []
  }
 ],
 "metadata": {
  "kernelspec": {
   "display_name": "Python 3 (ipykernel)",
   "language": "python",
   "name": "python3"
  },
  "language_info": {
   "codemirror_mode": {
    "name": "ipython",
    "version": 3
   },
   "file_extension": ".py",
   "mimetype": "text/x-python",
   "name": "python",
   "nbconvert_exporter": "python",
   "pygments_lexer": "ipython3",
   "version": "3.10.13"
  }
 },
 "nbformat": 4,
 "nbformat_minor": 5
}

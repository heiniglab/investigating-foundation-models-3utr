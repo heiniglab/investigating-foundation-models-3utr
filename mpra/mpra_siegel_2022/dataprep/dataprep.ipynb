{
 "cells": [
  {
   "cell_type": "code",
   "execution_count": 19,
   "id": "e5096b4c-649e-46fe-ab34-3de7727db3a3",
   "metadata": {
    "tags": []
   },
   "outputs": [],
   "source": [
    "import numpy as np\n",
    "import pandas as pd\n",
    "from textwrap import wrap\n",
    "from tqdm import tqdm"
   ]
  },
  {
   "cell_type": "code",
   "execution_count": 20,
   "id": "bf27f09b-4632-425c-aed7-eea5d459a5b5",
   "metadata": {
    "tags": []
   },
   "outputs": [],
   "source": [
    "data_dir = '/lustre/groups/epigenereg01/workspace/projects/vale/MLM/siegel_2022/'"
   ]
  },
  {
   "cell_type": "code",
   "execution_count": 35,
   "id": "24dcdc9c-9c69-47c1-9821-dcb39e5a9365",
   "metadata": {
    "tags": []
   },
   "outputs": [],
   "source": [
    "cell_type = 'Beas2B' #  Beas2B or Jurkat"
   ]
  },
  {
   "cell_type": "code",
   "execution_count": 36,
   "id": "74fe10ad-0a84-43ec-989b-814665dfaa13",
   "metadata": {
    "tags": []
   },
   "outputs": [],
   "source": [
    "#Sequences on the negative strand are already reverse-complemented!\n",
    "\n",
    "mpra_df = pd.read_csv(data_dir + f'data/supl/sequence_level_data_{cell_type}.csv')"
   ]
  },
  {
   "cell_type": "code",
   "execution_count": 37,
   "id": "047ed3a4-b94e-40a6-bc92-34a130600333",
   "metadata": {
    "tags": []
   },
   "outputs": [],
   "source": [
    "mpra_df = mpra_df[~mpra_df.parent_control_oligo.isna()] #remove variants with unknown reference (only 20)"
   ]
  },
  {
   "cell_type": "code",
   "execution_count": 38,
   "id": "17d1fd03-c376-4c6f-990f-6060ab211e50",
   "metadata": {},
   "outputs": [],
   "source": [
    "regions_utr_map = pd.read_csv(data_dir + 'data/regions_hg38/regions_3UTR_GRCh38.bed', sep='\\t',\n",
    "                             names = ['region_start','region_end','ids','utr_start','utr_end','strand']) #mapping between regions and 3'UTR coordinates\n",
    "\n",
    "regions_utr_map = regions_utr_map[(regions_utr_map.region_start>=regions_utr_map.utr_start) & \n",
    "    (regions_utr_map.region_end<=regions_utr_map.utr_end)].drop_duplicates() #region should be entirely within 3'UTR\n",
    "\n",
    "regions_utr_map = regions_utr_map.drop_duplicates(keep=False,subset='ids') #remove regions that span multiple UTRs\n",
    "\n",
    "regions_utr_map['stop_codon_dist'] = regions_utr_map.apply(lambda x: x.region_end-x.utr_start \n",
    "                      if x.strand=='+' else x.utr_end - x.region_start, axis=1)  #distance to the stop codon, must be below 5000 for MLM"
   ]
  },
  {
   "cell_type": "code",
   "execution_count": 39,
   "id": "6830d0c0-a4bf-406d-a490-ccd0df065976",
   "metadata": {},
   "outputs": [],
   "source": [
    "mpra_df = mpra_df.merge(regions_utr_map[['ids','stop_codon_dist','strand']], how='left')\n",
    "mpra_df = mpra_df[~mpra_df.strand.isna()]"
   ]
  },
  {
   "cell_type": "code",
   "execution_count": 40,
   "id": "3c67f371-afdd-4b89-ba69-80f705bda1ac",
   "metadata": {
    "tags": []
   },
   "outputs": [],
   "source": [
    "ref_df = mpra_df[mpra_df.iscontrol==1].set_index('ids') #reference id to index\n",
    "alt_df = mpra_df[mpra_df.iscontrol==0]\n",
    "\n",
    "ref_df = ref_df.loc[alt_df.parent_control_oligo].reset_index() #get the reference for each alternative\n",
    "\n",
    "#now ref_df and alt_df are of the same length"
   ]
  },
  {
   "cell_type": "code",
   "execution_count": 41,
   "id": "d1ca9872-1408-40cd-a88b-93fb8b551543",
   "metadata": {
    "tags": []
   },
   "outputs": [],
   "source": [
    "alt_df.index = range(0,len(alt_df)*2,2) #index from 0 to -1\n",
    "\n",
    "ref_df.index = range(1,1+len(ref_df)*2,2)#index from 1 to -1"
   ]
  },
  {
   "cell_type": "code",
   "execution_count": 42,
   "id": "41bc4181-1a41-4594-a1c8-fc9942fac7ed",
   "metadata": {
    "tags": []
   },
   "outputs": [],
   "source": [
    "ref_df.issnp = alt_df.issnp.values"
   ]
  },
  {
   "cell_type": "code",
   "execution_count": 43,
   "id": "eabdd0ec-7971-4dc5-879b-f41c665f85c6",
   "metadata": {
    "tags": []
   },
   "outputs": [],
   "source": [
    "mpra_df = pd.concat([alt_df,ref_df]).sort_index() #now alternative and reference sequences alternate"
   ]
  },
  {
   "cell_type": "code",
   "execution_count": 44,
   "id": "e3ddfc26-7bd0-4c77-bc16-9f2893461a8c",
   "metadata": {
    "tags": []
   },
   "outputs": [],
   "source": [
    "mpra_df.to_csv(data_dir + 'data/' + cell_type + '.tsv', sep='\\t', index=None)"
   ]
  },
  {
   "cell_type": "code",
   "execution_count": 32,
   "id": "3bf52c1e-7255-4eef-ace3-0439af9b6a69",
   "metadata": {},
   "outputs": [],
   "source": [
    "def reverse_complement(seq):\n",
    "    '''\n",
    "    Take sequence reverse complement\n",
    "    '''\n",
    "    compl_dict = {'A':'T', 'C':'G', 'G':'C', 'T':'A'}\n",
    "    compl_seq = ''.join([compl_dict.get(x,x) for x in seq])\n",
    "    rev_seq = compl_seq[::-1]\n",
    "    return rev_seq\n",
    "    \n",
    "#sequences are identical for both cell types!\n",
    "\n",
    "def write_fasta(output_fasta, complement_negative=False):\n",
    "    with open(output_fasta, 'w') as f:\n",
    "        for seq_id, row in tqdm(mpra_df.iterrows(), total=len(mpra_df)):\n",
    "            f.write(f'>id_{seq_id}:Homo_sapiens\\n')\n",
    "            if complement_negative and row.strand=='-':\n",
    "                seq = reverse_complement(row.seq)\n",
    "            else:\n",
    "                seq = row.seq\n",
    "            for line in wrap(seq, 80): #wrap sequence with standard FASTA width\n",
    "                f.write(line+'\\n')"
   ]
  },
  {
   "cell_type": "code",
   "execution_count": 33,
   "id": "9ed06f1a-57be-4420-b271-1ff4a3066240",
   "metadata": {},
   "outputs": [
    {
     "name": "stderr",
     "output_type": "stream",
     "text": [
      "100%|██████████| 49836/49836 [00:02<00:00, 16859.25it/s]\n"
     ]
    }
   ],
   "source": [
    "write_fasta(data_dir + 'fasta/variants_rna.fa', complement_negative=False) #initial sequence are already reverse complemented to match mRNA"
   ]
  },
  {
   "cell_type": "code",
   "execution_count": 34,
   "id": "10925db0-9e6b-4a5f-9a83-7d5148bec5d1",
   "metadata": {},
   "outputs": [
    {
     "name": "stderr",
     "output_type": "stream",
     "text": [
      "100%|██████████| 49836/49836 [00:03<00:00, 14312.36it/s]\n"
     ]
    }
   ],
   "source": [
    "write_fasta(data_dir + 'fasta/variants_dna_fwd.fa', complement_negative=True) "
   ]
  },
  {
   "cell_type": "code",
   "execution_count": null,
   "id": "b50447a4-7a86-4e41-a629-ede37b37c25c",
   "metadata": {},
   "outputs": [],
   "source": []
  }
 ],
 "metadata": {
  "kernelspec": {
   "display_name": "Python 3 (ipykernel)",
   "language": "python",
   "name": "python3"
  },
  "language_info": {
   "codemirror_mode": {
    "name": "ipython",
    "version": 3
   },
   "file_extension": ".py",
   "mimetype": "text/x-python",
   "name": "python",
   "nbconvert_exporter": "python",
   "pygments_lexer": "ipython3",
   "version": "3.10.13"
  }
 },
 "nbformat": 4,
 "nbformat_minor": 5
}

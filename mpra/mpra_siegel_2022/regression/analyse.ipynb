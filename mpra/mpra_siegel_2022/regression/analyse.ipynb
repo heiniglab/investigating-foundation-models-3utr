{
 "cells": [
  {
   "cell_type": "code",
   "execution_count": 1,
   "id": "675d33de-ab99-477c-940c-fa2631fe7212",
   "metadata": {
    "tags": []
   },
   "outputs": [],
   "source": [
    "import numpy as np\n",
    "import pandas as pd\n",
    "import os\n",
    "\n",
    "import sys\n",
    "sys.path.append(\"/home/icb/sergey.vilov/workspace/MLM/mpra/utils\") \n",
    "\n",
    "from misc import pearson_r, get_best_models, highlight_ns "
   ]
  },
  {
   "cell_type": "code",
   "execution_count": 2,
   "id": "f89020e4-fc28-4f01-903f-2749f59d76fa",
   "metadata": {},
   "outputs": [],
   "source": [
    "models = {'DNABERT': 'dnabert', \n",
    "          'DNABERT-3UTR': 'dnabert-3utr', \n",
    "          'DNABERT-2': 'dnabert2', \n",
    "          'DNABERT2-3UTR': 'dnabert2-3utr',\n",
    "          'NTv2-250M': 'ntrans-v2-250m',\n",
    "          'NTv2-250M-3UTR': 'ntrans-v2-250m-3utr',\n",
    "          'StateSpace': 'stspace', \n",
    "          'StateSpace-SA': 'stspace-spaw',\n",
    "          '5-mers Siegel et al., 2022':'5mers',\n",
    "         }"
   ]
  },
  {
   "cell_type": "code",
   "execution_count": 3,
   "id": "c6b77ddf-2b51-4a9f-ace6-d16c65a03fc9",
   "metadata": {
    "tags": []
   },
   "outputs": [],
   "source": [
    "regressor = 'SVR' # Ridge, SVR or MLP\n",
    "onlyref = 0"
   ]
  },
  {
   "cell_type": "code",
   "execution_count": 4,
   "id": "bb9145a5-0756-4fd1-9362-952a1de453fe",
   "metadata": {},
   "outputs": [],
   "source": [
    "data_dir = f'/lustre/groups/epigenereg01/workspace/projects/vale/mlm/mpra/siegel_2022/predictions/onlyref_{onlyref}/{regressor}/'"
   ]
  },
  {
   "cell_type": "code",
   "execution_count": 5,
   "id": "eb820876-4815-409b-b40d-90bbc8979907",
   "metadata": {},
   "outputs": [
    {
     "name": "stdout",
     "output_type": "stream",
     "text": [
      "stability Jurkat 10817\n",
      "stability Beas2B 2949\n",
      "steady_state Jurkat 12072\n",
      "steady_state Beas2B 6427\n"
     ]
    }
   ],
   "source": [
    "res = {}\n",
    "\n",
    "for response in ('stability', 'steady_state'):\n",
    "    for cell_type in ('Jurkat', 'Beas2B'):\n",
    "        res[(response,cell_type)] = []\n",
    "        for model in models:\n",
    "            res_tsv = data_dir + f'{cell_type}-{response}-{models[model]}.tsv'\n",
    "            if os.path.isfile(res_tsv):\n",
    "                #df = pd.read_csv(res_tsv, sep='\\t', skiprows=1, usecols=[2,7,8,36,38,39],names=['ids','iscontrol','parent_control_oligo','y_true','chrom','y_pred'])\n",
    "                df = pd.read_csv(res_tsv, sep='\\t', skiprows=1, usecols=[2,7,8,37,38,39],names=['ids','iscontrol','parent_control_oligo','y_true','chrom','y_pred'])\n",
    "                df['model'] = model\n",
    "                res[(response,cell_type)].append(df)\n",
    "        if len(res[(response,cell_type)])>0:\n",
    "            res[(response,cell_type)] = pd.concat(res[(response,cell_type)])\n",
    "            N=res[(response,cell_type)].groupby('model').size().mean()\n",
    "            print(response,cell_type,int(N))"
   ]
  },
  {
   "cell_type": "code",
   "execution_count": 6,
   "id": "1d9172f3-beb1-4cbc-80a5-58af28b553a2",
   "metadata": {
    "tags": []
   },
   "outputs": [
    {
     "data": {
      "text/html": [
       "<style type=\"text/css\">\n",
       "#T_3d45d_row1_col0, #T_3d45d_row1_col1, #T_3d45d_row1_col2, #T_3d45d_row1_col3, #T_3d45d_row4_col2, #T_3d45d_row6_col2, #T_3d45d_row6_col3, #T_3d45d_row7_col2, #T_3d45d_row7_col3, #T_3d45d_row8_col0, #T_3d45d_row8_col1, #T_3d45d_row8_col3 {\n",
       "  font-weight: bold;\n",
       "}\n",
       "</style>\n",
       "<table id=\"T_3d45d\">\n",
       "  <thead>\n",
       "    <tr>\n",
       "      <th class=\"blank level0\" >&nbsp;</th>\n",
       "      <th id=\"T_3d45d_level0_col0\" class=\"col_heading level0 col0\" colspan=\"2\">Jurkat</th>\n",
       "      <th id=\"T_3d45d_level0_col2\" class=\"col_heading level0 col2\" colspan=\"2\">Beas2B</th>\n",
       "    </tr>\n",
       "    <tr>\n",
       "      <th class=\"blank level1\" >&nbsp;</th>\n",
       "      <th id=\"T_3d45d_level1_col0\" class=\"col_heading level1 col0\" >steady_state</th>\n",
       "      <th id=\"T_3d45d_level1_col1\" class=\"col_heading level1 col1\" >stability</th>\n",
       "      <th id=\"T_3d45d_level1_col2\" class=\"col_heading level1 col2\" >steady_state</th>\n",
       "      <th id=\"T_3d45d_level1_col3\" class=\"col_heading level1 col3\" >stability</th>\n",
       "    </tr>\n",
       "    <tr>\n",
       "      <th class=\"index_name level0\" >model</th>\n",
       "      <th class=\"blank col0\" >&nbsp;</th>\n",
       "      <th class=\"blank col1\" >&nbsp;</th>\n",
       "      <th class=\"blank col2\" >&nbsp;</th>\n",
       "      <th class=\"blank col3\" >&nbsp;</th>\n",
       "    </tr>\n",
       "  </thead>\n",
       "  <tbody>\n",
       "    <tr>\n",
       "      <th id=\"T_3d45d_level0_row0\" class=\"row_heading level0 row0\" >DNABERT</th>\n",
       "      <td id=\"T_3d45d_row0_col0\" class=\"data row0 col0\" >0.15±0.02</td>\n",
       "      <td id=\"T_3d45d_row0_col1\" class=\"data row0 col1\" >0.30±0.02</td>\n",
       "      <td id=\"T_3d45d_row0_col2\" class=\"data row0 col2\" >0.22±0.03</td>\n",
       "      <td id=\"T_3d45d_row0_col3\" class=\"data row0 col3\" >0.40±0.03</td>\n",
       "    </tr>\n",
       "    <tr>\n",
       "      <th id=\"T_3d45d_level0_row1\" class=\"row_heading level0 row1\" >DNABERT-3UTR</th>\n",
       "      <td id=\"T_3d45d_row1_col0\" class=\"data row1 col0\" >0.22±0.02</td>\n",
       "      <td id=\"T_3d45d_row1_col1\" class=\"data row1 col1\" >0.46±0.02</td>\n",
       "      <td id=\"T_3d45d_row1_col2\" class=\"data row1 col2\" >0.27±0.03</td>\n",
       "      <td id=\"T_3d45d_row1_col3\" class=\"data row1 col3\" >0.52±0.03</td>\n",
       "    </tr>\n",
       "    <tr>\n",
       "      <th id=\"T_3d45d_level0_row2\" class=\"row_heading level0 row2\" >DNABERT-2</th>\n",
       "      <td id=\"T_3d45d_row2_col0\" class=\"data row2 col0\" >0.15±0.02</td>\n",
       "      <td id=\"T_3d45d_row2_col1\" class=\"data row2 col1\" >0.27±0.02</td>\n",
       "      <td id=\"T_3d45d_row2_col2\" class=\"data row2 col2\" >0.15±0.03</td>\n",
       "      <td id=\"T_3d45d_row2_col3\" class=\"data row2 col3\" >0.34±0.04</td>\n",
       "    </tr>\n",
       "    <tr>\n",
       "      <th id=\"T_3d45d_level0_row3\" class=\"row_heading level0 row3\" >DNABERT2-3UTR</th>\n",
       "      <td id=\"T_3d45d_row3_col0\" class=\"data row3 col0\" >0.14±0.02</td>\n",
       "      <td id=\"T_3d45d_row3_col1\" class=\"data row3 col1\" >0.29±0.02</td>\n",
       "      <td id=\"T_3d45d_row3_col2\" class=\"data row3 col2\" >0.22±0.03</td>\n",
       "      <td id=\"T_3d45d_row3_col3\" class=\"data row3 col3\" >0.41±0.03</td>\n",
       "    </tr>\n",
       "    <tr>\n",
       "      <th id=\"T_3d45d_level0_row4\" class=\"row_heading level0 row4\" >NTv2-250M</th>\n",
       "      <td id=\"T_3d45d_row4_col0\" class=\"data row4 col0\" >0.09±0.02</td>\n",
       "      <td id=\"T_3d45d_row4_col1\" class=\"data row4 col1\" >0.23±0.02</td>\n",
       "      <td id=\"T_3d45d_row4_col2\" class=\"data row4 col2\" >0.28±0.02</td>\n",
       "      <td id=\"T_3d45d_row4_col3\" class=\"data row4 col3\" >0.34±0.03</td>\n",
       "    </tr>\n",
       "    <tr>\n",
       "      <th id=\"T_3d45d_level0_row5\" class=\"row_heading level0 row5\" >NTv2-250M-3UTR</th>\n",
       "      <td id=\"T_3d45d_row5_col0\" class=\"data row5 col0\" >0.13±0.02</td>\n",
       "      <td id=\"T_3d45d_row5_col1\" class=\"data row5 col1\" >0.32±0.02</td>\n",
       "      <td id=\"T_3d45d_row5_col2\" class=\"data row5 col2\" >0.23±0.02</td>\n",
       "      <td id=\"T_3d45d_row5_col3\" class=\"data row5 col3\" >0.45±0.03</td>\n",
       "    </tr>\n",
       "    <tr>\n",
       "      <th id=\"T_3d45d_level0_row6\" class=\"row_heading level0 row6\" >StateSpace</th>\n",
       "      <td id=\"T_3d45d_row6_col0\" class=\"data row6 col0\" >0.17±0.02</td>\n",
       "      <td id=\"T_3d45d_row6_col1\" class=\"data row6 col1\" >0.36±0.02</td>\n",
       "      <td id=\"T_3d45d_row6_col2\" class=\"data row6 col2\" >0.27±0.02</td>\n",
       "      <td id=\"T_3d45d_row6_col3\" class=\"data row6 col3\" >0.49±0.03</td>\n",
       "    </tr>\n",
       "    <tr>\n",
       "      <th id=\"T_3d45d_level0_row7\" class=\"row_heading level0 row7\" >StateSpace-SA</th>\n",
       "      <td id=\"T_3d45d_row7_col0\" class=\"data row7 col0\" >0.18±0.02</td>\n",
       "      <td id=\"T_3d45d_row7_col1\" class=\"data row7 col1\" >0.35±0.02</td>\n",
       "      <td id=\"T_3d45d_row7_col2\" class=\"data row7 col2\" >0.28±0.02</td>\n",
       "      <td id=\"T_3d45d_row7_col3\" class=\"data row7 col3\" >0.49±0.03</td>\n",
       "    </tr>\n",
       "    <tr>\n",
       "      <th id=\"T_3d45d_level0_row8\" class=\"row_heading level0 row8\" >5-mers Siegel et al., 2022</th>\n",
       "      <td id=\"T_3d45d_row8_col0\" class=\"data row8 col0\" >0.20±0.02</td>\n",
       "      <td id=\"T_3d45d_row8_col1\" class=\"data row8 col1\" >0.46±0.01</td>\n",
       "      <td id=\"T_3d45d_row8_col2\" class=\"data row8 col2\" >0.14±0.02</td>\n",
       "      <td id=\"T_3d45d_row8_col3\" class=\"data row8 col3\" >0.51±0.02</td>\n",
       "    </tr>\n",
       "  </tbody>\n",
       "</table>\n"
      ],
      "text/plain": [
       "<pandas.io.formats.style.Styler at 0x7f7917fbf610>"
      ]
     },
     "execution_count": 6,
     "metadata": {},
     "output_type": "execute_result"
    }
   ],
   "source": [
    "preds_res = {}\n",
    "best_models = {}\n",
    "\n",
    "\n",
    "for cell_type in ('Jurkat', 'Beas2B'):\n",
    "    \n",
    "    for response in ('steady_state','stability'):\n",
    "        \n",
    "        preds_res[(cell_type,response)] = res[(response,cell_type)].groupby('model').apply(lambda x:pearson_r(x.y_true,x.y_pred,compute_CI=True))\n",
    "        best_models[(cell_type,response)] = get_best_models(preds_res[(cell_type,response)])\n",
    "        \n",
    "preds_res = pd.DataFrame(preds_res).map(lambda x: f'{x[0]:.2f}±{x[1]:.2f}' if isinstance(x,tuple) else 'none')\n",
    "\n",
    "preds_res.loc[models.keys()].style.apply(lambda x: highlight_ns(x, best_models))"
   ]
  },
  {
   "cell_type": "code",
   "execution_count": null,
   "id": "82d54414-dd14-4c2e-808a-5bbcd2dcac19",
   "metadata": {},
   "outputs": [],
   "source": []
  }
 ],
 "metadata": {
  "kernelspec": {
   "display_name": "Python 3 (ipykernel)",
   "language": "python",
   "name": "python3"
  },
  "language_info": {
   "codemirror_mode": {
    "name": "ipython",
    "version": 3
   },
   "file_extension": ".py",
   "mimetype": "text/x-python",
   "name": "python",
   "nbconvert_exporter": "python",
   "pygments_lexer": "ipython3",
   "version": "3.10.13"
  }
 },
 "nbformat": 4,
 "nbformat_minor": 5
}

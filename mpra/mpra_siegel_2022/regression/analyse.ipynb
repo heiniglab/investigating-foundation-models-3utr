{
 "cells": [
  {
   "cell_type": "code",
   "execution_count": 1,
   "id": "675d33de-ab99-477c-940c-fa2631fe7212",
   "metadata": {
    "tags": []
   },
   "outputs": [],
   "source": [
    "import numpy as np\n",
    "import pandas as pd\n",
    "import scipy\n",
    "import sklearn.metrics\n",
    "import os\n",
    "\n",
    "import matplotlib.pyplot as plt\n",
    "import matplotlib as mpl\n",
    "import seaborn as sns\n",
    "\n",
    "from scipy import stats\n",
    "import statsmodels.stats.multicomp as mc\n",
    "\n",
    "from statannotations.Annotator import Annotator"
   ]
  },
  {
   "cell_type": "code",
   "execution_count": 2,
   "id": "82c157d3-f18c-4f89-8adf-69f06cbcf277",
   "metadata": {
    "tags": []
   },
   "outputs": [],
   "source": [
    "mpl.rcParams.update({'xtick.labelsize': 14, 'ytick.labelsize': 14, \n",
    "                     'axes.titlesize':14, 'axes.labelsize':16}) #default font sizes for plots"
   ]
  },
  {
   "cell_type": "markdown",
   "id": "c73a321e-15a2-45ca-843d-4ef3f738dcd8",
   "metadata": {},
   "source": [
    "# Auxiliary functions"
   ]
  },
  {
   "cell_type": "code",
   "execution_count": 3,
   "id": "f0898be5-7d4e-40ca-967a-013f9cfba159",
   "metadata": {
    "tags": []
   },
   "outputs": [],
   "source": [
    "def compute_score(df):\n",
    "    pearson_r = scipy.stats.pearsonr(df.y_true,df.y_pred)\n",
    "    ci_95 = pearson_r.confidence_interval()\n",
    "    ci_95 = np.diff(ci_95)[0]/2\n",
    "    pearson_r = pearson_r[0]\n",
    "    return (pearson_r,ci_95)\n",
    "    \n",
    "def get_best_models(df):\n",
    "\n",
    "    def is_overlap(a, b):\n",
    "        return max(0, min(a[1], b[1]) - max(a[0], b[0]))>0\n",
    "\n",
    "    best_models = []\n",
    "\n",
    "    best_auc, best_auc_err =  df.sort_values().iloc[-1]\n",
    "\n",
    "    for model, (auc, auc_err) in df.items():\n",
    "            if is_overlap((best_auc-best_auc_err,best_auc+best_auc_err),(auc-auc_err,auc+auc_err)):\n",
    "                best_models.append(model)\n",
    "\n",
    "    return best_models\n",
    "\n",
    "def highlight_ns(x, best_models):\n",
    "    #make the best model and models with insignificant difference with the best model bold\n",
    "    cell_type = x.name\n",
    "    return ['font-weight: bold' if model in best_models[cell_type] else ''\n",
    "                for model in x.index]"
   ]
  },
  {
   "cell_type": "markdown",
   "id": "e430f7c8-7cd0-4194-8bf7-26c19cc0efa1",
   "metadata": {},
   "source": [
    "# Collect predictions"
   ]
  },
  {
   "cell_type": "code",
   "execution_count": 28,
   "id": "c6b77ddf-2b51-4a9f-ace6-d16c65a03fc9",
   "metadata": {
    "tags": []
   },
   "outputs": [],
   "source": [
    "regressor = 'Ridge' # Ridge or SVR\n",
    "onlyref = 1"
   ]
  },
  {
   "cell_type": "code",
   "execution_count": 29,
   "id": "bb9145a5-0756-4fd1-9362-952a1de453fe",
   "metadata": {},
   "outputs": [],
   "source": [
    "data_dir = f'/lustre/groups/epigenereg01/workspace/projects/vale/MLM/siegel_2022/predictions/onlyref_{onlyref}/{regressor}/'"
   ]
  },
  {
   "cell_type": "code",
   "execution_count": 30,
   "id": "ba0d9e61-0bcf-4d8b-ba1b-6af7f5a88922",
   "metadata": {
    "tags": []
   },
   "outputs": [],
   "source": [
    "#models = ['Species-aware','Species-agnostic','DNABERT','DNABERT-2','NT-MS-v2-500M','4mers','5mers','word2vec','effective_length']\n",
    "models = ['DNABERT','DNABERT-2','Species-agnostic','Species-aware','NT-MS-v2-500M','5mers','effective_length']"
   ]
  },
  {
   "cell_type": "code",
   "execution_count": 31,
   "id": "eb820876-4815-409b-b40d-90bbc8979907",
   "metadata": {},
   "outputs": [
    {
     "name": "stdout",
     "output_type": "stream",
     "text": [
      "stability Jurkat 4229\n",
      "stability Beas2B 1110\n",
      "steady_state Jurkat 4616\n",
      "steady_state Beas2B 2418\n"
     ]
    }
   ],
   "source": [
    "res = {}\n",
    "\n",
    "for response in ('stability', 'steady_state'):\n",
    "    for cell_type in ('Jurkat', 'Beas2B'):\n",
    "        res[(response,cell_type)] = []\n",
    "        for model in models:\n",
    "            res_tsv = data_dir + f'{cell_type}-{response}-{model}.tsv'\n",
    "            if os.path.isfile(res_tsv):\n",
    "                #df = pd.read_csv(res_tsv, sep='\\t', skiprows=1, usecols=[2,7,8,36,38,39],names=['ids','iscontrol','parent_control_oligo','y_true','chrom','y_pred'])\n",
    "                df = pd.read_csv(res_tsv, sep='\\t', skiprows=1, usecols=[2,7,8,37,38,39],names=['ids','iscontrol','parent_control_oligo','y_true','chrom','y_pred'])\n",
    "                df['model'] = model\n",
    "                res[(response,cell_type)].append(df)\n",
    "        if len(res[(response,cell_type)])>0:\n",
    "            res[(response,cell_type)] = pd.concat(res[(response,cell_type)])\n",
    "            N=res[(response,cell_type)].groupby('model').size().mean()\n",
    "            print(response,cell_type,int(N))"
   ]
  },
  {
   "cell_type": "markdown",
   "id": "cdb0255f-9780-42e4-8eca-39e3b0327c55",
   "metadata": {},
   "source": [
    "# Visualize per fold scores"
   ]
  },
  {
   "cell_type": "code",
   "execution_count": null,
   "id": "6a0bb4e2-a130-4ab7-bc89-2a1092b063dc",
   "metadata": {
    "tags": []
   },
   "outputs": [],
   "source": [
    "per_fold_scores = res[('stability','Jurkat')].groupby(['model','chrom']).apply(compute_score).rename('score')"
   ]
  },
  {
   "cell_type": "code",
   "execution_count": 11,
   "id": "790ca27d-bd42-4d7c-8d3c-6d826cfd51bb",
   "metadata": {
    "tags": []
   },
   "outputs": [],
   "source": [
    "per_fold_scores = per_fold_scores.reset_index().sort_values(by=['model','chrom'])"
   ]
  },
  {
   "cell_type": "code",
   "execution_count": null,
   "id": "11d34644-508e-432f-b1e1-64ac648ce1ba",
   "metadata": {
    "tags": []
   },
   "outputs": [],
   "source": [
    "fig, ax = plt.subplots(figsize=(4,4))\n",
    "\n",
    "ax = sns.swarmplot(data=per_fold_scores, x=\"model\", y=\"score\", order=models, ) #scatter plot\n",
    "ax = sns.boxplot(data=per_fold_scores, x=\"model\", y=\"score\", order=models, boxprops={'facecolor':'None'})\n",
    "\n",
    "box_pairs=[ ('MLM', '4mers'), ('MLM', '5mers'),('MLM', 'word2vec'),('MLM', 'effective_length')]\n",
    "\n",
    "annotator = Annotator(ax, box_pairs, data=per_fold_scores, x=\"model\", y=\"score\", order=models)\n",
    "annotator.configure(test='Wilcoxon', text_format='star', loc='inside', comparisons_correction=\"BH\")\n",
    "#annotator.configure(test='t-test_paired', text_format='star', loc='inside', comparisons_correction=\"BH\")\n",
    "\n",
    "annotator.apply_and_annotate()\n",
    "\n",
    "ax.set_xlabel(\"\")\n",
    "ax.set_ylabel(\"score\")\n",
    "ax.tick_params(rotation=30)\n",
    "ax.grid()"
   ]
  },
  {
   "cell_type": "markdown",
   "id": "a94c3ead-7e46-4560-8393-ec5f7b0df7da",
   "metadata": {},
   "source": [
    "# Stability and Steady state prediction"
   ]
  },
  {
   "cell_type": "code",
   "execution_count": 27,
   "id": "1d9172f3-beb1-4cbc-80a5-58af28b553a2",
   "metadata": {
    "tags": []
   },
   "outputs": [
    {
     "data": {
      "text/html": [
       "<style type=\"text/css\">\n",
       "#T_83cf6_row2_col0, #T_83cf6_row2_col2, #T_83cf6_row2_col3, #T_83cf6_row3_col0, #T_83cf6_row3_col2, #T_83cf6_row3_col3, #T_83cf6_row5_col0, #T_83cf6_row5_col1, #T_83cf6_row5_col3 {\n",
       "  font-weight: bold;\n",
       "}\n",
       "</style>\n",
       "<table id=\"T_83cf6\">\n",
       "  <thead>\n",
       "    <tr>\n",
       "      <th class=\"blank level0\" >&nbsp;</th>\n",
       "      <th id=\"T_83cf6_level0_col0\" class=\"col_heading level0 col0\" colspan=\"2\">Jurkat</th>\n",
       "      <th id=\"T_83cf6_level0_col2\" class=\"col_heading level0 col2\" colspan=\"2\">Beas2B</th>\n",
       "    </tr>\n",
       "    <tr>\n",
       "      <th class=\"blank level1\" >&nbsp;</th>\n",
       "      <th id=\"T_83cf6_level1_col0\" class=\"col_heading level1 col0\" >steady_state</th>\n",
       "      <th id=\"T_83cf6_level1_col1\" class=\"col_heading level1 col1\" >stability</th>\n",
       "      <th id=\"T_83cf6_level1_col2\" class=\"col_heading level1 col2\" >steady_state</th>\n",
       "      <th id=\"T_83cf6_level1_col3\" class=\"col_heading level1 col3\" >stability</th>\n",
       "    </tr>\n",
       "    <tr>\n",
       "      <th class=\"index_name level0\" >model</th>\n",
       "      <th class=\"blank col0\" >&nbsp;</th>\n",
       "      <th class=\"blank col1\" >&nbsp;</th>\n",
       "      <th class=\"blank col2\" >&nbsp;</th>\n",
       "      <th class=\"blank col3\" >&nbsp;</th>\n",
       "    </tr>\n",
       "  </thead>\n",
       "  <tbody>\n",
       "    <tr>\n",
       "      <th id=\"T_83cf6_level0_row0\" class=\"row_heading level0 row0\" >DNABERT</th>\n",
       "      <td id=\"T_83cf6_row0_col0\" class=\"data row0 col0\" >0.08±0.02</td>\n",
       "      <td id=\"T_83cf6_row0_col1\" class=\"data row0 col1\" >0.07±0.02</td>\n",
       "      <td id=\"T_83cf6_row0_col2\" class=\"data row0 col2\" >0.10±0.03</td>\n",
       "      <td id=\"T_83cf6_row0_col3\" class=\"data row0 col3\" >0.08±0.04</td>\n",
       "    </tr>\n",
       "    <tr>\n",
       "      <th id=\"T_83cf6_level0_row1\" class=\"row_heading level0 row1\" >DNABERT-2</th>\n",
       "      <td id=\"T_83cf6_row1_col0\" class=\"data row1 col0\" >0.17±0.02</td>\n",
       "      <td id=\"T_83cf6_row1_col1\" class=\"data row1 col1\" >0.22±0.02</td>\n",
       "      <td id=\"T_83cf6_row1_col2\" class=\"data row1 col2\" >0.11±0.03</td>\n",
       "      <td id=\"T_83cf6_row1_col3\" class=\"data row1 col3\" >0.26±0.04</td>\n",
       "    </tr>\n",
       "    <tr>\n",
       "      <th id=\"T_83cf6_level0_row2\" class=\"row_heading level0 row2\" >Species-agnostic</th>\n",
       "      <td id=\"T_83cf6_row2_col0\" class=\"data row2 col0\" >0.25±0.02</td>\n",
       "      <td id=\"T_83cf6_row2_col1\" class=\"data row2 col1\" >0.32±0.02</td>\n",
       "      <td id=\"T_83cf6_row2_col2\" class=\"data row2 col2\" >0.31±0.03</td>\n",
       "      <td id=\"T_83cf6_row2_col3\" class=\"data row2 col3\" >0.43±0.04</td>\n",
       "    </tr>\n",
       "    <tr>\n",
       "      <th id=\"T_83cf6_level0_row3\" class=\"row_heading level0 row3\" >Species-aware</th>\n",
       "      <td id=\"T_83cf6_row3_col0\" class=\"data row3 col0\" >0.27±0.02</td>\n",
       "      <td id=\"T_83cf6_row3_col1\" class=\"data row3 col1\" >0.33±0.02</td>\n",
       "      <td id=\"T_83cf6_row3_col2\" class=\"data row3 col2\" >0.28±0.03</td>\n",
       "      <td id=\"T_83cf6_row3_col3\" class=\"data row3 col3\" >0.46±0.03</td>\n",
       "    </tr>\n",
       "    <tr>\n",
       "      <th id=\"T_83cf6_level0_row4\" class=\"row_heading level0 row4\" >NT-MS-v2-500M</th>\n",
       "      <td id=\"T_83cf6_row4_col0\" class=\"data row4 col0\" >0.15±0.02</td>\n",
       "      <td id=\"T_83cf6_row4_col1\" class=\"data row4 col1\" >0.24±0.02</td>\n",
       "      <td id=\"T_83cf6_row4_col2\" class=\"data row4 col2\" >0.20±0.03</td>\n",
       "      <td id=\"T_83cf6_row4_col3\" class=\"data row4 col3\" >0.27±0.04</td>\n",
       "    </tr>\n",
       "    <tr>\n",
       "      <th id=\"T_83cf6_level0_row5\" class=\"row_heading level0 row5\" >5mers</th>\n",
       "      <td id=\"T_83cf6_row5_col0\" class=\"data row5 col0\" >0.24±0.02</td>\n",
       "      <td id=\"T_83cf6_row5_col1\" class=\"data row5 col1\" >0.43±0.02</td>\n",
       "      <td id=\"T_83cf6_row5_col2\" class=\"data row5 col2\" >0.19±0.03</td>\n",
       "      <td id=\"T_83cf6_row5_col3\" class=\"data row5 col3\" >0.39±0.04</td>\n",
       "    </tr>\n",
       "  </tbody>\n",
       "</table>\n"
      ],
      "text/plain": [
       "<pandas.io.formats.style.Styler at 0x7f692ead6cb0>"
      ]
     },
     "execution_count": 27,
     "metadata": {},
     "output_type": "execute_result"
    }
   ],
   "source": [
    "preds_res = {}\n",
    "best_models = {}\n",
    "\n",
    "\n",
    "for cell_type in ('Jurkat', 'Beas2B'):\n",
    "    \n",
    "    for response in ('steady_state','stability'):\n",
    "        \n",
    "        preds_res[(cell_type,response)] = res[(response,cell_type)].groupby('model').apply(compute_score)\n",
    "        best_models[(cell_type,response)] = get_best_models(preds_res[(cell_type,response)])\n",
    "        \n",
    "preds_res = pd.DataFrame(preds_res).map(lambda x: f'{x[0]:.2f}±{x[1]:.2f}' if type(x)==tuple else x)\n",
    "\n",
    "preds_res.loc[models].style.apply(lambda x: highlight_ns(x, best_models))"
   ]
  },
  {
   "cell_type": "code",
   "execution_count": null,
   "id": "c3d78e05-b5f8-45bf-9eb6-97ea16c242f8",
   "metadata": {},
   "outputs": [],
   "source": []
  }
 ],
 "metadata": {
  "kernelspec": {
   "display_name": "Python 3 (ipykernel)",
   "language": "python",
   "name": "python3"
  },
  "language_info": {
   "codemirror_mode": {
    "name": "ipython",
    "version": 3
   },
   "file_extension": ".py",
   "mimetype": "text/x-python",
   "name": "python",
   "nbconvert_exporter": "python",
   "pygments_lexer": "ipython3",
   "version": "3.10.13"
  }
 },
 "nbformat": 4,
 "nbformat_minor": 5
}

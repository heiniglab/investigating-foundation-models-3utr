{
 "cells": [
  {
   "cell_type": "code",
   "execution_count": 18,
   "id": "0de7bac1-2975-400a-b26e-602db49339c2",
   "metadata": {},
   "outputs": [
    {
     "name": "stdout",
     "output_type": "stream",
     "text": [
      "The autoreload extension is already loaded. To reload it, use:\n",
      "  %reload_ext autoreload\n"
     ]
    }
   ],
   "source": [
    "import pandas as pd\n",
    "import numpy as np\n",
    "import pickle\n",
    "import sys\n",
    "\n",
    "import sklearn.model_selection\n",
    "import sklearn.pipeline\n",
    "\n",
    "sys.path.append(\"/home/icb/sergey.vilov/workspace/MLM/mpra/utils\")\n",
    "\n",
    "from mlp import *\n",
    "from misc import dotdict\n",
    "\n",
    "%load_ext autoreload\n",
    "%autoreload 2"
   ]
  },
  {
   "cell_type": "code",
   "execution_count": 5,
   "id": "9eea8a43-494d-437e-95ee-75741cb13d92",
   "metadata": {},
   "outputs": [],
   "source": [
    "data_dir='/lustre/groups/epigenereg01/workspace/projects/vale/mlm/mpra/siegel_2022/'"
   ]
  },
  {
   "cell_type": "code",
   "execution_count": 26,
   "id": "c592da39-1248-4bbf-9dda-585d675beac5",
   "metadata": {},
   "outputs": [],
   "source": [
    "input_params = dotdict({})\n",
    "\n",
    "input_params.mpra_tsv = data_dir + 'Beas2B.tsv'\n",
    "input_params.response = 'stability'\n",
    "input_params.model = 'DNABERT'\n",
    "input_params.embeddings = data_dir + 'embeddings/dnabert-3utr/predictions.pickle'"
   ]
  },
  {
   "cell_type": "code",
   "execution_count": 27,
   "id": "cb0ed341-301e-4593-a492-e9cdbaef5779",
   "metadata": {},
   "outputs": [
    {
     "name": "stdout",
     "output_type": "stream",
     "text": [
      "number of sequences after filtering: 4169\n",
      "embeddings size: 49836\n",
      "number of sequences overlapping with embeddings: 4169\n"
     ]
    }
   ],
   "source": [
    "mpra_df = pd.read_csv(input_params.mpra_tsv, sep='\\t') #sequence info\n",
    "\n",
    "#Data Cleaning\n",
    "# Take only SNP mutations\n",
    "# Remove nan values in Expression column\n",
    "\n",
    "if input_params.response == 'steady_state':\n",
    "    mpra_df['Expression'] = mpra_df.ratios_T0_GC_resid\n",
    "elif input_params.response == 'stability':\n",
    "    mpra_df['Expression'] = mpra_df.ratios_T4T0_GC_resid\n",
    "\n",
    "#flt = (mpra_df.Expression.isna()) | (mpra_df.ARE_length_perfect.isna()) | (mpra_df.stop_codon_dist.isna()) | (mpra_df.stop_codon_dist>5000) | (~mpra_df.issnp.astype(bool))\n",
    "\n",
    "flt = (mpra_df.Expression.isna()) | (mpra_df.stop_codon_dist.isna()) | (~mpra_df.issnp.astype(bool))\n",
    "\n",
    "mpra_df = mpra_df[~flt]\n",
    "\n",
    "mpra_df['group'] = mpra_df.region.apply(lambda x:x.split('|')[1].split(':')[0])\n",
    "\n",
    "if input_params.embeddings!=None:\n",
    "    with open(input_params.embeddings,'rb') as f:\n",
    "\n",
    "        X = pickle.load(f)\n",
    "        print(f'number of sequences after filtering: {len(mpra_df)}')\n",
    "        print(f\"embeddings size: {len(X['embeddings'])}\")\n",
    "        seq_indices=[int(seq_name.replace('id_','')) for seq_name in X['seq_names']]\n",
    "        mpra_df = mpra_df[mpra_df.index.isin(seq_indices)]\n",
    "        embeddings = {seq_name:emb for seq_name,emb in zip(X['seq_names'], X['embeddings'])}\n",
    "        X = [embeddings[f'id_{seq_idx}'] for seq_idx in mpra_df.index]\n",
    "        X = np.array(X)\n",
    "        print(f'number of sequences overlapping with embeddings: {len(X)}')\n",
    "        #X = X[mpra_df.index]\n",
    "\n",
    "y = mpra_df['Expression'].values\n",
    "groups = mpra_df['group'].values"
   ]
  },
  {
   "cell_type": "code",
   "execution_count": 28,
   "id": "a6c8f4b1-b56d-4da5-a887-63c0a8fceec7",
   "metadata": {},
   "outputs": [],
   "source": [
    "gss = sklearn.model_selection.LeaveOneGroupOut()\n",
    "\n",
    "train_idx, test_idx = next(iter(gss.split(X, y, groups)))\n",
    "\n",
    "X_train, y_train, X_test, y_test = X[train_idx],y[train_idx], X[test_idx],y[test_idx]"
   ]
  },
  {
   "cell_type": "code",
   "execution_count": 77,
   "id": "c626e6eb-f2cf-4a7e-8e2c-86199e39765c",
   "metadata": {},
   "outputs": [],
   "source": [
    "M=MLPRegressor(hidden_layer_sizes=(128, 32, 16,), \n",
    "                 p_dropout=0., weight_decay=5e-5, lr=1e-4,\n",
    "                batch_size = 1024, N_epochs = 300)"
   ]
  },
  {
   "cell_type": "code",
   "execution_count": null,
   "id": "0db2637e-56e9-4a5d-8a47-c4f173ce2c8c",
   "metadata": {},
   "outputs": [],
   "source": [
    "all_scores = []\n",
    "for seed in range(10):\n",
    "\n",
    "    scores = []\n",
    "    \n",
    "    for train_idx, test_idx in gss.split(X, y, groups):\n",
    "    \n",
    "        X_train, y_train, X_test, y_test = X[train_idx],y[train_idx], X[test_idx],y[test_idx]\n",
    "    \n",
    "        M.fit(X_train, y_train, X_test, y_test)\n",
    "    \n",
    "        y_pred = M.predict(X_test)\n",
    "    \n",
    "        score = pearson_r(y_test,y_pred)\n",
    "    \n",
    "        scores.append(score)\n",
    "    \n",
    "    print(np.mean(scores))\n",
    "\n",
    "    all_scores.append(np.mean(scores))\n",
    "\n",
    "print(np.mean(all_scores),np.std(all_scores))"
   ]
  },
  {
   "cell_type": "code",
   "execution_count": 69,
   "id": "2722779b-1ae3-407d-9aa5-fbd2cbed5562",
   "metadata": {},
   "outputs": [
    {
     "name": "stdout",
     "output_type": "stream",
     "text": [
      "0.4803554570002486\n"
     ]
    }
   ],
   "source": [
    "print(np.mean(scores))"
   ]
  },
  {
   "cell_type": "code",
   "execution_count": null,
   "id": "66985245-1864-4f2e-ac17-328e442d8e75",
   "metadata": {},
   "outputs": [],
   "source": [
    "#%%timeit -n 1 -r 1\n",
    "M.fit(X_train, y_train, X_test, y_test)"
   ]
  },
  {
   "cell_type": "code",
   "execution_count": 38,
   "id": "7d1e7a6e-fd58-47ed-bd33-a28fab1914df",
   "metadata": {},
   "outputs": [
    {
     "data": {
      "text/plain": [
       "0.3068262853314013"
      ]
     },
     "execution_count": 38,
     "metadata": {},
     "output_type": "execute_result"
    }
   ],
   "source": [
    "y_pred = M.predict(X_test)\n",
    "sklearn.metrics.r2_score(y_test,y_pred)"
   ]
  },
  {
   "cell_type": "code",
   "execution_count": 42,
   "id": "86fd9ed0-9c0d-449a-9aaa-4cb8174c2d4a",
   "metadata": {},
   "outputs": [
    {
     "data": {
      "text/plain": [
       "0.56355596"
      ]
     },
     "execution_count": 42,
     "metadata": {},
     "output_type": "execute_result"
    }
   ],
   "source": [
    "M.score(X_test,y_test)"
   ]
  },
  {
   "cell_type": "code",
   "execution_count": 41,
   "id": "1f9bc171-874f-4fb1-a06c-0827e83c3b36",
   "metadata": {},
   "outputs": [],
   "source": [
    "t,v=zip(*M.history_)"
   ]
  },
  {
   "cell_type": "code",
   "execution_count": 42,
   "id": "63ed0418-8b29-4357-802b-a27028287a28",
   "metadata": {},
   "outputs": [
    {
     "data": {
      "text/plain": [
       "[<matplotlib.lines.Line2D at 0x7f9b35fef550>]"
      ]
     },
     "execution_count": 42,
     "metadata": {},
     "output_type": "execute_result"
    },
    {
     "data": {
      "image/png": "[encoded data removed]",
      "text/plain": [
       "<Figure size 640x480 with 1 Axes>"
      ]
     },
     "metadata": {},
     "output_type": "display_data"
    }
   ],
   "source": [
    "import matplotlib.pyplot as plt\n",
    "\n",
    "plt.plot(t)\n",
    "plt.plot(v)"
   ]
  },
  {
   "cell_type": "code",
   "execution_count": 113,
   "id": "9657680c-98d1-416b-8fda-ed71e7bffa57",
   "metadata": {},
   "outputs": [],
   "source": [
    "def hpp_search_mlp(X,y,groups,forced_hpp={},cv_splits = 5):\n",
    "\n",
    "    #X, y = prepare_train_data(X,y)\n",
    "\n",
    "    param_distributions = {\n",
    "            'MLP__p_dropout':[0,],\n",
    "            'MLP__weight_decay':[5e-5,],\n",
    "            'MLP__hidden_layer_sizes':[(128,32,16),],\n",
    "        }\n",
    "\n",
    "    pipe = sklearn.pipeline.Pipeline(steps=[\n",
    "         ('MLP', MLPRegressor())\n",
    "        ])\n",
    "\n",
    "    pipe.set_params(**forced_hpp)\n",
    "\n",
    "    clf = sklearn.model_selection.RandomizedSearchCV(pipe, param_distributions, scoring = None,\n",
    "                    cv = sklearn.model_selection.LeaveOneGroupOut(),  n_jobs = 1, n_iter=10, random_state=1, verbose=10)\n",
    "\n",
    "    search = clf.fit(X, y, groups=groups)\n",
    "\n",
    "    return search.best_score_"
   ]
  },
  {
   "cell_type": "code",
   "execution_count": null,
   "id": "16afb67b-ecf3-49a1-8c83-20ddb83b2292",
   "metadata": {},
   "outputs": [],
   "source": [
    "hpp_dict = {'MLP__N_epochs':300,'MLP__lr':1e-4,'MLP__batch_size':1024} #pre-determined hpp, to reduce search time\n",
    "best_hpp = hpp_search_mlp(X,y,groups,forced_hpp=hpp_dict,cv_splits = 5) #get optimal hyperparameters"
   ]
  },
  {
   "cell_type": "code",
   "execution_count": 123,
   "id": "b0b0b075-09be-4fd8-8a04-33d23fef6de8",
   "metadata": {},
   "outputs": [
    {
     "data": {
      "text/plain": [
       "0.4807068109512329"
      ]
     },
     "execution_count": 123,
     "metadata": {},
     "output_type": "execute_result"
    }
   ],
   "source": [
    "best_hpp"
   ]
  },
  {
   "cell_type": "code",
   "execution_count": 122,
   "id": "199675df-da29-42a2-9c2c-456e623ab29b",
   "metadata": {},
   "outputs": [
    {
     "data": {
      "text/plain": [
       "{'ll': 3, 'ee': 4}"
      ]
     },
     "execution_count": 122,
     "metadata": {},
     "output_type": "execute_result"
    }
   ],
   "source": []
  },
  {
   "cell_type": "code",
   "execution_count": 121,
   "id": "3743e284-1790-4d88-aa00-7a7b952da314",
   "metadata": {},
   "outputs": [
    {
     "data": {
      "text/plain": [
       "'ll'"
      ]
     },
     "execution_count": 121,
     "metadata": {},
     "output_type": "execute_result"
    }
   ],
   "source": [
    "import re\n",
    "\n"
   ]
  },
  {
   "cell_type": "code",
   "execution_count": null,
   "id": "f73945e4-b458-4560-a9ca-003c1583de7f",
   "metadata": {},
   "outputs": [],
   "source": []
  }
 ],
 "metadata": {
  "kernelspec": {
   "display_name": "Python 3 (ipykernel)",
   "language": "python",
   "name": "python3"
  },
  "language_info": {
   "codemirror_mode": {
    "name": "ipython",
    "version": 3
   },
   "file_extension": ".py",
   "mimetype": "text/x-python",
   "name": "python",
   "nbconvert_exporter": "python",
   "pygments_lexer": "ipython3",
   "version": "3.10.13"
  }
 },
 "nbformat": 4,
 "nbformat_minor": 5
}

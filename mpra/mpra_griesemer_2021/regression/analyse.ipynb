{
 "cells": [
  {
   "cell_type": "code",
   "execution_count": 18,
   "id": "675d33de-ab99-477c-940c-fa2631fe7212",
   "metadata": {
    "tags": []
   },
   "outputs": [],
   "source": [
    "import numpy as np\n",
    "import pandas as pd\n",
    "import os\n",
    "import sys\n",
    "\n",
    "sys.path.append(\"/home/icb/sergey.vilov/workspace/MLM/mpra/utils\") \n",
    "\n",
    "from misc import pearson_r, get_best_models, highlight_ns "
   ]
  },
  {
   "cell_type": "code",
   "execution_count": 19,
   "id": "67aade92-3d4e-4862-a4a7-302ee521c36b",
   "metadata": {},
   "outputs": [],
   "source": [
    "regressor = 'SVR' # Ridge, SVR or MLP"
   ]
  },
  {
   "cell_type": "code",
   "execution_count": 20,
   "id": "c6b77ddf-2b51-4a9f-ace6-d16c65a03fc9",
   "metadata": {
    "tags": []
   },
   "outputs": [],
   "source": [
    "data_dir = f'/lustre/groups/epigenereg01/workspace/projects/vale/mlm/mpra/griesemer_2021/predictions/{regressor}/'"
   ]
  },
  {
   "cell_type": "code",
   "execution_count": 21,
   "id": "ba0d9e61-0bcf-4d8b-ba1b-6af7f5a88922",
   "metadata": {
    "tags": []
   },
   "outputs": [],
   "source": [
    "models = {'DNABERT': 'dnabert', \n",
    "          'DNABERT-3UTR': 'dnabert-3utr', \n",
    "          'DNABERT-2': 'dnabert2', \n",
    "          'DNABERT2-3UTR': 'dnabert2-3utr',\n",
    "          'NTv2-250M': 'ntrans-v2-250m',\n",
    "          'NTv2-250M-3UTR': 'ntrans-v2-250m-3utr',\n",
    "          'StateSpace': 'stspace', \n",
    "          'StateSpace-SA': 'stspace-spaw',\n",
    "          'Griesemer et al., 2021': 'griesemer',\n",
    "         }\n",
    "\n",
    "cell_types = ['HEK293FT', 'HMEC', 'HEPG2', 'GM12878', 'K562', 'SKNSH']"
   ]
  },
  {
   "cell_type": "code",
   "execution_count": 22,
   "id": "eb820876-4815-409b-b40d-90bbc8979907",
   "metadata": {},
   "outputs": [
    {
     "name": "stdout",
     "output_type": "stream",
     "text": [
      "HEK293FT 15968\n",
      "HMEC 15970\n",
      "HEPG2 15970\n",
      "GM12878 15970\n",
      "K562 15970\n",
      "SKNSH 15970\n"
     ]
    }
   ],
   "source": [
    "res = {}\n",
    "\n",
    "for cell_type in cell_types:\n",
    "        res[cell_type] = []\n",
    "        for model in models:\n",
    "            res_tsv = data_dir + f'{cell_type}-{models[model]}.tsv'\n",
    "            if os.path.isfile(res_tsv):\n",
    "                df = pd.read_csv(res_tsv, sep='\\t', skiprows=1, usecols=[84,85],names=['y_true','y_pred'])\n",
    "                df['model'] = model\n",
    "                res[cell_type].append(df)\n",
    "        if len(res[cell_type])>0:\n",
    "            res[cell_type] = pd.concat(res[cell_type])\n",
    "            print(cell_type, int(res[cell_type].groupby('model').size().mean()))"
   ]
  },
  {
   "cell_type": "code",
   "execution_count": 23,
   "id": "1d9172f3-beb1-4cbc-80a5-58af28b553a2",
   "metadata": {
    "tags": []
   },
   "outputs": [
    {
     "data": {
      "text/html": [
       "<style type=\"text/css\">\n",
       "#T_881b0_row1_col0, #T_881b0_row1_col1, #T_881b0_row1_col2, #T_881b0_row1_col3, #T_881b0_row1_col4, #T_881b0_row1_col5, #T_881b0_row5_col4, #T_881b0_row6_col3, #T_881b0_row6_col4, #T_881b0_row7_col3, #T_881b0_row7_col4, #T_881b0_row7_col5, #T_881b0_row8_col0, #T_881b0_row8_col1, #T_881b0_row8_col4, #T_881b0_row8_col5 {\n",
       "  font-weight: bold;\n",
       "}\n",
       "</style>\n",
       "<table id=\"T_881b0\">\n",
       "  <thead>\n",
       "    <tr>\n",
       "      <th class=\"blank level0\" >&nbsp;</th>\n",
       "      <th id=\"T_881b0_level0_col0\" class=\"col_heading level0 col0\" >HEK293FT</th>\n",
       "      <th id=\"T_881b0_level0_col1\" class=\"col_heading level0 col1\" >HMEC</th>\n",
       "      <th id=\"T_881b0_level0_col2\" class=\"col_heading level0 col2\" >HEPG2</th>\n",
       "      <th id=\"T_881b0_level0_col3\" class=\"col_heading level0 col3\" >GM12878</th>\n",
       "      <th id=\"T_881b0_level0_col4\" class=\"col_heading level0 col4\" >K562</th>\n",
       "      <th id=\"T_881b0_level0_col5\" class=\"col_heading level0 col5\" >SKNSH</th>\n",
       "    </tr>\n",
       "    <tr>\n",
       "      <th class=\"index_name level0\" >model</th>\n",
       "      <th class=\"blank col0\" >&nbsp;</th>\n",
       "      <th class=\"blank col1\" >&nbsp;</th>\n",
       "      <th class=\"blank col2\" >&nbsp;</th>\n",
       "      <th class=\"blank col3\" >&nbsp;</th>\n",
       "      <th class=\"blank col4\" >&nbsp;</th>\n",
       "      <th class=\"blank col5\" >&nbsp;</th>\n",
       "    </tr>\n",
       "  </thead>\n",
       "  <tbody>\n",
       "    <tr>\n",
       "      <th id=\"T_881b0_level0_row0\" class=\"row_heading level0 row0\" >DNABERT</th>\n",
       "      <td id=\"T_881b0_row0_col0\" class=\"data row0 col0\" >0.24±0.01</td>\n",
       "      <td id=\"T_881b0_row0_col1\" class=\"data row0 col1\" >0.44±0.01</td>\n",
       "      <td id=\"T_881b0_row0_col2\" class=\"data row0 col2\" >0.27±0.01</td>\n",
       "      <td id=\"T_881b0_row0_col3\" class=\"data row0 col3\" >0.36±0.01</td>\n",
       "      <td id=\"T_881b0_row0_col4\" class=\"data row0 col4\" >0.29±0.01</td>\n",
       "      <td id=\"T_881b0_row0_col5\" class=\"data row0 col5\" >0.28±0.01</td>\n",
       "    </tr>\n",
       "    <tr>\n",
       "      <th id=\"T_881b0_level0_row1\" class=\"row_heading level0 row1\" >DNABERT-3UTR</th>\n",
       "      <td id=\"T_881b0_row1_col0\" class=\"data row1 col0\" >0.36±0.01</td>\n",
       "      <td id=\"T_881b0_row1_col1\" class=\"data row1 col1\" >0.56±0.01</td>\n",
       "      <td id=\"T_881b0_row1_col2\" class=\"data row1 col2\" >0.48±0.01</td>\n",
       "      <td id=\"T_881b0_row1_col3\" class=\"data row1 col3\" >0.47±0.01</td>\n",
       "      <td id=\"T_881b0_row1_col4\" class=\"data row1 col4\" >0.33±0.01</td>\n",
       "      <td id=\"T_881b0_row1_col5\" class=\"data row1 col5\" >0.37±0.01</td>\n",
       "    </tr>\n",
       "    <tr>\n",
       "      <th id=\"T_881b0_level0_row2\" class=\"row_heading level0 row2\" >DNABERT-2</th>\n",
       "      <td id=\"T_881b0_row2_col0\" class=\"data row2 col0\" >0.16±0.02</td>\n",
       "      <td id=\"T_881b0_row2_col1\" class=\"data row2 col1\" >0.37±0.01</td>\n",
       "      <td id=\"T_881b0_row2_col2\" class=\"data row2 col2\" >0.27±0.01</td>\n",
       "      <td id=\"T_881b0_row2_col3\" class=\"data row2 col3\" >0.28±0.01</td>\n",
       "      <td id=\"T_881b0_row2_col4\" class=\"data row2 col4\" >0.23±0.01</td>\n",
       "      <td id=\"T_881b0_row2_col5\" class=\"data row2 col5\" >0.21±0.01</td>\n",
       "    </tr>\n",
       "    <tr>\n",
       "      <th id=\"T_881b0_level0_row3\" class=\"row_heading level0 row3\" >DNABERT2-3UTR</th>\n",
       "      <td id=\"T_881b0_row3_col0\" class=\"data row3 col0\" >0.17±0.02</td>\n",
       "      <td id=\"T_881b0_row3_col1\" class=\"data row3 col1\" >0.43±0.01</td>\n",
       "      <td id=\"T_881b0_row3_col2\" class=\"data row3 col2\" >0.32±0.01</td>\n",
       "      <td id=\"T_881b0_row3_col3\" class=\"data row3 col3\" >0.32±0.01</td>\n",
       "      <td id=\"T_881b0_row3_col4\" class=\"data row3 col4\" >0.26±0.01</td>\n",
       "      <td id=\"T_881b0_row3_col5\" class=\"data row3 col5\" >0.23±0.01</td>\n",
       "    </tr>\n",
       "    <tr>\n",
       "      <th id=\"T_881b0_level0_row4\" class=\"row_heading level0 row4\" >NTv2-250M</th>\n",
       "      <td id=\"T_881b0_row4_col0\" class=\"data row4 col0\" >0.19±0.01</td>\n",
       "      <td id=\"T_881b0_row4_col1\" class=\"data row4 col1\" >0.37±0.01</td>\n",
       "      <td id=\"T_881b0_row4_col2\" class=\"data row4 col2\" >0.26±0.01</td>\n",
       "      <td id=\"T_881b0_row4_col3\" class=\"data row4 col3\" >0.26±0.01</td>\n",
       "      <td id=\"T_881b0_row4_col4\" class=\"data row4 col4\" >0.24±0.01</td>\n",
       "      <td id=\"T_881b0_row4_col5\" class=\"data row4 col5\" >0.21±0.01</td>\n",
       "    </tr>\n",
       "    <tr>\n",
       "      <th id=\"T_881b0_level0_row5\" class=\"row_heading level0 row5\" >NTv2-250M-3UTR</th>\n",
       "      <td id=\"T_881b0_row5_col0\" class=\"data row5 col0\" >0.30±0.01</td>\n",
       "      <td id=\"T_881b0_row5_col1\" class=\"data row5 col1\" >0.51±0.01</td>\n",
       "      <td id=\"T_881b0_row5_col2\" class=\"data row5 col2\" >0.42±0.01</td>\n",
       "      <td id=\"T_881b0_row5_col3\" class=\"data row5 col3\" >0.43±0.01</td>\n",
       "      <td id=\"T_881b0_row5_col4\" class=\"data row5 col4\" >0.35±0.01</td>\n",
       "      <td id=\"T_881b0_row5_col5\" class=\"data row5 col5\" >0.33±0.01</td>\n",
       "    </tr>\n",
       "    <tr>\n",
       "      <th id=\"T_881b0_level0_row6\" class=\"row_heading level0 row6\" >StateSpace</th>\n",
       "      <td id=\"T_881b0_row6_col0\" class=\"data row6 col0\" >0.33±0.01</td>\n",
       "      <td id=\"T_881b0_row6_col1\" class=\"data row6 col1\" >0.52±0.01</td>\n",
       "      <td id=\"T_881b0_row6_col2\" class=\"data row6 col2\" >0.44±0.01</td>\n",
       "      <td id=\"T_881b0_row6_col3\" class=\"data row6 col3\" >0.45±0.01</td>\n",
       "      <td id=\"T_881b0_row6_col4\" class=\"data row6 col4\" >0.35±0.01</td>\n",
       "      <td id=\"T_881b0_row6_col5\" class=\"data row6 col5\" >0.34±0.01</td>\n",
       "    </tr>\n",
       "    <tr>\n",
       "      <th id=\"T_881b0_level0_row7\" class=\"row_heading level0 row7\" >StateSpace-SA</th>\n",
       "      <td id=\"T_881b0_row7_col0\" class=\"data row7 col0\" >0.31±0.01</td>\n",
       "      <td id=\"T_881b0_row7_col1\" class=\"data row7 col1\" >0.53±0.01</td>\n",
       "      <td id=\"T_881b0_row7_col2\" class=\"data row7 col2\" >0.44±0.01</td>\n",
       "      <td id=\"T_881b0_row7_col3\" class=\"data row7 col3\" >0.45±0.01</td>\n",
       "      <td id=\"T_881b0_row7_col4\" class=\"data row7 col4\" >0.35±0.01</td>\n",
       "      <td id=\"T_881b0_row7_col5\" class=\"data row7 col5\" >0.35±0.01</td>\n",
       "    </tr>\n",
       "    <tr>\n",
       "      <th id=\"T_881b0_level0_row8\" class=\"row_heading level0 row8\" >Griesemer et al., 2021</th>\n",
       "      <td id=\"T_881b0_row8_col0\" class=\"data row8 col0\" >0.34±0.01</td>\n",
       "      <td id=\"T_881b0_row8_col1\" class=\"data row8 col1\" >0.53±0.01</td>\n",
       "      <td id=\"T_881b0_row8_col2\" class=\"data row8 col2\" >0.43±0.01</td>\n",
       "      <td id=\"T_881b0_row8_col3\" class=\"data row8 col3\" >0.45±0.01</td>\n",
       "      <td id=\"T_881b0_row8_col4\" class=\"data row8 col4\" >0.33±0.01</td>\n",
       "      <td id=\"T_881b0_row8_col5\" class=\"data row8 col5\" >0.35±0.01</td>\n",
       "    </tr>\n",
       "  </tbody>\n",
       "</table>\n"
      ],
      "text/plain": [
       "<pandas.io.formats.style.Styler at 0x7f74f7c5dea0>"
      ]
     },
     "execution_count": 23,
     "metadata": {},
     "output_type": "execute_result"
    }
   ],
   "source": [
    "preds_res = {}\n",
    "best_models = {}\n",
    "\n",
    "for cell_type in cell_types:\n",
    "\n",
    "        preds_res[cell_type] = res[cell_type].groupby('model').apply(\n",
    "            lambda x: pearson_r(x.y_true,x.y_pred,compute_CI=True))\n",
    "            \n",
    "        best_models[cell_type] = get_best_models(preds_res[cell_type])\n",
    "        \n",
    "preds_res = pd.DataFrame(preds_res).map(lambda x: f'{x[0]:.2f}±{x[1]:.2f}' if isinstance(x,tuple) else 'none')\n",
    "\n",
    "preds_res.loc[models.keys()].style.apply(lambda x: highlight_ns(x, best_models))"
   ]
  },
  {
   "cell_type": "code",
   "execution_count": null,
   "id": "6c8b0efe-ea0f-4973-8f6e-356b1d79fc93",
   "metadata": {},
   "outputs": [],
   "source": []
  }
 ],
 "metadata": {
  "kernelspec": {
   "display_name": "Python 3 (ipykernel)",
   "language": "python",
   "name": "python3"
  },
  "language_info": {
   "codemirror_mode": {
    "name": "ipython",
    "version": 3
   },
   "file_extension": ".py",
   "mimetype": "text/x-python",
   "name": "python",
   "nbconvert_exporter": "python",
   "pygments_lexer": "ipython3",
   "version": "3.10.13"
  }
 },
 "nbformat": 4,
 "nbformat_minor": 5
}

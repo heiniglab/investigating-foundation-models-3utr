{
 "cells": [
  {
   "cell_type": "markdown",
   "id": "75561052-b25e-4db1-92cb-d0ea7a513f22",
   "metadata": {
    "tags": []
   },
   "source": [
    "Find corresponding human 3'UTR regions for each Oligo variant from Griesemer et al. paper:\n",
    "\n",
    "https://www.sciencedirect.com/science/article/pii/S0092867421009995\n",
    "\n",
    "* consider only SNPs\n",
    "* apparently, in Griesemer not only protein-coding genes were considered, so we loose some variants"
   ]
  },
  {
   "cell_type": "code",
   "execution_count": 1,
   "id": "90d58e30-2e3e-408d-ae47-f14002f02bcf",
   "metadata": {
    "tags": []
   },
   "outputs": [],
   "source": [
    "import pandas as pd\n",
    "import numpy as np"
   ]
  },
  {
   "cell_type": "code",
   "execution_count": 2,
   "id": "89256bce-e1c8-4233-9ab6-2f7d84d9603b",
   "metadata": {
    "tags": []
   },
   "outputs": [],
   "source": [
    "datadir = '/lustre/groups/epigenereg01/workspace/projects/vale/mlm/mpra/griesemer_2021/'"
   ]
  },
  {
   "cell_type": "code",
   "execution_count": 22,
   "id": "637d4f83-f88d-4c16-9020-ea38e9339b1b",
   "metadata": {
    "tags": []
   },
   "outputs": [],
   "source": [
    "#clean human 3'UTR, see GRCh38_3_prime_UTR_clean.ipynb\n",
    "\n",
    "human_utr_df = pd.read_csv(datadir + '../../UTR_coords/GRCh38_3_prime_UTR_clean.bed', sep='\\t', \n",
    "                       names = ['chrom','human_UTR_start','human_UTR_end','UTR_ID',\n",
    "                               'score','strand','transcript_ID','canonical','HGNC_Symbol','UTR_len'])\n",
    "\n",
    "human_utr_df.drop(columns=['score','canonical','HGNC_Symbol','transcript_ID','UTR_len'], inplace=True)"
   ]
  },
  {
   "cell_type": "code",
   "execution_count": 23,
   "id": "575e3b1d-32ad-414e-8756-67a88e2aa571",
   "metadata": {
    "tags": []
   },
   "outputs": [
    {
     "data": {
      "text/html": [
       "<div>\n",
       "<style scoped>\n",
       "    .dataframe tbody tr th:only-of-type {\n",
       "        vertical-align: middle;\n",
       "    }\n",
       "\n",
       "    .dataframe tbody tr th {\n",
       "        vertical-align: top;\n",
       "    }\n",
       "\n",
       "    .dataframe thead th {\n",
       "        text-align: right;\n",
       "    }\n",
       "</style>\n",
       "<table border=\"1\" class=\"dataframe\">\n",
       "  <thead>\n",
       "    <tr style=\"text-align: right;\">\n",
       "      <th></th>\n",
       "      <th>chrom</th>\n",
       "      <th>human_UTR_start</th>\n",
       "      <th>human_UTR_end</th>\n",
       "      <th>UTR_ID</th>\n",
       "      <th>strand</th>\n",
       "    </tr>\n",
       "  </thead>\n",
       "  <tbody>\n",
       "    <tr>\n",
       "      <th>0</th>\n",
       "      <td>chr1</td>\n",
       "      <td>67092164</td>\n",
       "      <td>67093004</td>\n",
       "      <td>ENST00000684719.1_utr3_7_0_chr1_67092165_r</td>\n",
       "      <td>-</td>\n",
       "    </tr>\n",
       "    <tr>\n",
       "      <th>1</th>\n",
       "      <td>chr1</td>\n",
       "      <td>8352403</td>\n",
       "      <td>8355086</td>\n",
       "      <td>ENST00000400908.7_utr3_22_0_chr1_8352404_r</td>\n",
       "      <td>-</td>\n",
       "    </tr>\n",
       "    <tr>\n",
       "      <th>2</th>\n",
       "      <td>chr1</td>\n",
       "      <td>75202128</td>\n",
       "      <td>75203726</td>\n",
       "      <td>ENST00000370859.8_utr3_23_0_chr1_75202129_r</td>\n",
       "      <td>-</td>\n",
       "    </tr>\n",
       "    <tr>\n",
       "      <th>3</th>\n",
       "      <td>chr1</td>\n",
       "      <td>83865023</td>\n",
       "      <td>83869961</td>\n",
       "      <td>ENST00000260505.13_utr3_20_0_chr1_83865024_r</td>\n",
       "      <td>-</td>\n",
       "    </tr>\n",
       "    <tr>\n",
       "      <th>4</th>\n",
       "      <td>chr1</td>\n",
       "      <td>92246401</td>\n",
       "      <td>92246529</td>\n",
       "      <td>ENST00000370360.8_utr3_18_0_chr1_92246402_r</td>\n",
       "      <td>-</td>\n",
       "    </tr>\n",
       "  </tbody>\n",
       "</table>\n",
       "</div>"
      ],
      "text/plain": [
       "  chrom  human_UTR_start  human_UTR_end  \\\n",
       "0  chr1         67092164       67093004   \n",
       "1  chr1          8352403        8355086   \n",
       "2  chr1         75202128       75203726   \n",
       "3  chr1         83865023       83869961   \n",
       "4  chr1         92246401       92246529   \n",
       "\n",
       "                                         UTR_ID strand  \n",
       "0    ENST00000684719.1_utr3_7_0_chr1_67092165_r      -  \n",
       "1    ENST00000400908.7_utr3_22_0_chr1_8352404_r      -  \n",
       "2   ENST00000370859.8_utr3_23_0_chr1_75202129_r      -  \n",
       "3  ENST00000260505.13_utr3_20_0_chr1_83865024_r      -  \n",
       "4   ENST00000370360.8_utr3_18_0_chr1_92246402_r      -  "
      ]
     },
     "execution_count": 23,
     "metadata": {},
     "output_type": "execute_result"
    }
   ],
   "source": [
    "human_utr_df.head()"
   ]
  },
  {
   "cell_type": "code",
   "execution_count": 18,
   "id": "7519023e-624a-4c8c-9008-6f8b518f200e",
   "metadata": {
    "tags": []
   },
   "outputs": [],
   "source": [
    "# original table from paper supplementary\n",
    "\n",
    "oligo_df = pd.read_csv(datadir + 'griesemer_supplementary/Oligo_Variant_Info.txt', sep = '\\t', dtype={'chrom':'object'})\n",
    "oligo_df = oligo_df[oligo_df.oligo_starts.str.contains(',')!=True] #remove cases when 3'UTR spans non-contiguous regions\n",
    "oligo_df.rename(columns={'ref_allele':'ref', 'alt_allele':'alt'}, inplace=True)\n",
    "oligo_df.drop(columns=['oligo_starts', 'oligo_ends', 'var_start', 'var_end', 'genes', 'transcripts', 'gene_symbols', 'strand'], inplace = True) #will be replaced by GRCh38 columns\n",
    "oligo_df.chrom = oligo_df.chrom.apply(lambda x:'chr'+x)"
   ]
  },
  {
   "cell_type": "code",
   "execution_count": 19,
   "id": "28d4ba29-3701-45cb-b74f-b3bf052cbce6",
   "metadata": {
    "tags": []
   },
   "outputs": [],
   "source": [
    "#positions from the original table, lifted over to GRCh38 \n",
    "\n",
    "varpos_GRCh38_bed = pd.read_csv(datadir + 'preprocessing/liftover/varpos_GRCh38.bed', \n",
    "                            sep='\\t',names=['chrom','var_start','var_end','ref','alt','score','variant_id']).drop(columns='score') #supplementary info to the paper\n",
    "\n",
    "oligopos_GRCh38_bed = pd.read_csv(datadir + 'preprocessing/liftover/oligopos_GRCh38.bed', \n",
    "                            sep='\\t',names=['chrom','oligo_start','oligo_end','oligo_id']) \n",
    "\n",
    "oligo_df = oligo_df.merge(varpos_GRCh38_bed, how='left')\n",
    "oligo_df = oligo_df.merge(oligopos_GRCh38_bed, how='left')"
   ]
  },
  {
   "cell_type": "code",
   "execution_count": 20,
   "id": "9e3e75c3-d501-4183-abc9-2f5d1f81a908",
   "metadata": {
    "tags": []
   },
   "outputs": [],
   "source": [
    "#assign oligos with alternative background oligo_start and oligo_end coordinates of the normal oligo\n",
    "\n",
    "alt_background = ~oligo_df.other_var_in_oligo_window.isna()\n",
    "\n",
    "varID_to_oligo_coords = oligo_df.loc[~alt_background,['oligo_id', 'oligo_start','oligo_end']].drop_duplicates()\n",
    "varID_to_oligo_coords.oligo_id = varID_to_oligo_coords.oligo_id + '_2'\n",
    "\n",
    "merge_df = oligo_df.loc[alt_background,['oligo_id']].merge(varID_to_oligo_coords, how = 'left')\n",
    "\n",
    "oligo_df.loc[alt_background,'oligo_start'] =  merge_df.oligo_start.values\n",
    "oligo_df.loc[alt_background,'oligo_end'] =  merge_df.oligo_end.values"
   ]
  },
  {
   "cell_type": "code",
   "execution_count": 21,
   "id": "ae8fd202-533d-4a85-8bfc-790930cec909",
   "metadata": {
    "tags": []
   },
   "outputs": [],
   "source": [
    "#remove variants with unmapped start positions (failed liftover)\n",
    "oligo_df = oligo_df[(~oligo_df.var_start.isna()) & (~oligo_df.oligo_start.isna())] "
   ]
  },
  {
   "cell_type": "code",
   "execution_count": null,
   "id": "92adefe7-5d22-43c3-b18f-23afc50940c8",
   "metadata": {},
   "outputs": [],
   "source": [
    "#IMPORTANT to use searchsorted function below\n",
    "human_utr_df.sort_values(by=['chrom','human_UTR_start'], inplace=True) "
   ]
  },
  {
   "cell_type": "code",
   "execution_count": 30,
   "id": "f5fafb3e-7fb5-4374-932d-f3125ad4bdcf",
   "metadata": {
    "tags": []
   },
   "outputs": [],
   "source": [
    "# for each oligo, find human UTR region containing this oligo\n",
    "\n",
    "res = []\n",
    "\n",
    "for chrom in oligo_df.chrom.unique():\n",
    "    chrom_utr_df = human_utr_df[human_utr_df.chrom==chrom]\n",
    "    for _, row in oligo_df[oligo_df.chrom==chrom].iterrows():\n",
    "        oligo_start, oligo_end = row.oligo_start, row.oligo_end\n",
    "        utr_idx = np.searchsorted(chrom_utr_df.human_UTR_start,oligo_start,'right')-1\n",
    "        while utr_idx<len(chrom_utr_df) and oligo_start>=chrom_utr_df.iloc[utr_idx].human_UTR_start:\n",
    "            if oligo_end<=chrom_utr_df.iloc[utr_idx].human_UTR_end:\n",
    "                row['UTR_ID'] = chrom_utr_df.iloc[utr_idx].UTR_ID\n",
    "                res.append(row)\n",
    "                break\n",
    "            utr_idx+=1\n",
    "\n",
    "        #else:\n",
    "        #    print(row.chrom, row.var_start)"
   ]
  },
  {
   "cell_type": "code",
   "execution_count": 31,
   "id": "a7069476-004a-405d-bba8-3b7fbd2a9d0c",
   "metadata": {
    "tags": []
   },
   "outputs": [],
   "source": [
    "utr_variants = pd.DataFrame(res).merge(human_utr_df, how='left')"
   ]
  },
  {
   "cell_type": "code",
   "execution_count": 33,
   "id": "5250fea8-0783-4495-90a7-3b2a80498a27",
   "metadata": {
    "tags": []
   },
   "outputs": [],
   "source": [
    "utr_variants.to_csv(datadir + 'preprocessing/GRCh38_UTR_variants.tsv', index=None, sep='\\t')"
   ]
  }
 ],
 "metadata": {
  "kernelspec": {
   "display_name": "Python 3 (ipykernel)",
   "language": "python",
   "name": "python3"
  },
  "language_info": {
   "codemirror_mode": {
    "name": "ipython",
    "version": 3
   },
   "file_extension": ".py",
   "mimetype": "text/x-python",
   "name": "python",
   "nbconvert_exporter": "python",
   "pygments_lexer": "ipython3",
   "version": "3.10.13"
  }
 },
 "nbformat": 4,
 "nbformat_minor": 5
}

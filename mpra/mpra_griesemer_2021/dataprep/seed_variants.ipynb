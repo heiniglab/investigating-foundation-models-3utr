{
 "cells": [
  {
   "cell_type": "code",
   "execution_count": 1,
   "id": "90d58e30-2e3e-408d-ae47-f14002f02bcf",
   "metadata": {
    "tags": []
   },
   "outputs": [],
   "source": [
    "import pandas as pd\n",
    "import numpy as np\n",
    "import pysam\n",
    "from textwrap import wrap"
   ]
  },
  {
   "cell_type": "code",
   "execution_count": 2,
   "id": "744a0576-7d8f-4de5-a94b-ef5610d0829c",
   "metadata": {},
   "outputs": [],
   "source": [
    "add_seq_primers = False"
   ]
  },
  {
   "cell_type": "code",
   "execution_count": 3,
   "id": "89256bce-e1c8-4233-9ab6-2f7d84d9603b",
   "metadata": {
    "tags": []
   },
   "outputs": [],
   "source": [
    "data_dir = '/lustre/groups/epigenereg01/workspace/projects/vale/mlm/mpra/griesemer_2021/'"
   ]
  },
  {
   "cell_type": "code",
   "execution_count": 4,
   "id": "85c8bd19-6452-4e4b-aa24-75a8b6e06f0c",
   "metadata": {
    "tags": []
   },
   "outputs": [],
   "source": [
    "human_fasta = pysam.FastaFile(data_dir + '../../fasta/Homo_sapiens_dna_fwd.fa')"
   ]
  },
  {
   "cell_type": "code",
   "execution_count": 5,
   "id": "5250fea8-0783-4495-90a7-3b2a80498a27",
   "metadata": {},
   "outputs": [],
   "source": [
    "utr_variants = pd.read_csv(data_dir + 'preprocessing/GRCh38_UTR_variants.tsv', sep='\\t') #all positions are 0-based [start, end)"
   ]
  },
  {
   "cell_type": "code",
   "execution_count": 6,
   "id": "01806468-757f-4b4f-99b2-858992bee41a",
   "metadata": {
    "tags": []
   },
   "outputs": [],
   "source": [
    "utr_variants = utr_variants[utr_variants.other_var_in_oligo_window.isna()] #seeding multiple variants into oligo sequence isn't currently supported"
   ]
  },
  {
   "cell_type": "code",
   "execution_count": 7,
   "id": "771a3623-f166-473d-8a2c-86699eb5f888",
   "metadata": {},
   "outputs": [
    {
     "data": {
      "text/plain": [
       "18376"
      ]
     },
     "execution_count": 7,
     "metadata": {},
     "output_type": "execute_result"
    }
   ],
   "source": [
    "len(utr_variants)"
   ]
  },
  {
   "cell_type": "code",
   "execution_count": 8,
   "id": "0207d5c1-1e11-4adf-a234-9bb2d1cb8a67",
   "metadata": {
    "tags": []
   },
   "outputs": [],
   "source": [
    "utr_variants['vartype'] = utr_variants.apply(lambda x: 'SNP' if len(x.ref)==len(x.alt) else\n",
    "                                            'DEL' if len(x.ref)>len(x.alt) else 'INS', axis=1)"
   ]
  },
  {
   "cell_type": "code",
   "execution_count": 9,
   "id": "03f5c057-0191-4d58-a95e-837494113a10",
   "metadata": {
    "tags": []
   },
   "outputs": [],
   "source": [
    "utr_variants.sort_values(by='oligo_id', inplace=True)"
   ]
  },
  {
   "cell_type": "code",
   "execution_count": 16,
   "id": "05558df4-3249-43cd-8ca8-86ac837a5c69",
   "metadata": {
    "tags": []
   },
   "outputs": [],
   "source": [
    "def reverse_complement(seq):\n",
    "    '''\n",
    "    Take sequence reverse complement\n",
    "    '''\n",
    "    compl_dict = {'A':'T', 'C':'G', 'G':'C', 'T':'A'}\n",
    "    compl_seq = ''.join([compl_dict.get(x,x) for x in seq])\n",
    "    rev_seq = compl_seq[::-1]\n",
    "    return rev_seq"
   ]
  },
  {
   "cell_type": "code",
   "execution_count": 17,
   "id": "855ab61b-812d-4ee3-9592-b36c68f8d5e5",
   "metadata": {},
   "outputs": [],
   "source": [
    "#oligo primers, don't think we need to include them\n",
    "\n",
    "primer_5_end = 'CGAGCTCGCTAGCCT'\n",
    "primer_3_end = 'AGATCGGAAGAGCGTCG'"
   ]
  },
  {
   "cell_type": "code",
   "execution_count": 18,
   "id": "89a4ecac-22d0-4a47-9a41-63aa5ec8c0b4",
   "metadata": {
    "tags": []
   },
   "outputs": [],
   "source": [
    "def insert_variant(seq, oligo):\n",
    "    \n",
    "    varpos = int(oligo.var_start - oligo.oligo_start) #variant position w.r.t. oligo coordinates\n",
    "    \n",
    "    if oligo.vartype!='DEL':\n",
    "        seq[varpos] = oligo.alt\n",
    "    else:\n",
    "        seq[varpos+1:varpos+len(oligo.ref)] = ''\n",
    "    \n",
    "    return seq\n",
    "        \n",
    "def check_ref(seq, oligo):\n",
    "\n",
    "    varpos = int(oligo.var_start - oligo.oligo_start) #variant position w.r.t. oligo coordinates\n",
    "\n",
    "    #detect reference mismatches\n",
    "    if oligo.vartype != 'DEL' and seq[varpos] != oligo.ref:\n",
    "        return False\n",
    "    elif oligo.vartype == 'DEL' and ''.join(seq[varpos:varpos+len(oligo.ref)]) != oligo.ref:\n",
    "        return False\n",
    "    \n",
    "    return True"
   ]
  },
  {
   "cell_type": "code",
   "execution_count": 22,
   "id": "94b7f666-6cb5-414e-bda6-bc97a4f9c322",
   "metadata": {
    "tags": []
   },
   "outputs": [],
   "source": [
    "def extract_utr_seq(oligo, complement_negative=False):\n",
    "\n",
    "    seq = human_fasta.fetch(oligo.UTR_ID).upper()\n",
    "    \n",
    "    #oligo position within UTR region\n",
    "    oligo_start = int(oligo.oligo_start - oligo.human_UTR_start)\n",
    "    oligo_end = int(oligo.oligo_end - oligo.human_UTR_start)\n",
    "    \n",
    "    seq = seq[oligo_start:oligo_end]#extract oligo seqeunce, no primers here\n",
    "\n",
    "    seq = list(seq)\n",
    "\n",
    "    if oligo.mpra_variant_id.endswith('_2'):\n",
    "        #seeding multiple variants into oligo sequence isn't currently supported\n",
    "        return (None, None)\n",
    "        \n",
    "    if not check_ref(seq, oligo):\n",
    "        #mismatch with the reference genome\n",
    "        return (None, None)\n",
    "    \n",
    "    #seed variant if alt sequence\n",
    "    if oligo.tag == 'alt':\n",
    "        \n",
    "        seq = insert_variant(seq, oligo)\n",
    "        \n",
    "#    if oligo.mpra_variant_id.endswith('_2'):\n",
    "#        \n",
    "#        for other_var_id in oligo.other_var_in_oligo_window.split(','):\n",
    "#            \n",
    "#            if not other_var_id in utr_variants.variant_id.unique():\n",
    "#                print(other_var_id,'Error 1')\n",
    "#                return (None, None)\n",
    "#                        \n",
    "#            other_var = utr_variants[utr_variants.variant_id==other_var_id].iloc[0]\n",
    "#            \n",
    "#            if not check_ref(seq, other_var) and oligo.tag != 'alt':\n",
    "#                print(other_var_id,'Error 2')\n",
    "#                return (None, None)\n",
    "#            \n",
    "#            seq = insert_variant(seq, other_var)\n",
    "            \n",
    "    seq = ''.join(seq)\n",
    "\n",
    "    if add_seq_primers:\n",
    "        seq = primer_5_end + seq + primer_3_end\n",
    "\n",
    "    #for genes on the negative strand, take reverse complement\n",
    "    if complement_negative and oligo.strand=='-':\n",
    "        seq = reverse_complement(seq)\n",
    "\n",
    "    #FASTA sequence header\n",
    "    seq_header = f'>{oligo.oligo_id}'\n",
    "    \n",
    "    return seq_header, seq"
   ]
  },
  {
   "cell_type": "code",
   "execution_count": 23,
   "id": "516e4b40-4fcf-440b-9f56-3e08335c95a4",
   "metadata": {},
   "outputs": [],
   "source": [
    "#write FASTA file with variants\n",
    "\n",
    "def write_fasta(output_fasta, complement_negative=False):\n",
    "    \n",
    "    n_mismatches = 0\n",
    "\n",
    "    with open(output_fasta, 'w') as f:\n",
    "        for idx, oligo in utr_variants.iterrows():\n",
    "            seq_header, seq = extract_utr_seq(oligo, complement_negative=complement_negative)\n",
    "            if seq_header != None:\n",
    "                f.write(seq_header+'\\n')\n",
    "                for line in wrap(seq, 80): #wrap sequence with standard FASTA width\n",
    "                    f.write(line+'\\n')\n",
    "            else:\n",
    "                n_mismatches += 1\n",
    "                \n",
    "    print(f'Variants with mismatched reference: {n_mismatches//2}')"
   ]
  },
  {
   "cell_type": "code",
   "execution_count": null,
   "id": "ebb8f12a-6792-441a-b6ec-7ce562a39c16",
   "metadata": {},
   "outputs": [],
   "source": [
    "write_fasta(data_dir + 'fasta/variants_dna_fwd.fa', complement_negative=False) "
   ]
  },
  {
   "cell_type": "code",
   "execution_count": 34,
   "id": "c2a759c0-878a-4570-b4db-f1281a4bb547",
   "metadata": {
    "tags": []
   },
   "outputs": [
    {
     "name": "stdout",
     "output_type": "stream",
     "text": [
      "Variants with mismatched reference: 1728\n"
     ]
    }
   ],
   "source": [
    "write_fasta(data_dir + 'fasta/variants_rna.fa', complement_negative=True) "
   ]
  },
  {
   "cell_type": "code",
   "execution_count": 35,
   "id": "cca02d5e-017b-4184-a7cf-e7976b3c6f95",
   "metadata": {},
   "outputs": [],
   "source": [
    "#! ./RNAfold.sh {data_dir}/fasta/variants_rna.fa  {data_dir}/fasta/free_energy.tsv"
   ]
  },
  {
   "cell_type": "markdown",
   "id": "9c8900ad-6129-499b-bff7-1a4781d4b40b",
   "metadata": {},
   "source": [
    "# Combine mpra_df"
   ]
  },
  {
   "cell_type": "code",
   "execution_count": 24,
   "id": "a088af45-a909-450f-a7b9-5aa94fb84f59",
   "metadata": {},
   "outputs": [],
   "source": [
    "expression_df = pd.read_csv(data_dir + 'griesemer_supplementary/Variant_MPRAu_Results.txt', sep='\\t')\n",
    "oligo_info_df = pd.read_csv(data_dir + 'griesemer_supplementary/Oligo_Variant_Info.txt', sep='\\t')"
   ]
  },
  {
   "cell_type": "code",
   "execution_count": 25,
   "id": "62ed9d21-51f5-4928-b45f-480b9dc72e37",
   "metadata": {},
   "outputs": [],
   "source": [
    "#minimal free energy from RNAfold software, recalculate each time when FASTA file changes!\n",
    "#\n",
    "#mpra_df['min_free_energy'] = pd.read_csv(data_dir + \n",
    "#'fasta/free_energy.tsv', header=None).squeeze() "
   ]
  },
  {
   "cell_type": "code",
   "execution_count": 26,
   "id": "c3250813-b61e-4684-834a-86f916056991",
   "metadata": {},
   "outputs": [],
   "source": [
    "#Add seqeunces from FASTA file\n",
    "\n",
    "fasta_fa = data_dir + 'fasta/variants_rna.fa'\n",
    "\n",
    "seq = {}\n",
    "\n",
    "with open(fasta_fa, 'r') as f:\n",
    "    for line in f:\n",
    "        if line.startswith('>'):\n",
    "            oligo_id = line[1:].rstrip()\n",
    "            seq[oligo_id] = ''\n",
    "        else:\n",
    "            seq[oligo_id] += line.rstrip()\n",
    "\n",
    "seq_df = pd.DataFrame(seq.items(), columns=['oligo_id', 'seq'])"
   ]
  },
  {
   "cell_type": "code",
   "execution_count": 27,
   "id": "ab31d5b9-a4cb-482b-bce4-b94c872fb8e7",
   "metadata": {},
   "outputs": [
    {
     "data": {
      "text/plain": [
       "Index(['mpra_variant_id', 'tag', 'oligo_id', 'variant_id', 'chrom', 'ref',\n",
       "       'alt', 'other_var_in_oligo_window', 'var_start', 'var_end',\n",
       "       'oligo_start', 'oligo_end', 'UTR_ID', 'human_UTR_start',\n",
       "       'human_UTR_end', 'strand', 'vartype', 'seq',\n",
       "       'log2FoldChange_Ref_HEK293FT', 'log2FoldChange_Alt_HEK293FT',\n",
       "       'log2FoldChange_Ref_HEPG2', 'log2FoldChange_Alt_HEPG2',\n",
       "       'log2FoldChange_Ref_HMEC', 'log2FoldChange_Alt_HMEC',\n",
       "       'log2FoldChange_Ref_K562', 'log2FoldChange_Alt_K562',\n",
       "       'log2FoldChange_Ref_GM12878', 'log2FoldChange_Alt_GM12878',\n",
       "       'log2FoldChange_Ref_SKNSH', 'log2FoldChange_Alt_SKNSH', 'gene_symbols'],\n",
       "      dtype='object')"
      ]
     },
     "execution_count": 27,
     "metadata": {},
     "output_type": "execute_result"
    }
   ],
   "source": [
    "#combine all information together\n",
    "\n",
    "expression_df = expression_df[['mpra_variant_id']+[x for x in expression_df.columns if x.startswith('log2FoldChange_Ref_') or x.startswith('log2FoldChange_Alt_')]]\n",
    "oligo_info_df = oligo_info_df[['mpra_variant_id','gene_symbols']]\n",
    "\n",
    "mpra_df = utr_variants.merge(seq_df).merge(expression_df).merge(oligo_info_df).drop_duplicates()\n",
    "\n",
    "mpra_df.columns"
   ]
  },
  {
   "cell_type": "code",
   "execution_count": 18,
   "id": "38c163cd-c7ec-4408-81c0-9f1f315faba7",
   "metadata": {},
   "outputs": [],
   "source": [
    "# Define Groups for Group K-fold based on genes\n",
    "\n",
    "mpra_df['group'] = mpra_df['gene_symbols']"
   ]
  },
  {
   "cell_type": "code",
   "execution_count": 19,
   "id": "bfb88c96-4323-4b9c-9f9e-1594ecb7135e",
   "metadata": {},
   "outputs": [],
   "source": [
    "#some oligos overlap\n",
    "#The corresponding oligos should have the same group label\n",
    "\n",
    "new_groups = {}\n",
    "\n",
    "def get_overlap(a, b):\n",
    "    '''\n",
    "    get the overlap length between 2 intervals\n",
    "    '''\n",
    "    return max(0, min(a[1], b[1]) - max(a[0], b[0]))\n",
    "    \n",
    "df = mpra_df.sort_values(by=['chrom','oligo_start','oligo_end']).drop_duplicates(subset=['mpra_variant_id'])\n",
    "\n",
    "row_idx = 0\n",
    "while row_idx<len(df)-1:\n",
    "    cur_var = df.iloc[row_idx]\n",
    "    new_groups[cur_var.group] = [cur_var.mpra_variant_id]\n",
    "    for next_row_idx in range(row_idx+1,len(df)):\n",
    "        next_var = df.iloc[next_row_idx]\n",
    "        if (cur_var.chrom==next_var.chrom \n",
    "            and get_overlap(\n",
    "                        cur_var[['oligo_start','oligo_end']].values,\n",
    "                        next_var[['oligo_start','oligo_end']].values)\n",
    "           ):                \n",
    "            new_groups[cur_var.group].append(next_var.mpra_variant_id)\n",
    "        else:\n",
    "            break\n",
    "    row_idx = next_row_idx"
   ]
  },
  {
   "cell_type": "code",
   "execution_count": 103,
   "id": "d3d0dd6c-10b1-4d96-8a36-f8a4c6f88ba6",
   "metadata": {},
   "outputs": [],
   "source": [
    "new_groups = pd.DataFrame(list(new_groups.items()),columns=['group','mpra_variant_id']).explode('mpra_variant_id')\n",
    "mpra_df = mpra_df.drop(columns='group').merge(new_groups)"
   ]
  },
  {
   "cell_type": "code",
   "execution_count": 104,
   "id": "a61b8215-5ddd-47cf-9edc-880704a8f887",
   "metadata": {},
   "outputs": [],
   "source": [
    "mpra_df.to_csv(data_dir + 'preprocessing/mpra_rna.tsv', index=None, sep='\\t')"
   ]
  }
 ],
 "metadata": {
  "kernelspec": {
   "display_name": "Python 3 (ipykernel)",
   "language": "python",
   "name": "python3"
  },
  "language_info": {
   "codemirror_mode": {
    "name": "ipython",
    "version": 3
   },
   "file_extension": ".py",
   "mimetype": "text/x-python",
   "name": "python",
   "nbconvert_exporter": "python",
   "pygments_lexer": "ipython3",
   "version": "3.10.13"
  }
 },
 "nbformat": 4,
 "nbformat_minor": 5
}

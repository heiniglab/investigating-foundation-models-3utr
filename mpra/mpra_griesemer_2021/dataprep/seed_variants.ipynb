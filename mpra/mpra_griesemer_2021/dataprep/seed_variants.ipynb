{
 "cells": [
  {
   "cell_type": "code",
   "execution_count": 1,
   "id": "90d58e30-2e3e-408d-ae47-f14002f02bcf",
   "metadata": {
    "tags": []
   },
   "outputs": [],
   "source": [
    "import pandas as pd\n",
    "import numpy as np\n",
    "import pysam\n",
    "from textwrap import wrap"
   ]
  },
  {
   "cell_type": "code",
   "execution_count": 2,
   "id": "744a0576-7d8f-4de5-a94b-ef5610d0829c",
   "metadata": {},
   "outputs": [],
   "source": [
    "add_seq_primers = False"
   ]
  },
  {
   "cell_type": "code",
   "execution_count": 39,
   "id": "89256bce-e1c8-4233-9ab6-2f7d84d9603b",
   "metadata": {
    "tags": []
   },
   "outputs": [],
   "source": [
    "data_dir = '/lustre/groups/epigenereg01/workspace/projects/vale/mlm/mpra/griesemer_2021/'"
   ]
  },
  {
   "cell_type": "code",
   "execution_count": 15,
   "id": "85c8bd19-6452-4e4b-aa24-75a8b6e06f0c",
   "metadata": {
    "tags": []
   },
   "outputs": [],
   "source": [
    "human_fasta = pysam.FastaFile(data_dir + '../../fasta/Homo_sapiens_dna_fwd.fa')"
   ]
  },
  {
   "cell_type": "code",
   "execution_count": 49,
   "id": "5250fea8-0783-4495-90a7-3b2a80498a27",
   "metadata": {},
   "outputs": [],
   "source": [
    "utr_variants = pd.read_csv(data_dir + 'GRCh38_UTR_variants.tsv', sep='\\t') #all positions are 0-based [start, end)"
   ]
  },
  {
   "cell_type": "code",
   "execution_count": 50,
   "id": "01806468-757f-4b4f-99b2-858992bee41a",
   "metadata": {
    "tags": []
   },
   "outputs": [],
   "source": [
    "utr_variants = utr_variants[utr_variants.other_var_in_oligo_window.isna()] #seeding multiple variants into oligo sequence isn't currently supported"
   ]
  },
  {
   "cell_type": "code",
   "execution_count": 51,
   "id": "771a3623-f166-473d-8a2c-86699eb5f888",
   "metadata": {},
   "outputs": [
    {
     "data": {
      "text/plain": [
       "18376"
      ]
     },
     "execution_count": 51,
     "metadata": {},
     "output_type": "execute_result"
    }
   ],
   "source": [
    "len(utr_variants)"
   ]
  },
  {
   "cell_type": "code",
   "execution_count": 52,
   "id": "0207d5c1-1e11-4adf-a234-9bb2d1cb8a67",
   "metadata": {
    "tags": []
   },
   "outputs": [],
   "source": [
    "utr_variants['vartype'] = utr_variants.apply(lambda x: 'SNP' if len(x.ref)==len(x.alt) else\n",
    "                                            'DEL' if len(x.ref)>len(x.alt) else 'INS', axis=1)"
   ]
  },
  {
   "cell_type": "code",
   "execution_count": 53,
   "id": "03f5c057-0191-4d58-a95e-837494113a10",
   "metadata": {
    "tags": []
   },
   "outputs": [],
   "source": [
    "utr_variants.sort_values(by='oligo_id', inplace=True)"
   ]
  },
  {
   "cell_type": "code",
   "execution_count": 54,
   "id": "dd6ef19e-1e79-451a-826f-7d2faa5d00b2",
   "metadata": {
    "tags": []
   },
   "outputs": [],
   "source": [
    "utr_variants['stop_codon_dist'] = utr_variants.apply(lambda x: x.var_start-x.human_UTR_start if x.strand=='+' else\n",
    "                  x.human_UTR_end - x.var_start, axis=1)"
   ]
  },
  {
   "cell_type": "code",
   "execution_count": 32,
   "id": "05558df4-3249-43cd-8ca8-86ac837a5c69",
   "metadata": {
    "tags": []
   },
   "outputs": [],
   "source": [
    "def reverse_complement(seq):\n",
    "    '''\n",
    "    Take sequence reverse complement\n",
    "    '''\n",
    "    compl_dict = {'A':'T', 'C':'G', 'G':'C', 'T':'A'}\n",
    "    compl_seq = ''.join([compl_dict.get(x,x) for x in seq])\n",
    "    rev_seq = compl_seq[::-1]\n",
    "    return rev_seq"
   ]
  },
  {
   "cell_type": "code",
   "execution_count": 33,
   "id": "855ab61b-812d-4ee3-9592-b36c68f8d5e5",
   "metadata": {},
   "outputs": [],
   "source": [
    "#oligo primers, don't think we need to include them\n",
    "\n",
    "primer_5_end = 'CGAGCTCGCTAGCCT'\n",
    "primer_3_end = 'AGATCGGAAGAGCGTCG'"
   ]
  },
  {
   "cell_type": "code",
   "execution_count": 34,
   "id": "89a4ecac-22d0-4a47-9a41-63aa5ec8c0b4",
   "metadata": {
    "tags": []
   },
   "outputs": [],
   "source": [
    "def insert_variant(seq, oligo):\n",
    "    \n",
    "    varpos = int(oligo.var_start - oligo.oligo_start) #variant position w.r.t. oligo coordinates\n",
    "    \n",
    "    if oligo.vartype!='DEL':\n",
    "        seq[varpos] = oligo.alt\n",
    "    else:\n",
    "        seq[varpos+1:varpos+len(oligo.ref)] = ''\n",
    "        \n",
    "    #if oligo.vartype!='DEL':\n",
    "    #    seq = seq[:varpos] + oligo.alt + seq[varpos+1:]\n",
    "    #else:\n",
    "    #    seq = seq[:varpos] + oligo.alt + seq[varpos+len(oligo.ref):]\n",
    "    \n",
    "    return seq\n",
    "        \n",
    "def check_ref(seq, oligo):\n",
    "\n",
    "    varpos = int(oligo.var_start - oligo.oligo_start) #variant position w.r.t. oligo coordinates\n",
    "\n",
    "    #detect reference mismatches\n",
    "    if oligo.vartype != 'DEL' and seq[varpos] != oligo.ref:\n",
    "        return False\n",
    "    elif oligo.vartype == 'DEL' and ''.join(seq[varpos:varpos+len(oligo.ref)]) != oligo.ref:\n",
    "        return False\n",
    "    \n",
    "    return True"
   ]
  },
  {
   "cell_type": "code",
   "execution_count": 36,
   "id": "94b7f666-6cb5-414e-bda6-bc97a4f9c322",
   "metadata": {
    "tags": []
   },
   "outputs": [],
   "source": [
    "def extract_utr_seq(oligo, complement_negative=False):\n",
    "\n",
    "    seq = human_fasta.fetch(oligo.UTR_ID).upper()\n",
    "    \n",
    "    #oligo position within UTR region\n",
    "    oligo_start = int(oligo.oligo_start - oligo.human_UTR_start)\n",
    "    oligo_end = int(oligo.oligo_end - oligo.human_UTR_start)\n",
    "    #extract oligo seqeunce, no primers here\n",
    "    seq = seq[oligo_start:oligo_end]\n",
    "\n",
    "    seq = list(seq)\n",
    "    \n",
    "    if not check_ref(seq, oligo):\n",
    "        return (None, None)\n",
    "    \n",
    "    #seed variant if alt sequence\n",
    "    if oligo.tag == 'alt':\n",
    "        \n",
    "        seq = insert_variant(seq, oligo)\n",
    "        \n",
    "    if oligo.mpra_variant_id.endswith('_2'):\n",
    "        \n",
    "        for other_var_id in oligo.other_var_in_oligo_window.split(','):\n",
    "            \n",
    "            if not other_var_id in utr_variants.variant_id.unique():                \n",
    "                return (None, None)\n",
    "                        \n",
    "            other_var = utr_variants[utr_variants.variant_id==other_var_id].iloc[0]\n",
    "            \n",
    "            if not check_ref(seq, other_var):\n",
    "                return (None, None)\n",
    "            \n",
    "            seq = insert_variant(seq, other_var)\n",
    "            \n",
    "    seq = ''.join(seq)\n",
    "\n",
    "    if add_seq_primers:\n",
    "        seq = primer_5_end + seq + primer_3_end\n",
    "\n",
    "    #for genes on the negative strand, take reverse complement\n",
    "    if oligo.strand=='-' and complement_negative:\n",
    "        seq = reverse_complement(seq)\n",
    "\n",
    "    #FASTA sequence header\n",
    "    seq_header = f'>{oligo.oligo_id}'\n",
    "    \n",
    "    return seq_header, seq"
   ]
  },
  {
   "cell_type": "code",
   "execution_count": 37,
   "id": "516e4b40-4fcf-440b-9f56-3e08335c95a4",
   "metadata": {},
   "outputs": [],
   "source": [
    "n_mismatches = 0\n",
    "\n",
    "#write FASTA file with variants\n",
    "\n",
    "def write_fasta(output_fasta, complement_negative=False):\n",
    "    with open(output_fasta, 'w') as f:\n",
    "        for idx, oligo in utr_variants.iterrows():\n",
    "            seq_header, seq = extract_utr_seq(oligo, complement_negative=complement_negative)\n",
    "            if seq_header != None:\n",
    "                f.write(seq_header+'\\n')\n",
    "                for line in wrap(seq, 80): #wrap sequence with standard FASTA width\n",
    "                    f.write(line+'\\n')\n",
    "            else:\n",
    "                n_mismatches += 1\n",
    "                \n",
    "    print(f'Variants with mismatched reference: {n_mismatches//2}')"
   ]
  },
  {
   "cell_type": "code",
   "execution_count": null,
   "id": "ebb8f12a-6792-441a-b6ec-7ce562a39c16",
   "metadata": {},
   "outputs": [],
   "source": [
    "write_fasta(data_dir + 'fasta/variants_dna_fwd.fa', complement_negative=False) "
   ]
  },
  {
   "cell_type": "code",
   "execution_count": null,
   "id": "c2a759c0-878a-4570-b4db-f1281a4bb547",
   "metadata": {
    "tags": []
   },
   "outputs": [],
   "source": [
    "write_fasta(data_dir + 'fasta/variants_rna.fa', complement_negative=True) "
   ]
  },
  {
   "cell_type": "code",
   "execution_count": 44,
   "id": "cca02d5e-017b-4184-a7cf-e7976b3c6f95",
   "metadata": {},
   "outputs": [],
   "source": [
    "! ./RNAfold.sh {data_dir}/fasta/variants_rna.fa  {data_dir}/fasta/free_energy.tsv"
   ]
  },
  {
   "cell_type": "markdown",
   "id": "9c8900ad-6129-499b-bff7-1a4781d4b40b",
   "metadata": {},
   "source": [
    "# Combine mpra_df"
   ]
  },
  {
   "cell_type": "code",
   "execution_count": 55,
   "id": "a088af45-a909-450f-a7b9-5aa94fb84f59",
   "metadata": {},
   "outputs": [],
   "source": [
    "expression_df = pd.read_csv(data_dir + 'source_data/paper_supplementary/Variant_MPRAu_Results.txt', sep='\\t')\n",
    "oligo_info_df = pd.read_csv(data_dir + 'source_data/paper_supplementary/Oligo_Variant_Info.txt', sep='\\t')"
   ]
  },
  {
   "cell_type": "code",
   "execution_count": 56,
   "id": "29a55d73-5d35-4955-8885-293a7cf53f1a",
   "metadata": {},
   "outputs": [],
   "source": [
    "#Add seqeunces from FASTA file\n",
    "\n",
    "fasta_fa = data_dir + 'fasta/variants_rna.fa'\n",
    "\n",
    "seq = {}\n",
    "\n",
    "with open(fasta_fa, 'r') as f:\n",
    "    for line in f:\n",
    "        if line.startswith('>'):\n",
    "            oligo_id = line[1:].rstrip()\n",
    "            seq[oligo_id] = ''\n",
    "        else:\n",
    "            seq[oligo_id] += line.rstrip()\n",
    "\n",
    "mpra_df = pd.DataFrame(seq.items(), columns=['oligo_id', 'seq'])"
   ]
  },
  {
   "cell_type": "code",
   "execution_count": 57,
   "id": "62ed9d21-51f5-4928-b45f-480b9dc72e37",
   "metadata": {},
   "outputs": [],
   "source": [
    "#minimal free energy from RNAfold software, recalculate each time when FASTA file changes!\n",
    "\n",
    "mpra_df['min_free_energy'] = pd.read_csv(data_dir + \n",
    "'fasta/free_energy.tsv', header=None).squeeze() "
   ]
  },
  {
   "cell_type": "code",
   "execution_count": 58,
   "id": "ab31d5b9-a4cb-482b-bce4-b94c872fb8e7",
   "metadata": {},
   "outputs": [
    {
     "data": {
      "text/plain": [
       "Index(['oligo_id', 'seq', 'min_free_energy', 'mpra_variant_id', 'ref_allele',\n",
       "       'alt_allele', 'gene_symbols', 'chrom', 'oligo_starts', 'oligo_ends',\n",
       "       'log2FoldChange_Skew_HEK293FT', 'lfcSE_Skew_HEK293FT',\n",
       "       'pvalue_Skew_HEK293FT', 'padj_Skew_HEK293FT',\n",
       "       'log2FoldChange_Ref_HEK293FT', 'lfcSE_Ref_HEK293FT',\n",
       "       'pvalue_Ref_HEK293FT', 'padj_Ref_HEK293FT',\n",
       "       'log2FoldChange_Alt_HEK293FT', 'lfcSE_Alt_HEK293FT',\n",
       "       'pvalue_Alt_HEK293FT', 'padj_Alt_HEK293FT', 'log2FoldChange_Skew_HEPG2',\n",
       "       'lfcSE_Skew_HEPG2', 'pvalue_Skew_HEPG2', 'padj_Skew_HEPG2',\n",
       "       'log2FoldChange_Ref_HEPG2', 'lfcSE_Ref_HEPG2', 'pvalue_Ref_HEPG2',\n",
       "       'padj_Ref_HEPG2', 'log2FoldChange_Alt_HEPG2', 'lfcSE_Alt_HEPG2',\n",
       "       'pvalue_Alt_HEPG2', 'padj_Alt_HEPG2', 'log2FoldChange_Skew_HMEC',\n",
       "       'lfcSE_Skew_HMEC', 'pvalue_Skew_HMEC', 'padj_Skew_HMEC',\n",
       "       'log2FoldChange_Ref_HMEC', 'lfcSE_Ref_HMEC', 'pvalue_Ref_HMEC',\n",
       "       'padj_Ref_HMEC', 'log2FoldChange_Alt_HMEC', 'lfcSE_Alt_HMEC',\n",
       "       'pvalue_Alt_HMEC', 'padj_Alt_HMEC', 'log2FoldChange_Skew_K562',\n",
       "       'lfcSE_Skew_K562', 'pvalue_Skew_K562', 'padj_Skew_K562',\n",
       "       'log2FoldChange_Ref_K562', 'lfcSE_Ref_K562', 'pvalue_Ref_K562',\n",
       "       'padj_Ref_K562', 'log2FoldChange_Alt_K562', 'lfcSE_Alt_K562',\n",
       "       'pvalue_Alt_K562', 'padj_Alt_K562', 'log2FoldChange_Skew_GM12878',\n",
       "       'lfcSE_Skew_GM12878', 'pvalue_Skew_GM12878', 'padj_Skew_GM12878',\n",
       "       'log2FoldChange_Ref_GM12878', 'lfcSE_Ref_GM12878', 'pvalue_Ref_GM12878',\n",
       "       'padj_Ref_GM12878', 'log2FoldChange_Alt_GM12878', 'lfcSE_Alt_GM12878',\n",
       "       'pvalue_Alt_GM12878', 'padj_Alt_GM12878', 'log2FoldChange_Skew_SKNSH',\n",
       "       'lfcSE_Skew_SKNSH', 'pvalue_Skew_SKNSH', 'padj_Skew_SKNSH',\n",
       "       'log2FoldChange_Ref_SKNSH', 'lfcSE_Ref_SKNSH', 'pvalue_Ref_SKNSH',\n",
       "       'padj_Ref_SKNSH', 'log2FoldChange_Alt_SKNSH', 'lfcSE_Alt_SKNSH',\n",
       "       'pvalue_Alt_SKNSH', 'padj_Alt_SKNSH', 'stop_codon_dist'],\n",
       "      dtype='object')"
      ]
     },
     "execution_count": 58,
     "metadata": {},
     "output_type": "execute_result"
    }
   ],
   "source": [
    "#combine all information together\n",
    "\n",
    "mpra_df = mpra_df.merge(oligo_info_df[['oligo_id','mpra_variant_id','ref_allele','alt_allele', 'gene_symbols','chrom', 'oligo_starts', 'oligo_ends']]).merge(expression_df).merge(utr_variants[['mpra_variant_id','stop_codon_dist']].drop_duplicates())\n",
    "\n",
    "mpra_df.columns"
   ]
  },
  {
   "cell_type": "code",
   "execution_count": 59,
   "id": "38c163cd-c7ec-4408-81c0-9f1f315faba7",
   "metadata": {},
   "outputs": [],
   "source": [
    "# Define Groups for Group K-fold based on genes\n",
    "\n",
    "mpra_df['group'] = mpra_df['gene_symbols']"
   ]
  },
  {
   "cell_type": "code",
   "execution_count": 60,
   "id": "bfb88c96-4323-4b9c-9f9e-1594ecb7135e",
   "metadata": {},
   "outputs": [],
   "source": [
    "#Very few 3'UTR regions are shared between genes\n",
    "#The corresponding oligos should have the same group label\n",
    "\n",
    "df = mpra_df.sort_values(by=['chrom','oligo_starts','oligo_ends']).drop_duplicates(subset=['mpra_variant_id']).reset_index(drop=True)\n",
    "\n",
    "df['other_mpra_variant_id'] = ''\n",
    "\n",
    "for row_idx in range(len(df)-1):\n",
    "    next_row_idx = row_idx+1\n",
    "    while df.loc[row_idx].chrom==df.loc[next_row_idx].chrom and df.loc[next_row_idx].oligo_starts<df.loc[row_idx].oligo_ends:\n",
    "        if df.loc[row_idx].gene_symbols != df.loc[next_row_idx].gene_symbols:\n",
    "            df.loc[row_idx,'other_mpra_variant_id'] += df.loc[next_row_idx,'mpra_variant_id'] + ','\n",
    "        next_row_idx+=1\n",
    "        \n",
    "df = df.loc[df.other_mpra_variant_id!='',['mpra_variant_id','other_mpra_variant_id']]  \n",
    "\n",
    "for mpra_variant_id, other_mpra_variant_ids in df.values.tolist():\n",
    "    for other_mpra_variant_id in other_mpra_variant_ids.rstrip(',').split(','):\n",
    "        mpra_df.loc[mpra_df.mpra_variant_id==other_mpra_variant_id,'group'] = mpra_df.loc[mpra_df.mpra_variant_id==mpra_variant_id,'group'].iloc[0]"
   ]
  },
  {
   "cell_type": "code",
   "execution_count": 61,
   "id": "a61b8215-5ddd-47cf-9edc-880704a8f887",
   "metadata": {},
   "outputs": [],
   "source": [
    "mpra_df.to_csv(data_dir + 'mpra_rna.tsv', index=None, sep='\\t')"
   ]
  },
  {
   "cell_type": "code",
   "execution_count": null,
   "id": "05af76b2-6fb3-4806-90d2-ecab60d6a8d3",
   "metadata": {},
   "outputs": [],
   "source": []
  }
 ],
 "metadata": {
  "kernelspec": {
   "display_name": "Python 3 (ipykernel)",
   "language": "python",
   "name": "python3"
  },
  "language_info": {
   "codemirror_mode": {
    "name": "ipython",
    "version": 3
   },
   "file_extension": ".py",
   "mimetype": "text/x-python",
   "name": "python",
   "nbconvert_exporter": "python",
   "pygments_lexer": "ipython3",
   "version": "3.10.13"
  }
 },
 "nbformat": 4,
 "nbformat_minor": 5
}

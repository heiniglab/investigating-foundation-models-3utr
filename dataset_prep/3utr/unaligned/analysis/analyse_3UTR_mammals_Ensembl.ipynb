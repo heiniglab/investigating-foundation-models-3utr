{
 "cells": [
  {
   "cell_type": "markdown",
   "id": "5a64f397-0a51-4cbc-80ae-d1816fb8f99b",
   "metadata": {},
   "source": [
    "get statistics about 3'UTR sequences of Zoonomia species in Ensembl"
   ]
  },
  {
   "cell_type": "code",
   "execution_count": 1,
   "id": "fcad4ebf-0259-452c-85ca-868477d4d703",
   "metadata": {},
   "outputs": [],
   "source": [
    "import pandas as pd\n",
    "import numpy as np\n",
    "\n",
    "from urllib.request import urlopen\n",
    "import gzip\n",
    "import re\n",
    "\n",
    "from bs4 import BeautifulSoup\n",
    "from tqdm.notebook import tqdm\n",
    "import urllib"
   ]
  },
  {
   "cell_type": "code",
   "execution_count": 2,
   "id": "048f7d29-b03c-4120-9b63-c059cf016c98",
   "metadata": {},
   "outputs": [],
   "source": [
    "species_list='/lustre/groups/epigenereg01/workspace/projects/vale/mlm/fasta/241_species.txt'"
   ]
  },
  {
   "cell_type": "code",
   "execution_count": 3,
   "id": "710e2c43-7e0f-42b2-9433-bbd7392a6913",
   "metadata": {},
   "outputs": [],
   "source": [
    "zoonomia_species = pd.read_csv(species_list,header=None).iloc[:,0].str.lower().values"
   ]
  },
  {
   "cell_type": "code",
   "execution_count": 4,
   "id": "9b359183-9314-43ef-9fba-291956ee17bb",
   "metadata": {},
   "outputs": [
    {
     "data": {
      "text/plain": [
       "18178"
      ]
     },
     "execution_count": 4,
     "metadata": {},
     "output_type": "execute_result"
    }
   ],
   "source": [
    "genes = pd.read_csv('/lustre/groups/epigenereg01/workspace/projects/vale/mlm/UTR_coords/GRCh38_3_prime_UTR_clean.bed', sep='\\t', usecols=[8],header=None).iloc[:,0].values\n",
    "len(genes)"
   ]
  },
  {
   "cell_type": "code",
   "execution_count": 5,
   "id": "206b8f14-ef0a-4d4a-a993-8edd68bafbd6",
   "metadata": {},
   "outputs": [],
   "source": [
    "ensembl_release = 112"
   ]
  },
  {
   "cell_type": "code",
   "execution_count": 6,
   "id": "4c2f9484-e55c-486b-bea8-74de9c416fbf",
   "metadata": {},
   "outputs": [],
   "source": [
    "html = urllib.request.urlopen(f\"https://ftp.ensembl.org/pub/release-{ensembl_release}/gtf/\")\n",
    "soup = BeautifulSoup(html)"
   ]
  },
  {
   "cell_type": "code",
   "execution_count": 7,
   "id": "784da40a-bc89-4f54-b556-7e88d111b94d",
   "metadata": {},
   "outputs": [],
   "source": [
    "ensembl_species = []\n",
    "for img in soup.find_all('img'):\n",
    "    if img['alt']==\"[DIR]\":\n",
    "        a = img.find_next(\"a\", href=True)\n",
    "        species = a['href'].rstrip('/')\n",
    "        ensembl_species.append(species)"
   ]
  },
  {
   "cell_type": "code",
   "execution_count": 8,
   "id": "de6a5c78-33fe-4766-b66d-8d18aa87ecd0",
   "metadata": {},
   "outputs": [
    {
     "data": {
      "text/plain": [
       "72"
      ]
     },
     "execution_count": 8,
     "metadata": {},
     "output_type": "execute_result"
    }
   ],
   "source": [
    "ensembl_species = [species for species in ensembl_species if species in zoonomia_species]\n",
    "len(ensembl_species)"
   ]
  },
  {
   "cell_type": "code",
   "execution_count": 9,
   "id": "736fad79-0d89-4bca-a73c-974db1694d77",
   "metadata": {},
   "outputs": [],
   "source": [
    "def get_gtf_url(species):\n",
    "    html = urllib.request.urlopen(f\"https://ftp.ensembl.org/pub/release-{ensembl_release}/gtf/{species}\")\n",
    "    soup = BeautifulSoup(html)\n",
    "    for a in soup.find_all(\"a\", href=True):\n",
    "        href = a['href']\n",
    "        if str(ensembl_release) + '.gtf.gz' in href:\n",
    "            return f'https://ftp.ensembl.org/pub/release-{ensembl_release}/gtf/{species}/{href}'"
   ]
  },
  {
   "cell_type": "code",
   "execution_count": 10,
   "id": "fc581634-aa52-4891-b247-db4af898c5f6",
   "metadata": {},
   "outputs": [],
   "source": [
    "def get_utrs_species(gtf_url):\n",
    "    utrs = []\n",
    "    streamed_file = urlopen(gtf_url)\n",
    "    with gzip.GzipFile(fileobj=streamed_file) as f_in:\n",
    "        for idx,line in enumerate(f_in):\n",
    "            line = line.decode()\n",
    "            if 'three_prime_utr' in line:\n",
    "                gene_name = re.search('gene_name \"([^;]*)\";',line)\n",
    "                is_canonical = \"Ensembl_canonical\" in line\n",
    "                if gene_name and is_canonical:\n",
    "                    gene_name = gene_name.groups()[0]\n",
    "                    if gene_name in genes:\n",
    "                        contig,source,region,start,end,_,strand, *_ = line.split()\n",
    "                        start = int(start) - 1 #to 0-based, inclusive\n",
    "                        end = int(end) #to 0-based, non-inclusive\n",
    "                        length = end-start\n",
    "                        utrs.append((species,contig,strand,gene_name,start,end,length))\n",
    "    return utrs"
   ]
  },
  {
   "cell_type": "code",
   "execution_count": 11,
   "id": "76343e08-621f-4231-9d35-f7a94f6e4edf",
   "metadata": {},
   "outputs": [
    {
     "data": {
      "application/vnd.jupyter.widget-view+json": {
       "model_id": "77fea303bcc949fe8968e9e6860f1988",
       "version_major": 2,
       "version_minor": 0
      },
      "text/plain": [
       "  0%|          | 0/72 [00:00<?, ?it/s]"
      ]
     },
     "metadata": {},
     "output_type": "display_data"
    }
   ],
   "source": [
    "utrs_df = []\n",
    "for species in tqdm(ensembl_species):\n",
    "    gtf_url = get_gtf_url(species)\n",
    "    utrs_species = get_utrs_species(gtf_url)\n",
    "    utrs_species = pd.DataFrame(utrs_species,columns=['species','contig','strand','HGNC_Symbol','start','end','length'])\n",
    "    utrs_df.append(utrs_species)\n",
    "\n",
    "ensembl_utr_df = pd.concat(utrs_df)"
   ]
  },
  {
   "cell_type": "code",
   "execution_count": 12,
   "id": "63b983ca-1f82-4a61-a27c-381bbd89a378",
   "metadata": {},
   "outputs": [],
   "source": [
    "# UTR coordinates for Zoonomia species, detected based on stop codon position +. human 3'UTR length\n",
    "data_dir = '/lustre/groups/epigenereg01/workspace/projects/vale/mlm/' \n",
    "\n",
    "zoonomia_utr_df = pd.read_csv(data_dir + 'UTR_coords/GRCh38_3_prime_UTR_all_species.tsv.gz', sep='\\t')\n",
    "zoonomia_utr_df.rename(columns={'3_prime_UTR_start':'zoonomia_start','3_prime_UTR_end':'zoonomia_end'},inplace=True)\n",
    "zoonomia_utr_df['zoonomia_length'] = zoonomia_utr_df.zoonomia_end - zoonomia_utr_df.zoonomia_start\n",
    "zoonomia_utr_df.species = zoonomia_utr_df.species.str.lower()"
   ]
  },
  {
   "cell_type": "code",
   "execution_count": 13,
   "id": "3bac806c-fe05-4624-ad97-9d6b8afcd726",
   "metadata": {},
   "outputs": [],
   "source": [
    "comparative_df = ensembl_utr_df[['HGNC_Symbol','species','contig','start','end','length']].merge(zoonomia_utr_df)"
   ]
  },
  {
   "cell_type": "code",
   "execution_count": 14,
   "id": "fbb99f14-764b-4860-a278-eb42274022d0",
   "metadata": {},
   "outputs": [],
   "source": [
    "comparative_df['5_end_shift'] = comparative_df.apply(lambda x:x.start-x.zoonomia_start if x.human_transcript_strand==x.MAF_strand else x.end-x.zoonomia_end, axis=1)\n",
    "comparative_df['3_end_shift'] = comparative_df.apply(lambda x:x.end-x.zoonomia_end if x.human_transcript_strand==x.MAF_strand else x.start-x.zoonomia_start, axis=1)"
   ]
  },
  {
   "cell_type": "code",
   "execution_count": 16,
   "id": "76f495a6-c3de-41e2-8d70-cda2bbaea9c7",
   "metadata": {},
   "outputs": [
    {
     "data": {
      "text/html": [
       "<div>\n",
       "<style scoped>\n",
       "    .dataframe tbody tr th:only-of-type {\n",
       "        vertical-align: middle;\n",
       "    }\n",
       "\n",
       "    .dataframe tbody tr th {\n",
       "        vertical-align: top;\n",
       "    }\n",
       "\n",
       "    .dataframe thead th {\n",
       "        text-align: right;\n",
       "    }\n",
       "</style>\n",
       "<table border=\"1\" class=\"dataframe\">\n",
       "  <thead>\n",
       "    <tr style=\"text-align: right;\">\n",
       "      <th></th>\n",
       "      <th>5_end_shift</th>\n",
       "      <th>3_end_shift</th>\n",
       "    </tr>\n",
       "  </thead>\n",
       "  <tbody>\n",
       "    <tr>\n",
       "      <th>count</th>\n",
       "      <td>1.034630e+05</td>\n",
       "      <td>1.034630e+05</td>\n",
       "    </tr>\n",
       "    <tr>\n",
       "      <th>mean</th>\n",
       "      <td>-1.012846e+03</td>\n",
       "      <td>-9.979633e+02</td>\n",
       "    </tr>\n",
       "    <tr>\n",
       "      <th>std</th>\n",
       "      <td>2.071272e+05</td>\n",
       "      <td>2.071508e+05</td>\n",
       "    </tr>\n",
       "    <tr>\n",
       "      <th>min</th>\n",
       "      <td>-3.637413e+07</td>\n",
       "      <td>-3.637563e+07</td>\n",
       "    </tr>\n",
       "    <tr>\n",
       "      <th>25%</th>\n",
       "      <td>0.000000e+00</td>\n",
       "      <td>-3.220000e+02</td>\n",
       "    </tr>\n",
       "    <tr>\n",
       "      <th>50%</th>\n",
       "      <td>0.000000e+00</td>\n",
       "      <td>0.000000e+00</td>\n",
       "    </tr>\n",
       "    <tr>\n",
       "      <th>75%</th>\n",
       "      <td>0.000000e+00</td>\n",
       "      <td>3.260000e+02</td>\n",
       "    </tr>\n",
       "    <tr>\n",
       "      <th>max</th>\n",
       "      <td>3.074556e+07</td>\n",
       "      <td>3.074556e+07</td>\n",
       "    </tr>\n",
       "  </tbody>\n",
       "</table>\n",
       "</div>"
      ],
      "text/plain": [
       "        5_end_shift   3_end_shift\n",
       "count  1.034630e+05  1.034630e+05\n",
       "mean  -1.012846e+03 -9.979633e+02\n",
       "std    2.071272e+05  2.071508e+05\n",
       "min   -3.637413e+07 -3.637563e+07\n",
       "25%    0.000000e+00 -3.220000e+02\n",
       "50%    0.000000e+00  0.000000e+00\n",
       "75%    0.000000e+00  3.260000e+02\n",
       "max    3.074556e+07  3.074556e+07"
      ]
     },
     "execution_count": 16,
     "metadata": {},
     "output_type": "execute_result"
    }
   ],
   "source": [
    "comparative_df[['5_end_shift','3_end_shift']].describe()"
   ]
  },
  {
   "cell_type": "code",
   "execution_count": 49,
   "id": "8a4057ad-5a9c-4c5d-bff3-271a75434abd",
   "metadata": {},
   "outputs": [
    {
     "data": {
      "text/plain": [
       "0.9261281810888917"
      ]
     },
     "execution_count": 49,
     "metadata": {},
     "output_type": "execute_result"
    }
   ],
   "source": [
    "(comparative_df['5_end_shift']==0).mean()"
   ]
  },
  {
   "cell_type": "code",
   "execution_count": 68,
   "id": "7992fbd2-7c39-4496-bf9d-cbf8dd43f89b",
   "metadata": {},
   "outputs": [
    {
     "data": {
      "text/plain": [
       "0.3770816620434358"
      ]
     },
     "execution_count": 68,
     "metadata": {},
     "output_type": "execute_result"
    }
   ],
   "source": [
    "(comparative_df.length>comparative_df.zoonomia_end-comparative_df.zoonomia_start).mean()"
   ]
  },
  {
   "cell_type": "code",
   "execution_count": 69,
   "id": "61724803-54ea-4644-87e4-d4580528a917",
   "metadata": {},
   "outputs": [],
   "source": [
    "def get_intersection(interval1, interval2):\n",
    "        new_min = max(interval1[0], interval2[0])\n",
    "        new_max = min(interval1[1], interval2[1])\n",
    "        #print(new_min,new_max)\n",
    "        return max(new_max-new_min,0)\n",
    "\n",
    "def get_jaccard(interval1, interval2):\n",
    "    intersection = get_intersection(interval1, interval2)\n",
    "    union = (interval2[1]-interval2[0])+(interval1[1]-interval1[0])-intersection\n",
    "    #print(intersection,union)\n",
    "    return intersection/union "
   ]
  },
  {
   "cell_type": "code",
   "execution_count": 70,
   "id": "8e12c008-bcf1-4d47-8dc7-6e08bdbe634b",
   "metadata": {},
   "outputs": [],
   "source": [
    "comparative_df['intersection'] = comparative_df.apply(lambda x: get_intersection([x.start,x.end],[x.zoonomia_start,x.zoonomia_end]),axis=1)"
   ]
  },
  {
   "cell_type": "code",
   "execution_count": 71,
   "id": "1690712d-be95-4614-b14c-714ba13b4306",
   "metadata": {},
   "outputs": [],
   "source": [
    "comparative_df['jaccard_idx'] = comparative_df.apply(lambda x: get_jaccard([x.start,x.end],[x.zoonomia_start,x.zoonomia_end]),axis=1)"
   ]
  },
  {
   "cell_type": "code",
   "execution_count": 72,
   "id": "9a9a8a86-6b6e-4930-b1e4-47f5254b71a7",
   "metadata": {},
   "outputs": [
    {
     "data": {
      "text/plain": [
       "0.6925215457325549"
      ]
     },
     "execution_count": 72,
     "metadata": {},
     "output_type": "execute_result"
    }
   ],
   "source": [
    "comparative_df.jaccard_idx.median()"
   ]
  }
 ],
 "metadata": {
  "kernelspec": {
   "display_name": "Python 3 (ipykernel)",
   "language": "python",
   "name": "python3"
  },
  "language_info": {
   "codemirror_mode": {
    "name": "ipython",
    "version": 3
   },
   "file_extension": ".py",
   "mimetype": "text/x-python",
   "name": "python",
   "nbconvert_exporter": "python",
   "pygments_lexer": "ipython3",
   "version": "3.10.13"
  }
 },
 "nbformat": 4,
 "nbformat_minor": 5
}

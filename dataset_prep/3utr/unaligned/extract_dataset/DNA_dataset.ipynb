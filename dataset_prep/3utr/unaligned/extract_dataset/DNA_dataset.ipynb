{
 "cells": [
  {
   "cell_type": "markdown",
   "id": "751a10a5-4178-4f2e-9c85-943b1a9b02a0",
   "metadata": {},
   "source": [
    "# Create DNA dataset out of RNA dataset \n",
    "\n",
    "To train 3'UTR DNA models, we create a DNA dataset out of the RNA dataset by reverse-complementing sequences on the negative strand"
   ]
  },
  {
   "cell_type": "code",
   "execution_count": 1,
   "id": "05e3fa27-7434-4eec-a52e-7a1d106f7092",
   "metadata": {},
   "outputs": [],
   "source": [
    "import pandas as pd\n",
    "from textwrap import wrap"
   ]
  },
  {
   "cell_type": "code",
   "execution_count": 2,
   "id": "d3f34a9a-a1b4-4259-9e64-015e95037294",
   "metadata": {},
   "outputs": [],
   "source": [
    "#3'UTR table\n",
    "\n",
    "data_dir = '/lustre/groups/epigenereg01/workspace/projects/vale/mlm/'\n",
    "\n",
    "strand_info = pd.read_csv(data_dir + 'UTR_coords/GRCh38_3_prime_UTR_clean-sorted.bed', sep='\\t',\n",
    "                       header = None, names=['seq_name','strand'], usecols=[3,5]).set_index('seq_name').strand"
   ]
  },
  {
   "cell_type": "code",
   "execution_count": 3,
   "id": "4e3cc244-ad25-48fc-adb8-003bb93cb1dd",
   "metadata": {},
   "outputs": [],
   "source": [
    "fasta_in =  data_dir + 'fasta/241_mammals.shuffled.fa'\n",
    "fasta_out =  data_dir + 'fasta/241_mammals_DNA.shuffled.fa'"
   ]
  },
  {
   "cell_type": "code",
   "execution_count": 14,
   "id": "b73f58e0-0c1c-4713-90b3-b6487eb9f8db",
   "metadata": {},
   "outputs": [
    {
     "name": "stdout",
     "output_type": "stream",
     "text": [
      "100000 sequences processed\n",
      "200000 sequences processed\n",
      "300000 sequences processed\n",
      "400000 sequences processed\n",
      "500000 sequences processed\n",
      "600000 sequences processed\n",
      "700000 sequences processed\n",
      "800000 sequences processed\n",
      "900000 sequences processed\n",
      "1000000 sequences processed\n",
      "1100000 sequences processed\n",
      "1200000 sequences processed\n",
      "1300000 sequences processed\n",
      "1400000 sequences processed\n",
      "1500000 sequences processed\n",
      "1600000 sequences processed\n",
      "1700000 sequences processed\n",
      "1800000 sequences processed\n",
      "1900000 sequences processed\n",
      "2000000 sequences processed\n",
      "2100000 sequences processed\n",
      "2200000 sequences processed\n",
      "2300000 sequences processed\n",
      "2400000 sequences processed\n",
      "2500000 sequences processed\n",
      "2600000 sequences processed\n",
      "2700000 sequences processed\n",
      "2800000 sequences processed\n",
      "2900000 sequences processed\n",
      "3000000 sequences processed\n",
      "3100000 sequences processed\n",
      "3200000 sequences processed\n",
      "3300000 sequences processed\n",
      "3400000 sequences processed\n",
      "3500000 sequences processed\n",
      "3600000 sequences processed\n",
      "3700000 sequences processed\n"
     ]
    }
   ],
   "source": [
    "seq = ''\n",
    "seq_header = None\n",
    "\n",
    "def reverse_complement(seq):\n",
    "    '''\n",
    "    Take sequence reverse complement\n",
    "    '''\n",
    "    compl_dict = {'A':'T', 'C':'G', 'G':'C', 'T':'A', 'a':'t', 'c':'g', 'g':'c', 't':'a'}\n",
    "    compl_seq = ''.join([compl_dict.get(x,x) for x in seq])\n",
    "    rev_seq = compl_seq[::-1]\n",
    "    return rev_seq\n",
    "    \n",
    "def dump_seq(fout,seq_header,seq):\n",
    "    if seq_header and seq:\n",
    "        seq_name = seq_header.split(':')[0][1:]\n",
    "        fout.write(seq_header+'\\n')\n",
    "        if strand_info.loc[seq_name]=='-':\n",
    "            seq = reverse_complement(seq)\n",
    "        for s in wrap(seq,80):\n",
    "            fout.write(s+'\\n')\n",
    "\n",
    "seq_idx = 0\n",
    "with open(fasta_out,'w') as fout:\n",
    "    with open(fasta_in,'r') as fin:\n",
    "        for line in fin:\n",
    "            if line.startswith('>'):\n",
    "                dump_seq(fout,seq_header,seq)\n",
    "                seq_header = line.rstrip()\n",
    "                seq = ''\n",
    "                seq_idx += 1\n",
    "                if seq_idx%100_000==0:\n",
    "                    print(f'{seq_idx} sequences processed')\n",
    "            else:\n",
    "                seq += line.rstrip()\n",
    "        \n",
    "    dump_seq(fout,seq_header,seq)"
   ]
  },
  {
   "cell_type": "code",
   "execution_count": 15,
   "id": "dc9a0d62-d91e-499f-bcfe-1752a1c24dda",
   "metadata": {},
   "outputs": [],
   "source": [
    "!samtools faidx {fasta_out}"
   ]
  },
  {
   "cell_type": "code",
   "execution_count": null,
   "id": "dba8809f-b0db-4ead-9b85-286828ba58fe",
   "metadata": {},
   "outputs": [],
   "source": []
  }
 ],
 "metadata": {
  "kernelspec": {
   "display_name": "Python 3 (ipykernel)",
   "language": "python",
   "name": "python3"
  },
  "language_info": {
   "codemirror_mode": {
    "name": "ipython",
    "version": 3
   },
   "file_extension": ".py",
   "mimetype": "text/x-python",
   "name": "python",
   "nbconvert_exporter": "python",
   "pygments_lexer": "ipython3",
   "version": "3.10.13"
  }
 },
 "nbformat": 4,
 "nbformat_minor": 5
}

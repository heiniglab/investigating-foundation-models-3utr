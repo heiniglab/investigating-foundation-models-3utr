{
 "cells": [
  {
   "cell_type": "markdown",
   "id": "82db7135-2cdc-4ef3-af8b-3f61d13f0bc5",
   "metadata": {},
   "source": [
    "# Get human 3'UTR coordinates"
   ]
  },
  {
   "cell_type": "markdown",
   "id": "9f1e8c30-7b07-4596-a38d-9093ce954d89",
   "metadata": {
    "tags": []
   },
   "source": [
    "Take 3'UTR coordinates from hgTables\n",
    "\n",
    "To obtain the 3' UTR positions of only coding genes, follow the below steps:\n",
    "\n",
    "1. Navigate to the Table Browser (http://genome.ucsc.edu/cgi-bin/hgTables)\n",
    "2. Select the hg38 assembly and the Genes and Gene Predictions group\n",
    "3. Select the GENCODE Genes V20 track and choose the Basic table (should be the default)\n",
    "4. If you have a particular region you are interested in, select that region using\n",
    "the define regions box, otherwise choose \"genome\"\n",
    "5. Click the button \"create\" next to \"filter\"\n",
    "6. Allow filtering from the linked table wgEncodeGencodeAttrsV20\n",
    "7. In the transcriptClass field under the \"hg38.wgEncodeGencodeAttrsV20 based filters\" section,\n",
    "enter \"coding\" into the text box, so \"transcriptClass does match coding\", then click \"submit\"\n",
    "8. Under output format choose \"BED - browser extensible data\", enter a name for your file, and\n",
    "click \"get output\"\n",
    "9. On the \"Output wgEncodeGencodeBasicV20 as BED\" page, choose \"3' UTR Exons\", and click \"get BED\"\n",
    "to download your file\n",
    "\n",
    "* add HGNC symbol (table from Biomart)\n",
    "* remove irrelevant contigs (e.g. decoy sequences)\n",
    "* take only contiguous UTR regions"
   ]
  },
  {
   "cell_type": "code",
   "execution_count": 23,
   "id": "d223f814",
   "metadata": {
    "tags": []
   },
   "outputs": [],
   "source": [
    "import numpy as np\n",
    "import pandas as pd\n",
    "import matplotlib.pyplot as plt\n",
    "import matplotlib as mpl\n",
    "\n",
    "mpl.rcParams.update({'xtick.labelsize': 16, 'ytick.labelsize': 16, \n",
    "                     'axes.titlesize':16, 'axes.labelsize':18})"
   ]
  },
  {
   "cell_type": "code",
   "execution_count": 24,
   "id": "409fab70-245d-49ca-954f-ab239c4de71d",
   "metadata": {},
   "outputs": [],
   "source": [
    "data_dir = '/lustre/groups/epigenereg01/workspace/projects/vale/mlm/'"
   ]
  },
  {
   "cell_type": "code",
   "execution_count": 25,
   "id": "56cd6f1d",
   "metadata": {},
   "outputs": [],
   "source": [
    "all_utr_df = pd.read_csv(data_dir + 'UTR_coords/GRCh38_3_prime_UTR.bed.gz', sep='\\t', names=['chrom','start','stop','utr_name','score','strand']) #3'UTR coordinates from hgTables\n",
    "\n",
    "gene_annot_df = pd.read_csv(data_dir + 'UTR_coords/GRCh38_EnsembleCanonical_HGNC.tsv.gz', sep='\\t', skiprows=1,header=None,\n",
    "                           names=['transcript_id','canonical','HGNC_symbol'],usecols=[1,2,3]) #matching between Ensembl and HGNC gene names\n",
    "\n",
    "all_utr_df['transcript_id'] = all_utr_df.utr_name.apply(lambda x:x.split('.')[0]) #transcript ID from UTR ID\n",
    "\n",
    "df = all_utr_df.merge(gene_annot_df)\n",
    "\n",
    "df = df[(df.canonical==1) & (~df.HGNC_symbol.isna())]#take only Ensembl canonical and with HGNC symbol\n",
    "\n",
    "df = df[~df.chrom.str.contains('_')] #exclude decoy seqeunces, etc\n",
    "\n",
    "df.drop_duplicates(subset=['transcript_id'],keep=False,inplace=True) #use only single-exon UTRs"
   ]
  },
  {
   "cell_type": "code",
   "execution_count": 26,
   "id": "0a2fe6e6-db7d-431a-91f5-245d353b224c",
   "metadata": {},
   "outputs": [
    {
     "data": {
      "text/plain": [
       "18178"
      ]
     },
     "execution_count": 26,
     "metadata": {},
     "output_type": "execute_result"
    }
   ],
   "source": [
    "len(df)"
   ]
  },
  {
   "cell_type": "code",
   "execution_count": 70,
   "id": "96cd55b4",
   "metadata": {},
   "outputs": [],
   "source": [
    "df.to_csv(data_dir + 'UTR_coords/GRCh38_3_prime_UTR_clean.bed',sep='\\t',index=None,header=None)"
   ]
  },
  {
   "cell_type": "code",
   "execution_count": 36,
   "id": "87a00250-5127-4ea8-8314-3794c02037eb",
   "metadata": {},
   "outputs": [],
   "source": [
    "#chromosomes should be sorted in numerical order! e.g. 1,2,3...X,Y\n",
    "chroms = [f'chr{x}' for x in range(1,23)] + ['chrX','chrY']\n",
    "df = df.set_index('chrom').loc[chroms].reset_index()"
   ]
  },
  {
   "cell_type": "code",
   "execution_count": null,
   "id": "7b596798-71f7-4b26-814b-f428a3a82f40",
   "metadata": {},
   "outputs": [],
   "source": [
    "df.to_csv(data_dir + 'UTR_coords/GRCh38_3_prime_UTR_clean-sorted.bed',sep='\\t',index=None,header=None)"
   ]
  }
 ],
 "metadata": {
  "kernelspec": {
   "display_name": "Python 3 (ipykernel)",
   "language": "python",
   "name": "python3"
  },
  "language_info": {
   "codemirror_mode": {
    "name": "ipython",
    "version": 3
   },
   "file_extension": ".py",
   "mimetype": "text/x-python",
   "name": "python",
   "nbconvert_exporter": "python",
   "pygments_lexer": "ipython3",
   "version": "3.10.13"
  }
 },
 "nbformat": 4,
 "nbformat_minor": 5
}

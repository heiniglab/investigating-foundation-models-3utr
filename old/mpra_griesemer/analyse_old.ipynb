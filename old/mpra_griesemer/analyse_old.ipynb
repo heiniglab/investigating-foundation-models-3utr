{
 "cells": [
  {
   "cell_type": "code",
   "execution_count": 1,
   "id": "675d33de-ab99-477c-940c-fa2631fe7212",
   "metadata": {
    "tags": []
   },
   "outputs": [],
   "source": [
    "import numpy as np\n",
    "import pandas as pd\n",
    "import scipy\n",
    "import sklearn.metrics\n",
    "import os\n",
    "\n",
    "import matplotlib.pyplot as plt\n",
    "import matplotlib as mpl\n",
    "import seaborn as sns\n",
    "\n",
    "from scipy import stats\n",
    "import statsmodels.stats.multicomp as mc\n",
    "\n",
    "from statannotations.Annotator import Annotator"
   ]
  },
  {
   "cell_type": "code",
   "execution_count": 2,
   "id": "82c157d3-f18c-4f89-8adf-69f06cbcf277",
   "metadata": {
    "tags": []
   },
   "outputs": [],
   "source": [
    "mpl.rcParams.update({'xtick.labelsize': 14, 'ytick.labelsize': 14, \n",
    "                     'axes.titlesize':14, 'axes.labelsize':16}) #default font sizes for plots"
   ]
  },
  {
   "cell_type": "markdown",
   "id": "c73a321e-15a2-45ca-843d-4ef3f738dcd8",
   "metadata": {},
   "source": [
    "# Auxiliary functions"
   ]
  },
  {
   "cell_type": "code",
   "execution_count": 3,
   "id": "f0898be5-7d4e-40ca-967a-013f9cfba159",
   "metadata": {
    "tags": []
   },
   "outputs": [],
   "source": [
    "def compute_score(df):\n",
    "    return scipy.stats.pearsonr(df.y_true,df.y_pred)[0]\n",
    "\n",
    "def get_best_models(df, alpha=0.05):\n",
    "    \n",
    "    error = (df.y_true-df.y_pred)**2 #squared residuals  \n",
    "\n",
    "    comp1 = mc.MultiComparison(error, df['model'])\n",
    "    tbl, a1, a2 = comp1.allpairtest(stats.wilcoxon, method= \"fdr_bh\") #Wilcoxon test with Bonferroni correction\n",
    "\n",
    "    models_stats = pd.DataFrame(a2).set_index(['group1','group2']) #see if the difference between pairs of models is significant\n",
    "    \n",
    "    #we ignore default Bonferroni correction as it is for wrong number of pairs in the study\n",
    "    if alpha is not None:\n",
    "        models_stats.reject = models_stats.pval<alpha\n",
    "\n",
    "    per_model_scores = df.groupby('model').apply(compute_score).sort_values(ascending=False) #compute score based on all predictions for a given model\n",
    "\n",
    "    sorted_models = per_model_scores.keys() #get models ranking list, scoring in descending order\n",
    "\n",
    "    best_models = [sorted_models[0]] #always include best model\n",
    "\n",
    "    #loop over the list and add models until the difference between the best and the current models is significant\n",
    "    for model in sorted_models[1:]:\n",
    "\n",
    "        #two keys are possible for a given pair of models\n",
    "        idx_2models = (sorted_models[0], model) \n",
    "        idx_2models_swap = (model, sorted_models[0])\n",
    "\n",
    "        if ((idx_2models in models_stats.index and models_stats.loc[idx_2models].reject==False) \n",
    "                or (idx_2models_swap in models_stats.index and models_stats.loc[idx_2models_swap].reject==False)):\n",
    "                    best_models.append(model)\n",
    "        else:\n",
    "            #as soon as significant difference is detected, dont add models to the best models list\n",
    "            break\n",
    "            \n",
    "    return best_models\n",
    "\n",
    "def highlight_ns(x, best_models):\n",
    "    #make the best model and models with insignificant difference with the best model bold\n",
    "    cell_type = x.name\n",
    "    return ['font-weight: bold' if model in best_models[cell_type] else ''\n",
    "                for model in x.index]"
   ]
  },
  {
   "cell_type": "markdown",
   "id": "e430f7c8-7cd0-4194-8bf7-26c19cc0efa1",
   "metadata": {},
   "source": [
    "# Collect predictions"
   ]
  },
  {
   "cell_type": "code",
   "execution_count": 9,
   "id": "67aade92-3d4e-4862-a4a7-302ee521c36b",
   "metadata": {},
   "outputs": [],
   "source": [
    "regressor = 'SVR' # Ridge or SVR"
   ]
  },
  {
   "cell_type": "code",
   "execution_count": 10,
   "id": "c6b77ddf-2b51-4a9f-ace6-d16c65a03fc9",
   "metadata": {
    "tags": []
   },
   "outputs": [],
   "source": [
    "data_dir = f'/lustre/groups/epigenereg01/workspace/projects/vale/MLM/griesemer/{regressor}_LeaveGroupOut/'"
   ]
  },
  {
   "cell_type": "code",
   "execution_count": 11,
   "id": "ba0d9e61-0bcf-4d8b-ba1b-6af7f5a88922",
   "metadata": {
    "tags": []
   },
   "outputs": [],
   "source": [
    "models = ['Species-aware','Species-agnostic','DNABERT','DNABERT-2','NT-MS-v2-500M','griesemer']\n",
    "\n",
    "cell_types = ['HEK293FT', 'HMEC', 'HEPG2', 'GM12878', 'K562', 'SKNSH']"
   ]
  },
  {
   "cell_type": "code",
   "execution_count": 12,
   "id": "eb820876-4815-409b-b40d-90bbc8979907",
   "metadata": {},
   "outputs": [],
   "source": [
    "res = {}\n",
    "\n",
    "for cell_type in cell_types:\n",
    "        res[cell_type] = []\n",
    "        for model in models:\n",
    "            res_tsv = data_dir + f'{cell_type}-{model}.tsv'\n",
    "            if os.path.isfile(res_tsv):\n",
    "                df = pd.read_csv(res_tsv, sep='\\t', skiprows=1, usecols=[84,85],names=['y_true','y_pred'])\n",
    "                df['model'] = model\n",
    "                res[cell_type].append(df)\n",
    "        if len(res[cell_type])>0:\n",
    "            res[cell_type] = pd.concat(res[cell_type])"
   ]
  },
  {
   "cell_type": "markdown",
   "id": "a94c3ead-7e46-4560-8393-ec5f7b0df7da",
   "metadata": {},
   "source": [
    "# Expression prediction"
   ]
  },
  {
   "cell_type": "code",
   "execution_count": 13,
   "id": "1d9172f3-beb1-4cbc-80a5-58af28b553a2",
   "metadata": {
    "tags": []
   },
   "outputs": [
    {
     "name": "stderr",
     "output_type": "stream",
     "text": [
      "/tmp/ipykernel_1094618/3278358992.py:17: FutureWarning: DataFrame.applymap has been deprecated. Use DataFrame.map instead.\n",
      "  preds_res = pd.DataFrame(preds_res).applymap(lambda x:f'{x:.2f}')\n"
     ]
    },
    {
     "data": {
      "text/html": [
       "<style type=\"text/css\">\n",
       "#T_6bbc1_row0_col0, #T_6bbc1_row0_col1, #T_6bbc1_row0_col3, #T_6bbc1_row0_col4, #T_6bbc1_row1_col0, #T_6bbc1_row1_col1, #T_6bbc1_row1_col2, #T_6bbc1_row1_col3, #T_6bbc1_row1_col4, #T_6bbc1_row1_col5, #T_6bbc1_row5_col0, #T_6bbc1_row5_col3, #T_6bbc1_row5_col4 {\n",
       "  font-weight: bold;\n",
       "}\n",
       "</style>\n",
       "<table id=\"T_6bbc1\">\n",
       "  <thead>\n",
       "    <tr>\n",
       "      <th class=\"blank level0\" >&nbsp;</th>\n",
       "      <th id=\"T_6bbc1_level0_col0\" class=\"col_heading level0 col0\" >HEK293FT</th>\n",
       "      <th id=\"T_6bbc1_level0_col1\" class=\"col_heading level0 col1\" >HMEC</th>\n",
       "      <th id=\"T_6bbc1_level0_col2\" class=\"col_heading level0 col2\" >HEPG2</th>\n",
       "      <th id=\"T_6bbc1_level0_col3\" class=\"col_heading level0 col3\" >GM12878</th>\n",
       "      <th id=\"T_6bbc1_level0_col4\" class=\"col_heading level0 col4\" >K562</th>\n",
       "      <th id=\"T_6bbc1_level0_col5\" class=\"col_heading level0 col5\" >SKNSH</th>\n",
       "    </tr>\n",
       "    <tr>\n",
       "      <th class=\"index_name level0\" >model</th>\n",
       "      <th class=\"blank col0\" >&nbsp;</th>\n",
       "      <th class=\"blank col1\" >&nbsp;</th>\n",
       "      <th class=\"blank col2\" >&nbsp;</th>\n",
       "      <th class=\"blank col3\" >&nbsp;</th>\n",
       "      <th class=\"blank col4\" >&nbsp;</th>\n",
       "      <th class=\"blank col5\" >&nbsp;</th>\n",
       "    </tr>\n",
       "  </thead>\n",
       "  <tbody>\n",
       "    <tr>\n",
       "      <th id=\"T_6bbc1_level0_row0\" class=\"row_heading level0 row0\" >Species-aware</th>\n",
       "      <td id=\"T_6bbc1_row0_col0\" class=\"data row0 col0\" >0.37</td>\n",
       "      <td id=\"T_6bbc1_row0_col1\" class=\"data row0 col1\" >0.56</td>\n",
       "      <td id=\"T_6bbc1_row0_col2\" class=\"data row0 col2\" >0.50</td>\n",
       "      <td id=\"T_6bbc1_row0_col3\" class=\"data row0 col3\" >0.52</td>\n",
       "      <td id=\"T_6bbc1_row0_col4\" class=\"data row0 col4\" >0.40</td>\n",
       "      <td id=\"T_6bbc1_row0_col5\" class=\"data row0 col5\" >0.40</td>\n",
       "    </tr>\n",
       "    <tr>\n",
       "      <th id=\"T_6bbc1_level0_row1\" class=\"row_heading level0 row1\" >Species-agnostic</th>\n",
       "      <td id=\"T_6bbc1_row1_col0\" class=\"data row1 col0\" >0.40</td>\n",
       "      <td id=\"T_6bbc1_row1_col1\" class=\"data row1 col1\" >0.56</td>\n",
       "      <td id=\"T_6bbc1_row1_col2\" class=\"data row1 col2\" >0.51</td>\n",
       "      <td id=\"T_6bbc1_row1_col3\" class=\"data row1 col3\" >0.52</td>\n",
       "      <td id=\"T_6bbc1_row1_col4\" class=\"data row1 col4\" >0.42</td>\n",
       "      <td id=\"T_6bbc1_row1_col5\" class=\"data row1 col5\" >0.41</td>\n",
       "    </tr>\n",
       "    <tr>\n",
       "      <th id=\"T_6bbc1_level0_row2\" class=\"row_heading level0 row2\" >DNABERT</th>\n",
       "      <td id=\"T_6bbc1_row2_col0\" class=\"data row2 col0\" >0.05</td>\n",
       "      <td id=\"T_6bbc1_row2_col1\" class=\"data row2 col1\" >0.31</td>\n",
       "      <td id=\"T_6bbc1_row2_col2\" class=\"data row2 col2\" >0.09</td>\n",
       "      <td id=\"T_6bbc1_row2_col3\" class=\"data row2 col3\" >0.10</td>\n",
       "      <td id=\"T_6bbc1_row2_col4\" class=\"data row2 col4\" >0.18</td>\n",
       "      <td id=\"T_6bbc1_row2_col5\" class=\"data row2 col5\" >0.13</td>\n",
       "    </tr>\n",
       "    <tr>\n",
       "      <th id=\"T_6bbc1_level0_row3\" class=\"row_heading level0 row3\" >DNABERT-2</th>\n",
       "      <td id=\"T_6bbc1_row3_col0\" class=\"data row3 col0\" >0.17</td>\n",
       "      <td id=\"T_6bbc1_row3_col1\" class=\"data row3 col1\" >0.40</td>\n",
       "      <td id=\"T_6bbc1_row3_col2\" class=\"data row3 col2\" >0.35</td>\n",
       "      <td id=\"T_6bbc1_row3_col3\" class=\"data row3 col3\" >0.36</td>\n",
       "      <td id=\"T_6bbc1_row3_col4\" class=\"data row3 col4\" >0.25</td>\n",
       "      <td id=\"T_6bbc1_row3_col5\" class=\"data row3 col5\" >0.20</td>\n",
       "    </tr>\n",
       "    <tr>\n",
       "      <th id=\"T_6bbc1_level0_row4\" class=\"row_heading level0 row4\" >NT-MS-v2-500M</th>\n",
       "      <td id=\"T_6bbc1_row4_col0\" class=\"data row4 col0\" >0.15</td>\n",
       "      <td id=\"T_6bbc1_row4_col1\" class=\"data row4 col1\" >0.37</td>\n",
       "      <td id=\"T_6bbc1_row4_col2\" class=\"data row4 col2\" >0.27</td>\n",
       "      <td id=\"T_6bbc1_row4_col3\" class=\"data row4 col3\" >0.27</td>\n",
       "      <td id=\"T_6bbc1_row4_col4\" class=\"data row4 col4\" >0.23</td>\n",
       "      <td id=\"T_6bbc1_row4_col5\" class=\"data row4 col5\" >0.21</td>\n",
       "    </tr>\n",
       "    <tr>\n",
       "      <th id=\"T_6bbc1_level0_row5\" class=\"row_heading level0 row5\" >griesemer</th>\n",
       "      <td id=\"T_6bbc1_row5_col0\" class=\"data row5 col0\" >0.35</td>\n",
       "      <td id=\"T_6bbc1_row5_col1\" class=\"data row5 col1\" >0.54</td>\n",
       "      <td id=\"T_6bbc1_row5_col2\" class=\"data row5 col2\" >0.44</td>\n",
       "      <td id=\"T_6bbc1_row5_col3\" class=\"data row5 col3\" >0.46</td>\n",
       "      <td id=\"T_6bbc1_row5_col4\" class=\"data row5 col4\" >0.37</td>\n",
       "      <td id=\"T_6bbc1_row5_col5\" class=\"data row5 col5\" >0.37</td>\n",
       "    </tr>\n",
       "  </tbody>\n",
       "</table>\n"
      ],
      "text/plain": [
       "<pandas.io.formats.style.Styler at 0x7fb04c7344f0>"
      ]
     },
     "execution_count": 13,
     "metadata": {},
     "output_type": "execute_result"
    }
   ],
   "source": [
    "preds_res = {}\n",
    "best_models = {}\n",
    "\n",
    "n_pairs = len(cell_types)*(len(models)-1) #for each cell the MLM model is compared with all other models\n",
    "alpha = 0.05/n_pairs #significance level with Bonferroni correction (5 models x 2 cell types x 2 response types)\n",
    "\n",
    "for cell_type in cell_types:\n",
    "            \n",
    "        #per_fold_scores = res[cell_type].groupby(\n",
    "        #    ['model','chrom']).apply(compute_score).rename('score').reset_index()\n",
    "        \n",
    "        #preds_res[cell_type] = per_fold_scores.groupby('model').score.mean()\n",
    "        \n",
    "        preds_res[cell_type] = res[cell_type].groupby('model').apply(compute_score)\n",
    "        best_models[cell_type] = get_best_models(res[cell_type], alpha=alpha)\n",
    "        \n",
    "preds_res = pd.DataFrame(preds_res).applymap(lambda x:f'{x:.2f}')\n",
    "\n",
    "preds_res.loc[models].round(2).style.apply(lambda x: highlight_ns(x, best_models))"
   ]
  },
  {
   "cell_type": "markdown",
   "id": "5c861565-4113-43b4-8201-8f556f751623",
   "metadata": {},
   "source": [
    "# Differential expression"
   ]
  },
  {
   "cell_type": "markdown",
   "id": "8d997331-b784-42ec-a769-bdfd11881be6",
   "metadata": {},
   "source": [
    "'To predict the effect of mutations, we simply subtract the18\n",
    "predicted expression or decay time of the wild-type from the19\n",
    "predicted expression or decay time of the mutant; we do not20\n",
    "train and test on the difference data directly.'\n",
    "\n",
    "see Siegel, David A., et al. \"Massively parallel analysis of human 3′ UTRs reveals that AU-rich element length and registration predict mRNA destabilization.\" G3 12.1 (2022): jkab404.\n",
    "\n",
    "Rabani, Michal, et al. \"A massively parallel reporter assay of 3′ UTR sequences identifies in vivo rules for mRNA degradation.\" Molecular cell 68.6 (2017): 1083-1094."
   ]
  },
  {
   "cell_type": "code",
   "execution_count": 12,
   "id": "97f116e6-1738-4c1c-bf98-645102bcea01",
   "metadata": {
    "tags": []
   },
   "outputs": [
    {
     "name": "stderr",
     "output_type": "stream",
     "text": [
      "/tmp/ipykernel_992858/3761111919.py:24: FutureWarning: DataFrame.applymap has been deprecated. Use DataFrame.map instead.\n",
      "  preds_res = pd.DataFrame(preds_res).applymap(lambda x:f'{x:.2f}')\n"
     ]
    },
    {
     "data": {
      "text/html": [
       "<style type=\"text/css\">\n",
       "#T_3e204_row0_col0, #T_3e204_row0_col1, #T_3e204_row0_col2, #T_3e204_row0_col3, #T_3e204_row0_col4, #T_3e204_row0_col5, #T_3e204_row1_col0, #T_3e204_row1_col1, #T_3e204_row1_col2, #T_3e204_row1_col4, #T_3e204_row1_col5, #T_3e204_row5_col1, #T_3e204_row5_col4, #T_3e204_row5_col5, #T_3e204_row6_col0, #T_3e204_row6_col1, #T_3e204_row6_col2, #T_3e204_row6_col4, #T_3e204_row6_col5, #T_3e204_row7_col1, #T_3e204_row7_col2, #T_3e204_row7_col4, #T_3e204_row7_col5 {\n",
       "  font-weight: bold;\n",
       "}\n",
       "</style>\n",
       "<table id=\"T_3e204\">\n",
       "  <thead>\n",
       "    <tr>\n",
       "      <th class=\"blank level0\" >&nbsp;</th>\n",
       "      <th id=\"T_3e204_level0_col0\" class=\"col_heading level0 col0\" >HEK293FT</th>\n",
       "      <th id=\"T_3e204_level0_col1\" class=\"col_heading level0 col1\" >HMEC</th>\n",
       "      <th id=\"T_3e204_level0_col2\" class=\"col_heading level0 col2\" >HEPG2</th>\n",
       "      <th id=\"T_3e204_level0_col3\" class=\"col_heading level0 col3\" >GM12878</th>\n",
       "      <th id=\"T_3e204_level0_col4\" class=\"col_heading level0 col4\" >K562</th>\n",
       "      <th id=\"T_3e204_level0_col5\" class=\"col_heading level0 col5\" >SKNSH</th>\n",
       "    </tr>\n",
       "    <tr>\n",
       "      <th class=\"index_name level0\" >model</th>\n",
       "      <th class=\"blank col0\" >&nbsp;</th>\n",
       "      <th class=\"blank col1\" >&nbsp;</th>\n",
       "      <th class=\"blank col2\" >&nbsp;</th>\n",
       "      <th class=\"blank col3\" >&nbsp;</th>\n",
       "      <th class=\"blank col4\" >&nbsp;</th>\n",
       "      <th class=\"blank col5\" >&nbsp;</th>\n",
       "    </tr>\n",
       "  </thead>\n",
       "  <tbody>\n",
       "    <tr>\n",
       "      <th id=\"T_3e204_level0_row0\" class=\"row_heading level0 row0\" >Species-aware</th>\n",
       "      <td id=\"T_3e204_row0_col0\" class=\"data row0 col0\" >0.08</td>\n",
       "      <td id=\"T_3e204_row0_col1\" class=\"data row0 col1\" >0.14</td>\n",
       "      <td id=\"T_3e204_row0_col2\" class=\"data row0 col2\" >0.24</td>\n",
       "      <td id=\"T_3e204_row0_col3\" class=\"data row0 col3\" >0.20</td>\n",
       "      <td id=\"T_3e204_row0_col4\" class=\"data row0 col4\" >0.09</td>\n",
       "      <td id=\"T_3e204_row0_col5\" class=\"data row0 col5\" >0.11</td>\n",
       "    </tr>\n",
       "    <tr>\n",
       "      <th id=\"T_3e204_level0_row1\" class=\"row_heading level0 row1\" >Species-agnostic</th>\n",
       "      <td id=\"T_3e204_row1_col0\" class=\"data row1 col0\" >0.10</td>\n",
       "      <td id=\"T_3e204_row1_col1\" class=\"data row1 col1\" >0.13</td>\n",
       "      <td id=\"T_3e204_row1_col2\" class=\"data row1 col2\" >0.21</td>\n",
       "      <td id=\"T_3e204_row1_col3\" class=\"data row1 col3\" >0.18</td>\n",
       "      <td id=\"T_3e204_row1_col4\" class=\"data row1 col4\" >0.09</td>\n",
       "      <td id=\"T_3e204_row1_col5\" class=\"data row1 col5\" >0.10</td>\n",
       "    </tr>\n",
       "    <tr>\n",
       "      <th id=\"T_3e204_level0_row2\" class=\"row_heading level0 row2\" >DNABERT</th>\n",
       "      <td id=\"T_3e204_row2_col0\" class=\"data row2 col0\" >-0.01</td>\n",
       "      <td id=\"T_3e204_row2_col1\" class=\"data row2 col1\" >0.03</td>\n",
       "      <td id=\"T_3e204_row2_col2\" class=\"data row2 col2\" >0.00</td>\n",
       "      <td id=\"T_3e204_row2_col3\" class=\"data row2 col3\" >-0.01</td>\n",
       "      <td id=\"T_3e204_row2_col4\" class=\"data row2 col4\" >0.01</td>\n",
       "      <td id=\"T_3e204_row2_col5\" class=\"data row2 col5\" >0.00</td>\n",
       "    </tr>\n",
       "    <tr>\n",
       "      <th id=\"T_3e204_level0_row3\" class=\"row_heading level0 row3\" >DNABERT-2</th>\n",
       "      <td id=\"T_3e204_row3_col0\" class=\"data row3 col0\" >0.02</td>\n",
       "      <td id=\"T_3e204_row3_col1\" class=\"data row3 col1\" >0.06</td>\n",
       "      <td id=\"T_3e204_row3_col2\" class=\"data row3 col2\" >0.14</td>\n",
       "      <td id=\"T_3e204_row3_col3\" class=\"data row3 col3\" >0.14</td>\n",
       "      <td id=\"T_3e204_row3_col4\" class=\"data row3 col4\" >0.01</td>\n",
       "      <td id=\"T_3e204_row3_col5\" class=\"data row3 col5\" >0.06</td>\n",
       "    </tr>\n",
       "    <tr>\n",
       "      <th id=\"T_3e204_level0_row4\" class=\"row_heading level0 row4\" >NT-MS-v2-500M</th>\n",
       "      <td id=\"T_3e204_row4_col0\" class=\"data row4 col0\" >0.05</td>\n",
       "      <td id=\"T_3e204_row4_col1\" class=\"data row4 col1\" >0.07</td>\n",
       "      <td id=\"T_3e204_row4_col2\" class=\"data row4 col2\" >0.05</td>\n",
       "      <td id=\"T_3e204_row4_col3\" class=\"data row4 col3\" >0.09</td>\n",
       "      <td id=\"T_3e204_row4_col4\" class=\"data row4 col4\" >0.06</td>\n",
       "      <td id=\"T_3e204_row4_col5\" class=\"data row4 col5\" >0.03</td>\n",
       "    </tr>\n",
       "    <tr>\n",
       "      <th id=\"T_3e204_level0_row5\" class=\"row_heading level0 row5\" >4mers</th>\n",
       "      <td id=\"T_3e204_row5_col0\" class=\"data row5 col0\" >0.05</td>\n",
       "      <td id=\"T_3e204_row5_col1\" class=\"data row5 col1\" >0.10</td>\n",
       "      <td id=\"T_3e204_row5_col2\" class=\"data row5 col2\" >0.12</td>\n",
       "      <td id=\"T_3e204_row5_col3\" class=\"data row5 col3\" >0.11</td>\n",
       "      <td id=\"T_3e204_row5_col4\" class=\"data row5 col4\" >0.08</td>\n",
       "      <td id=\"T_3e204_row5_col5\" class=\"data row5 col5\" >0.09</td>\n",
       "    </tr>\n",
       "    <tr>\n",
       "      <th id=\"T_3e204_level0_row6\" class=\"row_heading level0 row6\" >word2vec</th>\n",
       "      <td id=\"T_3e204_row6_col0\" class=\"data row6 col0\" >0.09</td>\n",
       "      <td id=\"T_3e204_row6_col1\" class=\"data row6 col1\" >0.14</td>\n",
       "      <td id=\"T_3e204_row6_col2\" class=\"data row6 col2\" >0.19</td>\n",
       "      <td id=\"T_3e204_row6_col3\" class=\"data row6 col3\" >0.17</td>\n",
       "      <td id=\"T_3e204_row6_col4\" class=\"data row6 col4\" >0.09</td>\n",
       "      <td id=\"T_3e204_row6_col5\" class=\"data row6 col5\" >0.11</td>\n",
       "    </tr>\n",
       "    <tr>\n",
       "      <th id=\"T_3e204_level0_row7\" class=\"row_heading level0 row7\" >griesemer</th>\n",
       "      <td id=\"T_3e204_row7_col0\" class=\"data row7 col0\" >0.04</td>\n",
       "      <td id=\"T_3e204_row7_col1\" class=\"data row7 col1\" >0.12</td>\n",
       "      <td id=\"T_3e204_row7_col2\" class=\"data row7 col2\" >0.18</td>\n",
       "      <td id=\"T_3e204_row7_col3\" class=\"data row7 col3\" >0.16</td>\n",
       "      <td id=\"T_3e204_row7_col4\" class=\"data row7 col4\" >0.07</td>\n",
       "      <td id=\"T_3e204_row7_col5\" class=\"data row7 col5\" >0.09</td>\n",
       "    </tr>\n",
       "  </tbody>\n",
       "</table>\n"
      ],
      "text/plain": [
       "<pandas.io.formats.style.Styler at 0x7f90ec3f5930>"
      ]
     },
     "execution_count": 12,
     "metadata": {},
     "output_type": "execute_result"
    }
   ],
   "source": [
    "preds_res = {}\n",
    "best_models = {}\n",
    "\n",
    "n_pairs = len(cell_types)*(len(models)-1) #for each cell the MLM model is compared with all other models\n",
    "alpha = 0.05/n_pairs #significance level with Bonferroni correction (5 models x 2 cell types x 2 response types)\n",
    "\n",
    "for cell_type in cell_types:\n",
    "            \n",
    "        df = res[cell_type]\n",
    "\n",
    "        ref_df = df.iloc[0:-1:2].reset_index(drop=True)\n",
    "        alt_df = df.iloc[1::2].reset_index(drop=True)\n",
    "\n",
    "        delta_df = ref_df.merge(alt_df[['y_true','y_pred']],left_index=True,right_index=True, suffixes=('_alt','_ref') )\n",
    "\n",
    "        delta_df['y_true'] = delta_df.y_true_alt - delta_df.y_true_ref\n",
    "        delta_df['y_pred'] = delta_df.y_pred_alt - delta_df.y_pred_ref\n",
    "\n",
    "        delta_df = delta_df[~delta_df.y_true.isna()]\n",
    "\n",
    "        preds_res[cell_type] = delta_df.groupby('model').apply(compute_score)\n",
    "        best_models[cell_type] = get_best_models(delta_df, alpha=alpha)\n",
    "\n",
    "preds_res = pd.DataFrame(preds_res).applymap(lambda x:f'{x:.2f}')\n",
    "preds_res.loc[models].round(2).style.apply(lambda x: highlight_ns(x, best_models))"
   ]
  },
  {
   "cell_type": "code",
   "execution_count": null,
   "id": "2ebbfd4c-dd68-4350-9a59-d8321d850881",
   "metadata": {},
   "outputs": [],
   "source": []
  }
 ],
 "metadata": {
  "kernelspec": {
   "display_name": "Python 3 (ipykernel)",
   "language": "python",
   "name": "python3"
  },
  "language_info": {
   "codemirror_mode": {
    "name": "ipython",
    "version": 3
   },
   "file_extension": ".py",
   "mimetype": "text/x-python",
   "name": "python",
   "nbconvert_exporter": "python",
   "pygments_lexer": "ipython3",
   "version": "3.10.13"
  }
 },
 "nbformat": 4,
 "nbformat_minor": 5
}

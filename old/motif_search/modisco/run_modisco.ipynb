{
 "cells": [
  {
   "cell_type": "code",
   "execution_count": 1,
   "id": "a6620947-eee3-434d-9b14-3249bd551d05",
   "metadata": {},
   "outputs": [],
   "source": [
    "import numpy as np\n",
    "import pandas as pd\n",
    "import pickle\n",
    "import modiscolite\n",
    "\n",
    "from collections import defaultdict"
   ]
  },
  {
   "cell_type": "code",
   "execution_count": 2,
   "id": "8fbb949d-2c49-47c1-9286-2d8f7a44208f",
   "metadata": {},
   "outputs": [],
   "source": [
    "data_dir = '/lustre/groups/epigenereg01/workspace/projects/vale/MLM/'"
   ]
  },
  {
   "cell_type": "code",
   "execution_count": 3,
   "id": "106f5fd5-eac1-436c-af2d-a1a00b7b0d1c",
   "metadata": {},
   "outputs": [],
   "source": [
    "human_fasta = data_dir + 'fasta/240_species/species/Homo_sapiens.fa' #3'UTR on hegative strand should already be reversed\n",
    "\n",
    "human_utr = defaultdict(str)\n",
    "\n",
    "with open(human_fasta, 'r') as f:\n",
    "    for line in f:\n",
    "        if line.startswith('>'):\n",
    "            seq_name = line[1:].split(':')[0]\n",
    "        else:\n",
    "            human_utr[seq_name] += line.rstrip().upper()"
   ]
  },
  {
   "cell_type": "code",
   "execution_count": 4,
   "id": "65a5453d-0a5c-4159-8c4e-ee6404aeb352",
   "metadata": {},
   "outputs": [],
   "source": [
    "model_path = 'motif_predictions/species_aware/probas'"
   ]
  },
  {
   "cell_type": "code",
   "execution_count": 5,
   "id": "221f0cf0-3797-42c0-b493-69144bf177ab",
   "metadata": {},
   "outputs": [],
   "source": [
    "with open(data_dir + model_path + '.pickle','rb') as f:\n",
    "   model_res = dict(pickle.load(f))"
   ]
  },
  {
   "cell_type": "code",
   "execution_count": 6,
   "id": "9fba03e8-253a-4855-913d-9d710e2602d8",
   "metadata": {},
   "outputs": [],
   "source": [
    "all_probas = []\n",
    "seq = ''\n",
    "\n",
    "for seq_name, probas in model_res.items():\n",
    "    seq += human_utr[seq_name]\n",
    "    all_probas.append(probas)\n",
    "\n",
    "all_probas = np.vstack(all_probas) #Lx4\n",
    "all_probas = np.expand_dims(all_probas,0) # 1xLx4"
   ]
  },
  {
   "cell_type": "code",
   "execution_count": 7,
   "id": "c6fbf853-2673-4643-a400-a1af096e1328",
   "metadata": {},
   "outputs": [],
   "source": [
    "mapping = {'A':0,'C':1,'G':2,'T':3}\n",
    "\n",
    "seq_num = [mapping[base] for base in seq]\n",
    "\n",
    "nb_classes = 4\n",
    "targets = np.array([seq_num]).reshape(-1)\n",
    "seq_one_hot = np.eye(nb_classes)[targets].astype(np.float32) #Lx4\n",
    "seq_one_hot = np.expand_dims(seq_one_hot,0) # 1xLx4"
   ]
  },
  {
   "cell_type": "code",
   "execution_count": 9,
   "id": "2635bbdf-407d-465c-b891-89e387b65894",
   "metadata": {},
   "outputs": [
    {
     "data": {
      "text/plain": [
       "0.23242089"
      ]
     },
     "execution_count": 9,
     "metadata": {},
     "output_type": "execute_result"
    }
   ],
   "source": [
    "np.median(all_probas)"
   ]
  },
  {
   "cell_type": "code",
   "execution_count": 11,
   "id": "42b33697-cbf2-474e-9f6a-93d91f6f1d8f",
   "metadata": {},
   "outputs": [],
   "source": [
    "#all_probas = all_probas*np.log((all_probas+1e-10)/all_probas.mean()) # CAUSES ERROR\n",
    "all_probas = all_probas-all_probas.median()"
   ]
  },
  {
   "cell_type": "code",
   "execution_count": 13,
   "id": "87648c7d-ae09-40df-bba8-daa677aae3b6",
   "metadata": {},
   "outputs": [],
   "source": [
    "#np.save('seq_one_hot.npy', seq_one_hot)\n",
    "#np.save('probas_norm.npy', all_probas)"
   ]
  },
  {
   "cell_type": "code",
   "execution_count": null,
   "id": "a82b2a53-68e5-4531-9dc6-4f899f816a28",
   "metadata": {},
   "outputs": [],
   "source": [
    "pos_patterns, neg_patterns = modiscolite.tfmodisco.TFMoDISco(\n",
    "    hypothetical_contribs=all_probas, \n",
    "    one_hot=seq_one_hot,\n",
    "    max_seqlets_per_metacluster=2000,  # default is 2000\n",
    "    sliding_window_size=8,\n",
    "    flank_size=3,\n",
    "    target_seqlet_fdr=0.05,\n",
    "    n_leiden_runs=3,  # default is 2\n",
    "    verbose=True,\n",
    ")"
   ]
  },
  {
   "cell_type": "code",
   "execution_count": null,
   "id": "1c023121-e7a0-44cc-8fd1-c8f89a9882b0",
   "metadata": {},
   "outputs": [],
   "source": [
    "modiscolite.io.save_hdf5(data_dir + 'modisco/species-aware.h5', pos_patterns, neg_patterns)"
   ]
  }
 ],
 "metadata": {
  "kernelspec": {
   "display_name": "Python 3 (ipykernel)",
   "language": "python",
   "name": "python3"
  },
  "language_info": {
   "codemirror_mode": {
    "name": "ipython",
    "version": 3
   },
   "file_extension": ".py",
   "mimetype": "text/x-python",
   "name": "python",
   "nbconvert_exporter": "python",
   "pygments_lexer": "ipython3",
   "version": "3.10.13"
  }
 },
 "nbformat": 4,
 "nbformat_minor": 5
}

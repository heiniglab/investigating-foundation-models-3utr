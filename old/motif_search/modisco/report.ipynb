{
 "cells": [
  {
   "cell_type": "code",
   "execution_count": 2,
   "id": "ef4b3d5e-a44a-4286-9b8c-0f22e8359047",
   "metadata": {},
   "outputs": [
    {
     "name": "stderr",
     "output_type": "stream",
     "text": [
      "Matplotlib is building the font cache; this may take a moment.\n"
     ]
    }
   ],
   "source": [
    "import os\n",
    "import pickle\n",
    "import h5py\n",
    "import pandas\n",
    "import tempfile\n",
    "\n",
    "import matplotlib\n",
    "\n",
    "\n",
    "from matplotlib import pyplot as plt\n",
    "\n",
    "import pandas as pd\n",
    "import numpy as np\n",
    "\n",
    "import logomaker"
   ]
  },
  {
   "cell_type": "code",
   "execution_count": 3,
   "id": "3d7cf1b9-1f24-44bc-ad76-3fd635b93580",
   "metadata": {},
   "outputs": [],
   "source": [
    "data_dir = '/lustre/groups/epigenereg01/workspace/projects/vale/MLM/motif_predictions/modisco/' "
   ]
  },
  {
   "cell_type": "code",
   "execution_count": 4,
   "id": "d5be2922-0ecb-4a18-9515-c3467f9451fa",
   "metadata": {},
   "outputs": [],
   "source": [
    "def path_to_image_html(path):\n",
    "    return '<img src=\"' + path + '\" width=\"240\" >' if path != \"\" else \"\"\n",
    "\n",
    "\n",
    "def _plot_weights(array, path, figsize=(10, 3), **kwargs):\n",
    "    fig = plt.figure(figsize=figsize)\n",
    "    ax = fig.add_subplot(111)\n",
    "\n",
    "    df = pandas.DataFrame(array, columns=[\"A\", \"C\", \"G\", \"T\"])\n",
    "    df.index.name = \"pos\"\n",
    "\n",
    "    crp_logo = logomaker.Logo(df, ax=ax)\n",
    "    crp_logo.style_spines(visible=False)\n",
    "    plt.ylim(min(df.sum(axis=1).min(), 0), df.sum(axis=1).max())\n",
    "\n",
    "    if path is not None:\n",
    "        matplotlib.use(\"pdf\")\n",
    "        plt.savefig(path)\n",
    "        plt.close()\n",
    "    else:\n",
    "        % matplotlib inline\n",
    "        plt.show()"
   ]
  },
  {
   "cell_type": "code",
   "execution_count": 5,
   "id": "46779187-3812-4b44-9d71-53759b978193",
   "metadata": {},
   "outputs": [],
   "source": [
    "def create_modisco_logos(modisco_file, modisco_logo_dir, trim_threshold):\n",
    "    results = h5py.File(modisco_file, \"r\")\n",
    "    tags = []\n",
    "\n",
    "    for name in [\"pos_patterns\", \"neg_patterns\"]:\n",
    "        if name not in results.keys():\n",
    "            continue\n",
    "\n",
    "        metacluster = results[name]\n",
    "        key = lambda x: int(x[0].split(\"_\")[-1])\n",
    "        for pattern_name, pattern in sorted(metacluster.items(), key=key):\n",
    "            tag = \"{}.{}\".format(name, pattern_name)\n",
    "            tags.append(tag)\n",
    "\n",
    "            # print(pattern.keys())\n",
    "\n",
    "            # print(pattern['contrib_scores'][:].mean(axis=1))\n",
    "            # print(\"*\")\n",
    "            # print(pattern['hypothetical_contribs'][:].mean(axis=1))\n",
    "\n",
    "            # for key in pattern.keys():\n",
    "            # \tprint(key)\n",
    "            # \tprint(pattern[key].shape)\n",
    "            # raise Exception(\"debug\")\n",
    "\n",
    "            # cwm_fwd = np.array(pattern['contrib_scores'][:])\n",
    "\n",
    "            ppm = pattern[\"sequence\"][:]  # empirical frequencies\n",
    "            model_pred = pattern[\"hypothetical_contribs\"][:] + 0.232  # model probs + median\n",
    "\n",
    "            # chosen_distribution = ppm\n",
    "            chosen_distribution = model_pred\n",
    "\n",
    "            try:\n",
    "                cwm_fwd = logomaker.transform_matrix(\n",
    "                    pd.DataFrame(chosen_distribution),\n",
    "                    from_type=\"probability\",\n",
    "                    to_type=\"information\",\n",
    "                ).values\n",
    "                \n",
    "            except:\n",
    "                continue\n",
    "                \n",
    "            cwm_rev = cwm_fwd[::-1, ::-1]\n",
    "\n",
    "            score_fwd = np.sum(np.abs(cwm_fwd), axis=1)\n",
    "            score_rev = np.sum(np.abs(cwm_rev), axis=1)\n",
    "\n",
    "            trim_thresh_fwd = np.max(score_fwd) * trim_threshold\n",
    "            trim_thresh_rev = np.max(score_rev) * trim_threshold\n",
    "\n",
    "            pass_inds_fwd = np.where(score_fwd >= trim_thresh_fwd)[0]\n",
    "            pass_inds_rev = np.where(score_rev >= trim_thresh_rev)[0]\n",
    "\n",
    "            start_fwd, end_fwd = max(np.min(pass_inds_fwd) - 4, 0), min(\n",
    "                np.max(pass_inds_fwd) + 4 + 1, len(score_fwd) + 1\n",
    "            )\n",
    "            start_rev, end_rev = max(np.min(pass_inds_rev) - 4, 0), min(\n",
    "                np.max(pass_inds_rev) + 4 + 1, len(score_rev) + 1\n",
    "            )\n",
    "\n",
    "            trimmed_cwm_fwd = cwm_fwd[start_fwd:end_fwd]\n",
    "            trimmed_cwm_rev = cwm_rev[start_rev:end_rev]\n",
    "\n",
    "            #return trimmed_cwm_fwd\n",
    "\n",
    "            _plot_weights(\n",
    "                trimmed_cwm_fwd, path=\"{}/{}.cwm.fwd.png\".format(modisco_logo_dir, tag)\n",
    "            )\n",
    "            _plot_weights(\n",
    "                trimmed_cwm_rev, path=\"{}/{}.cwm.rev.png\".format(modisco_logo_dir, tag)\n",
    "            )\n",
    "\n",
    "    return tags"
   ]
  },
  {
   "cell_type": "code",
   "execution_count": 9,
   "id": "420f9c40-298c-4531-bff7-aa1e5e1c77f1",
   "metadata": {},
   "outputs": [],
   "source": [
    "output_dir = data_dir + 'species-aware/report-species-aware_'\n",
    "modisco_h5py = data_dir + 'species-aware/species-aware.h5'\n",
    "\n",
    "trim_threshold=1.7"
   ]
  },
  {
   "cell_type": "code",
   "execution_count": 12,
   "id": "9c10999b-57ac-438e-a9da-7d99b244a053",
   "metadata": {},
   "outputs": [
    {
     "name": "stdout",
     "output_type": "stream",
     "text": [
      "in validate_matrix(): Row sums in df are not close to 1. Reormalizing rows...\n"
     ]
    },
    {
     "name": "stderr",
     "output_type": "stream",
     "text": [
      "/home/icb/sergey.vilov/miniconda3/envs/mlm/lib/python3.10/site-packages/logomaker/src/Logo.py:1131: FutureWarning: Setting an item of incompatible dtype is deprecated and will raise in a future error of pandas. Value '<logomaker.src.Glyph.Glyph object at 0x7f7fcd082770>' has dtype incompatible with float64, please explicitly cast to a compatible dtype first.\n",
      "  glyph_df.loc[p, c] = glyph\n",
      "/home/icb/sergey.vilov/miniconda3/envs/mlm/lib/python3.10/site-packages/logomaker/src/Logo.py:1131: FutureWarning: Setting an item of incompatible dtype is deprecated and will raise in a future error of pandas. Value '<logomaker.src.Glyph.Glyph object at 0x7f7fcd081840>' has dtype incompatible with float64, please explicitly cast to a compatible dtype first.\n",
      "  glyph_df.loc[p, c] = glyph\n",
      "/home/icb/sergey.vilov/miniconda3/envs/mlm/lib/python3.10/site-packages/logomaker/src/Logo.py:1131: FutureWarning: Setting an item of incompatible dtype is deprecated and will raise in a future error of pandas. Value '<logomaker.src.Glyph.Glyph object at 0x7f7fcd082080>' has dtype incompatible with float64, please explicitly cast to a compatible dtype first.\n",
      "  glyph_df.loc[p, c] = glyph\n",
      "/home/icb/sergey.vilov/miniconda3/envs/mlm/lib/python3.10/site-packages/logomaker/src/Logo.py:1131: FutureWarning: Setting an item of incompatible dtype is deprecated and will raise in a future error of pandas. Value '<logomaker.src.Glyph.Glyph object at 0x7f7fcd081a50>' has dtype incompatible with float64, please explicitly cast to a compatible dtype first.\n",
      "  glyph_df.loc[p, c] = glyph\n",
      "/home/icb/sergey.vilov/miniconda3/envs/mlm/lib/python3.10/site-packages/logomaker/src/Logo.py:1131: FutureWarning: Setting an item of incompatible dtype is deprecated and will raise in a future error of pandas. Value '<logomaker.src.Glyph.Glyph object at 0x7f7fcd019900>' has dtype incompatible with float64, please explicitly cast to a compatible dtype first.\n",
      "  glyph_df.loc[p, c] = glyph\n",
      "/home/icb/sergey.vilov/miniconda3/envs/mlm/lib/python3.10/site-packages/logomaker/src/Logo.py:1131: FutureWarning: Setting an item of incompatible dtype is deprecated and will raise in a future error of pandas. Value '<logomaker.src.Glyph.Glyph object at 0x7f7fcd0193c0>' has dtype incompatible with float64, please explicitly cast to a compatible dtype first.\n",
      "  glyph_df.loc[p, c] = glyph\n",
      "/home/icb/sergey.vilov/miniconda3/envs/mlm/lib/python3.10/site-packages/logomaker/src/Logo.py:1131: FutureWarning: Setting an item of incompatible dtype is deprecated and will raise in a future error of pandas. Value '<logomaker.src.Glyph.Glyph object at 0x7f7fcd613ee0>' has dtype incompatible with float64, please explicitly cast to a compatible dtype first.\n",
      "  glyph_df.loc[p, c] = glyph\n",
      "/home/icb/sergey.vilov/miniconda3/envs/mlm/lib/python3.10/site-packages/logomaker/src/Logo.py:1131: FutureWarning: Setting an item of incompatible dtype is deprecated and will raise in a future error of pandas. Value '<logomaker.src.Glyph.Glyph object at 0x7f7fcd0192d0>' has dtype incompatible with float64, please explicitly cast to a compatible dtype first.\n",
      "  glyph_df.loc[p, c] = glyph\n"
     ]
    },
    {
     "name": "stdout",
     "output_type": "stream",
     "text": [
      "in validate_matrix(): Row sums in df are not close to 1. Reormalizing rows...\n"
     ]
    },
    {
     "name": "stderr",
     "output_type": "stream",
     "text": [
      "/home/icb/sergey.vilov/miniconda3/envs/mlm/lib/python3.10/site-packages/logomaker/src/Logo.py:1131: FutureWarning: Setting an item of incompatible dtype is deprecated and will raise in a future error of pandas. Value '<logomaker.src.Glyph.Glyph object at 0x7f7fceeffeb0>' has dtype incompatible with float64, please explicitly cast to a compatible dtype first.\n",
      "  glyph_df.loc[p, c] = glyph\n",
      "/home/icb/sergey.vilov/miniconda3/envs/mlm/lib/python3.10/site-packages/logomaker/src/Logo.py:1131: FutureWarning: Setting an item of incompatible dtype is deprecated and will raise in a future error of pandas. Value '<logomaker.src.Glyph.Glyph object at 0x7f7fceda7eb0>' has dtype incompatible with float64, please explicitly cast to a compatible dtype first.\n",
      "  glyph_df.loc[p, c] = glyph\n",
      "/home/icb/sergey.vilov/miniconda3/envs/mlm/lib/python3.10/site-packages/logomaker/src/Logo.py:1131: FutureWarning: Setting an item of incompatible dtype is deprecated and will raise in a future error of pandas. Value '<logomaker.src.Glyph.Glyph object at 0x7f7fceefe560>' has dtype incompatible with float64, please explicitly cast to a compatible dtype first.\n",
      "  glyph_df.loc[p, c] = glyph\n",
      "/home/icb/sergey.vilov/miniconda3/envs/mlm/lib/python3.10/site-packages/logomaker/src/Logo.py:1131: FutureWarning: Setting an item of incompatible dtype is deprecated and will raise in a future error of pandas. Value '<logomaker.src.Glyph.Glyph object at 0x7f7fceeff0a0>' has dtype incompatible with float64, please explicitly cast to a compatible dtype first.\n",
      "  glyph_df.loc[p, c] = glyph\n",
      "/home/icb/sergey.vilov/miniconda3/envs/mlm/lib/python3.10/site-packages/logomaker/src/Logo.py:1131: FutureWarning: Setting an item of incompatible dtype is deprecated and will raise in a future error of pandas. Value '<logomaker.src.Glyph.Glyph object at 0x7f7fceda6020>' has dtype incompatible with float64, please explicitly cast to a compatible dtype first.\n",
      "  glyph_df.loc[p, c] = glyph\n",
      "/home/icb/sergey.vilov/miniconda3/envs/mlm/lib/python3.10/site-packages/logomaker/src/Logo.py:1131: FutureWarning: Setting an item of incompatible dtype is deprecated and will raise in a future error of pandas. Value '<logomaker.src.Glyph.Glyph object at 0x7f7fceda4340>' has dtype incompatible with float64, please explicitly cast to a compatible dtype first.\n",
      "  glyph_df.loc[p, c] = glyph\n",
      "/home/icb/sergey.vilov/miniconda3/envs/mlm/lib/python3.10/site-packages/logomaker/src/Logo.py:1131: FutureWarning: Setting an item of incompatible dtype is deprecated and will raise in a future error of pandas. Value '<logomaker.src.Glyph.Glyph object at 0x7f7fcce96a70>' has dtype incompatible with float64, please explicitly cast to a compatible dtype first.\n",
      "  glyph_df.loc[p, c] = glyph\n",
      "/home/icb/sergey.vilov/miniconda3/envs/mlm/lib/python3.10/site-packages/logomaker/src/Logo.py:1131: FutureWarning: Setting an item of incompatible dtype is deprecated and will raise in a future error of pandas. Value '<logomaker.src.Glyph.Glyph object at 0x7f7fceda5d20>' has dtype incompatible with float64, please explicitly cast to a compatible dtype first.\n",
      "  glyph_df.loc[p, c] = glyph\n"
     ]
    },
    {
     "name": "stdout",
     "output_type": "stream",
     "text": [
      "in validate_matrix(): Row sums in df are not close to 1. Reormalizing rows...\n"
     ]
    },
    {
     "name": "stderr",
     "output_type": "stream",
     "text": [
      "/home/icb/sergey.vilov/miniconda3/envs/mlm/lib/python3.10/site-packages/logomaker/src/Logo.py:1131: FutureWarning: Setting an item of incompatible dtype is deprecated and will raise in a future error of pandas. Value '<logomaker.src.Glyph.Glyph object at 0x7f7fcd12ebc0>' has dtype incompatible with float64, please explicitly cast to a compatible dtype first.\n",
      "  glyph_df.loc[p, c] = glyph\n",
      "/home/icb/sergey.vilov/miniconda3/envs/mlm/lib/python3.10/site-packages/logomaker/src/Logo.py:1131: FutureWarning: Setting an item of incompatible dtype is deprecated and will raise in a future error of pandas. Value '<logomaker.src.Glyph.Glyph object at 0x7f7fcd12ddb0>' has dtype incompatible with float64, please explicitly cast to a compatible dtype first.\n",
      "  glyph_df.loc[p, c] = glyph\n",
      "/home/icb/sergey.vilov/miniconda3/envs/mlm/lib/python3.10/site-packages/logomaker/src/Logo.py:1131: FutureWarning: Setting an item of incompatible dtype is deprecated and will raise in a future error of pandas. Value '<logomaker.src.Glyph.Glyph object at 0x7f7fcd12ed70>' has dtype incompatible with float64, please explicitly cast to a compatible dtype first.\n",
      "  glyph_df.loc[p, c] = glyph\n",
      "/home/icb/sergey.vilov/miniconda3/envs/mlm/lib/python3.10/site-packages/logomaker/src/Logo.py:1131: FutureWarning: Setting an item of incompatible dtype is deprecated and will raise in a future error of pandas. Value '<logomaker.src.Glyph.Glyph object at 0x7f7fcd12f8e0>' has dtype incompatible with float64, please explicitly cast to a compatible dtype first.\n",
      "  glyph_df.loc[p, c] = glyph\n",
      "/home/icb/sergey.vilov/miniconda3/envs/mlm/lib/python3.10/site-packages/logomaker/src/Logo.py:1131: FutureWarning: Setting an item of incompatible dtype is deprecated and will raise in a future error of pandas. Value '<logomaker.src.Glyph.Glyph object at 0x7f7fcd4e2dd0>' has dtype incompatible with float64, please explicitly cast to a compatible dtype first.\n",
      "  glyph_df.loc[p, c] = glyph\n",
      "/home/icb/sergey.vilov/miniconda3/envs/mlm/lib/python3.10/site-packages/logomaker/src/Logo.py:1131: FutureWarning: Setting an item of incompatible dtype is deprecated and will raise in a future error of pandas. Value '<logomaker.src.Glyph.Glyph object at 0x7f7fcd54a7a0>' has dtype incompatible with float64, please explicitly cast to a compatible dtype first.\n",
      "  glyph_df.loc[p, c] = glyph\n",
      "/home/icb/sergey.vilov/miniconda3/envs/mlm/lib/python3.10/site-packages/logomaker/src/Logo.py:1131: FutureWarning: Setting an item of incompatible dtype is deprecated and will raise in a future error of pandas. Value '<logomaker.src.Glyph.Glyph object at 0x7f7fce291ea0>' has dtype incompatible with float64, please explicitly cast to a compatible dtype first.\n",
      "  glyph_df.loc[p, c] = glyph\n",
      "/home/icb/sergey.vilov/miniconda3/envs/mlm/lib/python3.10/site-packages/logomaker/src/Logo.py:1131: FutureWarning: Setting an item of incompatible dtype is deprecated and will raise in a future error of pandas. Value '<logomaker.src.Glyph.Glyph object at 0x7f7fce293370>' has dtype incompatible with float64, please explicitly cast to a compatible dtype first.\n",
      "  glyph_df.loc[p, c] = glyph\n"
     ]
    },
    {
     "name": "stdout",
     "output_type": "stream",
     "text": [
      "in validate_matrix(): Row sums in df are not close to 1. Reormalizing rows...\n"
     ]
    },
    {
     "name": "stderr",
     "output_type": "stream",
     "text": [
      "/home/icb/sergey.vilov/miniconda3/envs/mlm/lib/python3.10/site-packages/logomaker/src/Logo.py:1131: FutureWarning: Setting an item of incompatible dtype is deprecated and will raise in a future error of pandas. Value '<logomaker.src.Glyph.Glyph object at 0x7f7fcdfc9e70>' has dtype incompatible with float64, please explicitly cast to a compatible dtype first.\n",
      "  glyph_df.loc[p, c] = glyph\n",
      "/home/icb/sergey.vilov/miniconda3/envs/mlm/lib/python3.10/site-packages/logomaker/src/Logo.py:1131: FutureWarning: Setting an item of incompatible dtype is deprecated and will raise in a future error of pandas. Value '<logomaker.src.Glyph.Glyph object at 0x7f7fcdfc95d0>' has dtype incompatible with float64, please explicitly cast to a compatible dtype first.\n",
      "  glyph_df.loc[p, c] = glyph\n",
      "/home/icb/sergey.vilov/miniconda3/envs/mlm/lib/python3.10/site-packages/logomaker/src/Logo.py:1131: FutureWarning: Setting an item of incompatible dtype is deprecated and will raise in a future error of pandas. Value '<logomaker.src.Glyph.Glyph object at 0x7f7fcdfc98d0>' has dtype incompatible with float64, please explicitly cast to a compatible dtype first.\n",
      "  glyph_df.loc[p, c] = glyph\n",
      "/home/icb/sergey.vilov/miniconda3/envs/mlm/lib/python3.10/site-packages/logomaker/src/Logo.py:1131: FutureWarning: Setting an item of incompatible dtype is deprecated and will raise in a future error of pandas. Value '<logomaker.src.Glyph.Glyph object at 0x7f7fcdfc9db0>' has dtype incompatible with float64, please explicitly cast to a compatible dtype first.\n",
      "  glyph_df.loc[p, c] = glyph\n",
      "/home/icb/sergey.vilov/miniconda3/envs/mlm/lib/python3.10/site-packages/logomaker/src/Logo.py:1131: FutureWarning: Setting an item of incompatible dtype is deprecated and will raise in a future error of pandas. Value '<logomaker.src.Glyph.Glyph object at 0x7f7fcd688460>' has dtype incompatible with float64, please explicitly cast to a compatible dtype first.\n",
      "  glyph_df.loc[p, c] = glyph\n",
      "/home/icb/sergey.vilov/miniconda3/envs/mlm/lib/python3.10/site-packages/logomaker/src/Logo.py:1131: FutureWarning: Setting an item of incompatible dtype is deprecated and will raise in a future error of pandas. Value '<logomaker.src.Glyph.Glyph object at 0x7f7fcd688c10>' has dtype incompatible with float64, please explicitly cast to a compatible dtype first.\n",
      "  glyph_df.loc[p, c] = glyph\n",
      "/home/icb/sergey.vilov/miniconda3/envs/mlm/lib/python3.10/site-packages/logomaker/src/Logo.py:1131: FutureWarning: Setting an item of incompatible dtype is deprecated and will raise in a future error of pandas. Value '<logomaker.src.Glyph.Glyph object at 0x7f7fcd68b700>' has dtype incompatible with float64, please explicitly cast to a compatible dtype first.\n",
      "  glyph_df.loc[p, c] = glyph\n",
      "/home/icb/sergey.vilov/miniconda3/envs/mlm/lib/python3.10/site-packages/logomaker/src/Logo.py:1131: FutureWarning: Setting an item of incompatible dtype is deprecated and will raise in a future error of pandas. Value '<logomaker.src.Glyph.Glyph object at 0x7f7fcd689870>' has dtype incompatible with float64, please explicitly cast to a compatible dtype first.\n",
      "  glyph_df.loc[p, c] = glyph\n"
     ]
    },
    {
     "name": "stdout",
     "output_type": "stream",
     "text": [
      "in validate_matrix(): Row sums in df are not close to 1. Reormalizing rows...\n"
     ]
    },
    {
     "name": "stderr",
     "output_type": "stream",
     "text": [
      "/home/icb/sergey.vilov/miniconda3/envs/mlm/lib/python3.10/site-packages/logomaker/src/Logo.py:1131: FutureWarning: Setting an item of incompatible dtype is deprecated and will raise in a future error of pandas. Value '<logomaker.src.Glyph.Glyph object at 0x7f7fcd58beb0>' has dtype incompatible with float64, please explicitly cast to a compatible dtype first.\n",
      "  glyph_df.loc[p, c] = glyph\n",
      "/home/icb/sergey.vilov/miniconda3/envs/mlm/lib/python3.10/site-packages/logomaker/src/Logo.py:1131: FutureWarning: Setting an item of incompatible dtype is deprecated and will raise in a future error of pandas. Value '<logomaker.src.Glyph.Glyph object at 0x7f7fcd58b190>' has dtype incompatible with float64, please explicitly cast to a compatible dtype first.\n",
      "  glyph_df.loc[p, c] = glyph\n",
      "/home/icb/sergey.vilov/miniconda3/envs/mlm/lib/python3.10/site-packages/logomaker/src/Logo.py:1131: FutureWarning: Setting an item of incompatible dtype is deprecated and will raise in a future error of pandas. Value '<logomaker.src.Glyph.Glyph object at 0x7f7fcd58a350>' has dtype incompatible with float64, please explicitly cast to a compatible dtype first.\n",
      "  glyph_df.loc[p, c] = glyph\n",
      "/home/icb/sergey.vilov/miniconda3/envs/mlm/lib/python3.10/site-packages/logomaker/src/Logo.py:1131: FutureWarning: Setting an item of incompatible dtype is deprecated and will raise in a future error of pandas. Value '<logomaker.src.Glyph.Glyph object at 0x7f7fcd58b070>' has dtype incompatible with float64, please explicitly cast to a compatible dtype first.\n",
      "  glyph_df.loc[p, c] = glyph\n",
      "/home/icb/sergey.vilov/miniconda3/envs/mlm/lib/python3.10/site-packages/logomaker/src/Logo.py:1131: FutureWarning: Setting an item of incompatible dtype is deprecated and will raise in a future error of pandas. Value '<logomaker.src.Glyph.Glyph object at 0x7f7fcd512140>' has dtype incompatible with float64, please explicitly cast to a compatible dtype first.\n",
      "  glyph_df.loc[p, c] = glyph\n",
      "/home/icb/sergey.vilov/miniconda3/envs/mlm/lib/python3.10/site-packages/logomaker/src/Logo.py:1131: FutureWarning: Setting an item of incompatible dtype is deprecated and will raise in a future error of pandas. Value '<logomaker.src.Glyph.Glyph object at 0x7f7fcd4646d0>' has dtype incompatible with float64, please explicitly cast to a compatible dtype first.\n",
      "  glyph_df.loc[p, c] = glyph\n",
      "/home/icb/sergey.vilov/miniconda3/envs/mlm/lib/python3.10/site-packages/logomaker/src/Logo.py:1131: FutureWarning: Setting an item of incompatible dtype is deprecated and will raise in a future error of pandas. Value '<logomaker.src.Glyph.Glyph object at 0x7f7fcd56a8f0>' has dtype incompatible with float64, please explicitly cast to a compatible dtype first.\n",
      "  glyph_df.loc[p, c] = glyph\n",
      "/home/icb/sergey.vilov/miniconda3/envs/mlm/lib/python3.10/site-packages/logomaker/src/Logo.py:1131: FutureWarning: Setting an item of incompatible dtype is deprecated and will raise in a future error of pandas. Value '<logomaker.src.Glyph.Glyph object at 0x7f7fcd56bca0>' has dtype incompatible with float64, please explicitly cast to a compatible dtype first.\n",
      "  glyph_df.loc[p, c] = glyph\n"
     ]
    },
    {
     "name": "stdout",
     "output_type": "stream",
     "text": [
      "in validate_matrix(): Row sums in df are not close to 1. Reormalizing rows...\n"
     ]
    },
    {
     "name": "stderr",
     "output_type": "stream",
     "text": [
      "/home/icb/sergey.vilov/miniconda3/envs/mlm/lib/python3.10/site-packages/logomaker/src/Logo.py:1131: FutureWarning: Setting an item of incompatible dtype is deprecated and will raise in a future error of pandas. Value '<logomaker.src.Glyph.Glyph object at 0x7f7fcd4cedd0>' has dtype incompatible with float64, please explicitly cast to a compatible dtype first.\n",
      "  glyph_df.loc[p, c] = glyph\n",
      "/home/icb/sergey.vilov/miniconda3/envs/mlm/lib/python3.10/site-packages/logomaker/src/Logo.py:1131: FutureWarning: Setting an item of incompatible dtype is deprecated and will raise in a future error of pandas. Value '<logomaker.src.Glyph.Glyph object at 0x7f7fcd4cead0>' has dtype incompatible with float64, please explicitly cast to a compatible dtype first.\n",
      "  glyph_df.loc[p, c] = glyph\n",
      "/home/icb/sergey.vilov/miniconda3/envs/mlm/lib/python3.10/site-packages/logomaker/src/Logo.py:1131: FutureWarning: Setting an item of incompatible dtype is deprecated and will raise in a future error of pandas. Value '<logomaker.src.Glyph.Glyph object at 0x7f7fcd4cdf60>' has dtype incompatible with float64, please explicitly cast to a compatible dtype first.\n",
      "  glyph_df.loc[p, c] = glyph\n",
      "/home/icb/sergey.vilov/miniconda3/envs/mlm/lib/python3.10/site-packages/logomaker/src/Logo.py:1131: FutureWarning: Setting an item of incompatible dtype is deprecated and will raise in a future error of pandas. Value '<logomaker.src.Glyph.Glyph object at 0x7f7fcd4cfe50>' has dtype incompatible with float64, please explicitly cast to a compatible dtype first.\n",
      "  glyph_df.loc[p, c] = glyph\n",
      "/home/icb/sergey.vilov/miniconda3/envs/mlm/lib/python3.10/site-packages/logomaker/src/Logo.py:1131: FutureWarning: Setting an item of incompatible dtype is deprecated and will raise in a future error of pandas. Value '<logomaker.src.Glyph.Glyph object at 0x7f7fcd162cb0>' has dtype incompatible with float64, please explicitly cast to a compatible dtype first.\n",
      "  glyph_df.loc[p, c] = glyph\n",
      "/home/icb/sergey.vilov/miniconda3/envs/mlm/lib/python3.10/site-packages/logomaker/src/Logo.py:1131: FutureWarning: Setting an item of incompatible dtype is deprecated and will raise in a future error of pandas. Value '<logomaker.src.Glyph.Glyph object at 0x7f7fcd1630a0>' has dtype incompatible with float64, please explicitly cast to a compatible dtype first.\n",
      "  glyph_df.loc[p, c] = glyph\n",
      "/home/icb/sergey.vilov/miniconda3/envs/mlm/lib/python3.10/site-packages/logomaker/src/Logo.py:1131: FutureWarning: Setting an item of incompatible dtype is deprecated and will raise in a future error of pandas. Value '<logomaker.src.Glyph.Glyph object at 0x7f7fcd163fa0>' has dtype incompatible with float64, please explicitly cast to a compatible dtype first.\n",
      "  glyph_df.loc[p, c] = glyph\n",
      "/home/icb/sergey.vilov/miniconda3/envs/mlm/lib/python3.10/site-packages/logomaker/src/Logo.py:1131: FutureWarning: Setting an item of incompatible dtype is deprecated and will raise in a future error of pandas. Value '<logomaker.src.Glyph.Glyph object at 0x7f7fcd163d60>' has dtype incompatible with float64, please explicitly cast to a compatible dtype first.\n",
      "  glyph_df.loc[p, c] = glyph\n"
     ]
    },
    {
     "name": "stdout",
     "output_type": "stream",
     "text": [
      "in validate_matrix(): Row sums in df are not close to 1. Reormalizing rows...\n"
     ]
    },
    {
     "name": "stderr",
     "output_type": "stream",
     "text": [
      "/home/icb/sergey.vilov/miniconda3/envs/mlm/lib/python3.10/site-packages/logomaker/src/Logo.py:1131: FutureWarning: Setting an item of incompatible dtype is deprecated and will raise in a future error of pandas. Value '<logomaker.src.Glyph.Glyph object at 0x7f7fcd3a6ad0>' has dtype incompatible with float64, please explicitly cast to a compatible dtype first.\n",
      "  glyph_df.loc[p, c] = glyph\n",
      "/home/icb/sergey.vilov/miniconda3/envs/mlm/lib/python3.10/site-packages/logomaker/src/Logo.py:1131: FutureWarning: Setting an item of incompatible dtype is deprecated and will raise in a future error of pandas. Value '<logomaker.src.Glyph.Glyph object at 0x7f7fcd3a4cd0>' has dtype incompatible with float64, please explicitly cast to a compatible dtype first.\n",
      "  glyph_df.loc[p, c] = glyph\n",
      "/home/icb/sergey.vilov/miniconda3/envs/mlm/lib/python3.10/site-packages/logomaker/src/Logo.py:1131: FutureWarning: Setting an item of incompatible dtype is deprecated and will raise in a future error of pandas. Value '<logomaker.src.Glyph.Glyph object at 0x7f7fcd3a5900>' has dtype incompatible with float64, please explicitly cast to a compatible dtype first.\n",
      "  glyph_df.loc[p, c] = glyph\n",
      "/home/icb/sergey.vilov/miniconda3/envs/mlm/lib/python3.10/site-packages/logomaker/src/Logo.py:1131: FutureWarning: Setting an item of incompatible dtype is deprecated and will raise in a future error of pandas. Value '<logomaker.src.Glyph.Glyph object at 0x7f7fcd3a6b30>' has dtype incompatible with float64, please explicitly cast to a compatible dtype first.\n",
      "  glyph_df.loc[p, c] = glyph\n",
      "/home/icb/sergey.vilov/miniconda3/envs/mlm/lib/python3.10/site-packages/logomaker/src/Logo.py:1131: FutureWarning: Setting an item of incompatible dtype is deprecated and will raise in a future error of pandas. Value '<logomaker.src.Glyph.Glyph object at 0x7f7fcd2c4e20>' has dtype incompatible with float64, please explicitly cast to a compatible dtype first.\n",
      "  glyph_df.loc[p, c] = glyph\n",
      "/home/icb/sergey.vilov/miniconda3/envs/mlm/lib/python3.10/site-packages/logomaker/src/Logo.py:1131: FutureWarning: Setting an item of incompatible dtype is deprecated and will raise in a future error of pandas. Value '<logomaker.src.Glyph.Glyph object at 0x7f7fcd2c4610>' has dtype incompatible with float64, please explicitly cast to a compatible dtype first.\n",
      "  glyph_df.loc[p, c] = glyph\n",
      "/home/icb/sergey.vilov/miniconda3/envs/mlm/lib/python3.10/site-packages/logomaker/src/Logo.py:1131: FutureWarning: Setting an item of incompatible dtype is deprecated and will raise in a future error of pandas. Value '<logomaker.src.Glyph.Glyph object at 0x7f7fcd2c4790>' has dtype incompatible with float64, please explicitly cast to a compatible dtype first.\n",
      "  glyph_df.loc[p, c] = glyph\n",
      "/home/icb/sergey.vilov/miniconda3/envs/mlm/lib/python3.10/site-packages/logomaker/src/Logo.py:1131: FutureWarning: Setting an item of incompatible dtype is deprecated and will raise in a future error of pandas. Value '<logomaker.src.Glyph.Glyph object at 0x7f7fcd2c48b0>' has dtype incompatible with float64, please explicitly cast to a compatible dtype first.\n",
      "  glyph_df.loc[p, c] = glyph\n"
     ]
    },
    {
     "name": "stdout",
     "output_type": "stream",
     "text": [
      "in validate_matrix(): Row sums in df are not close to 1. Reormalizing rows...\n"
     ]
    },
    {
     "name": "stderr",
     "output_type": "stream",
     "text": [
      "/home/icb/sergey.vilov/miniconda3/envs/mlm/lib/python3.10/site-packages/logomaker/src/Logo.py:1131: FutureWarning: Setting an item of incompatible dtype is deprecated and will raise in a future error of pandas. Value '<logomaker.src.Glyph.Glyph object at 0x7f7fcd253e50>' has dtype incompatible with float64, please explicitly cast to a compatible dtype first.\n",
      "  glyph_df.loc[p, c] = glyph\n",
      "/home/icb/sergey.vilov/miniconda3/envs/mlm/lib/python3.10/site-packages/logomaker/src/Logo.py:1131: FutureWarning: Setting an item of incompatible dtype is deprecated and will raise in a future error of pandas. Value '<logomaker.src.Glyph.Glyph object at 0x7f7fcd253580>' has dtype incompatible with float64, please explicitly cast to a compatible dtype first.\n",
      "  glyph_df.loc[p, c] = glyph\n",
      "/home/icb/sergey.vilov/miniconda3/envs/mlm/lib/python3.10/site-packages/logomaker/src/Logo.py:1131: FutureWarning: Setting an item of incompatible dtype is deprecated and will raise in a future error of pandas. Value '<logomaker.src.Glyph.Glyph object at 0x7f7fcd253ca0>' has dtype incompatible with float64, please explicitly cast to a compatible dtype first.\n",
      "  glyph_df.loc[p, c] = glyph\n",
      "/home/icb/sergey.vilov/miniconda3/envs/mlm/lib/python3.10/site-packages/logomaker/src/Logo.py:1131: FutureWarning: Setting an item of incompatible dtype is deprecated and will raise in a future error of pandas. Value '<logomaker.src.Glyph.Glyph object at 0x7f7fcd252560>' has dtype incompatible with float64, please explicitly cast to a compatible dtype first.\n",
      "  glyph_df.loc[p, c] = glyph\n",
      "/home/icb/sergey.vilov/miniconda3/envs/mlm/lib/python3.10/site-packages/logomaker/src/Logo.py:1131: FutureWarning: Setting an item of incompatible dtype is deprecated and will raise in a future error of pandas. Value '<logomaker.src.Glyph.Glyph object at 0x7f7fcd174a90>' has dtype incompatible with float64, please explicitly cast to a compatible dtype first.\n",
      "  glyph_df.loc[p, c] = glyph\n",
      "/home/icb/sergey.vilov/miniconda3/envs/mlm/lib/python3.10/site-packages/logomaker/src/Logo.py:1131: FutureWarning: Setting an item of incompatible dtype is deprecated and will raise in a future error of pandas. Value '<logomaker.src.Glyph.Glyph object at 0x7f7fcd177e80>' has dtype incompatible with float64, please explicitly cast to a compatible dtype first.\n",
      "  glyph_df.loc[p, c] = glyph\n",
      "/home/icb/sergey.vilov/miniconda3/envs/mlm/lib/python3.10/site-packages/logomaker/src/Logo.py:1131: FutureWarning: Setting an item of incompatible dtype is deprecated and will raise in a future error of pandas. Value '<logomaker.src.Glyph.Glyph object at 0x7f7fcd1774f0>' has dtype incompatible with float64, please explicitly cast to a compatible dtype first.\n",
      "  glyph_df.loc[p, c] = glyph\n",
      "/home/icb/sergey.vilov/miniconda3/envs/mlm/lib/python3.10/site-packages/logomaker/src/Logo.py:1131: FutureWarning: Setting an item of incompatible dtype is deprecated and will raise in a future error of pandas. Value '<logomaker.src.Glyph.Glyph object at 0x7f7fcd176260>' has dtype incompatible with float64, please explicitly cast to a compatible dtype first.\n",
      "  glyph_df.loc[p, c] = glyph\n"
     ]
    },
    {
     "name": "stdout",
     "output_type": "stream",
     "text": [
      "in validate_matrix(): Row sums in df are not close to 1. Reormalizing rows...\n"
     ]
    },
    {
     "name": "stderr",
     "output_type": "stream",
     "text": [
      "/home/icb/sergey.vilov/miniconda3/envs/mlm/lib/python3.10/site-packages/logomaker/src/Logo.py:1131: FutureWarning: Setting an item of incompatible dtype is deprecated and will raise in a future error of pandas. Value '<logomaker.src.Glyph.Glyph object at 0x7f7fcd494340>' has dtype incompatible with float64, please explicitly cast to a compatible dtype first.\n",
      "  glyph_df.loc[p, c] = glyph\n",
      "/home/icb/sergey.vilov/miniconda3/envs/mlm/lib/python3.10/site-packages/logomaker/src/Logo.py:1131: FutureWarning: Setting an item of incompatible dtype is deprecated and will raise in a future error of pandas. Value '<logomaker.src.Glyph.Glyph object at 0x7f7fcd495450>' has dtype incompatible with float64, please explicitly cast to a compatible dtype first.\n",
      "  glyph_df.loc[p, c] = glyph\n",
      "/home/icb/sergey.vilov/miniconda3/envs/mlm/lib/python3.10/site-packages/logomaker/src/Logo.py:1131: FutureWarning: Setting an item of incompatible dtype is deprecated and will raise in a future error of pandas. Value '<logomaker.src.Glyph.Glyph object at 0x7f7fcd497310>' has dtype incompatible with float64, please explicitly cast to a compatible dtype first.\n",
      "  glyph_df.loc[p, c] = glyph\n",
      "/home/icb/sergey.vilov/miniconda3/envs/mlm/lib/python3.10/site-packages/logomaker/src/Logo.py:1131: FutureWarning: Setting an item of incompatible dtype is deprecated and will raise in a future error of pandas. Value '<logomaker.src.Glyph.Glyph object at 0x7f7fcd495690>' has dtype incompatible with float64, please explicitly cast to a compatible dtype first.\n",
      "  glyph_df.loc[p, c] = glyph\n",
      "/home/icb/sergey.vilov/miniconda3/envs/mlm/lib/python3.10/site-packages/logomaker/src/Logo.py:1131: FutureWarning: Setting an item of incompatible dtype is deprecated and will raise in a future error of pandas. Value '<logomaker.src.Glyph.Glyph object at 0x7f7fcd4cfd60>' has dtype incompatible with float64, please explicitly cast to a compatible dtype first.\n",
      "  glyph_df.loc[p, c] = glyph\n",
      "/home/icb/sergey.vilov/miniconda3/envs/mlm/lib/python3.10/site-packages/logomaker/src/Logo.py:1131: FutureWarning: Setting an item of incompatible dtype is deprecated and will raise in a future error of pandas. Value '<logomaker.src.Glyph.Glyph object at 0x7f7fcd4cf3a0>' has dtype incompatible with float64, please explicitly cast to a compatible dtype first.\n",
      "  glyph_df.loc[p, c] = glyph\n",
      "/home/icb/sergey.vilov/miniconda3/envs/mlm/lib/python3.10/site-packages/logomaker/src/Logo.py:1131: FutureWarning: Setting an item of incompatible dtype is deprecated and will raise in a future error of pandas. Value '<logomaker.src.Glyph.Glyph object at 0x7f7fcd4cf820>' has dtype incompatible with float64, please explicitly cast to a compatible dtype first.\n",
      "  glyph_df.loc[p, c] = glyph\n",
      "/home/icb/sergey.vilov/miniconda3/envs/mlm/lib/python3.10/site-packages/logomaker/src/Logo.py:1131: FutureWarning: Setting an item of incompatible dtype is deprecated and will raise in a future error of pandas. Value '<logomaker.src.Glyph.Glyph object at 0x7f7fcd4ccdc0>' has dtype incompatible with float64, please explicitly cast to a compatible dtype first.\n",
      "  glyph_df.loc[p, c] = glyph\n"
     ]
    },
    {
     "name": "stdout",
     "output_type": "stream",
     "text": [
      "in validate_matrix(): Row sums in df are not close to 1. Reormalizing rows...\n"
     ]
    },
    {
     "name": "stderr",
     "output_type": "stream",
     "text": [
      "/home/icb/sergey.vilov/miniconda3/envs/mlm/lib/python3.10/site-packages/logomaker/src/Logo.py:1131: FutureWarning: Setting an item of incompatible dtype is deprecated and will raise in a future error of pandas. Value '<logomaker.src.Glyph.Glyph object at 0x7f7fcd5a7b80>' has dtype incompatible with float64, please explicitly cast to a compatible dtype first.\n",
      "  glyph_df.loc[p, c] = glyph\n",
      "/home/icb/sergey.vilov/miniconda3/envs/mlm/lib/python3.10/site-packages/logomaker/src/Logo.py:1131: FutureWarning: Setting an item of incompatible dtype is deprecated and will raise in a future error of pandas. Value '<logomaker.src.Glyph.Glyph object at 0x7f7fcd5a5b10>' has dtype incompatible with float64, please explicitly cast to a compatible dtype first.\n",
      "  glyph_df.loc[p, c] = glyph\n",
      "/home/icb/sergey.vilov/miniconda3/envs/mlm/lib/python3.10/site-packages/logomaker/src/Logo.py:1131: FutureWarning: Setting an item of incompatible dtype is deprecated and will raise in a future error of pandas. Value '<logomaker.src.Glyph.Glyph object at 0x7f7fcd5a5e10>' has dtype incompatible with float64, please explicitly cast to a compatible dtype first.\n",
      "  glyph_df.loc[p, c] = glyph\n",
      "/home/icb/sergey.vilov/miniconda3/envs/mlm/lib/python3.10/site-packages/logomaker/src/Logo.py:1131: FutureWarning: Setting an item of incompatible dtype is deprecated and will raise in a future error of pandas. Value '<logomaker.src.Glyph.Glyph object at 0x7f7fcd5a5840>' has dtype incompatible with float64, please explicitly cast to a compatible dtype first.\n",
      "  glyph_df.loc[p, c] = glyph\n",
      "/home/icb/sergey.vilov/miniconda3/envs/mlm/lib/python3.10/site-packages/logomaker/src/Logo.py:1131: FutureWarning: Setting an item of incompatible dtype is deprecated and will raise in a future error of pandas. Value '<logomaker.src.Glyph.Glyph object at 0x7f7fce107730>' has dtype incompatible with float64, please explicitly cast to a compatible dtype first.\n",
      "  glyph_df.loc[p, c] = glyph\n",
      "/home/icb/sergey.vilov/miniconda3/envs/mlm/lib/python3.10/site-packages/logomaker/src/Logo.py:1131: FutureWarning: Setting an item of incompatible dtype is deprecated and will raise in a future error of pandas. Value '<logomaker.src.Glyph.Glyph object at 0x7f7fce107490>' has dtype incompatible with float64, please explicitly cast to a compatible dtype first.\n",
      "  glyph_df.loc[p, c] = glyph\n",
      "/home/icb/sergey.vilov/miniconda3/envs/mlm/lib/python3.10/site-packages/logomaker/src/Logo.py:1131: FutureWarning: Setting an item of incompatible dtype is deprecated and will raise in a future error of pandas. Value '<logomaker.src.Glyph.Glyph object at 0x7f7fce105210>' has dtype incompatible with float64, please explicitly cast to a compatible dtype first.\n",
      "  glyph_df.loc[p, c] = glyph\n",
      "/home/icb/sergey.vilov/miniconda3/envs/mlm/lib/python3.10/site-packages/logomaker/src/Logo.py:1131: FutureWarning: Setting an item of incompatible dtype is deprecated and will raise in a future error of pandas. Value '<logomaker.src.Glyph.Glyph object at 0x7f7fce106d10>' has dtype incompatible with float64, please explicitly cast to a compatible dtype first.\n",
      "  glyph_df.loc[p, c] = glyph\n"
     ]
    },
    {
     "name": "stdout",
     "output_type": "stream",
     "text": [
      "in validate_matrix(): Row sums in df are not close to 1. Reormalizing rows...\n"
     ]
    },
    {
     "name": "stderr",
     "output_type": "stream",
     "text": [
      "/home/icb/sergey.vilov/miniconda3/envs/mlm/lib/python3.10/site-packages/logomaker/src/Logo.py:1131: FutureWarning: Setting an item of incompatible dtype is deprecated and will raise in a future error of pandas. Value '<logomaker.src.Glyph.Glyph object at 0x7f7fcd688760>' has dtype incompatible with float64, please explicitly cast to a compatible dtype first.\n",
      "  glyph_df.loc[p, c] = glyph\n",
      "/home/icb/sergey.vilov/miniconda3/envs/mlm/lib/python3.10/site-packages/logomaker/src/Logo.py:1131: FutureWarning: Setting an item of incompatible dtype is deprecated and will raise in a future error of pandas. Value '<logomaker.src.Glyph.Glyph object at 0x7f7fcd68bdc0>' has dtype incompatible with float64, please explicitly cast to a compatible dtype first.\n",
      "  glyph_df.loc[p, c] = glyph\n",
      "/home/icb/sergey.vilov/miniconda3/envs/mlm/lib/python3.10/site-packages/logomaker/src/Logo.py:1131: FutureWarning: Setting an item of incompatible dtype is deprecated and will raise in a future error of pandas. Value '<logomaker.src.Glyph.Glyph object at 0x7f7fcd6885e0>' has dtype incompatible with float64, please explicitly cast to a compatible dtype first.\n",
      "  glyph_df.loc[p, c] = glyph\n",
      "/home/icb/sergey.vilov/miniconda3/envs/mlm/lib/python3.10/site-packages/logomaker/src/Logo.py:1131: FutureWarning: Setting an item of incompatible dtype is deprecated and will raise in a future error of pandas. Value '<logomaker.src.Glyph.Glyph object at 0x7f7fcd688880>' has dtype incompatible with float64, please explicitly cast to a compatible dtype first.\n",
      "  glyph_df.loc[p, c] = glyph\n",
      "/home/icb/sergey.vilov/miniconda3/envs/mlm/lib/python3.10/site-packages/logomaker/src/Logo.py:1131: FutureWarning: Setting an item of incompatible dtype is deprecated and will raise in a future error of pandas. Value '<logomaker.src.Glyph.Glyph object at 0x7f7fcdfca5f0>' has dtype incompatible with float64, please explicitly cast to a compatible dtype first.\n",
      "  glyph_df.loc[p, c] = glyph\n",
      "/home/icb/sergey.vilov/miniconda3/envs/mlm/lib/python3.10/site-packages/logomaker/src/Logo.py:1131: FutureWarning: Setting an item of incompatible dtype is deprecated and will raise in a future error of pandas. Value '<logomaker.src.Glyph.Glyph object at 0x7f7fcdfcbd90>' has dtype incompatible with float64, please explicitly cast to a compatible dtype first.\n",
      "  glyph_df.loc[p, c] = glyph\n",
      "/home/icb/sergey.vilov/miniconda3/envs/mlm/lib/python3.10/site-packages/logomaker/src/Logo.py:1131: FutureWarning: Setting an item of incompatible dtype is deprecated and will raise in a future error of pandas. Value '<logomaker.src.Glyph.Glyph object at 0x7f7fcdfc8c70>' has dtype incompatible with float64, please explicitly cast to a compatible dtype first.\n",
      "  glyph_df.loc[p, c] = glyph\n",
      "/home/icb/sergey.vilov/miniconda3/envs/mlm/lib/python3.10/site-packages/logomaker/src/Logo.py:1131: FutureWarning: Setting an item of incompatible dtype is deprecated and will raise in a future error of pandas. Value '<logomaker.src.Glyph.Glyph object at 0x7f7fcdfcb730>' has dtype incompatible with float64, please explicitly cast to a compatible dtype first.\n",
      "  glyph_df.loc[p, c] = glyph\n"
     ]
    }
   ],
   "source": [
    "if not os.path.isdir(output_dir):\n",
    "    os.mkdir(output_dir)\n",
    "\n",
    "if not os.path.isdir(output_dir + \"/trimmed_logos/\"):\n",
    "    os.mkdir(output_dir + \"/trimmed_logos/\")\n",
    "modisco_logo_dir = output_dir + \"/trimmed_logos/\"\n",
    "\n",
    "motifs = create_modisco_logos(modisco_h5py, modisco_logo_dir, 1)\n"
   ]
  },
  {
   "cell_type": "code",
   "execution_count": 8,
   "id": "1adee9c0-ada2-4865-84f3-73ec953aca00",
   "metadata": {},
   "outputs": [
    {
     "name": "stdout",
     "output_type": "stream",
     "text": [
      "in validate_matrix(): Row sums in df are not close to 1. Reormalizing rows...\n"
     ]
    },
    {
     "name": "stderr",
     "output_type": "stream",
     "text": [
      "/home/icb/sergey.vilov/miniconda3/envs/mlm/lib/python3.10/site-packages/logomaker/src/Logo.py:1131: FutureWarning: Setting an item of incompatible dtype is deprecated and will raise in a future error of pandas. Value '<logomaker.src.Glyph.Glyph object at 0x7f7fce556890>' has dtype incompatible with float64, please explicitly cast to a compatible dtype first.\n",
      "  glyph_df.loc[p, c] = glyph\n",
      "/home/icb/sergey.vilov/miniconda3/envs/mlm/lib/python3.10/site-packages/logomaker/src/Logo.py:1131: FutureWarning: Setting an item of incompatible dtype is deprecated and will raise in a future error of pandas. Value '<logomaker.src.Glyph.Glyph object at 0x7f7fce555990>' has dtype incompatible with float64, please explicitly cast to a compatible dtype first.\n",
      "  glyph_df.loc[p, c] = glyph\n",
      "/home/icb/sergey.vilov/miniconda3/envs/mlm/lib/python3.10/site-packages/logomaker/src/Logo.py:1131: FutureWarning: Setting an item of incompatible dtype is deprecated and will raise in a future error of pandas. Value '<logomaker.src.Glyph.Glyph object at 0x7f7fce260f40>' has dtype incompatible with float64, please explicitly cast to a compatible dtype first.\n",
      "  glyph_df.loc[p, c] = glyph\n",
      "/home/icb/sergey.vilov/miniconda3/envs/mlm/lib/python3.10/site-packages/logomaker/src/Logo.py:1131: FutureWarning: Setting an item of incompatible dtype is deprecated and will raise in a future error of pandas. Value '<logomaker.src.Glyph.Glyph object at 0x7f7fce262140>' has dtype incompatible with float64, please explicitly cast to a compatible dtype first.\n",
      "  glyph_df.loc[p, c] = glyph\n",
      "/tmp/ipykernel_1951652/240731736.py:17: MatplotlibDeprecationWarning: Auto-close()ing of figures upon backend switching is deprecated since 3.8 and will be removed two minor releases later.  To suppress this warning, explicitly call plt.close('all') first.\n",
      "  matplotlib.use(\"pdf\")\n",
      "/home/icb/sergey.vilov/miniconda3/envs/mlm/lib/python3.10/site-packages/logomaker/src/Logo.py:1131: FutureWarning: Setting an item of incompatible dtype is deprecated and will raise in a future error of pandas. Value '<logomaker.src.Glyph.Glyph object at 0x7f7fce3eb4f0>' has dtype incompatible with float64, please explicitly cast to a compatible dtype first.\n",
      "  glyph_df.loc[p, c] = glyph\n",
      "/home/icb/sergey.vilov/miniconda3/envs/mlm/lib/python3.10/site-packages/logomaker/src/Logo.py:1131: FutureWarning: Setting an item of incompatible dtype is deprecated and will raise in a future error of pandas. Value '<logomaker.src.Glyph.Glyph object at 0x7f7fce3eb2e0>' has dtype incompatible with float64, please explicitly cast to a compatible dtype first.\n",
      "  glyph_df.loc[p, c] = glyph\n",
      "/home/icb/sergey.vilov/miniconda3/envs/mlm/lib/python3.10/site-packages/logomaker/src/Logo.py:1131: FutureWarning: Setting an item of incompatible dtype is deprecated and will raise in a future error of pandas. Value '<logomaker.src.Glyph.Glyph object at 0x7f7fce3ead40>' has dtype incompatible with float64, please explicitly cast to a compatible dtype first.\n",
      "  glyph_df.loc[p, c] = glyph\n",
      "/home/icb/sergey.vilov/miniconda3/envs/mlm/lib/python3.10/site-packages/logomaker/src/Logo.py:1131: FutureWarning: Setting an item of incompatible dtype is deprecated and will raise in a future error of pandas. Value '<logomaker.src.Glyph.Glyph object at 0x7f7fce3eb430>' has dtype incompatible with float64, please explicitly cast to a compatible dtype first.\n",
      "  glyph_df.loc[p, c] = glyph\n",
      "/home/icb/sergey.vilov/miniconda3/envs/mlm/lib/python3.10/site-packages/logomaker/src/Logo.py:1131: FutureWarning: Setting an item of incompatible dtype is deprecated and will raise in a future error of pandas. Value '<logomaker.src.Glyph.Glyph object at 0x7f7fce357ee0>' has dtype incompatible with float64, please explicitly cast to a compatible dtype first.\n",
      "  glyph_df.loc[p, c] = glyph\n",
      "/home/icb/sergey.vilov/miniconda3/envs/mlm/lib/python3.10/site-packages/logomaker/src/Logo.py:1131: FutureWarning: Setting an item of incompatible dtype is deprecated and will raise in a future error of pandas. Value '<logomaker.src.Glyph.Glyph object at 0x7f7fce354220>' has dtype incompatible with float64, please explicitly cast to a compatible dtype first.\n",
      "  glyph_df.loc[p, c] = glyph\n",
      "/home/icb/sergey.vilov/miniconda3/envs/mlm/lib/python3.10/site-packages/logomaker/src/Logo.py:1131: FutureWarning: Setting an item of incompatible dtype is deprecated and will raise in a future error of pandas. Value '<logomaker.src.Glyph.Glyph object at 0x7f7fce3560b0>' has dtype incompatible with float64, please explicitly cast to a compatible dtype first.\n",
      "  glyph_df.loc[p, c] = glyph\n",
      "/home/icb/sergey.vilov/miniconda3/envs/mlm/lib/python3.10/site-packages/logomaker/src/Logo.py:1131: FutureWarning: Setting an item of incompatible dtype is deprecated and will raise in a future error of pandas. Value '<logomaker.src.Glyph.Glyph object at 0x7f7fce354400>' has dtype incompatible with float64, please explicitly cast to a compatible dtype first.\n",
      "  glyph_df.loc[p, c] = glyph\n"
     ]
    },
    {
     "name": "stdout",
     "output_type": "stream",
     "text": [
      "in validate_matrix(): Row sums in df are not close to 1. Reormalizing rows...\n"
     ]
    },
    {
     "name": "stderr",
     "output_type": "stream",
     "text": [
      "/home/icb/sergey.vilov/miniconda3/envs/mlm/lib/python3.10/site-packages/logomaker/src/Logo.py:1131: FutureWarning: Setting an item of incompatible dtype is deprecated and will raise in a future error of pandas. Value '<logomaker.src.Glyph.Glyph object at 0x7f7fce39ae90>' has dtype incompatible with float64, please explicitly cast to a compatible dtype first.\n",
      "  glyph_df.loc[p, c] = glyph\n",
      "/home/icb/sergey.vilov/miniconda3/envs/mlm/lib/python3.10/site-packages/logomaker/src/Logo.py:1131: FutureWarning: Setting an item of incompatible dtype is deprecated and will raise in a future error of pandas. Value '<logomaker.src.Glyph.Glyph object at 0x7f7fce39a500>' has dtype incompatible with float64, please explicitly cast to a compatible dtype first.\n",
      "  glyph_df.loc[p, c] = glyph\n",
      "/home/icb/sergey.vilov/miniconda3/envs/mlm/lib/python3.10/site-packages/logomaker/src/Logo.py:1131: FutureWarning: Setting an item of incompatible dtype is deprecated and will raise in a future error of pandas. Value '<logomaker.src.Glyph.Glyph object at 0x7f7fce39b9a0>' has dtype incompatible with float64, please explicitly cast to a compatible dtype first.\n",
      "  glyph_df.loc[p, c] = glyph\n",
      "/home/icb/sergey.vilov/miniconda3/envs/mlm/lib/python3.10/site-packages/logomaker/src/Logo.py:1131: FutureWarning: Setting an item of incompatible dtype is deprecated and will raise in a future error of pandas. Value '<logomaker.src.Glyph.Glyph object at 0x7f7fce39b160>' has dtype incompatible with float64, please explicitly cast to a compatible dtype first.\n",
      "  glyph_df.loc[p, c] = glyph\n"
     ]
    },
    {
     "name": "stdout",
     "output_type": "stream",
     "text": [
      "in validate_matrix(): Row sums in df are not close to 1. Reormalizing rows...\n"
     ]
    },
    {
     "name": "stderr",
     "output_type": "stream",
     "text": [
      "/home/icb/sergey.vilov/miniconda3/envs/mlm/lib/python3.10/site-packages/logomaker/src/Logo.py:1131: FutureWarning: Setting an item of incompatible dtype is deprecated and will raise in a future error of pandas. Value '<logomaker.src.Glyph.Glyph object at 0x7f7fce490c70>' has dtype incompatible with float64, please explicitly cast to a compatible dtype first.\n",
      "  glyph_df.loc[p, c] = glyph\n",
      "/home/icb/sergey.vilov/miniconda3/envs/mlm/lib/python3.10/site-packages/logomaker/src/Logo.py:1131: FutureWarning: Setting an item of incompatible dtype is deprecated and will raise in a future error of pandas. Value '<logomaker.src.Glyph.Glyph object at 0x7f7fce490250>' has dtype incompatible with float64, please explicitly cast to a compatible dtype first.\n",
      "  glyph_df.loc[p, c] = glyph\n",
      "/home/icb/sergey.vilov/miniconda3/envs/mlm/lib/python3.10/site-packages/logomaker/src/Logo.py:1131: FutureWarning: Setting an item of incompatible dtype is deprecated and will raise in a future error of pandas. Value '<logomaker.src.Glyph.Glyph object at 0x7f7fce4925c0>' has dtype incompatible with float64, please explicitly cast to a compatible dtype first.\n",
      "  glyph_df.loc[p, c] = glyph\n",
      "/home/icb/sergey.vilov/miniconda3/envs/mlm/lib/python3.10/site-packages/logomaker/src/Logo.py:1131: FutureWarning: Setting an item of incompatible dtype is deprecated and will raise in a future error of pandas. Value '<logomaker.src.Glyph.Glyph object at 0x7f7fce491600>' has dtype incompatible with float64, please explicitly cast to a compatible dtype first.\n",
      "  glyph_df.loc[p, c] = glyph\n",
      "/home/icb/sergey.vilov/miniconda3/envs/mlm/lib/python3.10/site-packages/logomaker/src/Logo.py:1131: FutureWarning: Setting an item of incompatible dtype is deprecated and will raise in a future error of pandas. Value '<logomaker.src.Glyph.Glyph object at 0x7f7fce2984f0>' has dtype incompatible with float64, please explicitly cast to a compatible dtype first.\n",
      "  glyph_df.loc[p, c] = glyph\n",
      "/home/icb/sergey.vilov/miniconda3/envs/mlm/lib/python3.10/site-packages/logomaker/src/Logo.py:1131: FutureWarning: Setting an item of incompatible dtype is deprecated and will raise in a future error of pandas. Value '<logomaker.src.Glyph.Glyph object at 0x7f7fce2986a0>' has dtype incompatible with float64, please explicitly cast to a compatible dtype first.\n",
      "  glyph_df.loc[p, c] = glyph\n",
      "/home/icb/sergey.vilov/miniconda3/envs/mlm/lib/python3.10/site-packages/logomaker/src/Logo.py:1131: FutureWarning: Setting an item of incompatible dtype is deprecated and will raise in a future error of pandas. Value '<logomaker.src.Glyph.Glyph object at 0x7f7fce298a90>' has dtype incompatible with float64, please explicitly cast to a compatible dtype first.\n",
      "  glyph_df.loc[p, c] = glyph\n",
      "/home/icb/sergey.vilov/miniconda3/envs/mlm/lib/python3.10/site-packages/logomaker/src/Logo.py:1131: FutureWarning: Setting an item of incompatible dtype is deprecated and will raise in a future error of pandas. Value '<logomaker.src.Glyph.Glyph object at 0x7f7fce298640>' has dtype incompatible with float64, please explicitly cast to a compatible dtype first.\n",
      "  glyph_df.loc[p, c] = glyph\n"
     ]
    },
    {
     "name": "stdout",
     "output_type": "stream",
     "text": [
      "in validate_matrix(): Row sums in df are not close to 1. Reormalizing rows...\n"
     ]
    },
    {
     "name": "stderr",
     "output_type": "stream",
     "text": [
      "/home/icb/sergey.vilov/miniconda3/envs/mlm/lib/python3.10/site-packages/logomaker/src/Logo.py:1131: FutureWarning: Setting an item of incompatible dtype is deprecated and will raise in a future error of pandas. Value '<logomaker.src.Glyph.Glyph object at 0x7f7fce229450>' has dtype incompatible with float64, please explicitly cast to a compatible dtype first.\n",
      "  glyph_df.loc[p, c] = glyph\n",
      "/home/icb/sergey.vilov/miniconda3/envs/mlm/lib/python3.10/site-packages/logomaker/src/Logo.py:1131: FutureWarning: Setting an item of incompatible dtype is deprecated and will raise in a future error of pandas. Value '<logomaker.src.Glyph.Glyph object at 0x7f7fce229990>' has dtype incompatible with float64, please explicitly cast to a compatible dtype first.\n",
      "  glyph_df.loc[p, c] = glyph\n",
      "/home/icb/sergey.vilov/miniconda3/envs/mlm/lib/python3.10/site-packages/logomaker/src/Logo.py:1131: FutureWarning: Setting an item of incompatible dtype is deprecated and will raise in a future error of pandas. Value '<logomaker.src.Glyph.Glyph object at 0x7f7fce229240>' has dtype incompatible with float64, please explicitly cast to a compatible dtype first.\n",
      "  glyph_df.loc[p, c] = glyph\n",
      "/home/icb/sergey.vilov/miniconda3/envs/mlm/lib/python3.10/site-packages/logomaker/src/Logo.py:1131: FutureWarning: Setting an item of incompatible dtype is deprecated and will raise in a future error of pandas. Value '<logomaker.src.Glyph.Glyph object at 0x7f7fce2296c0>' has dtype incompatible with float64, please explicitly cast to a compatible dtype first.\n",
      "  glyph_df.loc[p, c] = glyph\n",
      "/home/icb/sergey.vilov/miniconda3/envs/mlm/lib/python3.10/site-packages/logomaker/src/Logo.py:1131: FutureWarning: Setting an item of incompatible dtype is deprecated and will raise in a future error of pandas. Value '<logomaker.src.Glyph.Glyph object at 0x7f7fce22b610>' has dtype incompatible with float64, please explicitly cast to a compatible dtype first.\n",
      "  glyph_df.loc[p, c] = glyph\n",
      "/home/icb/sergey.vilov/miniconda3/envs/mlm/lib/python3.10/site-packages/logomaker/src/Logo.py:1131: FutureWarning: Setting an item of incompatible dtype is deprecated and will raise in a future error of pandas. Value '<logomaker.src.Glyph.Glyph object at 0x7f7fce229c60>' has dtype incompatible with float64, please explicitly cast to a compatible dtype first.\n",
      "  glyph_df.loc[p, c] = glyph\n",
      "/home/icb/sergey.vilov/miniconda3/envs/mlm/lib/python3.10/site-packages/logomaker/src/Logo.py:1131: FutureWarning: Setting an item of incompatible dtype is deprecated and will raise in a future error of pandas. Value '<logomaker.src.Glyph.Glyph object at 0x7f7fce22a020>' has dtype incompatible with float64, please explicitly cast to a compatible dtype first.\n",
      "  glyph_df.loc[p, c] = glyph\n",
      "/home/icb/sergey.vilov/miniconda3/envs/mlm/lib/python3.10/site-packages/logomaker/src/Logo.py:1131: FutureWarning: Setting an item of incompatible dtype is deprecated and will raise in a future error of pandas. Value '<logomaker.src.Glyph.Glyph object at 0x7f7fce22b460>' has dtype incompatible with float64, please explicitly cast to a compatible dtype first.\n",
      "  glyph_df.loc[p, c] = glyph\n",
      "/home/icb/sergey.vilov/miniconda3/envs/mlm/lib/python3.10/site-packages/logomaker/src/Logo.py:1131: FutureWarning: Setting an item of incompatible dtype is deprecated and will raise in a future error of pandas. Value '<logomaker.src.Glyph.Glyph object at 0x7f7fce111960>' has dtype incompatible with float64, please explicitly cast to a compatible dtype first.\n",
      "  glyph_df.loc[p, c] = glyph\n",
      "/home/icb/sergey.vilov/miniconda3/envs/mlm/lib/python3.10/site-packages/logomaker/src/Logo.py:1131: FutureWarning: Setting an item of incompatible dtype is deprecated and will raise in a future error of pandas. Value '<logomaker.src.Glyph.Glyph object at 0x7f7fce110ca0>' has dtype incompatible with float64, please explicitly cast to a compatible dtype first.\n",
      "  glyph_df.loc[p, c] = glyph\n",
      "/home/icb/sergey.vilov/miniconda3/envs/mlm/lib/python3.10/site-packages/logomaker/src/Logo.py:1131: FutureWarning: Setting an item of incompatible dtype is deprecated and will raise in a future error of pandas. Value '<logomaker.src.Glyph.Glyph object at 0x7f7fce113910>' has dtype incompatible with float64, please explicitly cast to a compatible dtype first.\n",
      "  glyph_df.loc[p, c] = glyph\n",
      "/home/icb/sergey.vilov/miniconda3/envs/mlm/lib/python3.10/site-packages/logomaker/src/Logo.py:1131: FutureWarning: Setting an item of incompatible dtype is deprecated and will raise in a future error of pandas. Value '<logomaker.src.Glyph.Glyph object at 0x7f7fce111150>' has dtype incompatible with float64, please explicitly cast to a compatible dtype first.\n",
      "  glyph_df.loc[p, c] = glyph\n"
     ]
    },
    {
     "name": "stdout",
     "output_type": "stream",
     "text": [
      "in validate_matrix(): Row sums in df are not close to 1. Reormalizing rows...\n"
     ]
    },
    {
     "name": "stderr",
     "output_type": "stream",
     "text": [
      "/home/icb/sergey.vilov/miniconda3/envs/mlm/lib/python3.10/site-packages/logomaker/src/Logo.py:1131: FutureWarning: Setting an item of incompatible dtype is deprecated and will raise in a future error of pandas. Value '<logomaker.src.Glyph.Glyph object at 0x7f7fce4ef6d0>' has dtype incompatible with float64, please explicitly cast to a compatible dtype first.\n",
      "  glyph_df.loc[p, c] = glyph\n",
      "/home/icb/sergey.vilov/miniconda3/envs/mlm/lib/python3.10/site-packages/logomaker/src/Logo.py:1131: FutureWarning: Setting an item of incompatible dtype is deprecated and will raise in a future error of pandas. Value '<logomaker.src.Glyph.Glyph object at 0x7f7fce4ed630>' has dtype incompatible with float64, please explicitly cast to a compatible dtype first.\n",
      "  glyph_df.loc[p, c] = glyph\n",
      "/home/icb/sergey.vilov/miniconda3/envs/mlm/lib/python3.10/site-packages/logomaker/src/Logo.py:1131: FutureWarning: Setting an item of incompatible dtype is deprecated and will raise in a future error of pandas. Value '<logomaker.src.Glyph.Glyph object at 0x7f7fce4ecb50>' has dtype incompatible with float64, please explicitly cast to a compatible dtype first.\n",
      "  glyph_df.loc[p, c] = glyph\n",
      "/home/icb/sergey.vilov/miniconda3/envs/mlm/lib/python3.10/site-packages/logomaker/src/Logo.py:1131: FutureWarning: Setting an item of incompatible dtype is deprecated and will raise in a future error of pandas. Value '<logomaker.src.Glyph.Glyph object at 0x7f7fce4ed570>' has dtype incompatible with float64, please explicitly cast to a compatible dtype first.\n",
      "  glyph_df.loc[p, c] = glyph\n",
      "/home/icb/sergey.vilov/miniconda3/envs/mlm/lib/python3.10/site-packages/logomaker/src/Logo.py:1131: FutureWarning: Setting an item of incompatible dtype is deprecated and will raise in a future error of pandas. Value '<logomaker.src.Glyph.Glyph object at 0x7f7fce354f70>' has dtype incompatible with float64, please explicitly cast to a compatible dtype first.\n",
      "  glyph_df.loc[p, c] = glyph\n",
      "/home/icb/sergey.vilov/miniconda3/envs/mlm/lib/python3.10/site-packages/logomaker/src/Logo.py:1131: FutureWarning: Setting an item of incompatible dtype is deprecated and will raise in a future error of pandas. Value '<logomaker.src.Glyph.Glyph object at 0x7f7fce355120>' has dtype incompatible with float64, please explicitly cast to a compatible dtype first.\n",
      "  glyph_df.loc[p, c] = glyph\n",
      "/home/icb/sergey.vilov/miniconda3/envs/mlm/lib/python3.10/site-packages/logomaker/src/Logo.py:1131: FutureWarning: Setting an item of incompatible dtype is deprecated and will raise in a future error of pandas. Value '<logomaker.src.Glyph.Glyph object at 0x7f7fce354ee0>' has dtype incompatible with float64, please explicitly cast to a compatible dtype first.\n",
      "  glyph_df.loc[p, c] = glyph\n",
      "/home/icb/sergey.vilov/miniconda3/envs/mlm/lib/python3.10/site-packages/logomaker/src/Logo.py:1131: FutureWarning: Setting an item of incompatible dtype is deprecated and will raise in a future error of pandas. Value '<logomaker.src.Glyph.Glyph object at 0x7f7fce355f30>' has dtype incompatible with float64, please explicitly cast to a compatible dtype first.\n",
      "  glyph_df.loc[p, c] = glyph\n"
     ]
    },
    {
     "name": "stdout",
     "output_type": "stream",
     "text": [
      "in validate_matrix(): Row sums in df are not close to 1. Reormalizing rows...\n"
     ]
    },
    {
     "name": "stderr",
     "output_type": "stream",
     "text": [
      "/home/icb/sergey.vilov/miniconda3/envs/mlm/lib/python3.10/site-packages/logomaker/src/Logo.py:1131: FutureWarning: Setting an item of incompatible dtype is deprecated and will raise in a future error of pandas. Value '<logomaker.src.Glyph.Glyph object at 0x7f7fce68b4c0>' has dtype incompatible with float64, please explicitly cast to a compatible dtype first.\n",
      "  glyph_df.loc[p, c] = glyph\n",
      "/home/icb/sergey.vilov/miniconda3/envs/mlm/lib/python3.10/site-packages/logomaker/src/Logo.py:1131: FutureWarning: Setting an item of incompatible dtype is deprecated and will raise in a future error of pandas. Value '<logomaker.src.Glyph.Glyph object at 0x7f7fce6883d0>' has dtype incompatible with float64, please explicitly cast to a compatible dtype first.\n",
      "  glyph_df.loc[p, c] = glyph\n",
      "/home/icb/sergey.vilov/miniconda3/envs/mlm/lib/python3.10/site-packages/logomaker/src/Logo.py:1131: FutureWarning: Setting an item of incompatible dtype is deprecated and will raise in a future error of pandas. Value '<logomaker.src.Glyph.Glyph object at 0x7f7fce68b460>' has dtype incompatible with float64, please explicitly cast to a compatible dtype first.\n",
      "  glyph_df.loc[p, c] = glyph\n",
      "/home/icb/sergey.vilov/miniconda3/envs/mlm/lib/python3.10/site-packages/logomaker/src/Logo.py:1131: FutureWarning: Setting an item of incompatible dtype is deprecated and will raise in a future error of pandas. Value '<logomaker.src.Glyph.Glyph object at 0x7f7fce68b160>' has dtype incompatible with float64, please explicitly cast to a compatible dtype first.\n",
      "  glyph_df.loc[p, c] = glyph\n",
      "/home/icb/sergey.vilov/miniconda3/envs/mlm/lib/python3.10/site-packages/logomaker/src/Logo.py:1131: FutureWarning: Setting an item of incompatible dtype is deprecated and will raise in a future error of pandas. Value '<logomaker.src.Glyph.Glyph object at 0x7f7fce2af460>' has dtype incompatible with float64, please explicitly cast to a compatible dtype first.\n",
      "  glyph_df.loc[p, c] = glyph\n",
      "/home/icb/sergey.vilov/miniconda3/envs/mlm/lib/python3.10/site-packages/logomaker/src/Logo.py:1131: FutureWarning: Setting an item of incompatible dtype is deprecated and will raise in a future error of pandas. Value '<logomaker.src.Glyph.Glyph object at 0x7f7fce2ac250>' has dtype incompatible with float64, please explicitly cast to a compatible dtype first.\n",
      "  glyph_df.loc[p, c] = glyph\n",
      "/home/icb/sergey.vilov/miniconda3/envs/mlm/lib/python3.10/site-packages/logomaker/src/Logo.py:1131: FutureWarning: Setting an item of incompatible dtype is deprecated and will raise in a future error of pandas. Value '<logomaker.src.Glyph.Glyph object at 0x7f7fce2ae230>' has dtype incompatible with float64, please explicitly cast to a compatible dtype first.\n",
      "  glyph_df.loc[p, c] = glyph\n",
      "/home/icb/sergey.vilov/miniconda3/envs/mlm/lib/python3.10/site-packages/logomaker/src/Logo.py:1131: FutureWarning: Setting an item of incompatible dtype is deprecated and will raise in a future error of pandas. Value '<logomaker.src.Glyph.Glyph object at 0x7f7fce2aea40>' has dtype incompatible with float64, please explicitly cast to a compatible dtype first.\n",
      "  glyph_df.loc[p, c] = glyph\n"
     ]
    },
    {
     "name": "stdout",
     "output_type": "stream",
     "text": [
      "in validate_matrix(): Row sums in df are not close to 1. Reormalizing rows...\n"
     ]
    },
    {
     "name": "stderr",
     "output_type": "stream",
     "text": [
      "/home/icb/sergey.vilov/miniconda3/envs/mlm/lib/python3.10/site-packages/logomaker/src/Logo.py:1131: FutureWarning: Setting an item of incompatible dtype is deprecated and will raise in a future error of pandas. Value '<logomaker.src.Glyph.Glyph object at 0x7f7fce178100>' has dtype incompatible with float64, please explicitly cast to a compatible dtype first.\n",
      "  glyph_df.loc[p, c] = glyph\n",
      "/home/icb/sergey.vilov/miniconda3/envs/mlm/lib/python3.10/site-packages/logomaker/src/Logo.py:1131: FutureWarning: Setting an item of incompatible dtype is deprecated and will raise in a future error of pandas. Value '<logomaker.src.Glyph.Glyph object at 0x7f7fce17a020>' has dtype incompatible with float64, please explicitly cast to a compatible dtype first.\n",
      "  glyph_df.loc[p, c] = glyph\n",
      "/home/icb/sergey.vilov/miniconda3/envs/mlm/lib/python3.10/site-packages/logomaker/src/Logo.py:1131: FutureWarning: Setting an item of incompatible dtype is deprecated and will raise in a future error of pandas. Value '<logomaker.src.Glyph.Glyph object at 0x7f7fce179f60>' has dtype incompatible with float64, please explicitly cast to a compatible dtype first.\n",
      "  glyph_df.loc[p, c] = glyph\n",
      "/home/icb/sergey.vilov/miniconda3/envs/mlm/lib/python3.10/site-packages/logomaker/src/Logo.py:1131: FutureWarning: Setting an item of incompatible dtype is deprecated and will raise in a future error of pandas. Value '<logomaker.src.Glyph.Glyph object at 0x7f7fce178e50>' has dtype incompatible with float64, please explicitly cast to a compatible dtype first.\n",
      "  glyph_df.loc[p, c] = glyph\n",
      "/home/icb/sergey.vilov/miniconda3/envs/mlm/lib/python3.10/site-packages/logomaker/src/Logo.py:1131: FutureWarning: Setting an item of incompatible dtype is deprecated and will raise in a future error of pandas. Value '<logomaker.src.Glyph.Glyph object at 0x7f7fcdfc8dc0>' has dtype incompatible with float64, please explicitly cast to a compatible dtype first.\n",
      "  glyph_df.loc[p, c] = glyph\n",
      "/home/icb/sergey.vilov/miniconda3/envs/mlm/lib/python3.10/site-packages/logomaker/src/Logo.py:1131: FutureWarning: Setting an item of incompatible dtype is deprecated and will raise in a future error of pandas. Value '<logomaker.src.Glyph.Glyph object at 0x7f7fcdfc9540>' has dtype incompatible with float64, please explicitly cast to a compatible dtype first.\n",
      "  glyph_df.loc[p, c] = glyph\n",
      "/home/icb/sergey.vilov/miniconda3/envs/mlm/lib/python3.10/site-packages/logomaker/src/Logo.py:1131: FutureWarning: Setting an item of incompatible dtype is deprecated and will raise in a future error of pandas. Value '<logomaker.src.Glyph.Glyph object at 0x7f7fcdfc8610>' has dtype incompatible with float64, please explicitly cast to a compatible dtype first.\n",
      "  glyph_df.loc[p, c] = glyph\n",
      "/home/icb/sergey.vilov/miniconda3/envs/mlm/lib/python3.10/site-packages/logomaker/src/Logo.py:1131: FutureWarning: Setting an item of incompatible dtype is deprecated and will raise in a future error of pandas. Value '<logomaker.src.Glyph.Glyph object at 0x7f7fcdfc8c70>' has dtype incompatible with float64, please explicitly cast to a compatible dtype first.\n",
      "  glyph_df.loc[p, c] = glyph\n"
     ]
    },
    {
     "name": "stdout",
     "output_type": "stream",
     "text": [
      "in validate_matrix(): Row sums in df are not close to 1. Reormalizing rows...\n"
     ]
    },
    {
     "name": "stderr",
     "output_type": "stream",
     "text": [
      "/home/icb/sergey.vilov/miniconda3/envs/mlm/lib/python3.10/site-packages/logomaker/src/Logo.py:1131: FutureWarning: Setting an item of incompatible dtype is deprecated and will raise in a future error of pandas. Value '<logomaker.src.Glyph.Glyph object at 0x7f7fcdca39d0>' has dtype incompatible with float64, please explicitly cast to a compatible dtype first.\n",
      "  glyph_df.loc[p, c] = glyph\n",
      "/home/icb/sergey.vilov/miniconda3/envs/mlm/lib/python3.10/site-packages/logomaker/src/Logo.py:1131: FutureWarning: Setting an item of incompatible dtype is deprecated and will raise in a future error of pandas. Value '<logomaker.src.Glyph.Glyph object at 0x7f7fcdca2e90>' has dtype incompatible with float64, please explicitly cast to a compatible dtype first.\n",
      "  glyph_df.loc[p, c] = glyph\n",
      "/home/icb/sergey.vilov/miniconda3/envs/mlm/lib/python3.10/site-packages/logomaker/src/Logo.py:1131: FutureWarning: Setting an item of incompatible dtype is deprecated and will raise in a future error of pandas. Value '<logomaker.src.Glyph.Glyph object at 0x7f7fcdca3670>' has dtype incompatible with float64, please explicitly cast to a compatible dtype first.\n",
      "  glyph_df.loc[p, c] = glyph\n",
      "/home/icb/sergey.vilov/miniconda3/envs/mlm/lib/python3.10/site-packages/logomaker/src/Logo.py:1131: FutureWarning: Setting an item of incompatible dtype is deprecated and will raise in a future error of pandas. Value '<logomaker.src.Glyph.Glyph object at 0x7f7fcdca2da0>' has dtype incompatible with float64, please explicitly cast to a compatible dtype first.\n",
      "  glyph_df.loc[p, c] = glyph\n"
     ]
    },
    {
     "name": "stdout",
     "output_type": "stream",
     "text": [
      "in validate_matrix(): Row sums in df are not close to 1. Reormalizing rows...\n"
     ]
    },
    {
     "name": "stderr",
     "output_type": "stream",
     "text": [
      "/home/icb/sergey.vilov/miniconda3/envs/mlm/lib/python3.10/site-packages/logomaker/src/Logo.py:1131: FutureWarning: Setting an item of incompatible dtype is deprecated and will raise in a future error of pandas. Value '<logomaker.src.Glyph.Glyph object at 0x7f7fcddba110>' has dtype incompatible with float64, please explicitly cast to a compatible dtype first.\n",
      "  glyph_df.loc[p, c] = glyph\n",
      "/home/icb/sergey.vilov/miniconda3/envs/mlm/lib/python3.10/site-packages/logomaker/src/Logo.py:1131: FutureWarning: Setting an item of incompatible dtype is deprecated and will raise in a future error of pandas. Value '<logomaker.src.Glyph.Glyph object at 0x7f7fcddb9000>' has dtype incompatible with float64, please explicitly cast to a compatible dtype first.\n",
      "  glyph_df.loc[p, c] = glyph\n",
      "/home/icb/sergey.vilov/miniconda3/envs/mlm/lib/python3.10/site-packages/logomaker/src/Logo.py:1131: FutureWarning: Setting an item of incompatible dtype is deprecated and will raise in a future error of pandas. Value '<logomaker.src.Glyph.Glyph object at 0x7f7fcddb9b40>' has dtype incompatible with float64, please explicitly cast to a compatible dtype first.\n",
      "  glyph_df.loc[p, c] = glyph\n",
      "/home/icb/sergey.vilov/miniconda3/envs/mlm/lib/python3.10/site-packages/logomaker/src/Logo.py:1131: FutureWarning: Setting an item of incompatible dtype is deprecated and will raise in a future error of pandas. Value '<logomaker.src.Glyph.Glyph object at 0x7f7fcddb8eb0>' has dtype incompatible with float64, please explicitly cast to a compatible dtype first.\n",
      "  glyph_df.loc[p, c] = glyph\n",
      "/home/icb/sergey.vilov/miniconda3/envs/mlm/lib/python3.10/site-packages/logomaker/src/Logo.py:1131: FutureWarning: Setting an item of incompatible dtype is deprecated and will raise in a future error of pandas. Value '<logomaker.src.Glyph.Glyph object at 0x7f7fcdeeb3d0>' has dtype incompatible with float64, please explicitly cast to a compatible dtype first.\n",
      "  glyph_df.loc[p, c] = glyph\n",
      "/home/icb/sergey.vilov/miniconda3/envs/mlm/lib/python3.10/site-packages/logomaker/src/Logo.py:1131: FutureWarning: Setting an item of incompatible dtype is deprecated and will raise in a future error of pandas. Value '<logomaker.src.Glyph.Glyph object at 0x7f7fcdeeaaa0>' has dtype incompatible with float64, please explicitly cast to a compatible dtype first.\n",
      "  glyph_df.loc[p, c] = glyph\n",
      "/home/icb/sergey.vilov/miniconda3/envs/mlm/lib/python3.10/site-packages/logomaker/src/Logo.py:1131: FutureWarning: Setting an item of incompatible dtype is deprecated and will raise in a future error of pandas. Value '<logomaker.src.Glyph.Glyph object at 0x7f7fcdee8ee0>' has dtype incompatible with float64, please explicitly cast to a compatible dtype first.\n",
      "  glyph_df.loc[p, c] = glyph\n",
      "/home/icb/sergey.vilov/miniconda3/envs/mlm/lib/python3.10/site-packages/logomaker/src/Logo.py:1131: FutureWarning: Setting an item of incompatible dtype is deprecated and will raise in a future error of pandas. Value '<logomaker.src.Glyph.Glyph object at 0x7f7fcdee9540>' has dtype incompatible with float64, please explicitly cast to a compatible dtype first.\n",
      "  glyph_df.loc[p, c] = glyph\n",
      "/home/icb/sergey.vilov/miniconda3/envs/mlm/lib/python3.10/site-packages/logomaker/src/Logo.py:1131: FutureWarning: Setting an item of incompatible dtype is deprecated and will raise in a future error of pandas. Value '<logomaker.src.Glyph.Glyph object at 0x7f7fceeff7f0>' has dtype incompatible with float64, please explicitly cast to a compatible dtype first.\n",
      "  glyph_df.loc[p, c] = glyph\n",
      "/home/icb/sergey.vilov/miniconda3/envs/mlm/lib/python3.10/site-packages/logomaker/src/Logo.py:1131: FutureWarning: Setting an item of incompatible dtype is deprecated and will raise in a future error of pandas. Value '<logomaker.src.Glyph.Glyph object at 0x7f7fceefdb10>' has dtype incompatible with float64, please explicitly cast to a compatible dtype first.\n",
      "  glyph_df.loc[p, c] = glyph\n",
      "/home/icb/sergey.vilov/miniconda3/envs/mlm/lib/python3.10/site-packages/logomaker/src/Logo.py:1131: FutureWarning: Setting an item of incompatible dtype is deprecated and will raise in a future error of pandas. Value '<logomaker.src.Glyph.Glyph object at 0x7f7fceefe680>' has dtype incompatible with float64, please explicitly cast to a compatible dtype first.\n",
      "  glyph_df.loc[p, c] = glyph\n",
      "/home/icb/sergey.vilov/miniconda3/envs/mlm/lib/python3.10/site-packages/logomaker/src/Logo.py:1131: FutureWarning: Setting an item of incompatible dtype is deprecated and will raise in a future error of pandas. Value '<logomaker.src.Glyph.Glyph object at 0x7f7fceefe020>' has dtype incompatible with float64, please explicitly cast to a compatible dtype first.\n",
      "  glyph_df.loc[p, c] = glyph\n"
     ]
    },
    {
     "name": "stdout",
     "output_type": "stream",
     "text": [
      "in validate_matrix(): Row sums in df are not close to 1. Reormalizing rows...\n"
     ]
    },
    {
     "name": "stderr",
     "output_type": "stream",
     "text": [
      "/home/icb/sergey.vilov/miniconda3/envs/mlm/lib/python3.10/site-packages/logomaker/src/Logo.py:1131: FutureWarning: Setting an item of incompatible dtype is deprecated and will raise in a future error of pandas. Value '<logomaker.src.Glyph.Glyph object at 0x7f80115180a0>' has dtype incompatible with float64, please explicitly cast to a compatible dtype first.\n",
      "  glyph_df.loc[p, c] = glyph\n",
      "/home/icb/sergey.vilov/miniconda3/envs/mlm/lib/python3.10/site-packages/logomaker/src/Logo.py:1131: FutureWarning: Setting an item of incompatible dtype is deprecated and will raise in a future error of pandas. Value '<logomaker.src.Glyph.Glyph object at 0x7f8011519cf0>' has dtype incompatible with float64, please explicitly cast to a compatible dtype first.\n",
      "  glyph_df.loc[p, c] = glyph\n",
      "/home/icb/sergey.vilov/miniconda3/envs/mlm/lib/python3.10/site-packages/logomaker/src/Logo.py:1131: FutureWarning: Setting an item of incompatible dtype is deprecated and will raise in a future error of pandas. Value '<logomaker.src.Glyph.Glyph object at 0x7f80102612a0>' has dtype incompatible with float64, please explicitly cast to a compatible dtype first.\n",
      "  glyph_df.loc[p, c] = glyph\n",
      "/home/icb/sergey.vilov/miniconda3/envs/mlm/lib/python3.10/site-packages/logomaker/src/Logo.py:1131: FutureWarning: Setting an item of incompatible dtype is deprecated and will raise in a future error of pandas. Value '<logomaker.src.Glyph.Glyph object at 0x7f7fcebfc220>' has dtype incompatible with float64, please explicitly cast to a compatible dtype first.\n",
      "  glyph_df.loc[p, c] = glyph\n",
      "/home/icb/sergey.vilov/miniconda3/envs/mlm/lib/python3.10/site-packages/logomaker/src/Logo.py:1131: FutureWarning: Setting an item of incompatible dtype is deprecated and will raise in a future error of pandas. Value '<logomaker.src.Glyph.Glyph object at 0x7f7fcddbb7f0>' has dtype incompatible with float64, please explicitly cast to a compatible dtype first.\n",
      "  glyph_df.loc[p, c] = glyph\n",
      "/home/icb/sergey.vilov/miniconda3/envs/mlm/lib/python3.10/site-packages/logomaker/src/Logo.py:1131: FutureWarning: Setting an item of incompatible dtype is deprecated and will raise in a future error of pandas. Value '<logomaker.src.Glyph.Glyph object at 0x7f7fcddb9060>' has dtype incompatible with float64, please explicitly cast to a compatible dtype first.\n",
      "  glyph_df.loc[p, c] = glyph\n",
      "/home/icb/sergey.vilov/miniconda3/envs/mlm/lib/python3.10/site-packages/logomaker/src/Logo.py:1131: FutureWarning: Setting an item of incompatible dtype is deprecated and will raise in a future error of pandas. Value '<logomaker.src.Glyph.Glyph object at 0x7f7fcddbbf40>' has dtype incompatible with float64, please explicitly cast to a compatible dtype first.\n",
      "  glyph_df.loc[p, c] = glyph\n",
      "/home/icb/sergey.vilov/miniconda3/envs/mlm/lib/python3.10/site-packages/logomaker/src/Logo.py:1131: FutureWarning: Setting an item of incompatible dtype is deprecated and will raise in a future error of pandas. Value '<logomaker.src.Glyph.Glyph object at 0x7f7fcddba230>' has dtype incompatible with float64, please explicitly cast to a compatible dtype first.\n",
      "  glyph_df.loc[p, c] = glyph\n"
     ]
    },
    {
     "name": "stdout",
     "output_type": "stream",
     "text": [
      "in validate_matrix(): Row sums in df are not close to 1. Reormalizing rows...\n"
     ]
    },
    {
     "name": "stderr",
     "output_type": "stream",
     "text": [
      "/home/icb/sergey.vilov/miniconda3/envs/mlm/lib/python3.10/site-packages/logomaker/src/Logo.py:1131: FutureWarning: Setting an item of incompatible dtype is deprecated and will raise in a future error of pandas. Value '<logomaker.src.Glyph.Glyph object at 0x7f7fcdd917e0>' has dtype incompatible with float64, please explicitly cast to a compatible dtype first.\n",
      "  glyph_df.loc[p, c] = glyph\n",
      "/home/icb/sergey.vilov/miniconda3/envs/mlm/lib/python3.10/site-packages/logomaker/src/Logo.py:1131: FutureWarning: Setting an item of incompatible dtype is deprecated and will raise in a future error of pandas. Value '<logomaker.src.Glyph.Glyph object at 0x7f7fcdd91060>' has dtype incompatible with float64, please explicitly cast to a compatible dtype first.\n",
      "  glyph_df.loc[p, c] = glyph\n",
      "/home/icb/sergey.vilov/miniconda3/envs/mlm/lib/python3.10/site-packages/logomaker/src/Logo.py:1131: FutureWarning: Setting an item of incompatible dtype is deprecated and will raise in a future error of pandas. Value '<logomaker.src.Glyph.Glyph object at 0x7f7fcdd92fb0>' has dtype incompatible with float64, please explicitly cast to a compatible dtype first.\n",
      "  glyph_df.loc[p, c] = glyph\n",
      "/home/icb/sergey.vilov/miniconda3/envs/mlm/lib/python3.10/site-packages/logomaker/src/Logo.py:1131: FutureWarning: Setting an item of incompatible dtype is deprecated and will raise in a future error of pandas. Value '<logomaker.src.Glyph.Glyph object at 0x7f7fcdd93220>' has dtype incompatible with float64, please explicitly cast to a compatible dtype first.\n",
      "  glyph_df.loc[p, c] = glyph\n"
     ]
    },
    {
     "ename": "ValueError",
     "evalue": "Shape of passed values is (12, 1), indices imply (12, 4)",
     "output_type": "error",
     "traceback": [
      "\u001b[0;31m---------------------------------------------------------------------------\u001b[0m",
      "\u001b[0;31mValueError\u001b[0m                                Traceback (most recent call last)",
      "Cell \u001b[0;32mIn[8], line 10\u001b[0m\n\u001b[1;32m      7\u001b[0m fig \u001b[38;5;241m=\u001b[39m plt\u001b[38;5;241m.\u001b[39mfigure(figsize\u001b[38;5;241m=\u001b[39m(\u001b[38;5;241m10\u001b[39m,\u001b[38;5;241m3\u001b[39m))\n\u001b[1;32m      8\u001b[0m ax \u001b[38;5;241m=\u001b[39m fig\u001b[38;5;241m.\u001b[39madd_subplot(\u001b[38;5;241m111\u001b[39m)\n\u001b[0;32m---> 10\u001b[0m df \u001b[38;5;241m=\u001b[39m \u001b[43mpandas\u001b[49m\u001b[38;5;241;43m.\u001b[39;49m\u001b[43mDataFrame\u001b[49m\u001b[43m(\u001b[49m\u001b[43marray\u001b[49m\u001b[43m,\u001b[49m\u001b[43m \u001b[49m\u001b[43mcolumns\u001b[49m\u001b[38;5;241;43m=\u001b[39;49m\u001b[43m[\u001b[49m\u001b[38;5;124;43m\"\u001b[39;49m\u001b[38;5;124;43mA\u001b[39;49m\u001b[38;5;124;43m\"\u001b[39;49m\u001b[43m,\u001b[49m\u001b[43m \u001b[49m\u001b[38;5;124;43m\"\u001b[39;49m\u001b[38;5;124;43mC\u001b[39;49m\u001b[38;5;124;43m\"\u001b[39;49m\u001b[43m,\u001b[49m\u001b[43m \u001b[49m\u001b[38;5;124;43m\"\u001b[39;49m\u001b[38;5;124;43mG\u001b[39;49m\u001b[38;5;124;43m\"\u001b[39;49m\u001b[43m,\u001b[49m\u001b[43m \u001b[49m\u001b[38;5;124;43m\"\u001b[39;49m\u001b[38;5;124;43mT\u001b[39;49m\u001b[38;5;124;43m\"\u001b[39;49m\u001b[43m]\u001b[49m\u001b[43m)\u001b[49m\n\u001b[1;32m     11\u001b[0m df\u001b[38;5;241m.\u001b[39mindex\u001b[38;5;241m.\u001b[39mname \u001b[38;5;241m=\u001b[39m \u001b[38;5;124m\"\u001b[39m\u001b[38;5;124mpos\u001b[39m\u001b[38;5;124m\"\u001b[39m\n\u001b[1;32m     13\u001b[0m crp_logo \u001b[38;5;241m=\u001b[39m logomaker\u001b[38;5;241m.\u001b[39mLogo(df, ax\u001b[38;5;241m=\u001b[39max)\n",
      "File \u001b[0;32m~/miniconda3/envs/mlm/lib/python3.10/site-packages/pandas/core/frame.py:825\u001b[0m, in \u001b[0;36mDataFrame.__init__\u001b[0;34m(self, data, index, columns, dtype, copy)\u001b[0m\n\u001b[1;32m    817\u001b[0m         mgr \u001b[38;5;241m=\u001b[39m arrays_to_mgr(\n\u001b[1;32m    818\u001b[0m             arrays,\n\u001b[1;32m    819\u001b[0m             columns,\n\u001b[0;32m   (...)\u001b[0m\n\u001b[1;32m    822\u001b[0m             typ\u001b[38;5;241m=\u001b[39mmanager,\n\u001b[1;32m    823\u001b[0m         )\n\u001b[1;32m    824\u001b[0m     \u001b[38;5;28;01melse\u001b[39;00m:\n\u001b[0;32m--> 825\u001b[0m         mgr \u001b[38;5;241m=\u001b[39m \u001b[43mndarray_to_mgr\u001b[49m\u001b[43m(\u001b[49m\n\u001b[1;32m    826\u001b[0m \u001b[43m            \u001b[49m\u001b[43mdata\u001b[49m\u001b[43m,\u001b[49m\n\u001b[1;32m    827\u001b[0m \u001b[43m            \u001b[49m\u001b[43mindex\u001b[49m\u001b[43m,\u001b[49m\n\u001b[1;32m    828\u001b[0m \u001b[43m            \u001b[49m\u001b[43mcolumns\u001b[49m\u001b[43m,\u001b[49m\n\u001b[1;32m    829\u001b[0m \u001b[43m            \u001b[49m\u001b[43mdtype\u001b[49m\u001b[38;5;241;43m=\u001b[39;49m\u001b[43mdtype\u001b[49m\u001b[43m,\u001b[49m\n\u001b[1;32m    830\u001b[0m \u001b[43m            \u001b[49m\u001b[43mcopy\u001b[49m\u001b[38;5;241;43m=\u001b[39;49m\u001b[43mcopy\u001b[49m\u001b[43m,\u001b[49m\n\u001b[1;32m    831\u001b[0m \u001b[43m            \u001b[49m\u001b[43mtyp\u001b[49m\u001b[38;5;241;43m=\u001b[39;49m\u001b[43mmanager\u001b[49m\u001b[43m,\u001b[49m\n\u001b[1;32m    832\u001b[0m \u001b[43m        \u001b[49m\u001b[43m)\u001b[49m\n\u001b[1;32m    833\u001b[0m \u001b[38;5;28;01melse\u001b[39;00m:\n\u001b[1;32m    834\u001b[0m     mgr \u001b[38;5;241m=\u001b[39m dict_to_mgr(\n\u001b[1;32m    835\u001b[0m         {},\n\u001b[1;32m    836\u001b[0m         index,\n\u001b[0;32m   (...)\u001b[0m\n\u001b[1;32m    839\u001b[0m         typ\u001b[38;5;241m=\u001b[39mmanager,\n\u001b[1;32m    840\u001b[0m     )\n",
      "File \u001b[0;32m~/miniconda3/envs/mlm/lib/python3.10/site-packages/pandas/core/internals/construction.py:336\u001b[0m, in \u001b[0;36mndarray_to_mgr\u001b[0;34m(values, index, columns, dtype, copy, typ)\u001b[0m\n\u001b[1;32m    331\u001b[0m \u001b[38;5;66;03m# _prep_ndarraylike ensures that values.ndim == 2 at this point\u001b[39;00m\n\u001b[1;32m    332\u001b[0m index, columns \u001b[38;5;241m=\u001b[39m _get_axes(\n\u001b[1;32m    333\u001b[0m     values\u001b[38;5;241m.\u001b[39mshape[\u001b[38;5;241m0\u001b[39m], values\u001b[38;5;241m.\u001b[39mshape[\u001b[38;5;241m1\u001b[39m], index\u001b[38;5;241m=\u001b[39mindex, columns\u001b[38;5;241m=\u001b[39mcolumns\n\u001b[1;32m    334\u001b[0m )\n\u001b[0;32m--> 336\u001b[0m \u001b[43m_check_values_indices_shape_match\u001b[49m\u001b[43m(\u001b[49m\u001b[43mvalues\u001b[49m\u001b[43m,\u001b[49m\u001b[43m \u001b[49m\u001b[43mindex\u001b[49m\u001b[43m,\u001b[49m\u001b[43m \u001b[49m\u001b[43mcolumns\u001b[49m\u001b[43m)\u001b[49m\n\u001b[1;32m    338\u001b[0m \u001b[38;5;28;01mif\u001b[39;00m typ \u001b[38;5;241m==\u001b[39m \u001b[38;5;124m\"\u001b[39m\u001b[38;5;124marray\u001b[39m\u001b[38;5;124m\"\u001b[39m:\n\u001b[1;32m    339\u001b[0m     \u001b[38;5;28;01mif\u001b[39;00m \u001b[38;5;28missubclass\u001b[39m(values\u001b[38;5;241m.\u001b[39mdtype\u001b[38;5;241m.\u001b[39mtype, \u001b[38;5;28mstr\u001b[39m):\n",
      "File \u001b[0;32m~/miniconda3/envs/mlm/lib/python3.10/site-packages/pandas/core/internals/construction.py:420\u001b[0m, in \u001b[0;36m_check_values_indices_shape_match\u001b[0;34m(values, index, columns)\u001b[0m\n\u001b[1;32m    418\u001b[0m passed \u001b[38;5;241m=\u001b[39m values\u001b[38;5;241m.\u001b[39mshape\n\u001b[1;32m    419\u001b[0m implied \u001b[38;5;241m=\u001b[39m (\u001b[38;5;28mlen\u001b[39m(index), \u001b[38;5;28mlen\u001b[39m(columns))\n\u001b[0;32m--> 420\u001b[0m \u001b[38;5;28;01mraise\u001b[39;00m \u001b[38;5;167;01mValueError\u001b[39;00m(\u001b[38;5;124mf\u001b[39m\u001b[38;5;124m\"\u001b[39m\u001b[38;5;124mShape of passed values is \u001b[39m\u001b[38;5;132;01m{\u001b[39;00mpassed\u001b[38;5;132;01m}\u001b[39;00m\u001b[38;5;124m, indices imply \u001b[39m\u001b[38;5;132;01m{\u001b[39;00mimplied\u001b[38;5;132;01m}\u001b[39;00m\u001b[38;5;124m\"\u001b[39m)\n",
      "\u001b[0;31mValueError\u001b[0m: Shape of passed values is (12, 1), indices imply (12, 4)"
     ]
    },
    {
     "data": {
      "image/png": "[encoded data removed]",
      "text/plain": [
       "<Figure size 720x216 with 1 Axes>"
      ]
     },
     "metadata": {},
     "output_type": "display_data"
    }
   ],
   "source": [
    "%matplotlib inline\n",
    "\n",
    "trimmed_cwm_fwd = create_modisco_logos(modisco_h5py, modisco_logo_dir, 1)\n",
    "\n",
    "array = trimmed_cwm_fwd\n",
    "\n",
    "fig = plt.figure(figsize=(10,3))\n",
    "ax = fig.add_subplot(111)\n",
    "\n",
    "df = pandas.DataFrame(array, columns=[\"A\", \"C\", \"G\", \"T\"])\n",
    "df.index.name = \"pos\"\n",
    "\n",
    "crp_logo = logomaker.Logo(df, ax=ax)\n",
    "crp_logo.style_spines(visible=False)\n",
    "plt.ylim(min(df.sum(axis=1).min(), 0), df.sum(axis=1).max())\n",
    "\n",
    "plt.show()"
   ]
  },
  {
   "cell_type": "code",
   "execution_count": null,
   "id": "2efaf8b3-4075-4c93-80fa-a656b769a644",
   "metadata": {},
   "outputs": [],
   "source": []
  }
 ],
 "metadata": {
  "kernelspec": {
   "display_name": "Python 3 (ipykernel)",
   "language": "python",
   "name": "python3"
  },
  "language_info": {
   "codemirror_mode": {
    "name": "ipython",
    "version": 3
   },
   "file_extension": ".py",
   "mimetype": "text/x-python",
   "name": "python",
   "nbconvert_exporter": "python",
   "pygments_lexer": "ipython3",
   "version": "3.10.13"
  }
 },
 "nbformat": 4,
 "nbformat_minor": 5
}

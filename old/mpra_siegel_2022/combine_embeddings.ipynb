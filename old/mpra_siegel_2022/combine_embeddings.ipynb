{
 "cells": [
  {
   "cell_type": "code",
   "execution_count": 1,
   "id": "dd2ac08c-e865-4227-aed0-4de7ffeaf3c8",
   "metadata": {},
   "outputs": [],
   "source": [
    "import numpy as np"
   ]
  },
  {
   "cell_type": "code",
   "execution_count": 3,
   "id": "a7225dcc-b614-46c1-92ab-d162e24c3b82",
   "metadata": {},
   "outputs": [],
   "source": [
    "data_dir='/lustre/groups/epigenereg01/workspace/projects/vale/MLM/siegel_2022/embeddings/dna_fwd/NT-MS-v2-500M/'"
   ]
  },
  {
   "cell_type": "code",
   "execution_count": 6,
   "id": "4045241c-78c3-4922-91dc-873774ea4f21",
   "metadata": {},
   "outputs": [],
   "source": [
    "all_emb = []\n",
    "\n",
    "for fold in range(10):\n",
    "    with open(data_dir + f'embeddings_{fold}.npy','rb') as f:\n",
    "        batch_emb = np.load(f)\n",
    "        all_emb.append(batch_emb)"
   ]
  },
  {
   "cell_type": "code",
   "execution_count": 7,
   "id": "dd27e919-6454-466d-bc6f-242d2a79738f",
   "metadata": {},
   "outputs": [],
   "source": [
    "with open(data_dir + f'embeddings.npy','wb') as f:\n",
    "    np.save(f, np.vstack(all_emb))\n"
   ]
  }
 ],
 "metadata": {
  "kernelspec": {
   "display_name": "Python 3 (ipykernel)",
   "language": "python",
   "name": "python3"
  },
  "language_info": {
   "codemirror_mode": {
    "name": "ipython",
    "version": 3
   },
   "file_extension": ".py",
   "mimetype": "text/x-python",
   "name": "python",
   "nbconvert_exporter": "python",
   "pygments_lexer": "ipython3",
   "version": "3.10.13"
  }
 },
 "nbformat": 4,
 "nbformat_minor": 5
}

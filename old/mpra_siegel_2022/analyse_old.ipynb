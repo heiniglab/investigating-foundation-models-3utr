{
 "cells": [
  {
   "cell_type": "code",
   "execution_count": 1,
   "id": "675d33de-ab99-477c-940c-fa2631fe7212",
   "metadata": {
    "tags": []
   },
   "outputs": [],
   "source": [
    "import numpy as np\n",
    "import pandas as pd\n",
    "import scipy\n",
    "import sklearn.metrics\n",
    "import os\n",
    "\n",
    "import matplotlib.pyplot as plt\n",
    "import matplotlib as mpl\n",
    "import seaborn as sns\n",
    "\n",
    "from scipy import stats\n",
    "import statsmodels.stats.multicomp as mc\n",
    "\n",
    "from statannotations.Annotator import Annotator"
   ]
  },
  {
   "cell_type": "code",
   "execution_count": 2,
   "id": "82c157d3-f18c-4f89-8adf-69f06cbcf277",
   "metadata": {
    "tags": []
   },
   "outputs": [],
   "source": [
    "mpl.rcParams.update({'xtick.labelsize': 14, 'ytick.labelsize': 14, \n",
    "                     'axes.titlesize':14, 'axes.labelsize':16}) #default font sizes for plots"
   ]
  },
  {
   "cell_type": "markdown",
   "id": "c73a321e-15a2-45ca-843d-4ef3f738dcd8",
   "metadata": {},
   "source": [
    "# Auxiliary functions"
   ]
  },
  {
   "cell_type": "code",
   "execution_count": 3,
   "id": "f0898be5-7d4e-40ca-967a-013f9cfba159",
   "metadata": {
    "tags": []
   },
   "outputs": [],
   "source": [
    "def compute_score(df):\n",
    "    return scipy.stats.pearsonr(df.y_true,df.y_pred)[0]\n",
    "\n",
    "def get_best_models(df, alpha=0.05):\n",
    "    \n",
    "    error = (df.y_true-df.y_pred)**2 #squared residuals  \n",
    "\n",
    "    comp1 = mc.MultiComparison(error, df['model'])\n",
    "    tbl, a1, a2 = comp1.allpairtest(stats.wilcoxon, method= \"fdr_bh\") #Wilcoxon test with Bonferroni correction\n",
    "\n",
    "    models_stats = pd.DataFrame(a2).set_index(['group1','group2']) #see if the difference between pairs of models is significant\n",
    "    \n",
    "    #we ignore default Bonferroni correction as it is for wrong number of pairs in the study\n",
    "    if alpha is not None:\n",
    "        models_stats.reject = models_stats.pval<alpha\n",
    "\n",
    "    per_model_scores = df.groupby('model').apply(compute_score).sort_values(ascending=False) #compute score based on all predictions for a given model\n",
    "\n",
    "    sorted_models = per_model_scores.keys() #get models ranking list, scoring in descending order\n",
    "\n",
    "    best_models = [sorted_models[0]] #always include best model\n",
    "\n",
    "    #loop over the list and add models until the difference between the best and the current models is significant\n",
    "    for model in sorted_models[1:]:\n",
    "\n",
    "        #two keys are possible for a given pair of models\n",
    "        idx_2models = (sorted_models[0], model) \n",
    "        idx_2models_swap = (model, sorted_models[0])\n",
    "\n",
    "        if ((idx_2models in models_stats.index and models_stats.loc[idx_2models].reject==False) \n",
    "                or (idx_2models_swap in models_stats.index and models_stats.loc[idx_2models_swap].reject==False)):\n",
    "                    best_models.append(model)\n",
    "        else:\n",
    "            #as soon as significant difference is detected, dont add models to the best models list\n",
    "            break\n",
    "            \n",
    "    return best_models\n",
    "\n",
    "def highlight_ns(x, best_models):\n",
    "    #make the best model and models with insignificant difference with the best model bold\n",
    "    cell_type = x.name\n",
    "    return ['font-weight: bold' if model in best_models[cell_type] else ''\n",
    "                for model in x.index]"
   ]
  },
  {
   "cell_type": "markdown",
   "id": "e430f7c8-7cd0-4194-8bf7-26c19cc0efa1",
   "metadata": {},
   "source": [
    "# Collect predictions"
   ]
  },
  {
   "cell_type": "code",
   "execution_count": 36,
   "id": "c6b77ddf-2b51-4a9f-ace6-d16c65a03fc9",
   "metadata": {
    "tags": []
   },
   "outputs": [],
   "source": [
    "regressor = 'Ridge' # Ridge or SVR"
   ]
  },
  {
   "cell_type": "code",
   "execution_count": 37,
   "id": "bb9145a5-0756-4fd1-9362-952a1de453fe",
   "metadata": {},
   "outputs": [],
   "source": [
    "data_dir = f'/lustre/groups/epigenereg01/workspace/projects/vale/MLM/siegel_2022/{regressor}/'"
   ]
  },
  {
   "cell_type": "code",
   "execution_count": 38,
   "id": "ba0d9e61-0bcf-4d8b-ba1b-6af7f5a88922",
   "metadata": {
    "tags": []
   },
   "outputs": [],
   "source": [
    "#models = ['Species-aware','Species-agnostic','DNABERT','DNABERT-2','NT-MS-v2-500M','4mers','5mers','word2vec','effective_length']\n",
    "models = ['Species-aware','Species-agnostic','DNABERT','DNABERT-2','NT-MS-v2-500M','5mers','effective_length']"
   ]
  },
  {
   "cell_type": "code",
   "execution_count": 39,
   "id": "eb820876-4815-409b-b40d-90bbc8979907",
   "metadata": {},
   "outputs": [],
   "source": [
    "res = {}\n",
    "\n",
    "for response in ('stability', 'steady_state'):\n",
    "    for cell_type in ('Jurkat', 'Beas2B'):\n",
    "        res[(response,cell_type)] = []\n",
    "        for model in models:\n",
    "            res_tsv = data_dir + f'{cell_type}-{response}-{model}.tsv'\n",
    "            if os.path.isfile(res_tsv):\n",
    "                df = pd.read_csv(res_tsv, sep='\\t', skiprows=1, usecols=[2,7,8,36,38,39],names=['ids','iscontrol','parent_control_oligo','y_true','chrom','y_pred'])\n",
    "                df['model'] = model\n",
    "                res[(response,cell_type)].append(df)\n",
    "        if len(res[(response,cell_type)])>0:\n",
    "            res[(response,cell_type)] = pd.concat(res[(response,cell_type)])"
   ]
  },
  {
   "cell_type": "markdown",
   "id": "cdb0255f-9780-42e4-8eca-39e3b0327c55",
   "metadata": {},
   "source": [
    "# Visualize per fold scores"
   ]
  },
  {
   "cell_type": "code",
   "execution_count": 40,
   "id": "6a0bb4e2-a130-4ab7-bc89-2a1092b063dc",
   "metadata": {
    "tags": []
   },
   "outputs": [],
   "source": [
    "per_fold_scores = res[('stability','Jurkat')].groupby(['model','chrom']).apply(compute_score).rename('score')"
   ]
  },
  {
   "cell_type": "code",
   "execution_count": 9,
   "id": "790ca27d-bd42-4d7c-8d3c-6d826cfd51bb",
   "metadata": {
    "tags": []
   },
   "outputs": [],
   "source": [
    "per_fold_scores = per_fold_scores.reset_index().sort_values(by=['model','chrom'])"
   ]
  },
  {
   "cell_type": "code",
   "execution_count": null,
   "id": "11d34644-508e-432f-b1e1-64ac648ce1ba",
   "metadata": {
    "tags": []
   },
   "outputs": [],
   "source": [
    "fig, ax = plt.subplots(figsize=(4,4))\n",
    "\n",
    "ax = sns.swarmplot(data=per_fold_scores, x=\"model\", y=\"score\", order=models, ) #scatter plot\n",
    "ax = sns.boxplot(data=per_fold_scores, x=\"model\", y=\"score\", order=models, boxprops={'facecolor':'None'})\n",
    "\n",
    "box_pairs=[ ('MLM', '4mers'), ('MLM', '5mers'),('MLM', 'word2vec'),('MLM', 'effective_length')]\n",
    "\n",
    "annotator = Annotator(ax, box_pairs, data=per_fold_scores, x=\"model\", y=\"score\", order=models)\n",
    "annotator.configure(test='Wilcoxon', text_format='star', loc='inside', comparisons_correction=\"BH\")\n",
    "#annotator.configure(test='t-test_paired', text_format='star', loc='inside', comparisons_correction=\"BH\")\n",
    "\n",
    "annotator.apply_and_annotate()\n",
    "\n",
    "ax.set_xlabel(\"\")\n",
    "ax.set_ylabel(\"score\")\n",
    "ax.tick_params(rotation=30)\n",
    "ax.grid()"
   ]
  },
  {
   "cell_type": "markdown",
   "id": "a94c3ead-7e46-4560-8393-ec5f7b0df7da",
   "metadata": {},
   "source": [
    "# Stability and Steady state prediction"
   ]
  },
  {
   "cell_type": "code",
   "execution_count": 42,
   "id": "1d9172f3-beb1-4cbc-80a5-58af28b553a2",
   "metadata": {
    "tags": []
   },
   "outputs": [
    {
     "name": "stderr",
     "output_type": "stream",
     "text": [
      "/tmp/ipykernel_992936/4103842197.py:18: FutureWarning: DataFrame.applymap has been deprecated. Use DataFrame.map instead.\n",
      "  preds_res = pd.DataFrame(preds_res).applymap(lambda x:f'{x:.2f}')\n"
     ]
    },
    {
     "data": {
      "text/html": [
       "<style type=\"text/css\">\n",
       "#T_2abd2_row0_col0, #T_2abd2_row0_col2, #T_2abd2_row0_col3, #T_2abd2_row1_col0, #T_2abd2_row1_col2, #T_2abd2_row1_col3, #T_2abd2_row2_col2, #T_2abd2_row3_col2, #T_2abd2_row4_col0, #T_2abd2_row4_col2, #T_2abd2_row4_col3, #T_2abd2_row5_col0, #T_2abd2_row5_col1, #T_2abd2_row5_col3, #T_2abd2_row6_col3 {\n",
       "  font-weight: bold;\n",
       "}\n",
       "</style>\n",
       "<table id=\"T_2abd2\">\n",
       "  <thead>\n",
       "    <tr>\n",
       "      <th class=\"blank level0\" >&nbsp;</th>\n",
       "      <th id=\"T_2abd2_level0_col0\" class=\"col_heading level0 col0\" colspan=\"2\">Jurkat</th>\n",
       "      <th id=\"T_2abd2_level0_col2\" class=\"col_heading level0 col2\" colspan=\"2\">Beas2B</th>\n",
       "    </tr>\n",
       "    <tr>\n",
       "      <th class=\"blank level1\" >&nbsp;</th>\n",
       "      <th id=\"T_2abd2_level1_col0\" class=\"col_heading level1 col0\" >steady_state</th>\n",
       "      <th id=\"T_2abd2_level1_col1\" class=\"col_heading level1 col1\" >stability</th>\n",
       "      <th id=\"T_2abd2_level1_col2\" class=\"col_heading level1 col2\" >steady_state</th>\n",
       "      <th id=\"T_2abd2_level1_col3\" class=\"col_heading level1 col3\" >stability</th>\n",
       "    </tr>\n",
       "    <tr>\n",
       "      <th class=\"index_name level0\" >model</th>\n",
       "      <th class=\"blank col0\" >&nbsp;</th>\n",
       "      <th class=\"blank col1\" >&nbsp;</th>\n",
       "      <th class=\"blank col2\" >&nbsp;</th>\n",
       "      <th class=\"blank col3\" >&nbsp;</th>\n",
       "    </tr>\n",
       "  </thead>\n",
       "  <tbody>\n",
       "    <tr>\n",
       "      <th id=\"T_2abd2_level0_row0\" class=\"row_heading level0 row0\" >Species-aware</th>\n",
       "      <td id=\"T_2abd2_row0_col0\" class=\"data row0 col0\" >0.18</td>\n",
       "      <td id=\"T_2abd2_row0_col1\" class=\"data row0 col1\" >0.34</td>\n",
       "      <td id=\"T_2abd2_row0_col2\" class=\"data row0 col2\" >0.29</td>\n",
       "      <td id=\"T_2abd2_row0_col3\" class=\"data row0 col3\" >0.46</td>\n",
       "    </tr>\n",
       "    <tr>\n",
       "      <th id=\"T_2abd2_level0_row1\" class=\"row_heading level0 row1\" >Species-agnostic</th>\n",
       "      <td id=\"T_2abd2_row1_col0\" class=\"data row1 col0\" >0.15</td>\n",
       "      <td id=\"T_2abd2_row1_col1\" class=\"data row1 col1\" >0.30</td>\n",
       "      <td id=\"T_2abd2_row1_col2\" class=\"data row1 col2\" >0.32</td>\n",
       "      <td id=\"T_2abd2_row1_col3\" class=\"data row1 col3\" >0.44</td>\n",
       "    </tr>\n",
       "    <tr>\n",
       "      <th id=\"T_2abd2_level0_row2\" class=\"row_heading level0 row2\" >DNABERT</th>\n",
       "      <td id=\"T_2abd2_row2_col0\" class=\"data row2 col0\" >0.07</td>\n",
       "      <td id=\"T_2abd2_row2_col1\" class=\"data row2 col1\" >0.08</td>\n",
       "      <td id=\"T_2abd2_row2_col2\" class=\"data row2 col2\" >0.29</td>\n",
       "      <td id=\"T_2abd2_row2_col3\" class=\"data row2 col3\" >0.13</td>\n",
       "    </tr>\n",
       "    <tr>\n",
       "      <th id=\"T_2abd2_level0_row3\" class=\"row_heading level0 row3\" >DNABERT-2</th>\n",
       "      <td id=\"T_2abd2_row3_col0\" class=\"data row3 col0\" >0.14</td>\n",
       "      <td id=\"T_2abd2_row3_col1\" class=\"data row3 col1\" >0.27</td>\n",
       "      <td id=\"T_2abd2_row3_col2\" class=\"data row3 col2\" >0.31</td>\n",
       "      <td id=\"T_2abd2_row3_col3\" class=\"data row3 col3\" >0.30</td>\n",
       "    </tr>\n",
       "    <tr>\n",
       "      <th id=\"T_2abd2_level0_row4\" class=\"row_heading level0 row4\" >NT-MS-v2-500M</th>\n",
       "      <td id=\"T_2abd2_row4_col0\" class=\"data row4 col0\" >0.16</td>\n",
       "      <td id=\"T_2abd2_row4_col1\" class=\"data row4 col1\" >0.36</td>\n",
       "      <td id=\"T_2abd2_row4_col2\" class=\"data row4 col2\" >0.28</td>\n",
       "      <td id=\"T_2abd2_row4_col3\" class=\"data row4 col3\" >0.39</td>\n",
       "    </tr>\n",
       "    <tr>\n",
       "      <th id=\"T_2abd2_level0_row5\" class=\"row_heading level0 row5\" >5mers</th>\n",
       "      <td id=\"T_2abd2_row5_col0\" class=\"data row5 col0\" >0.19</td>\n",
       "      <td id=\"T_2abd2_row5_col1\" class=\"data row5 col1\" >0.44</td>\n",
       "      <td id=\"T_2abd2_row5_col2\" class=\"data row5 col2\" >0.20</td>\n",
       "      <td id=\"T_2abd2_row5_col3\" class=\"data row5 col3\" >0.48</td>\n",
       "    </tr>\n",
       "    <tr>\n",
       "      <th id=\"T_2abd2_level0_row6\" class=\"row_heading level0 row6\" >effective_length</th>\n",
       "      <td id=\"T_2abd2_row6_col0\" class=\"data row6 col0\" >0.10</td>\n",
       "      <td id=\"T_2abd2_row6_col1\" class=\"data row6 col1\" >0.33</td>\n",
       "      <td id=\"T_2abd2_row6_col2\" class=\"data row6 col2\" >0.22</td>\n",
       "      <td id=\"T_2abd2_row6_col3\" class=\"data row6 col3\" >0.44</td>\n",
       "    </tr>\n",
       "  </tbody>\n",
       "</table>\n"
      ],
      "text/plain": [
       "<pandas.io.formats.style.Styler at 0x7fa685c0b9d0>"
      ]
     },
     "execution_count": 42,
     "metadata": {},
     "output_type": "execute_result"
    }
   ],
   "source": [
    "preds_res = {}\n",
    "best_models = {}\n",
    "\n",
    "alpha = 0.05/((len(models)-1)*2*2) #significance level with Bonferroni correction (7 models x 2 cell types x 2 response types)\n",
    "\n",
    "for cell_type in ('Jurkat', 'Beas2B'):\n",
    "    \n",
    "    for response in ('steady_state','stability'):\n",
    "        \n",
    "        #per_fold_scores = res[(response,cell_type)].groupby(\n",
    "        #    ['model','chrom']).apply(compute_score).rename('score').reset_index()\n",
    "        \n",
    "        #preds_res[(cell_type,response)] = per_fold_scores.groupby('model').score.mean()\n",
    "        \n",
    "        preds_res[(cell_type,response)] = res[(response,cell_type)].groupby('model').apply(compute_score)\n",
    "        best_models[(cell_type,response)] = get_best_models(res[(response,cell_type)], alpha=alpha)\n",
    "        \n",
    "preds_res = pd.DataFrame(preds_res).applymap(lambda x:f'{x:.2f}')\n",
    "\n",
    "preds_res.loc[models].round(2).style.apply(lambda x: highlight_ns(x, best_models))"
   ]
  },
  {
   "cell_type": "markdown",
   "id": "5c861565-4113-43b4-8201-8f556f751623",
   "metadata": {},
   "source": [
    "# Differential expression"
   ]
  },
  {
   "cell_type": "markdown",
   "id": "8d997331-b784-42ec-a769-bdfd11881be6",
   "metadata": {},
   "source": [
    "'To predict the effect of mutations, we simply subtract the18\n",
    "predicted expression or decay time of the wild-type from the19\n",
    "predicted expression or decay time of the mutant; we do not20\n",
    "train and test on the difference data directly.'\n",
    "\n",
    "see Siegel, David A., et al. \"Massively parallel analysis of human 3′ UTRs reveals that AU-rich element length and registration predict mRNA destabilization.\" G3 12.1 (2022): jkab404.\n",
    "\n",
    "Rabani, Michal, et al. \"A massively parallel reporter assay of 3′ UTR sequences identifies in vivo rules for mRNA degradation.\" Molecular cell 68.6 (2017): 1083-1094."
   ]
  },
  {
   "cell_type": "code",
   "execution_count": 31,
   "id": "97f116e6-1738-4c1c-bf98-645102bcea01",
   "metadata": {
    "tags": []
   },
   "outputs": [
    {
     "name": "stderr",
     "output_type": "stream",
     "text": [
      "/tmp/ipykernel_986412/695370563.py:25: FutureWarning: DataFrame.applymap has been deprecated. Use DataFrame.map instead.\n",
      "  preds_res = pd.DataFrame(preds_res).applymap(lambda x:f'{x:.2f}')\n"
     ]
    },
    {
     "data": {
      "text/html": [
       "<style type=\"text/css\">\n",
       "#T_8afff_row0_col0, #T_8afff_row0_col1, #T_8afff_row0_col2, #T_8afff_row0_col3, #T_8afff_row1_col1, #T_8afff_row1_col3, #T_8afff_row2_col1, #T_8afff_row2_col3, #T_8afff_row3_col1, #T_8afff_row3_col3, #T_8afff_row4_col1, #T_8afff_row4_col3, #T_8afff_row5_col0, #T_8afff_row5_col1, #T_8afff_row5_col2, #T_8afff_row5_col3, #T_8afff_row6_col0, #T_8afff_row6_col1, #T_8afff_row6_col2, #T_8afff_row6_col3, #T_8afff_row7_col0, #T_8afff_row7_col1, #T_8afff_row7_col2, #T_8afff_row7_col3, #T_8afff_row8_col0, #T_8afff_row8_col1, #T_8afff_row8_col2, #T_8afff_row8_col3 {\n",
       "  font-weight: bold;\n",
       "}\n",
       "</style>\n",
       "<table id=\"T_8afff\">\n",
       "  <thead>\n",
       "    <tr>\n",
       "      <th class=\"blank level0\" >&nbsp;</th>\n",
       "      <th id=\"T_8afff_level0_col0\" class=\"col_heading level0 col0\" colspan=\"2\">Jurkat</th>\n",
       "      <th id=\"T_8afff_level0_col2\" class=\"col_heading level0 col2\" colspan=\"2\">Beas2B</th>\n",
       "    </tr>\n",
       "    <tr>\n",
       "      <th class=\"blank level1\" >&nbsp;</th>\n",
       "      <th id=\"T_8afff_level1_col0\" class=\"col_heading level1 col0\" >steady_state</th>\n",
       "      <th id=\"T_8afff_level1_col1\" class=\"col_heading level1 col1\" >stability</th>\n",
       "      <th id=\"T_8afff_level1_col2\" class=\"col_heading level1 col2\" >steady_state</th>\n",
       "      <th id=\"T_8afff_level1_col3\" class=\"col_heading level1 col3\" >stability</th>\n",
       "    </tr>\n",
       "    <tr>\n",
       "      <th class=\"index_name level0\" >model</th>\n",
       "      <th class=\"blank col0\" >&nbsp;</th>\n",
       "      <th class=\"blank col1\" >&nbsp;</th>\n",
       "      <th class=\"blank col2\" >&nbsp;</th>\n",
       "      <th class=\"blank col3\" >&nbsp;</th>\n",
       "    </tr>\n",
       "  </thead>\n",
       "  <tbody>\n",
       "    <tr>\n",
       "      <th id=\"T_8afff_level0_row0\" class=\"row_heading level0 row0\" >Species-aware</th>\n",
       "      <td id=\"T_8afff_row0_col0\" class=\"data row0 col0\" >0.02</td>\n",
       "      <td id=\"T_8afff_row0_col1\" class=\"data row0 col1\" >0.09</td>\n",
       "      <td id=\"T_8afff_row0_col2\" class=\"data row0 col2\" >0.10</td>\n",
       "      <td id=\"T_8afff_row0_col3\" class=\"data row0 col3\" >0.28</td>\n",
       "    </tr>\n",
       "    <tr>\n",
       "      <th id=\"T_8afff_level0_row1\" class=\"row_heading level0 row1\" >Species-agnostic</th>\n",
       "      <td id=\"T_8afff_row1_col0\" class=\"data row1 col0\" >nan</td>\n",
       "      <td id=\"T_8afff_row1_col1\" class=\"data row1 col1\" >0.08</td>\n",
       "      <td id=\"T_8afff_row1_col2\" class=\"data row1 col2\" >nan</td>\n",
       "      <td id=\"T_8afff_row1_col3\" class=\"data row1 col3\" >0.24</td>\n",
       "    </tr>\n",
       "    <tr>\n",
       "      <th id=\"T_8afff_level0_row2\" class=\"row_heading level0 row2\" >DNABERT</th>\n",
       "      <td id=\"T_8afff_row2_col0\" class=\"data row2 col0\" >nan</td>\n",
       "      <td id=\"T_8afff_row2_col1\" class=\"data row2 col1\" >-0.01</td>\n",
       "      <td id=\"T_8afff_row2_col2\" class=\"data row2 col2\" >nan</td>\n",
       "      <td id=\"T_8afff_row2_col3\" class=\"data row2 col3\" >0.03</td>\n",
       "    </tr>\n",
       "    <tr>\n",
       "      <th id=\"T_8afff_level0_row3\" class=\"row_heading level0 row3\" >DNABERT-2</th>\n",
       "      <td id=\"T_8afff_row3_col0\" class=\"data row3 col0\" >nan</td>\n",
       "      <td id=\"T_8afff_row3_col1\" class=\"data row3 col1\" >0.02</td>\n",
       "      <td id=\"T_8afff_row3_col2\" class=\"data row3 col2\" >nan</td>\n",
       "      <td id=\"T_8afff_row3_col3\" class=\"data row3 col3\" >0.03</td>\n",
       "    </tr>\n",
       "    <tr>\n",
       "      <th id=\"T_8afff_level0_row4\" class=\"row_heading level0 row4\" >NT-MS-v2-500M</th>\n",
       "      <td id=\"T_8afff_row4_col0\" class=\"data row4 col0\" >nan</td>\n",
       "      <td id=\"T_8afff_row4_col1\" class=\"data row4 col1\" >0.05</td>\n",
       "      <td id=\"T_8afff_row4_col2\" class=\"data row4 col2\" >nan</td>\n",
       "      <td id=\"T_8afff_row4_col3\" class=\"data row4 col3\" >0.15</td>\n",
       "    </tr>\n",
       "    <tr>\n",
       "      <th id=\"T_8afff_level0_row5\" class=\"row_heading level0 row5\" >4mers</th>\n",
       "      <td id=\"T_8afff_row5_col0\" class=\"data row5 col0\" >0.03</td>\n",
       "      <td id=\"T_8afff_row5_col1\" class=\"data row5 col1\" >0.07</td>\n",
       "      <td id=\"T_8afff_row5_col2\" class=\"data row5 col2\" >0.03</td>\n",
       "      <td id=\"T_8afff_row5_col3\" class=\"data row5 col3\" >0.19</td>\n",
       "    </tr>\n",
       "    <tr>\n",
       "      <th id=\"T_8afff_level0_row6\" class=\"row_heading level0 row6\" >5mers</th>\n",
       "      <td id=\"T_8afff_row6_col0\" class=\"data row6 col0\" >0.02</td>\n",
       "      <td id=\"T_8afff_row6_col1\" class=\"data row6 col1\" >0.10</td>\n",
       "      <td id=\"T_8afff_row6_col2\" class=\"data row6 col2\" >0.01</td>\n",
       "      <td id=\"T_8afff_row6_col3\" class=\"data row6 col3\" >0.21</td>\n",
       "    </tr>\n",
       "    <tr>\n",
       "      <th id=\"T_8afff_level0_row7\" class=\"row_heading level0 row7\" >word2vec</th>\n",
       "      <td id=\"T_8afff_row7_col0\" class=\"data row7 col0\" >0.03</td>\n",
       "      <td id=\"T_8afff_row7_col1\" class=\"data row7 col1\" >0.07</td>\n",
       "      <td id=\"T_8afff_row7_col2\" class=\"data row7 col2\" >0.04</td>\n",
       "      <td id=\"T_8afff_row7_col3\" class=\"data row7 col3\" >0.22</td>\n",
       "    </tr>\n",
       "    <tr>\n",
       "      <th id=\"T_8afff_level0_row8\" class=\"row_heading level0 row8\" >effective_length</th>\n",
       "      <td id=\"T_8afff_row8_col0\" class=\"data row8 col0\" >0.07</td>\n",
       "      <td id=\"T_8afff_row8_col1\" class=\"data row8 col1\" >0.11</td>\n",
       "      <td id=\"T_8afff_row8_col2\" class=\"data row8 col2\" >0.06</td>\n",
       "      <td id=\"T_8afff_row8_col3\" class=\"data row8 col3\" >0.28</td>\n",
       "    </tr>\n",
       "  </tbody>\n",
       "</table>\n"
      ],
      "text/plain": [
       "<pandas.io.formats.style.Styler at 0x7f0e549a32b0>"
      ]
     },
     "execution_count": 31,
     "metadata": {},
     "output_type": "execute_result"
    }
   ],
   "source": [
    "preds_res = {}\n",
    "best_models = {}\n",
    "\n",
    "alpha = 0.05/(5*2*2) #significance level with Bonferroni correction (5 models x 2 cell types x 2 response types)\n",
    "\n",
    "for cell_type in ('Jurkat', 'Beas2B'):\n",
    "    \n",
    "    for response in ('steady_state','stability'):\n",
    "        \n",
    "        df = res[(response,cell_type)]\n",
    "\n",
    "        ref_df = df[df.iscontrol==1]\n",
    "        alt_df = df[df.iscontrol==0]\n",
    "\n",
    "        delta_df = alt_df.merge(ref_df, on =['parent_control_oligo','model'], suffixes=('_alt','_ref'))\n",
    "\n",
    "        delta_df['y_true'] = delta_df.y_true_alt - delta_df.y_true_ref\n",
    "        delta_df['y_pred'] = delta_df.y_pred_alt - delta_df.y_pred_ref\n",
    "\n",
    "        delta_df = delta_df[~delta_df.y_true.isna()]\n",
    "\n",
    "        preds_res[(cell_type,response)] = delta_df.groupby('model').apply(compute_score)\n",
    "        best_models[(cell_type,response)] = get_best_models(delta_df, alpha=alpha)\n",
    "\n",
    "preds_res = pd.DataFrame(preds_res).applymap(lambda x:f'{x:.2f}')\n",
    "preds_res.loc[models].round(2).style.apply(lambda x: highlight_ns(x, best_models))"
   ]
  },
  {
   "cell_type": "code",
   "execution_count": null,
   "id": "410c5d00-8d34-497d-b0a8-4066fe43424d",
   "metadata": {},
   "outputs": [],
   "source": []
  }
 ],
 "metadata": {
  "kernelspec": {
   "display_name": "Python 3 (ipykernel)",
   "language": "python",
   "name": "python3"
  },
  "language_info": {
   "codemirror_mode": {
    "name": "ipython",
    "version": 3
   },
   "file_extension": ".py",
   "mimetype": "text/x-python",
   "name": "python",
   "nbconvert_exporter": "python",
   "pygments_lexer": "ipython3",
   "version": "3.10.13"
  }
 },
 "nbformat": 4,
 "nbformat_minor": 5
}

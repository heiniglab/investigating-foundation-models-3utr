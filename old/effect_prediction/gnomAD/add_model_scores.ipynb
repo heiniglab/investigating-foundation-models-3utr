{
 "cells": [
  {
   "cell_type": "code",
   "execution_count": 1,
   "id": "bb58da27-c136-44c2-bd19-0854512e54e9",
   "metadata": {},
   "outputs": [],
   "source": [
    "import numpy as np\n",
    "import pandas as pd\n",
    "import pickle\n",
    "from collections import defaultdict\n",
    "import matplotlib.pyplot as plt\n",
    "from tqdm import tqdm\n",
    "from glob import glob\n",
    "\n",
    "import sklearn, sklearn.linear_model, sklearn.metrics, sklearn.pipeline,sklearn.ensemble\n",
    "\n",
    "import matplotlib\n",
    "import scipy.stats\n",
    "\n",
    "matplotlib.rcParams.update({'font.size': 16})"
   ]
  },
  {
   "cell_type": "code",
   "execution_count": 2,
   "id": "890b6ff8-30b1-4bbc-b666-dce036d99786",
   "metadata": {},
   "outputs": [],
   "source": [
    "data_dir = '/lustre/groups/epigenereg01/workspace/projects/vale/MLM/'"
   ]
  },
  {
   "cell_type": "code",
   "execution_count": 3,
   "id": "9a54b846-18b8-4de3-ba3d-78dc16a9b087",
   "metadata": {},
   "outputs": [],
   "source": [
    "#3'UTR table\n",
    "\n",
    "utr_table = pd.read_csv(data_dir + 'UTR_coords/GRCh38_3_prime_UTR_clean-sorted.bed', sep='\\t',\n",
    "                       header = None, names=['seq_start','seq_end','seq_name','strand'], usecols=[1,2,3,5])"
   ]
  },
  {
   "cell_type": "code",
   "execution_count": 4,
   "id": "de2f4aa8-2557-42a0-9dc6-9af4bdf20682",
   "metadata": {},
   "outputs": [],
   "source": [
    "utr_variants = pd.read_csv(data_dir + 'gnomAD/gnomAD_GRCh38.utr3.tsv.gz', names=['chrom','pos','ref','alt','seq_name','AC','AF','AF_popmax'],\n",
    "                        comment='#',sep='\\t',header=None)"
   ]
  },
  {
   "cell_type": "code",
   "execution_count": 5,
   "id": "b1c7e4ee-4044-4218-a0cd-a4c5996e864e",
   "metadata": {},
   "outputs": [
    {
     "name": "stderr",
     "output_type": "stream",
     "text": [
      "/tmp/ipykernel_2287351/1892116151.py:6: FutureWarning: Setting an item of incompatible dtype is deprecated and will raise in a future error of pandas. Value 'SNP' has dtype incompatible with float64, please explicitly cast to a compatible dtype first.\n",
      "  utr_variants.loc[(len_ref==1)&(len_alt==1),'vartype'] = 'SNP'\n"
     ]
    }
   ],
   "source": [
    "utr_variants.pos = utr_variants.pos-1 #to 0-based\n",
    "\n",
    "len_ref = utr_variants.ref.apply(len)\n",
    "len_alt = utr_variants.alt.apply(len)\n",
    "\n",
    "utr_variants.loc[(len_ref==1)&(len_alt==1),'vartype'] = 'SNP'\n",
    "utr_variants.loc[(len_ref>1)&(len_alt==1),'vartype'] = 'DEL'\n",
    "utr_variants.loc[(len_ref==1)&(len_alt>1),'vartype'] = 'INS'\n",
    "\n",
    "utr_variants = utr_variants[~utr_variants.isna()] #not SNPs and not INDELs"
   ]
  },
  {
   "cell_type": "code",
   "execution_count": 6,
   "id": "64c7ebea-fbe1-48a8-8f65-79b2be6af086",
   "metadata": {},
   "outputs": [],
   "source": [
    "utr_variants = utr_variants.merge(utr_table, how='left')"
   ]
  },
  {
   "cell_type": "code",
   "execution_count": 7,
   "id": "5b2292c9-c0ec-43b0-ace6-a8f85ce02ce8",
   "metadata": {},
   "outputs": [],
   "source": [
    "utr_variants.loc[utr_variants.strand=='+','pos_rel'] = utr_variants[utr_variants.strand=='+'].pos - utr_variants[utr_variants.strand=='+'].seq_start\n",
    "utr_variants.loc[utr_variants.strand=='-','pos_rel'] = utr_variants[utr_variants.strand=='-'].seq_end - utr_variants[utr_variants.strand=='-'].pos-1\n",
    "utr_variants.pos_rel = utr_variants.pos_rel.astype(int)"
   ]
  },
  {
   "cell_type": "code",
   "execution_count": 8,
   "id": "de041d04-94c5-4fee-9664-714177346cee",
   "metadata": {},
   "outputs": [],
   "source": [
    "utr_variants = utr_variants[utr_variants.pos_rel<5000] #limit by the maximum sequence length on species-aware model"
   ]
  },
  {
   "cell_type": "code",
   "execution_count": 13,
   "id": "0f732a8a-129e-45a4-9eef-d3198bced3de",
   "metadata": {},
   "outputs": [],
   "source": [
    "models = { 'Species-agnostic':'motif_predictions/species_agnostic/probas','Species-aware':'motif_predictions/species_aware/probas', \n",
    "          'DNABERT': 'motif_predictions/split_75_25/dnabert/default/', '11-mer':'motif_predictions/K-mer/11_mer',\n",
    "          'PhyloP100': 'PhyloP/PhyloP100_3UTR' ,'PhyloP241': 'PhyloP/PhyloP241_3UTR'}"
   ]
  },
  {
   "cell_type": "code",
   "execution_count": 14,
   "id": "f8ef22e1-4cf4-4826-ac50-37b5812a0768",
   "metadata": {},
   "outputs": [],
   "source": [
    "#utr_variants = pd.read_csv(data_dir + 'gnomAD/model_scores.tsv.gz', sep='\\t')"
   ]
  },
  {
   "cell_type": "code",
   "execution_count": null,
   "id": "8a57781b-ab28-4d5e-97ca-72c60eede8d9",
   "metadata": {},
   "outputs": [],
   "source": [
    "for model_name in ('PhyloP100','PhyloP241','11-mer',):\n",
    "\n",
    "    print(model_name)\n",
    "\n",
    "    with open(data_dir + models[model_name] + '.pickle', 'rb') as f:\n",
    "        probas = dict(pickle.load(f))\n",
    "        \n",
    "    for var_idx, var in tqdm(utr_variants.iterrows(), total=len(utr_variants)):\n",
    "        if var.seq_name in probas.keys():\n",
    "            if var.vartype=='SNP':\n",
    "                utr_variants.at[var_idx,model_name] = probas[var.seq_name][var.pos_rel]\n",
    "            else:\n",
    "                if var.vartype=='INS':\n",
    "                    left, right = var.pos_rel-2, var.pos_rel+2\n",
    "                else:\n",
    "                    if var.strand=='+':\n",
    "                        left, right = var.pos_rel, var.pos_rel+len(var.ref)\n",
    "                    else:\n",
    "                        left, right = var.pos_rel-len(var.ref), var.pos_rel\n",
    "                utr_variants.at[var_idx,model_name] = np.mean(probas[var.seq_name][left:right])"
   ]
  },
  {
   "cell_type": "code",
   "execution_count": 16,
   "id": "7a8a08ea-c6ca-47b8-8bdb-1315a48d8bd2",
   "metadata": {},
   "outputs": [],
   "source": [
    "mapping = {'A':0,'C':1,'G':2,'T':3}"
   ]
  },
  {
   "cell_type": "code",
   "execution_count": 20,
   "id": "0fd43874-3835-40fd-90ff-8bba42c7bef1",
   "metadata": {},
   "outputs": [],
   "source": [
    "human_fasta = data_dir + 'fasta/240_species/species/Homo_sapiens.fa' #3'UTR on hegative strand should already be reversed\n",
    "\n",
    "human_utr = defaultdict(str)\n",
    "\n",
    "with open(human_fasta, 'r') as f:\n",
    "    for line in f:\n",
    "        if line.startswith('>'):\n",
    "            seq_name = line[1:].split(':')[0]\n",
    "        else:\n",
    "            human_utr[seq_name] += line.rstrip().upper()"
   ]
  },
  {
   "cell_type": "code",
   "execution_count": 17,
   "id": "ac7458a9-a1f2-4506-92a0-c580092162fc",
   "metadata": {},
   "outputs": [],
   "source": [
    "def get_dnabert(res_path):\n",
    "    res = {}\n",
    "    for probas_file in glob(res_path + 'preds*.npy'):\n",
    "        seq_matching = pd.read_csv(probas_file.replace('/preds','/seq').replace('.npy','.csv')).set_index('seq_name').squeeze()\n",
    "        probas = np.load(probas_file)\n",
    "        s = 0\n",
    "        for seq_name, seq in seq_matching.items():\n",
    "            #res[seq_name] = [x[mapping[seq[seq_idx]]] for seq_idx,x in enumerate(probas[s:s+len(seq),:])]\n",
    "            res[seq_name] = probas[s:s+len(seq),:]\n",
    "            s += len(seq)\n",
    "        assert s==len(probas)\n",
    "    return res"
   ]
  },
  {
   "cell_type": "code",
   "execution_count": 21,
   "id": "e04a844c-f587-4aa5-9529-e8527c6891a7",
   "metadata": {},
   "outputs": [],
   "source": [
    "def add_model_res(model_name):\n",
    "\n",
    "    print(model_name)\n",
    "\n",
    "    if not 'DNABERT' in model_name:\n",
    "        with open(data_dir + models[model_name] + '.pickle', 'rb') as f:\n",
    "            probas = dict(pickle.load(f))\n",
    "        #if 'Species' in model_name:\n",
    "        #    probas = {k:v/v.sum(1, keepdims=True) for k,v in probas.items()} #normalize probabilities to 1\n",
    "    else:\n",
    "        probas = get_dnabert(data_dir + models[model_name])\n",
    "        \n",
    "    for var_idx, var in tqdm(utr_variants.iterrows(), total=len(utr_variants)):\n",
    "        if var.seq_name in probas.keys():\n",
    "            if var.vartype=='SNP':\n",
    "                utr_variants.at[var_idx, model_name+'_alt'] = probas[var.seq_name][var.pos_rel, mapping[var.alt]]\n",
    "                utr_variants.at[var_idx, model_name+'_ref'] = probas[var.seq_name][var.pos_rel, mapping[var.ref]]\n",
    "            else:\n",
    "                if var.vartype=='INS':\n",
    "                    left, right = var.pos_rel-2, var.pos_rel+2\n",
    "                else:\n",
    "                    if var.strand=='+':\n",
    "                        left, right = var.pos_rel, var.pos_rel+len(var.ref)\n",
    "                    else:\n",
    "                        left, right = var.pos_rel-len(var.ref), var.pos_rel\n",
    "                ref_score = []\n",
    "                seq = human_utr[var.seq_name]\n",
    "                for pos_rel in range(max(left,0),min(right,len(seq))):\n",
    "                    ref_score.append(probas[var.seq_name][pos_rel, mapping[seq[pos_rel]]]) \n",
    "                    #ref_score.append(np.max(probas[var.seq_name][pos_rel])) \n",
    "                utr_variants.at[var_idx, model_name+'_ref'] = np.mean(ref_score)"
   ]
  },
  {
   "cell_type": "code",
   "execution_count": 22,
   "id": "a82426ea-05ad-4c35-be0a-4251a03b09d0",
   "metadata": {},
   "outputs": [
    {
     "name": "stdout",
     "output_type": "stream",
     "text": [
      "DNABERT\n"
     ]
    },
    {
     "name": "stderr",
     "output_type": "stream",
     "text": [
      " 12%|█▏        | 770098/6377294 [00:43<05:22, 17412.02it/s]/home/icb/sergey.vilov/miniconda3/envs/mlm/lib/python3.10/site-packages/numpy/core/fromnumeric.py:3504: RuntimeWarning: Mean of empty slice.\n",
      "  return _methods._mean(a, axis=axis, dtype=dtype,\n",
      "/home/icb/sergey.vilov/miniconda3/envs/mlm/lib/python3.10/site-packages/numpy/core/_methods.py:129: RuntimeWarning: invalid value encountered in scalar divide\n",
      "  ret = ret.dtype.type(ret / rcount)\n",
      "100%|██████████| 6377294/6377294 [05:36<00:00, 18962.88it/s]\n"
     ]
    }
   ],
   "source": [
    "add_model_res('DNABERT')"
   ]
  },
  {
   "cell_type": "code",
   "execution_count": null,
   "id": "71eff750-bf92-48a6-babe-53054a9fd019",
   "metadata": {},
   "outputs": [],
   "source": [
    "for model_name in ('Species-aware', 'Species-agnostic', 'DNABERT'):\n",
    "    add_model_res(model_name)"
   ]
  },
  {
   "cell_type": "code",
   "execution_count": 23,
   "id": "03d843b3-a711-4651-b05c-5cd66ee5e36d",
   "metadata": {},
   "outputs": [],
   "source": [
    "utr_variants.to_csv(data_dir + 'gnomAD/model_scores.tsv.gz', sep='\\t', index=None)"
   ]
  },
  {
   "cell_type": "code",
   "execution_count": 24,
   "id": "50874e47-1ce8-4d08-9210-548da7f50433",
   "metadata": {},
   "outputs": [
    {
     "name": "stdout",
     "output_type": "stream",
     "text": [
      "-rw-rw-r--+ 1 sergey.vilov OG-ICB-User 416M Oct 10 15:38 /lustre/groups/epigenereg01/workspace/projects/vale/MLM/gnomAD/model_scores.tsv.gz\n"
     ]
    }
   ],
   "source": [
    "! ls -alh {data_dir + 'gnomAD/model_scores.tsv.gz'}"
   ]
  },
  {
   "cell_type": "code",
   "execution_count": null,
   "id": "b8cebb31-27d4-45c9-9d94-89b2b1222c77",
   "metadata": {},
   "outputs": [],
   "source": []
  }
 ],
 "metadata": {
  "kernelspec": {
   "display_name": "Python 3 (ipykernel)",
   "language": "python",
   "name": "python3"
  },
  "language_info": {
   "codemirror_mode": {
    "name": "ipython",
    "version": 3
   },
   "file_extension": ".py",
   "mimetype": "text/x-python",
   "name": "python",
   "nbconvert_exporter": "python",
   "pygments_lexer": "ipython3",
   "version": "3.10.13"
  }
 },
 "nbformat": 4,
 "nbformat_minor": 5
}

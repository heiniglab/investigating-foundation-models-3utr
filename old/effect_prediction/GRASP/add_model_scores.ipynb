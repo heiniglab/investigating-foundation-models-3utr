{
 "cells": [
  {
   "cell_type": "code",
   "execution_count": 1,
   "id": "bb58da27-c136-44c2-bd19-0854512e54e9",
   "metadata": {},
   "outputs": [],
   "source": [
    "import numpy as np\n",
    "import pandas as pd\n",
    "import pickle\n",
    "from collections import defaultdict\n",
    "import matplotlib.pyplot as plt\n",
    "from tqdm import tqdm\n",
    "from glob import glob\n",
    "import re\n",
    "\n",
    "import sklearn, sklearn.linear_model, sklearn.metrics, sklearn.pipeline,sklearn.ensemble\n",
    "\n",
    "import matplotlib\n",
    "import scipy.stats\n",
    "\n",
    "matplotlib.rcParams.update({'font.size': 16})"
   ]
  },
  {
   "cell_type": "code",
   "execution_count": 2,
   "id": "890b6ff8-30b1-4bbc-b666-dce036d99786",
   "metadata": {},
   "outputs": [],
   "source": [
    "data_dir = '/lustre/groups/epigenereg01/workspace/projects/vale/MLM/'"
   ]
  },
  {
   "cell_type": "code",
   "execution_count": 3,
   "id": "9a54b846-18b8-4de3-ba3d-78dc16a9b087",
   "metadata": {},
   "outputs": [],
   "source": [
    "#3'UTR table\n",
    "\n",
    "utr_table = pd.read_csv(data_dir + 'UTR_coords/GRCh38_3_prime_UTR_clean-sorted.bed', sep='\\t',\n",
    "                       header = None, names=['seq_start','seq_end','seq_name','strand'], usecols=[1,2,3,5])"
   ]
  },
  {
   "cell_type": "code",
   "execution_count": 4,
   "id": "78628246-8be3-4758-8ece-ea62d92a2baf",
   "metadata": {},
   "outputs": [],
   "source": [
    "gnomAD_all = pd.read_csv(data_dir + 'gnomAD/gnomAD_GRCh38.utr3.tsv.gz', sep='\\t', names=['chrom','pos','ref','alt','seq_name','AC','AF'])\n",
    "gnomAD_neg = gnomAD_all.loc[gnomAD_all.AF>0.05, ['chrom','pos','ref','alt','seq_name']]\n",
    "gnomAD_neg.pos = gnomAD_neg.pos-1 #position to 0-based\n",
    "gnomAD_neg['label'] = 0"
   ]
  },
  {
   "cell_type": "code",
   "execution_count": 22,
   "id": "550d00ac-a85d-4bc8-8109-3f5ddb0584fd",
   "metadata": {},
   "outputs": [],
   "source": [
    "eqtl_scores = pd.read_csv(data_dir + f'GRASP/GRASP2eQTL.3utr.bed', sep='\\t', \n",
    "                           names=['chrom','pos','info'], usecols=[0,1,3])\n",
    "\n",
    "meqtl_scores = pd.read_csv(data_dir + f'GRASP/GRASP2meQTL.3utr.bed', sep='\\t', \n",
    "                           names=['chrom','pos','info'], usecols=[0,1,3])\n",
    "\n",
    "eqtl_scores['QTL_type'] = 'eQTL'\n",
    "meqtl_scores['QTL_type'] = 'meQTL'\n",
    "\n",
    "qtl_scores = pd.concat([eqtl_scores,meqtl_scores])"
   ]
  },
  {
   "cell_type": "code",
   "execution_count": 23,
   "id": "16430cd1-b6ad-4f0f-bbd4-3d5907180984",
   "metadata": {},
   "outputs": [],
   "source": [
    "def search_pattern(pattern, string, placeholder=None):\n",
    "    p = re.search(pattern, string)\n",
    "    if p:\n",
    "        return p.groups()[0]\n",
    "    else:\n",
    "        return placeholder    \n",
    "\n",
    "qtl_scores['ref'] = qtl_scores['info'].apply(lambda x:search_pattern('dbSNPalleles=(.*)/',x))\n",
    "qtl_scores['alt'] = qtl_scores['info'].apply(lambda x:search_pattern('dbSNPalleles=[ACGT]/(.*);',x))\n",
    "qtl_scores['seq_name'] = qtl_scores['info'].apply(lambda x:search_pattern('seq_name=(.*)',x))\n",
    "\n",
    "qtl_scores = qtl_scores[(~qtl_scores.ref.isna())&(~qtl_scores.alt.isna())]\n",
    "qtl_scores = qtl_scores[(qtl_scores.ref.str.len()==1)&(qtl_scores.alt.str.len()==1)]"
   ]
  },
  {
   "cell_type": "code",
   "execution_count": 24,
   "id": "fdf158c9-c1a8-4005-b351-dbebb0c336bf",
   "metadata": {},
   "outputs": [],
   "source": [
    "qtl_scores = qtl_scores[['chrom','pos','ref','alt','seq_name','QTL_type']]\n",
    "qtl_scores['label'] = 1"
   ]
  },
  {
   "cell_type": "code",
   "execution_count": 25,
   "id": "c69df536-6c9e-4a01-859a-4eddcacabdc9",
   "metadata": {},
   "outputs": [],
   "source": [
    "utr_variants = pd.concat([qtl_scores,gnomAD_neg]).reset_index(drop=True).drop_duplicates(subset=['chrom','pos','ref','alt'], keep='first')"
   ]
  },
  {
   "cell_type": "code",
   "execution_count": 26,
   "id": "b9ffa880-9bb4-4164-acb9-4ba8bcc39515",
   "metadata": {},
   "outputs": [
    {
     "name": "stderr",
     "output_type": "stream",
     "text": [
      "/tmp/ipykernel_2462945/2409691918.py:4: FutureWarning: Setting an item of incompatible dtype is deprecated and will raise in a future error of pandas. Value 'SNP' has dtype incompatible with float64, please explicitly cast to a compatible dtype first.\n",
      "  utr_variants.loc[(len_ref==1)&(len_alt==1),'vartype'] = 'SNP'\n"
     ]
    }
   ],
   "source": [
    "len_ref = utr_variants.ref.apply(len)\n",
    "len_alt = utr_variants.alt.apply(len)\n",
    "\n",
    "utr_variants.loc[(len_ref==1)&(len_alt==1),'vartype'] = 'SNP'\n",
    "utr_variants.loc[(len_ref>1)&(len_alt==1),'vartype'] = 'DEL'\n",
    "utr_variants.loc[(len_ref==1)&(len_alt>1),'vartype'] = 'INS'\n",
    "\n",
    "utr_variants = utr_variants[utr_variants.vartype == 'SNP'] "
   ]
  },
  {
   "cell_type": "code",
   "execution_count": 27,
   "id": "64c7ebea-fbe1-48a8-8f65-79b2be6af086",
   "metadata": {},
   "outputs": [],
   "source": [
    "utr_variants = utr_variants.merge(utr_table, how='left')"
   ]
  },
  {
   "cell_type": "code",
   "execution_count": 28,
   "id": "5b2292c9-c0ec-43b0-ace6-a8f85ce02ce8",
   "metadata": {},
   "outputs": [],
   "source": [
    "utr_variants.loc[utr_variants.strand=='+','pos_rel'] = utr_variants[utr_variants.strand=='+'].pos - utr_variants[utr_variants.strand=='+'].seq_start\n",
    "utr_variants.loc[utr_variants.strand=='-','pos_rel'] = utr_variants[utr_variants.strand=='-'].seq_end - utr_variants[utr_variants.strand=='-'].pos-1\n",
    "utr_variants.pos_rel = utr_variants.pos_rel.astype(int)"
   ]
  },
  {
   "cell_type": "code",
   "execution_count": 29,
   "id": "de041d04-94c5-4fee-9664-714177346cee",
   "metadata": {},
   "outputs": [],
   "source": [
    "utr_variants = utr_variants[utr_variants.pos_rel<5000] #limit by the maximum sequence length on species-aware model"
   ]
  },
  {
   "cell_type": "code",
   "execution_count": 30,
   "id": "0f732a8a-129e-45a4-9eef-d3198bced3de",
   "metadata": {},
   "outputs": [],
   "source": [
    "models = { 'Species-agnostic':'motif_predictions/species_agnostic/probas','Species-aware':'motif_predictions/species_aware/probas', \n",
    "          'DNABERT': 'motif_predictions/split_75_25/dnabert/default/', '11-mer':'motif_predictions/K-mer/11_mer',\n",
    "          'PhyloP100': 'PhyloP/PhyloP100_3UTR' ,'PhyloP241': 'PhyloP/PhyloP241_3UTR'}"
   ]
  },
  {
   "cell_type": "code",
   "execution_count": 31,
   "id": "f8ef22e1-4cf4-4826-ac50-37b5812a0768",
   "metadata": {},
   "outputs": [],
   "source": [
    "#utr_variants = pd.read_csv(data_dir + 'gnomAD/model_scores.tsv.gz', sep='\\t')"
   ]
  },
  {
   "cell_type": "code",
   "execution_count": 32,
   "id": "8a57781b-ab28-4d5e-97ca-72c60eede8d9",
   "metadata": {},
   "outputs": [
    {
     "name": "stdout",
     "output_type": "stream",
     "text": [
      "PhyloP100\n"
     ]
    },
    {
     "name": "stderr",
     "output_type": "stream",
     "text": [
      "100%|██████████| 60134/60134 [00:03<00:00, 15114.35it/s]\n"
     ]
    },
    {
     "name": "stdout",
     "output_type": "stream",
     "text": [
      "PhyloP241\n"
     ]
    },
    {
     "name": "stderr",
     "output_type": "stream",
     "text": [
      "100%|██████████| 60134/60134 [00:03<00:00, 15206.10it/s]\n"
     ]
    },
    {
     "name": "stdout",
     "output_type": "stream",
     "text": [
      "11-mer\n"
     ]
    },
    {
     "name": "stderr",
     "output_type": "stream",
     "text": [
      "100%|██████████| 60134/60134 [00:03<00:00, 15302.30it/s]\n"
     ]
    }
   ],
   "source": [
    "for model_name in ('PhyloP100','PhyloP241','11-mer',):\n",
    "\n",
    "    print(model_name)\n",
    "\n",
    "    with open(data_dir + models[model_name] + '.pickle', 'rb') as f:\n",
    "        probas = dict(pickle.load(f))\n",
    "        \n",
    "    for var_idx, var in tqdm(utr_variants.iterrows(), total=len(utr_variants)):\n",
    "        if var.seq_name in probas.keys():\n",
    "            if var.vartype=='SNP':\n",
    "                utr_variants.at[var_idx,model_name] = probas[var.seq_name][var.pos_rel]\n",
    "            else:\n",
    "                if var.vartype=='INS':\n",
    "                    left, right = var.pos_rel-2, var.pos_rel+2\n",
    "                else:\n",
    "                    if var.strand=='+':\n",
    "                        left, right = var.pos_rel, var.pos_rel+len(var.ref)\n",
    "                    else:\n",
    "                        left, right = var.pos_rel-len(var.ref), var.pos_rel\n",
    "                utr_variants.at[var_idx,model_name] = np.mean(probas[var.seq_name][left:right])"
   ]
  },
  {
   "cell_type": "code",
   "execution_count": 33,
   "id": "7a8a08ea-c6ca-47b8-8bdb-1315a48d8bd2",
   "metadata": {},
   "outputs": [],
   "source": [
    "mapping = {'A':0,'C':1,'G':2,'T':3}"
   ]
  },
  {
   "cell_type": "code",
   "execution_count": 34,
   "id": "0fd43874-3835-40fd-90ff-8bba42c7bef1",
   "metadata": {},
   "outputs": [],
   "source": [
    "human_fasta = data_dir + 'fasta/240_species/species/Homo_sapiens.fa' #3'UTR on hegative strand should already be reversed\n",
    "\n",
    "human_utr = defaultdict(str)\n",
    "\n",
    "with open(human_fasta, 'r') as f:\n",
    "    for line in f:\n",
    "        if line.startswith('>'):\n",
    "            seq_name = line[1:].split(':')[0]\n",
    "        else:\n",
    "            human_utr[seq_name] += line.rstrip().upper()"
   ]
  },
  {
   "cell_type": "code",
   "execution_count": 35,
   "id": "ac7458a9-a1f2-4506-92a0-c580092162fc",
   "metadata": {},
   "outputs": [],
   "source": [
    "def get_dnabert(res_path):\n",
    "    res = {}\n",
    "    for probas_file in glob(res_path + 'preds*.npy'):\n",
    "        seq_matching = pd.read_csv(probas_file.replace('/preds','/seq').replace('.npy','.csv')).set_index('seq_name').squeeze()\n",
    "        probas = np.load(probas_file)\n",
    "        s = 0\n",
    "        for seq_name, seq in seq_matching.items():\n",
    "            #res[seq_name] = [x[mapping[seq[seq_idx]]] for seq_idx,x in enumerate(probas[s:s+len(seq),:])]\n",
    "            res[seq_name] = probas[s:s+len(seq),:]\n",
    "            s += len(seq)\n",
    "        assert s==len(probas)\n",
    "    return res"
   ]
  },
  {
   "cell_type": "code",
   "execution_count": 36,
   "id": "e04a844c-f587-4aa5-9529-e8527c6891a7",
   "metadata": {},
   "outputs": [],
   "source": [
    "def add_model_res(model_name):\n",
    "\n",
    "    print(model_name)\n",
    "\n",
    "    if not 'DNABERT' in model_name:\n",
    "        with open(data_dir + models[model_name] + '.pickle', 'rb') as f:\n",
    "            probas = dict(pickle.load(f))\n",
    "        #if 'Species' in model_name:\n",
    "        #    probas = {k:v/v.sum(1, keepdims=True) for k,v in probas.items()} #normalize probabilities to 1\n",
    "    else:\n",
    "        probas = get_dnabert(data_dir + models[model_name])\n",
    "        \n",
    "    for var_idx, var in tqdm(utr_variants.iterrows(), total=len(utr_variants)):\n",
    "        if var.seq_name in probas.keys():\n",
    "            if var.vartype=='SNP':\n",
    "                utr_variants.at[var_idx, model_name+'_alt'] = probas[var.seq_name][var.pos_rel, mapping[var.alt]]\n",
    "                utr_variants.at[var_idx, model_name+'_ref'] = probas[var.seq_name][var.pos_rel, mapping[var.ref]]\n",
    "            else:\n",
    "                if var.vartype=='INS':\n",
    "                    left, right = var.pos_rel-2, var.pos_rel+2\n",
    "                else:\n",
    "                    if var.strand=='+':\n",
    "                        left, right = var.pos_rel, var.pos_rel+len(var.ref)\n",
    "                    else:\n",
    "                        left, right = var.pos_rel-len(var.ref), var.pos_rel\n",
    "                ref_score = []\n",
    "                seq = human_utr[var.seq_name]\n",
    "                for pos_rel in range(max(left,0),min(right,len(seq))):\n",
    "                    ref_score.append(probas[var.seq_name][pos_rel, mapping[seq[pos_rel]]]) \n",
    "                    #ref_score.append(np.max(probas[var.seq_name][pos_rel])) \n",
    "                utr_variants.at[var_idx, model_name+'_ref'] = np.mean(ref_score)"
   ]
  },
  {
   "cell_type": "code",
   "execution_count": 37,
   "id": "71eff750-bf92-48a6-babe-53054a9fd019",
   "metadata": {},
   "outputs": [
    {
     "name": "stdout",
     "output_type": "stream",
     "text": [
      "Species-aware\n"
     ]
    },
    {
     "name": "stderr",
     "output_type": "stream",
     "text": [
      "100%|██████████| 60134/60134 [00:05<00:00, 10217.28it/s]\n"
     ]
    },
    {
     "name": "stdout",
     "output_type": "stream",
     "text": [
      "Species-agnostic\n"
     ]
    },
    {
     "name": "stderr",
     "output_type": "stream",
     "text": [
      "100%|██████████| 60134/60134 [00:05<00:00, 10261.50it/s]\n"
     ]
    },
    {
     "name": "stdout",
     "output_type": "stream",
     "text": [
      "DNABERT\n"
     ]
    },
    {
     "name": "stderr",
     "output_type": "stream",
     "text": [
      "100%|██████████| 60134/60134 [00:03<00:00, 19840.66it/s]\n"
     ]
    }
   ],
   "source": [
    "for model_name in ('Species-aware', 'Species-agnostic', 'DNABERT'):\n",
    "    add_model_res(model_name)"
   ]
  },
  {
   "cell_type": "code",
   "execution_count": 38,
   "id": "03d843b3-a711-4651-b05c-5cd66ee5e36d",
   "metadata": {},
   "outputs": [],
   "source": [
    "utr_variants.to_csv(data_dir + f'GRASP/model_scores.tsv.gz', sep='\\t', index=None)"
   ]
  },
  {
   "cell_type": "code",
   "execution_count": 39,
   "id": "b8cebb31-27d4-45c9-9d94-89b2b1222c77",
   "metadata": {},
   "outputs": [
    {
     "data": {
      "text/html": [
       "<div>\n",
       "<style scoped>\n",
       "    .dataframe tbody tr th:only-of-type {\n",
       "        vertical-align: middle;\n",
       "    }\n",
       "\n",
       "    .dataframe tbody tr th {\n",
       "        vertical-align: top;\n",
       "    }\n",
       "\n",
       "    .dataframe thead th {\n",
       "        text-align: right;\n",
       "    }\n",
       "</style>\n",
       "<table border=\"1\" class=\"dataframe\">\n",
       "  <thead>\n",
       "    <tr style=\"text-align: right;\">\n",
       "      <th></th>\n",
       "      <th>chrom</th>\n",
       "      <th>pos</th>\n",
       "      <th>ref</th>\n",
       "      <th>alt</th>\n",
       "      <th>seq_name</th>\n",
       "      <th>QTL_type</th>\n",
       "      <th>label</th>\n",
       "      <th>vartype</th>\n",
       "      <th>seq_start</th>\n",
       "      <th>seq_end</th>\n",
       "      <th>...</th>\n",
       "      <th>pos_rel</th>\n",
       "      <th>PhyloP100</th>\n",
       "      <th>PhyloP241</th>\n",
       "      <th>11-mer</th>\n",
       "      <th>Species-aware_alt</th>\n",
       "      <th>Species-aware_ref</th>\n",
       "      <th>Species-agnostic_alt</th>\n",
       "      <th>Species-agnostic_ref</th>\n",
       "      <th>DNABERT_alt</th>\n",
       "      <th>DNABERT_ref</th>\n",
       "    </tr>\n",
       "  </thead>\n",
       "  <tbody>\n",
       "    <tr>\n",
       "      <th>0</th>\n",
       "      <td>chr1</td>\n",
       "      <td>100082437</td>\n",
       "      <td>C</td>\n",
       "      <td>T</td>\n",
       "      <td>ENST00000370152.8_utr3_11_0_chr1_100082210_f</td>\n",
       "      <td>eQTL</td>\n",
       "      <td>1</td>\n",
       "      <td>SNP</td>\n",
       "      <td>100082209</td>\n",
       "      <td>100083377</td>\n",
       "      <td>...</td>\n",
       "      <td>228</td>\n",
       "      <td>3.389</td>\n",
       "      <td>7.029</td>\n",
       "      <td>0.376044</td>\n",
       "      <td>0.432109</td>\n",
       "      <td>0.021974</td>\n",
       "      <td>0.421849</td>\n",
       "      <td>0.020861</td>\n",
       "      <td>NaN</td>\n",
       "      <td>NaN</td>\n",
       "    </tr>\n",
       "    <tr>\n",
       "      <th>1</th>\n",
       "      <td>chr1</td>\n",
       "      <td>100541020</td>\n",
       "      <td>A</td>\n",
       "      <td>G</td>\n",
       "      <td>ENST00000315033.5_utr3_1_0_chr1_100540122_f</td>\n",
       "      <td>eQTL</td>\n",
       "      <td>1</td>\n",
       "      <td>SNP</td>\n",
       "      <td>100540121</td>\n",
       "      <td>100542021</td>\n",
       "      <td>...</td>\n",
       "      <td>899</td>\n",
       "      <td>0.436</td>\n",
       "      <td>1.825</td>\n",
       "      <td>0.140695</td>\n",
       "      <td>0.287335</td>\n",
       "      <td>0.187009</td>\n",
       "      <td>0.266291</td>\n",
       "      <td>0.210644</td>\n",
       "      <td>NaN</td>\n",
       "      <td>NaN</td>\n",
       "    </tr>\n",
       "    <tr>\n",
       "      <th>2</th>\n",
       "      <td>chr1</td>\n",
       "      <td>10442652</td>\n",
       "      <td>C</td>\n",
       "      <td>T</td>\n",
       "      <td>ENST00000309048.8_utr3_4_0_chr1_10442406_f</td>\n",
       "      <td>eQTL</td>\n",
       "      <td>1</td>\n",
       "      <td>SNP</td>\n",
       "      <td>10442405</td>\n",
       "      <td>10442808</td>\n",
       "      <td>...</td>\n",
       "      <td>247</td>\n",
       "      <td>0.171</td>\n",
       "      <td>-0.140</td>\n",
       "      <td>0.527256</td>\n",
       "      <td>0.280972</td>\n",
       "      <td>0.194812</td>\n",
       "      <td>0.288658</td>\n",
       "      <td>0.164913</td>\n",
       "      <td>NaN</td>\n",
       "      <td>NaN</td>\n",
       "    </tr>\n",
       "    <tr>\n",
       "      <th>3</th>\n",
       "      <td>chr1</td>\n",
       "      <td>1055036</td>\n",
       "      <td>A</td>\n",
       "      <td>G</td>\n",
       "      <td>ENST00000379370.7_utr3_35_0_chr1_1054982_f</td>\n",
       "      <td>eQTL</td>\n",
       "      <td>1</td>\n",
       "      <td>SNP</td>\n",
       "      <td>1054981</td>\n",
       "      <td>1056116</td>\n",
       "      <td>...</td>\n",
       "      <td>55</td>\n",
       "      <td>0.281</td>\n",
       "      <td>2.565</td>\n",
       "      <td>0.451307</td>\n",
       "      <td>0.242463</td>\n",
       "      <td>0.244533</td>\n",
       "      <td>0.335231</td>\n",
       "      <td>0.198622</td>\n",
       "      <td>NaN</td>\n",
       "      <td>NaN</td>\n",
       "    </tr>\n",
       "    <tr>\n",
       "      <th>4</th>\n",
       "      <td>chr1</td>\n",
       "      <td>107571242</td>\n",
       "      <td>C</td>\n",
       "      <td>T</td>\n",
       "      <td>ENST00000370056.9_utr3_26_0_chr1_107571161_r</td>\n",
       "      <td>eQTL</td>\n",
       "      <td>1</td>\n",
       "      <td>SNP</td>\n",
       "      <td>107571160</td>\n",
       "      <td>107573330</td>\n",
       "      <td>...</td>\n",
       "      <td>2087</td>\n",
       "      <td>3.091</td>\n",
       "      <td>0.436</td>\n",
       "      <td>0.143238</td>\n",
       "      <td>0.529939</td>\n",
       "      <td>0.080935</td>\n",
       "      <td>0.597279</td>\n",
       "      <td>0.045834</td>\n",
       "      <td>NaN</td>\n",
       "      <td>NaN</td>\n",
       "    </tr>\n",
       "    <tr>\n",
       "      <th>...</th>\n",
       "      <td>...</td>\n",
       "      <td>...</td>\n",
       "      <td>...</td>\n",
       "      <td>...</td>\n",
       "      <td>...</td>\n",
       "      <td>...</td>\n",
       "      <td>...</td>\n",
       "      <td>...</td>\n",
       "      <td>...</td>\n",
       "      <td>...</td>\n",
       "      <td>...</td>\n",
       "      <td>...</td>\n",
       "      <td>...</td>\n",
       "      <td>...</td>\n",
       "      <td>...</td>\n",
       "      <td>...</td>\n",
       "      <td>...</td>\n",
       "      <td>...</td>\n",
       "      <td>...</td>\n",
       "      <td>...</td>\n",
       "      <td>...</td>\n",
       "    </tr>\n",
       "    <tr>\n",
       "      <th>66812</th>\n",
       "      <td>chrX</td>\n",
       "      <td>155774973</td>\n",
       "      <td>G</td>\n",
       "      <td>T</td>\n",
       "      <td>ENST00000695325.1_utr3_2_0_chrX_155774739_f</td>\n",
       "      <td>NaN</td>\n",
       "      <td>0</td>\n",
       "      <td>SNP</td>\n",
       "      <td>155774738</td>\n",
       "      <td>155782459</td>\n",
       "      <td>...</td>\n",
       "      <td>235</td>\n",
       "      <td>2.205</td>\n",
       "      <td>4.597</td>\n",
       "      <td>0.155799</td>\n",
       "      <td>0.476815</td>\n",
       "      <td>0.242620</td>\n",
       "      <td>0.435704</td>\n",
       "      <td>0.286503</td>\n",
       "      <td>0.464461</td>\n",
       "      <td>0.298754</td>\n",
       "    </tr>\n",
       "    <tr>\n",
       "      <th>66813</th>\n",
       "      <td>chrX</td>\n",
       "      <td>155775591</td>\n",
       "      <td>C</td>\n",
       "      <td>T</td>\n",
       "      <td>ENST00000695325.1_utr3_2_0_chrX_155774739_f</td>\n",
       "      <td>NaN</td>\n",
       "      <td>0</td>\n",
       "      <td>SNP</td>\n",
       "      <td>155774738</td>\n",
       "      <td>155782459</td>\n",
       "      <td>...</td>\n",
       "      <td>853</td>\n",
       "      <td>1.299</td>\n",
       "      <td>0.854</td>\n",
       "      <td>0.035936</td>\n",
       "      <td>0.464169</td>\n",
       "      <td>0.088179</td>\n",
       "      <td>0.448774</td>\n",
       "      <td>0.069748</td>\n",
       "      <td>0.694404</td>\n",
       "      <td>0.035328</td>\n",
       "    </tr>\n",
       "    <tr>\n",
       "      <th>66814</th>\n",
       "      <td>chrX</td>\n",
       "      <td>155776960</td>\n",
       "      <td>A</td>\n",
       "      <td>G</td>\n",
       "      <td>ENST00000695325.1_utr3_2_0_chrX_155774739_f</td>\n",
       "      <td>NaN</td>\n",
       "      <td>0</td>\n",
       "      <td>SNP</td>\n",
       "      <td>155774738</td>\n",
       "      <td>155782459</td>\n",
       "      <td>...</td>\n",
       "      <td>2222</td>\n",
       "      <td>2.374</td>\n",
       "      <td>3.702</td>\n",
       "      <td>0.240397</td>\n",
       "      <td>0.153028</td>\n",
       "      <td>0.273667</td>\n",
       "      <td>0.177053</td>\n",
       "      <td>0.349643</td>\n",
       "      <td>0.094252</td>\n",
       "      <td>0.434636</td>\n",
       "    </tr>\n",
       "    <tr>\n",
       "      <th>66815</th>\n",
       "      <td>chrX</td>\n",
       "      <td>155777573</td>\n",
       "      <td>G</td>\n",
       "      <td>A</td>\n",
       "      <td>ENST00000695325.1_utr3_2_0_chrX_155774739_f</td>\n",
       "      <td>NaN</td>\n",
       "      <td>0</td>\n",
       "      <td>SNP</td>\n",
       "      <td>155774738</td>\n",
       "      <td>155782459</td>\n",
       "      <td>...</td>\n",
       "      <td>2835</td>\n",
       "      <td>2.189</td>\n",
       "      <td>5.932</td>\n",
       "      <td>0.306997</td>\n",
       "      <td>0.170795</td>\n",
       "      <td>0.140824</td>\n",
       "      <td>0.171251</td>\n",
       "      <td>0.127239</td>\n",
       "      <td>0.169549</td>\n",
       "      <td>0.136584</td>\n",
       "    </tr>\n",
       "    <tr>\n",
       "      <th>66830</th>\n",
       "      <td>chrY</td>\n",
       "      <td>12918839</td>\n",
       "      <td>C</td>\n",
       "      <td>T</td>\n",
       "      <td>ENST00000336079.8_utr3_16_0_chrY_12918123_f</td>\n",
       "      <td>NaN</td>\n",
       "      <td>0</td>\n",
       "      <td>SNP</td>\n",
       "      <td>12918122</td>\n",
       "      <td>12920478</td>\n",
       "      <td>...</td>\n",
       "      <td>717</td>\n",
       "      <td>1.862</td>\n",
       "      <td>3.593</td>\n",
       "      <td>0.217600</td>\n",
       "      <td>0.379318</td>\n",
       "      <td>0.200912</td>\n",
       "      <td>0.366432</td>\n",
       "      <td>0.203165</td>\n",
       "      <td>NaN</td>\n",
       "      <td>NaN</td>\n",
       "    </tr>\n",
       "  </tbody>\n",
       "</table>\n",
       "<p>60134 rows × 21 columns</p>\n",
       "</div>"
      ],
      "text/plain": [
       "      chrom        pos ref alt                                      seq_name  \\\n",
       "0      chr1  100082437   C   T  ENST00000370152.8_utr3_11_0_chr1_100082210_f   \n",
       "1      chr1  100541020   A   G   ENST00000315033.5_utr3_1_0_chr1_100540122_f   \n",
       "2      chr1   10442652   C   T    ENST00000309048.8_utr3_4_0_chr1_10442406_f   \n",
       "3      chr1    1055036   A   G    ENST00000379370.7_utr3_35_0_chr1_1054982_f   \n",
       "4      chr1  107571242   C   T  ENST00000370056.9_utr3_26_0_chr1_107571161_r   \n",
       "...     ...        ...  ..  ..                                           ...   \n",
       "66812  chrX  155774973   G   T   ENST00000695325.1_utr3_2_0_chrX_155774739_f   \n",
       "66813  chrX  155775591   C   T   ENST00000695325.1_utr3_2_0_chrX_155774739_f   \n",
       "66814  chrX  155776960   A   G   ENST00000695325.1_utr3_2_0_chrX_155774739_f   \n",
       "66815  chrX  155777573   G   A   ENST00000695325.1_utr3_2_0_chrX_155774739_f   \n",
       "66830  chrY   12918839   C   T   ENST00000336079.8_utr3_16_0_chrY_12918123_f   \n",
       "\n",
       "      QTL_type  label vartype  seq_start    seq_end  ... pos_rel  PhyloP100  \\\n",
       "0         eQTL      1     SNP  100082209  100083377  ...     228      3.389   \n",
       "1         eQTL      1     SNP  100540121  100542021  ...     899      0.436   \n",
       "2         eQTL      1     SNP   10442405   10442808  ...     247      0.171   \n",
       "3         eQTL      1     SNP    1054981    1056116  ...      55      0.281   \n",
       "4         eQTL      1     SNP  107571160  107573330  ...    2087      3.091   \n",
       "...        ...    ...     ...        ...        ...  ...     ...        ...   \n",
       "66812      NaN      0     SNP  155774738  155782459  ...     235      2.205   \n",
       "66813      NaN      0     SNP  155774738  155782459  ...     853      1.299   \n",
       "66814      NaN      0     SNP  155774738  155782459  ...    2222      2.374   \n",
       "66815      NaN      0     SNP  155774738  155782459  ...    2835      2.189   \n",
       "66830      NaN      0     SNP   12918122   12920478  ...     717      1.862   \n",
       "\n",
       "       PhyloP241    11-mer  Species-aware_alt  Species-aware_ref  \\\n",
       "0          7.029  0.376044           0.432109           0.021974   \n",
       "1          1.825  0.140695           0.287335           0.187009   \n",
       "2         -0.140  0.527256           0.280972           0.194812   \n",
       "3          2.565  0.451307           0.242463           0.244533   \n",
       "4          0.436  0.143238           0.529939           0.080935   \n",
       "...          ...       ...                ...                ...   \n",
       "66812      4.597  0.155799           0.476815           0.242620   \n",
       "66813      0.854  0.035936           0.464169           0.088179   \n",
       "66814      3.702  0.240397           0.153028           0.273667   \n",
       "66815      5.932  0.306997           0.170795           0.140824   \n",
       "66830      3.593  0.217600           0.379318           0.200912   \n",
       "\n",
       "       Species-agnostic_alt  Species-agnostic_ref  DNABERT_alt  DNABERT_ref  \n",
       "0                  0.421849              0.020861          NaN          NaN  \n",
       "1                  0.266291              0.210644          NaN          NaN  \n",
       "2                  0.288658              0.164913          NaN          NaN  \n",
       "3                  0.335231              0.198622          NaN          NaN  \n",
       "4                  0.597279              0.045834          NaN          NaN  \n",
       "...                     ...                   ...          ...          ...  \n",
       "66812              0.435704              0.286503     0.464461     0.298754  \n",
       "66813              0.448774              0.069748     0.694404     0.035328  \n",
       "66814              0.177053              0.349643     0.094252     0.434636  \n",
       "66815              0.171251              0.127239     0.169549     0.136584  \n",
       "66830              0.366432              0.203165          NaN          NaN  \n",
       "\n",
       "[60134 rows x 21 columns]"
      ]
     },
     "execution_count": 39,
     "metadata": {},
     "output_type": "execute_result"
    }
   ],
   "source": [
    "utr_variants"
   ]
  },
  {
   "cell_type": "code",
   "execution_count": null,
   "id": "68328fe3-1b92-477a-b468-543294475e82",
   "metadata": {},
   "outputs": [],
   "source": []
  }
 ],
 "metadata": {
  "kernelspec": {
   "display_name": "Python 3 (ipykernel)",
   "language": "python",
   "name": "python3"
  },
  "language_info": {
   "codemirror_mode": {
    "name": "ipython",
    "version": 3
   },
   "file_extension": ".py",
   "mimetype": "text/x-python",
   "name": "python",
   "nbconvert_exporter": "python",
   "pygments_lexer": "ipython3",
   "version": "3.10.13"
  }
 },
 "nbformat": 4,
 "nbformat_minor": 5
}

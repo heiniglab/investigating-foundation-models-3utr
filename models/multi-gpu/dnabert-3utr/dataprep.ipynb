{
 "cells": [
  {
   "cell_type": "code",
   "execution_count": 11,
   "id": "65edad53-dea0-4998-b374-b5a1084d9591",
   "metadata": {},
   "outputs": [],
   "source": [
    "from textwrap import wrap\n",
    "import pysam\n",
    "import os\n",
    "import pandas as pd\n",
    "from tqdm import tqdm"
   ]
  },
  {
   "cell_type": "code",
   "execution_count": 12,
   "id": "97efc14e-6212-484a-bf7e-bf74a0863f3b",
   "metadata": {},
   "outputs": [],
   "source": [
    "def kmers_stride1(seq, k=6):\n",
    "    # splits a sequence into overlapping k-mers\n",
    "    return [seq[i:i + k] for i in range(0, len(seq)-k+1)]  "
   ]
  },
  {
   "cell_type": "code",
   "execution_count": 13,
   "id": "dc9e244a-1762-46f0-8c69-00a03f328e4d",
   "metadata": {},
   "outputs": [],
   "source": [
    "CHUNK_LEN = 512\n",
    "OVERLAP_BP = 128\n",
    "MAX_SEQ_LENGTH = 5000\n",
    "TEST_FRACTION = 0.1"
   ]
  },
  {
   "cell_type": "code",
   "execution_count": 14,
   "id": "50231cc8-388c-4763-a06e-376727aac7e3",
   "metadata": {},
   "outputs": [],
   "source": [
    "workdir = '/lustre/groups/epigenereg01/workspace/projects/vale/'"
   ]
  },
  {
   "cell_type": "code",
   "execution_count": 15,
   "id": "ddd3c78a-7931-4cb2-bcfd-72f0bc986ce5",
   "metadata": {},
   "outputs": [],
   "source": [
    "input_fa = workdir + 'mlm/fasta/241_mammals.shuffled.fa'\n",
    "\n",
    "input_fasta = pysam.FastaFile(input_fa)\n",
    "\n",
    "input_seqs = pd.read_csv(input_fa + '.fai', sep='\\t', header=None, usecols=[0])[0].squeeze().values\n",
    "\n",
    "N_train = int(len(input_seqs)*(1-TEST_FRACTION))       \n",
    "train_seqs, test_seqs = input_seqs[:N_train], input_seqs[N_train:]"
   ]
  },
  {
   "cell_type": "code",
   "execution_count": 16,
   "id": "64e48206-60fa-4b78-bb7d-63c52843e2cf",
   "metadata": {},
   "outputs": [],
   "source": [
    "def prepare_output(output_txt, input_seqs):\n",
    "    with open(output_txt,'w') as fout: \n",
    "        for seq_name in tqdm(input_seqs):\n",
    "            seq = input_fasta.fetch(seq_name).rstrip().replace('-','')\n",
    "            seq = seq[:MAX_SEQ_LENGTH]\n",
    "            for chunk_idx,start_idx in enumerate(range(0,len(seq),CHUNK_LEN-OVERLAP_BP)):\n",
    "                chunk = seq[start_idx:start_idx+CHUNK_LEN]\n",
    "                chunk_tokenized = ' '.join(kmers_stride1(seq))\n",
    "                fout.write(chunk_tokenized + '\\n')"
   ]
  },
  {
   "cell_type": "code",
   "execution_count": 17,
   "id": "b6046453-7b3e-4b23-b20d-bb0e8849be6a",
   "metadata": {},
   "outputs": [],
   "source": [
    "output_dir = workdir + f'mlm/dnabert-3utr/data/chunk_{CHUNK_LEN}_overlap_{OVERLAP_BP}/'\n",
    "\n",
    "os.makedirs(output_dir, exist_ok=True)"
   ]
  },
  {
   "cell_type": "code",
   "execution_count": 18,
   "id": "58766d8b-e4fd-4104-b3a9-675531341a6d",
   "metadata": {},
   "outputs": [
    {
     "name": "stderr",
     "output_type": "stream",
     "text": [
      "  3%|▎         | 102144/3405342 [01:54<1:01:40, 892.72it/s]\n",
      "\n",
      "KeyboardInterrupt\n",
      "\n"
     ]
    }
   ],
   "source": [
    "prepare_output(output_dir + 'train.txt', train_seqs)"
   ]
  },
  {
   "cell_type": "code",
   "execution_count": null,
   "id": "3c28c2cd-3252-4f68-b660-d62705866675",
   "metadata": {},
   "outputs": [],
   "source": [
    "prepare_output(output_dir + 'test.txt', test_seqs)"
   ]
  },
  {
   "cell_type": "code",
   "execution_count": null,
   "id": "5e69f065-90a3-47c5-8c9d-4494a3f5b568",
   "metadata": {},
   "outputs": [],
   "source": [
    "print('done')"
   ]
  },
  {
   "cell_type": "code",
   "execution_count": null,
   "id": "e046148d-c030-4a66-91ec-c8356a999a3d",
   "metadata": {},
   "outputs": [],
   "source": []
  }
 ],
 "metadata": {
  "kernelspec": {
   "display_name": "Python 3 (ipykernel)",
   "language": "python",
   "name": "python3"
  },
  "language_info": {
   "codemirror_mode": {
    "name": "ipython",
    "version": 3
   },
   "file_extension": ".py",
   "mimetype": "text/x-python",
   "name": "python",
   "nbconvert_exporter": "python",
   "pygments_lexer": "ipython3",
   "version": "3.10.13"
  }
 },
 "nbformat": 4,
 "nbformat_minor": 5
}

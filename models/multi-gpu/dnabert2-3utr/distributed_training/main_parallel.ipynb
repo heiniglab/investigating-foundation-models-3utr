{
 "cells": [
  {
   "cell_type": "code",
   "execution_count": 1,
   "id": "3f78039f-8dd7-43d1-8ac6-684736938326",
   "metadata": {},
   "outputs": [],
   "source": [
    "import numpy as np\n",
    "import pandas as pd\n",
    "import argparse\n",
    "import json\n",
    "import pickle\n",
    "import torch.distributed as dist\n",
    "\n",
    "import os\n",
    "import gc\n",
    "\n",
    "import pysam\n",
    "\n",
    "#\n",
    "#install pytorch==2.0.1 torchvision==0.15.2 torchaudio==2.0.2 pytorch-cuda=11.7 torchtriton -c pytorch -c nvidia\n",
    "#pip install triton==2.0.0.dev20221202 --force --no-dependencies\n",
    "import torch\n",
    "from torch.utils.data import DataLoader, IterableDataset\n",
    "from transformers import PreTrainedTokenizerFast, DataCollatorForLanguageModeling\n",
    "from DNABERT2.configuration_bert import BertConfig\n",
    "from DNABERT2.bert_layers import BertForMaskedLM\n",
    "import os\n",
    "\n",
    "from tqdm import tqdm\n",
    "\n",
    "import helpers.misc as misc                #miscellaneous functions\n",
    "import helpers.train_eval as train_eval    #train and evaluation\n",
    " \n",
    "\n",
    "%load_ext autoreload\n",
    "%autoreload 2"
   ]
  },
  {
   "cell_type": "code",
   "execution_count": 48,
   "id": "b492cea2-47bc-40ea-b7c8-aff749206057",
   "metadata": {},
   "outputs": [
    {
     "data": {
      "text/plain": [
       "1024"
      ]
     },
     "execution_count": 48,
     "metadata": {},
     "output_type": "execute_result"
    }
   ],
   "source": [
    "def next_free_port( port=1024, max_port=65535 ):\n",
    "    sock = socket.socket(socket.AF_INET, socket.SOCK_STREAM)\n",
    "    while port <= max_port:\n",
    "        try:\n",
    "            sock.bind(('', port))\n",
    "            sock.close()\n",
    "            return port\n",
    "        except OSError:\n",
    "            port += 1\n",
    "    raise IOError('no free ports')\n",
    "\n",
    "next_free_port()"
   ]
  },
  {
   "cell_type": "code",
   "execution_count": 2,
   "id": "05dcdca1-c81a-41fc-a8ed-40ee96842412",
   "metadata": {},
   "outputs": [],
   "source": [
    "os.environ[\"PYTORCH_CUDA_ALLOC_CONF\"] = \"max_split_size_mb:512\""
   ]
  },
  {
   "cell_type": "code",
   "execution_count": 3,
   "id": "7eca49b9-8937-4ef5-8291-d119c037f254",
   "metadata": {},
   "outputs": [
    {
     "name": "stdout",
     "output_type": "stream",
     "text": [
      "\n",
      "CUDA device: GPU\n",
      "\n"
     ]
    }
   ],
   "source": [
    "if torch.cuda.is_available():\n",
    "    device = torch.device('cuda')\n",
    "    print('\\nCUDA device: GPU\\n')\n",
    "else:\n",
    "    device = torch.device('cpu')\n",
    "    print('\\nCUDA device: CPU\\n')\n",
    "    #raise Exception('CUDA is not found')"
   ]
  },
  {
   "cell_type": "code",
   "execution_count": 4,
   "id": "cc332645-382d-4109-812a-938dac8eb8b1",
   "metadata": {},
   "outputs": [],
   "source": [
    "datadir = '/lustre/groups/epigenereg01/workspace/projects/vale/mlm/'"
   ]
  },
  {
   "cell_type": "code",
   "execution_count": 5,
   "id": "ad2f7d28-d069-45bc-a6dc-f5834ee63f56",
   "metadata": {},
   "outputs": [],
   "source": [
    "class SeqDataset(IterableDataset):\n",
    "    \n",
    "    def __init__(self, fasta_fa, seq_df):\n",
    "        \n",
    "        if fasta_fa:\n",
    "            self.fasta = pysam.FastaFile(fasta_fa)\n",
    "        else:\n",
    "             self.fasta = None\n",
    "\n",
    "        self.seq_df = seq_df\n",
    "        self.start = 0\n",
    "        self.end = len(self.seq_df)\n",
    "        \n",
    "    def __len__(self):\n",
    "        return len(self.seq_df)\n",
    "                \n",
    "    def __iter__(self):\n",
    "        \n",
    "        #worker_total_num = torch.utils.data.get_worker_info().num_workers\n",
    "        #worker_id = torch.utils.data.get_worker_info().id\n",
    "        \n",
    "        for seq_idx in range(self.start,self.end):\n",
    "            \n",
    "            if self.fasta:\n",
    "                seq = self.fasta.fetch(self.seq_df.iloc[seq_idx].seq_name).upper()\n",
    "            else:\n",
    "                seq = self.seq_df.iloc[seq_idx].seq.upper()\n",
    "    \n",
    "            #species_label = self.seq_df.iloc[idx].species_label\n",
    "                    \n",
    "            tokenized_seq = tokenizer(seq,\n",
    "                                    add_special_tokens=True,\n",
    "                                    truncation=True,\n",
    "                                    return_special_tokens_mask=True,\n",
    "                                    padding='max_length',\n",
    "                                    max_length=input_params.max_tok_len,)\n",
    "            \n",
    "            tokenized_seq['targets'] = tokenized_seq['input_ids'].copy()\n",
    "            yield tokenized_seq\n",
    "                        \n",
    "    def close(self):\n",
    "        self.fasta.close()\n",
    "\n",
    "def worker_init_fn(worker_id):\n",
    "     worker_info = torch.utils.data.get_worker_info()\n",
    "     dataset = worker_info.dataset  # the dataset copy in this worker process\n",
    "     overall_start = dataset.start\n",
    "     overall_end = dataset.end\n",
    "     # configure the dataset to only process the split workload\n",
    "     per_worker = int(np.ceil((overall_end - overall_start) / float(worker_info.num_workers)))\n",
    "     worker_id = worker_info.id\n",
    "     dataset.start = overall_start + worker_id * per_worker\n",
    "     dataset.end = min(dataset.start + per_worker, overall_end)"
   ]
  },
  {
   "cell_type": "code",
   "execution_count": 6,
   "id": "585b6abb-2ac1-4da9-929c-8163e67e7c70",
   "metadata": {},
   "outputs": [],
   "source": [
    "input_params = misc.dotdict({})\n",
    "\n",
    "input_params.max_tok_len = 256\n",
    "input_params.val_fraction = 0.1\n",
    "\n",
    "input_params.batch_size = 128\n",
    "input_params.weight_decay = 1e-5\n",
    "input_params.max_lr = 5e-4\n",
    "\n",
    "input_params.fasta = datadir + 'dnabert2/fasta/chunk_1024_overlap_256.fa'\n",
    "\n",
    "input_params.output_dir = './test/'\n",
    "input_params.tot_epochs = 20\n",
    "input_params.val_fraction = 0.1\n",
    "input_params.validate_every = 1\n",
    "input_params.save_at = [2]"
   ]
  },
  {
   "cell_type": "code",
   "execution_count": 7,
   "id": "cb01e4c1-8ea9-400c-87de-a5feb44ed780",
   "metadata": {},
   "outputs": [],
   "source": [
    "world_size = 8#dist.get_world_size()\n",
    "rank = 2#dist.get_rank()\n",
    "\n",
    "assert input_params.batch_size % world_size == 0, 'batch size should be divisible by world size'"
   ]
  },
  {
   "cell_type": "code",
   "execution_count": 22,
   "id": "fc2d9fd3-c2a0-4a5f-ba36-bf0f71b9aa3b",
   "metadata": {},
   "outputs": [],
   "source": [
    "seq_df = pd.read_csv(input_params.fasta + '.fai', header=None, sep='\\t', usecols=[0], names=['seq_name'])\n",
    "\n",
    "#seq_df = seq_df.iloc[:3000]\n",
    "\n",
    "seq_df['species_name'] = seq_df.seq_name.apply(lambda x:x.split(':')).apply(lambda x:x[-1] if len(x)==2 else x[1])\n",
    "\n",
    "all_species = sorted(seq_df.species_name.unique())\n",
    "\n",
    "if not input_params.species_agnostic:\n",
    "    species_encoding = {species:idx for idx,species in enumerate(all_species)}\n",
    "else:\n",
    "    species_encoding = {species:0 for species in all_species}\n",
    "    \n",
    "seq_df['species_label'] = seq_df.species_name.map(species_encoding)\n",
    "\n",
    "#seq_df = seq_df.sample(frac = 1., random_state = 1) #DO NOT SHUFFLE, otherwise too slow"
   ]
  },
  {
   "cell_type": "code",
   "execution_count": 23,
   "id": "ccadd11f-f0f0-42be-b7b7-be9a6f228650",
   "metadata": {},
   "outputs": [],
   "source": [
    "tokenizer = PreTrainedTokenizerFast(tokenizer_file=\"DNABERT2/tokenizer.json\",\n",
    "mask_token = '[MASK]', pad_token = '[PAD]', sep_token = '[SEP]', cls_token = '[CLS]', unk_token = '[UNK]',)\n",
    "tokenizer.deprecation_warnings[\"Asking-to-pad-a-fast-tokenizer\"] = True\n",
    "\n",
    "collate_fn = DataCollatorForLanguageModeling(tokenizer=tokenizer, mlm=True, mlm_probability=0.15)"
   ]
  },
  {
   "cell_type": "code",
   "execution_count": 24,
   "id": "39ac0b02-19e7-476b-bed8-0a3d3ecb8caa",
   "metadata": {},
   "outputs": [],
   "source": [
    "N_train = int(len(seq_df)*(1-input_params.val_fraction))       \n",
    "\n",
    "num_samples_per_rank = N_train // world_size\n",
    "\n",
    "train_idx = range(rank*num_samples_per_rank,(rank+1)*num_samples_per_rank)\n",
    "\n",
    "train_df = seq_df.iloc[train_idx] \n",
    "test_df = seq_df.iloc[num_samples_per_rank*world_size:]\n",
    "\n",
    "train_dataset = SeqDataset(input_params.fasta, train_df)\n",
    "train_dataloader = DataLoader(dataset = train_dataset, batch_size = input_params.batch_size // world_size, \n",
    "                              num_workers = 1, worker_init_fn=worker_init_fn, collate_fn = collate_fn, shuffle = False)\n",
    "\n",
    "test_dataset = SeqDataset(input_params.fasta, test_df)\n",
    "test_dataloader = DataLoader(dataset = test_dataset, batch_size = input_params.batch_size // world_size, \n",
    "                             num_workers = 1,  worker_init_fn=worker_init_fn, collate_fn = collate_fn, shuffle = False)"
   ]
  },
  {
   "cell_type": "code",
   "execution_count": 11,
   "id": "a9d8cb44-dcf9-4576-9043-9977b4428047",
   "metadata": {},
   "outputs": [],
   "source": [
    "gc.collect()\n",
    "torch.cuda.empty_cache()"
   ]
  },
  {
   "cell_type": "code",
   "execution_count": 12,
   "id": "c2c618a1-283d-4699-83d7-83add852cf76",
   "metadata": {},
   "outputs": [],
   "source": [
    "config = BertConfig.from_pretrained('DNABERT2/config.json')\n",
    "\n",
    "model = BertForMaskedLM(config).to(device)"
   ]
  },
  {
   "cell_type": "code",
   "execution_count": 13,
   "id": "61c565b1-7538-4620-9e5f-0c7d85aa24e9",
   "metadata": {},
   "outputs": [],
   "source": [
    "model_params = [p for p in model.parameters() if p.requires_grad]\n",
    "\n",
    "optimizer = torch.optim.Adam(model_params, betas=(0.9,0.98), eps=1e-6,\n",
    "                             lr = input_params.max_lr, \n",
    "                             weight_decay = input_params.weight_decay)"
   ]
  },
  {
   "cell_type": "code",
   "execution_count": 14,
   "id": "68f27a3a-feca-4a2c-b37f-5e925c38180a",
   "metadata": {},
   "outputs": [],
   "source": [
    "last_epoch, last_iteration = 0, -1\n",
    "\n",
    "if input_params.checkpoint:\n",
    "\n",
    "    model = BertForMaskedLM.from_pretrained(input_params.checkpoint_dir)\n",
    "    \n",
    "    if os.path.isfile(input_params.checkpoint_dir + '/opimizer.pt'):\n",
    "            optimizer.load_state_dict(torch.load(input_params.checkpoint_dir + '/opimizer.pt'))\n",
    "        \n",
    "    with open(config_save_base + \"train_state.json\", \"w\") as f:\n",
    "        train_state = json.load(f) \n",
    "        last_iteration = train_state['last_iteration']\n",
    "        epoch = train_state['last_epoch']\n",
    "\n",
    "weights_dir = os.path.join(input_params.output_dir, 'checkpoints') #dir to save model weights at save_at epochs\n",
    "\n",
    "if input_params.save_at:\n",
    "    os.makedirs(weights_dir, exist_ok = True)"
   ]
  },
  {
   "cell_type": "code",
   "execution_count": 15,
   "id": "238d8baf-e41c-4525-bedc-38806355b936",
   "metadata": {},
   "outputs": [],
   "source": [
    "scheduler = torch.optim.lr_scheduler.CyclicLR(optimizer, base_lr = 0, max_lr = input_params.max_lr,\n",
    "                                             step_size_up = 20000, step_size_down = 180000, cycle_momentum=False,\n",
    "                                             last_epoch = last_iteration)"
   ]
  },
  {
   "cell_type": "code",
   "execution_count": 16,
   "id": "8c028918-7ec8-44a1-b41b-b41a77ee1440",
   "metadata": {},
   "outputs": [],
   "source": [
    "def metrics_to_str(metrics):\n",
    "    loss, total_acc, masked_acc = metrics\n",
    "    return f'loss: {loss:.4}, total acc: {total_acc:.3f}, masked acc: {masked_acc:.3f}'"
   ]
  },
  {
   "cell_type": "code",
   "execution_count": 17,
   "id": "2e034fa7-1654-47df-adc7-73ff24d58b1a",
   "metadata": {},
   "outputs": [],
   "source": [
    "#input_params.tot_epochs=5"
   ]
  },
  {
   "cell_type": "code",
   "execution_count": 21,
   "id": "ce94ff3d-89f2-46f1-ae69-da2d6f4521f1",
   "metadata": {},
   "outputs": [
    {
     "name": "stdout",
     "output_type": "stream",
     "text": [
      "EPOCH 1: Training...\n",
      "using train samples: [674, 1010]\n"
     ]
    },
    {
     "name": "stderr",
     "output_type": "stream",
     "text": [
      "acc: 0.013, masked acc: 0.023, loss: 7.806: 100%|███████████████████████████████████████████████████████████████████████████████████████████████████████████████████████████████████████████████████████████████████████████████████████████████████████████████████████████████████████████████████████████████████████████████████████████████████████████████████████████████████████████████████████████████████████████████████████████████████████████████████████████████████████████████████████████████████████████████████████████████████████████████████████████████████████████████████████████████████████████████████████████████████████████████████████████████████████████| 22/22 [00:03<00:00,  6.28it/s]\n"
     ]
    },
    {
     "name": "stdout",
     "output_type": "stream",
     "text": [
      "22\n",
      "epoch 1 - train (286 iterations), loss: 7.806, total acc: 0.013, masked acc: 0.023\n",
      "EPOCH 1: Validating...\n"
     ]
    },
    {
     "name": "stderr",
     "output_type": "stream",
     "text": [
      "acc: 0.0075, masked acc: 0.019, loss: 7.769: 100%|██████████████████████████████████████████████████████████████████████████████████████████████████████████████████████████████████████████████████████████████████████████████████████████████████████████████████████████████████████████████████████████████████████████████████████████████████████████████████████████████████████████████████████████████████████████████████████████████████████████████████████████████████████████████████████████████████████████████████████████████████████████████████████████████████████████████████████████████████████████████████████████████████████████████████████████████████████████| 19/19 [00:01<00:00, 13.31it/s]\n"
     ]
    },
    {
     "name": "stdout",
     "output_type": "stream",
     "text": [
      "epoch 1 - validation, loss: 7.769, total acc: 0.008, masked acc: 0.019\n",
      "EPOCH 2: Training...\n",
      "using train samples: [674, 1010]\n"
     ]
    },
    {
     "name": "stderr",
     "output_type": "stream",
     "text": [
      "acc: 0.014, masked acc: 0.028, loss: 7.758: 100%|███████████████████████████████████████████████████████████████████████████████████████████████████████████████████████████████████████████████████████████████████████████████████████████████████████████████████████████████████████████████████████████████████████████████████████████████████████████████████████████████████████████████████████████████████████████████████████████████████████████████████████████████████████████████████████████████████████████████████████████████████████████████████████████████████████████████████████████████████████████████████████████████████████████████████████████████████████████| 22/22 [00:03<00:00,  6.19it/s]"
     ]
    },
    {
     "name": "stdout",
     "output_type": "stream",
     "text": [
      "22\n",
      "epoch 2 - train (308 iterations), loss: 7.758, total acc: 0.014, masked acc: 0.028\n",
      "[2024/01/11-20:24:26]- SAVING MODEL, CHECKPOINT DIR: ./test/checkpoints/epoch_2\n",
      "\n"
     ]
    },
    {
     "name": "stderr",
     "output_type": "stream",
     "text": [
      "\n"
     ]
    },
    {
     "name": "stdout",
     "output_type": "stream",
     "text": [
      "EPOCH 2: Validating...\n"
     ]
    },
    {
     "name": "stderr",
     "output_type": "stream",
     "text": [
      "acc: 0.0075, masked acc: 0.017, loss: 7.717: 100%|██████████████████████████████████████████████████████████████████████████████████████████████████████████████████████████████████████████████████████████████████████████████████████████████████████████████████████████████████████████████████████████████████████████████████████████████████████████████████████████████████████████████████████████████████████████████████████████████████████████████████████████████████████████████████████████████████████████████████████████████████████████████████████████████████████████████████████████████████████████████████████████████████████████████████████████████████████████| 19/19 [00:01<00:00, 11.55it/s]\n"
     ]
    },
    {
     "name": "stdout",
     "output_type": "stream",
     "text": [
      "epoch 2 - validation, loss: 7.717, total acc: 0.008, masked acc: 0.017\n",
      "EPOCH 3: Training...\n",
      "using train samples: [674, 1010]\n"
     ]
    },
    {
     "name": "stderr",
     "output_type": "stream",
     "text": [
      "acc: 0.013, masked acc: 0.027, loss: 7.716: 100%|███████████████████████████████████████████████████████████████████████████████████████████████████████████████████████████████████████████████████████████████████████████████████████████████████████████████████████████████████████████████████████████████████████████████████████████████████████████████████████████████████████████████████████████████████████████████████████████████████████████████████████████████████████████████████████████████████████████████████████████████████████████████████████████████████████████████████████████████████████████████████████████████████████████████████████████████████████████| 22/22 [00:03<00:00,  5.93it/s]\n"
     ]
    },
    {
     "name": "stdout",
     "output_type": "stream",
     "text": [
      "22\n",
      "epoch 3 - train (330 iterations), loss: 7.716, total acc: 0.013, masked acc: 0.027\n",
      "EPOCH 3: Validating...\n"
     ]
    },
    {
     "name": "stderr",
     "output_type": "stream",
     "text": [
      "acc: 0.0073, masked acc: 0.015, loss: 7.706: 100%|██████████████████████████████████████████████████████████████████████████████████████████████████████████████████████████████████████████████████████████████████████████████████████████████████████████████████████████████████████████████████████████████████████████████████████████████████████████████████████████████████████████████████████████████████████████████████████████████████████████████████████████████████████████████████████████████████████████████████████████████████████████████████████████████████████████████████████████████████████████████████████████████████████████████████████████████████████████| 19/19 [00:01<00:00, 11.79it/s]\n"
     ]
    },
    {
     "name": "stdout",
     "output_type": "stream",
     "text": [
      "epoch 3 - validation, loss: 7.706, total acc: 0.007, masked acc: 0.015\n",
      "EPOCH 4: Training...\n",
      "using train samples: [674, 1010]\n"
     ]
    },
    {
     "name": "stderr",
     "output_type": "stream",
     "text": [
      "acc: 0.013, masked acc: 0.025, loss: 7.669: 100%|███████████████████████████████████████████████████████████████████████████████████████████████████████████████████████████████████████████████████████████████████████████████████████████████████████████████████████████████████████████████████████████████████████████████████████████████████████████████████████████████████████████████████████████████████████████████████████████████████████████████████████████████████████████████████████████████████████████████████████████████████████████████████████████████████████████████████████████████████████████████████████████████████████████████████████████████████████████| 22/22 [00:03<00:00,  6.42it/s]\n"
     ]
    },
    {
     "name": "stdout",
     "output_type": "stream",
     "text": [
      "22\n",
      "epoch 4 - train (352 iterations), loss: 7.669, total acc: 0.013, masked acc: 0.025\n",
      "EPOCH 4: Validating...\n"
     ]
    },
    {
     "name": "stderr",
     "output_type": "stream",
     "text": [
      "acc: 0.0078, masked acc: 0.021, loss: 7.644: 100%|██████████████████████████████████████████████████████████████████████████████████████████████████████████████████████████████████████████████████████████████████████████████████████████████████████████████████████████████████████████████████████████████████████████████████████████████████████████████████████████████████████████████████████████████████████████████████████████████████████████████████████████████████████████████████████████████████████████████████████████████████████████████████████████████████████████████████████████████████████████████████████████████████████████████████████████████████████████| 19/19 [00:01<00:00, 12.58it/s]\n"
     ]
    },
    {
     "name": "stdout",
     "output_type": "stream",
     "text": [
      "epoch 4 - validation, loss: 7.644, total acc: 0.008, masked acc: 0.021\n",
      "EPOCH 5: Training...\n",
      "using train samples: [674, 1010]\n"
     ]
    },
    {
     "name": "stderr",
     "output_type": "stream",
     "text": [
      "acc: 0.013, masked acc: 0.025, loss: 7.649: 100%|███████████████████████████████████████████████████████████████████████████████████████████████████████████████████████████████████████████████████████████████████████████████████████████████████████████████████████████████████████████████████████████████████████████████████████████████████████████████████████████████████████████████████████████████████████████████████████████████████████████████████████████████████████████████████████████████████████████████████████████████████████████████████████████████████████████████████████████████████████████████████████████████████████████████████████████████████████████| 22/22 [00:03<00:00,  6.44it/s]\n"
     ]
    },
    {
     "name": "stdout",
     "output_type": "stream",
     "text": [
      "22\n",
      "epoch 5 - train (374 iterations), loss: 7.649, total acc: 0.013, masked acc: 0.025\n",
      "EPOCH 5: Validating...\n"
     ]
    },
    {
     "name": "stderr",
     "output_type": "stream",
     "text": [
      "acc: 0.0076, masked acc: 0.021, loss: 7.605: 100%|██████████████████████████████████████████████████████████████████████████████████████████████████████████████████████████████████████████████████████████████████████████████████████████████████████████████████████████████████████████████████████████████████████████████████████████████████████████████████████████████████████████████████████████████████████████████████████████████████████████████████████████████████████████████████████████████████████████████████████████████████████████████████████████████████████████████████████████████████████████████████████████████████████████████████████████████████████████| 19/19 [00:01<00:00, 12.42it/s]"
     ]
    },
    {
     "name": "stdout",
     "output_type": "stream",
     "text": [
      "epoch 5 - validation, loss: 7.605, total acc: 0.008, masked acc: 0.021\n"
     ]
    },
    {
     "name": "stderr",
     "output_type": "stream",
     "text": [
      "\n"
     ]
    }
   ],
   "source": [
    "from IPython.display import clear_output\n",
    "\n",
    "clear_output()\n",
    "\n",
    "#from utils.misc import print    #print function that displays time\n",
    "\n",
    "if not input_params.test:\n",
    "\n",
    "    for epoch in range(last_epoch+1, input_params.tot_epochs+1):\n",
    "\n",
    "        print(f'EPOCH {epoch}: Training...')\n",
    "\n",
    "        print(f'using train samples: {list(train_dataset.seq_df.index[[0,-1]])}')\n",
    "\n",
    "        train_metrics = train_eval.model_train(model, optimizer, train_dataloader, device, scheduler=scheduler,\n",
    "                            silent = False)\n",
    "\n",
    "        last_iteration+=int(np.ceil(len(train_dataset)/train_dataloader.batch_size))\n",
    "        \n",
    "        print(f'epoch {epoch} - train ({last_iteration+1} iterations), {metrics_to_str(train_metrics)}')\n",
    "\n",
    "        if epoch in input_params.save_at: #save model weights\n",
    "\n",
    "            misc.save_model_weights(model, optimizer, weights_dir, epoch, last_iteration)\n",
    "\n",
    "        if input_params.val_fraction>0 and ( epoch==input_params.tot_epochs or\n",
    "                            (input_params.validate_every and epoch%input_params.validate_every==0)):\n",
    "\n",
    "            print(f'EPOCH {epoch}: Validating...')\n",
    "\n",
    "            val_metrics =  train_eval.model_eval(model, optimizer, test_dataloader, device,\n",
    "                    silent = False)\n",
    "\n",
    "            print(f'epoch {epoch} - validation, {metrics_to_str(val_metrics)}')\n",
    "            "
   ]
  },
  {
   "cell_type": "code",
   "execution_count": null,
   "id": "cf8f0657-ada3-4b3a-9fe3-558a7e46276f",
   "metadata": {},
   "outputs": [],
   "source": []
  }
 ],
 "metadata": {
  "kernelspec": {
   "display_name": "Python 3 (ipykernel)",
   "language": "python",
   "name": "python3"
  },
  "language_info": {
   "codemirror_mode": {
    "name": "ipython",
    "version": 3
   },
   "file_extension": ".py",
   "mimetype": "text/x-python",
   "name": "python",
   "nbconvert_exporter": "python",
   "pygments_lexer": "ipython3",
   "version": "3.10.13"
  }
 },
 "nbformat": 4,
 "nbformat_minor": 5
}

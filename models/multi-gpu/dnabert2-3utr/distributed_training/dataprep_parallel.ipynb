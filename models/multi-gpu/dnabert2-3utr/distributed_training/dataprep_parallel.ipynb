{
 "cells": [
  {
   "cell_type": "code",
   "execution_count": 1,
   "id": "87af3dd4-4343-40cb-9288-b3aa037fd95d",
   "metadata": {},
   "outputs": [],
   "source": [
    "from textwrap import wrap\n",
    "import pysam\n",
    "import pandas as pd\n",
    "from tqdm import tqdm"
   ]
  },
  {
   "cell_type": "code",
   "execution_count": 2,
   "id": "33f0993e-9cdd-47cf-9c58-51de82ff5d59",
   "metadata": {},
   "outputs": [],
   "source": [
    "CHUNK_LEN = 1024\n",
    "OVERLAP_BP = 128\n",
    "MAX_SEQ_LENGTH = 5000"
   ]
  },
  {
   "cell_type": "code",
   "execution_count": 3,
   "id": "5bda4895-e73f-430f-8896-77eac8109d0b",
   "metadata": {},
   "outputs": [],
   "source": [
    "workdir = '/lustre/groups/epigenereg01/workspace/projects/vale/'"
   ]
  },
  {
   "cell_type": "code",
   "execution_count": 5,
   "id": "3e2e99cb-03bd-4027-beea-533e30e35720",
   "metadata": {},
   "outputs": [],
   "source": [
    "input_fa = workdir + 'mlm/fasta/241_mammals.shuffled.fa'\n",
    "input_seqs = pd.read_csv(input_fa + '.fai', sep='\\t', header=None, usecols=[0])[0].squeeze().values\n",
    "\n",
    "input_fasta = pysam.FastaFile(input_fa)"
   ]
  },
  {
   "cell_type": "code",
   "execution_count": 6,
   "id": "de702037-dcc5-4214-b608-070b453b9842",
   "metadata": {},
   "outputs": [],
   "source": [
    "output_fa = workdir + f'mlm/dnabert2-3utr/fasta/chunk_{CHUNK_LEN}_overlap_{OVERLAP_BP}.fa'"
   ]
  },
  {
   "cell_type": "code",
   "execution_count": 7,
   "id": "d35b7a6d-692c-45d1-96f2-16706854601c",
   "metadata": {},
   "outputs": [
    {
     "name": "stderr",
     "output_type": "stream",
     "text": [
      "100%|██████████| 3783714/3783714 [12:33<00:00, 5020.68it/s]\n"
     ]
    }
   ],
   "source": [
    "with open(output_fa,'w') as fout:\n",
    "    for seq_name in tqdm(input_seqs):\n",
    "        seq = input_fasta.fetch(seq_name).rstrip().replace('-','')\n",
    "        seq = seq[:MAX_SEQ_LENGTH]\n",
    "        seq_name = ':'.join(seq_name.split(':')[:-1]) #remove seq length at the end\n",
    "        for chunk_idx,start_idx in enumerate(range(0,len(seq),CHUNK_LEN-OVERLAP_BP)):\n",
    "            chunk = seq[start_idx:start_idx+CHUNK_LEN]\n",
    "            fout.write(f'>{seq_name}:{chunk_idx}\\n') #add chunk idx at the end\n",
    "            for line in wrap(chunk, 80): #wrap sequence with standard FASTA width\n",
    "                fout.write(line+'\\n')"
   ]
  },
  {
   "cell_type": "code",
   "execution_count": 8,
   "id": "6c5f84f6-24e5-4b64-a91d-6624f3925513",
   "metadata": {},
   "outputs": [],
   "source": [
    "! samtools faidx {output_fa}"
   ]
  },
  {
   "cell_type": "code",
   "execution_count": null,
   "id": "20b7a04b-48c9-4395-9acf-c3750ca3802a",
   "metadata": {},
   "outputs": [],
   "source": []
  }
 ],
 "metadata": {
  "kernelspec": {
   "display_name": "Python 3 (ipykernel)",
   "language": "python",
   "name": "python3"
  },
  "language_info": {
   "codemirror_mode": {
    "name": "ipython",
    "version": 3
   },
   "file_extension": ".py",
   "mimetype": "text/x-python",
   "name": "python",
   "nbconvert_exporter": "python",
   "pygments_lexer": "ipython3",
   "version": "3.10.13"
  }
 },
 "nbformat": 4,
 "nbformat_minor": 5
}

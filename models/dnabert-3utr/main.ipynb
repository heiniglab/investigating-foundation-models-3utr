{
 "cells": [
  {
   "cell_type": "code",
   "execution_count": 1,
   "id": "3f78039f-8dd7-43d1-8ac6-684736938326",
   "metadata": {},
   "outputs": [],
   "source": [
    "import os\n",
    "import gc\n",
    "import pickle\n",
    "import argparse\n",
    "import json\n",
    "\n",
    "import numpy as np\n",
    "import pandas as pd\n",
    "\n",
    "from tqdm import tqdm\n",
    "\n",
    "import pysam\n",
    "\n",
    "import torch\n",
    "from torch.nn.utils.rnn import pad_sequence\n",
    "from torch.utils.data import DataLoader, IterableDataset\n",
    "from transformers import BertConfig, BertForMaskedLM\n",
    "\n",
    "import helpers.misc as misc                #miscellaneous functions\n",
    "import helpers.train_eval as train_eval    #train and evaluation\n",
    "from DNABERT.src.transformers.tokenization_dna import DNATokenizer\n",
    "\n",
    "%load_ext autoreload\n",
    "%autoreload 2"
   ]
  },
  {
   "cell_type": "code",
   "execution_count": 2,
   "id": "05dcdca1-c81a-41fc-a8ed-40ee96842412",
   "metadata": {},
   "outputs": [],
   "source": [
    "os.environ[\"PYTORCH_CUDA_ALLOC_CONF\"] = \"max_split_size_mb:512\""
   ]
  },
  {
   "cell_type": "code",
   "execution_count": 3,
   "id": "7eca49b9-8937-4ef5-8291-d119c037f254",
   "metadata": {},
   "outputs": [
    {
     "name": "stdout",
     "output_type": "stream",
     "text": [
      "\n",
      "CUDA device: GPU\n",
      "\n"
     ]
    }
   ],
   "source": [
    "if torch.cuda.is_available():\n",
    "    device = torch.device('cuda')\n",
    "    print('\\nCUDA device: GPU\\n')\n",
    "else:\n",
    "    device = torch.device('cpu')\n",
    "    print('\\nCUDA device: CPU\\n')\n",
    "    #raise Exception('CUDA is not found')"
   ]
  },
  {
   "cell_type": "code",
   "execution_count": 4,
   "id": "cc332645-382d-4109-812a-938dac8eb8b1",
   "metadata": {},
   "outputs": [],
   "source": [
    "datadir = '/lustre/groups/epigenereg01/workspace/projects/vale/mlm/'"
   ]
  },
  {
   "cell_type": "code",
   "execution_count": 5,
   "id": "627983c5-543b-450c-b0d6-435bae154084",
   "metadata": {},
   "outputs": [],
   "source": [
    "def kmers_stride1(seq, k=6):\n",
    "    # splits a sequence into overlapping k-mers\n",
    "    return [seq[i:i + k] for i in range(0, len(seq)-k+1)]  "
   ]
  },
  {
   "cell_type": "code",
   "execution_count": 6,
   "id": "ad2f7d28-d069-45bc-a6dc-f5834ee63f56",
   "metadata": {},
   "outputs": [],
   "source": [
    "class SeqDataset(IterableDataset):\n",
    "    \n",
    "    def __init__(self, fasta_fa, seq_df):\n",
    "        \n",
    "        if fasta_fa:\n",
    "            self.fasta = pysam.FastaFile(fasta_fa)\n",
    "        else:\n",
    "             self.fasta = None\n",
    "\n",
    "        self.seq_df = seq_df\n",
    "        self.start = 0\n",
    "        self.end = len(self.seq_df)\n",
    "        \n",
    "    def __len__(self):\n",
    "        return len(self.seq_df)\n",
    "                \n",
    "    def __iter__(self):\n",
    "        \n",
    "        #worker_total_num = torch.utils.data.get_worker_info().num_workers\n",
    "        #worker_id = torch.utils.data.get_worker_info().id\n",
    "        \n",
    "        for seq_idx in range(self.start,self.end):\n",
    "            \n",
    "            if self.fasta:\n",
    "                seq = self.fasta.fetch(self.seq_df.iloc[seq_idx].seq_name).upper()\n",
    "            else:\n",
    "                seq = self.seq_df.iloc[seq_idx].seq.upper()\n",
    "    \n",
    "            #species_label = self.seq_df.iloc[idx].species_label\n",
    "            \n",
    "            seq = seq.replace('-','')\n",
    "            \n",
    "            if len(seq)<6:\n",
    "                    continue\n",
    "                \n",
    "            k_merized_seq = kmers_stride1(seq)\n",
    "\n",
    "            tokenized_seq = tokenizer.encode_plus(k_merized_seq, add_special_tokens=False)['input_ids']\n",
    "\n",
    "            #N_tokens_overlap=np.random.randint(low=0,high=input_params.max_overlap_tokens),\n",
    "            \n",
    "            tokenized_chunks, _ = misc.get_chunks(tokenized_seq, \n",
    "                                                   N_tokens_chunk=input_params.max_tokens, \n",
    "                                                   N_tokens_overlap=input_params.max_overlap_tokens,\n",
    "                                                   tokenizer_cls_token_id=tokenizer.cls_token_id,\n",
    "                                                   tokenizer_eos_token_id=tokenizer.sep_token_id,\n",
    "                                                   tokenizer_pad_token_id=None,\n",
    "                                                   padding=False)\n",
    "\n",
    "            for tokenized_chunk in tokenized_chunks:\n",
    "                tokenized_chunk = torch.LongTensor(tokenized_chunk)\n",
    "                yield tokenized_chunk,seq_idx\n",
    "                        \n",
    "    def close(self):\n",
    "        self.fasta.close()"
   ]
  },
  {
   "cell_type": "code",
   "execution_count": 7,
   "id": "585b6abb-2ac1-4da9-929c-8163e67e7c70",
   "metadata": {},
   "outputs": [],
   "source": [
    "input_params = misc.dotdict({})\n",
    "\n",
    "input_params.max_tokens = 512\n",
    "input_params.max_overlap_tokens = 128\n",
    "input_params.mlm_probability = 0.15\n",
    "\n",
    "input_params.train_chunks = 64\n",
    "input_params.batch_size = 16\n",
    "input_params.weight_decay = 0.01\n",
    "input_params.max_lr = 4e-4\n",
    "input_params.step_size_up = 10000\n",
    "input_params.step_size_down = 200000\n",
    "\n",
    "input_params.fasta = datadir + 'fasta/241_mammals.shuffled.fa'\n",
    "\n",
    "input_params.output_dir = './test/'\n",
    "input_params.tot_epochs = 30\n",
    "input_params.val_fraction = 0.02\n",
    "input_params.validate_every = 16\n",
    "input_params.save_at = ['-1']\n",
    "\n",
    "input_params.save_at = misc.list2range(input_params.save_at)"
   ]
  },
  {
   "cell_type": "code",
   "execution_count": 8,
   "id": "fc2d9fd3-c2a0-4a5f-ba36-bf0f71b9aa3b",
   "metadata": {},
   "outputs": [],
   "source": [
    "seq_df = pd.read_csv(input_params.fasta + '.fai', header=None, sep='\\t', usecols=[0,1], names=['seq_name','seq_len'])\n",
    "\n",
    "#seq_df = seq_df.iloc[:3000]\n",
    "\n",
    "seq_df['species_name'] = seq_df.seq_name.apply(lambda x:x.split(':')).apply(lambda x:x[1] if len(x)==2 else 'Homo_sapiens')\n",
    "\n",
    "all_species = sorted(seq_df.species_name.unique())\n",
    "\n",
    "if not input_params.species_agnostic:\n",
    "    species_encoding = {species:idx for idx,species in enumerate(all_species)}\n",
    "else:\n",
    "    species_encoding = {species:0 for species in all_species}\n",
    "    \n",
    "seq_df['species_label'] = seq_df.species_name.map(species_encoding)\n",
    "\n",
    "#seq_df = seq_df.sample(frac = 1., random_state = 1) #DO NOT SHUFFLE, otherwise too slow"
   ]
  },
  {
   "cell_type": "code",
   "execution_count": 9,
   "id": "ccadd11f-f0f0-42be-b7b7-be9a6f228650",
   "metadata": {},
   "outputs": [],
   "source": [
    "tokenizer = DNATokenizer(vocab_file='./DNABERT/src/transformers/dnabert-config/bert-config-6/vocab.txt',\n",
    "                        max_len=input_params.max_tokens)"
   ]
  },
  {
   "cell_type": "code",
   "execution_count": 10,
   "id": "4ec8db51-afa5-479e-841a-34062b6b16a1",
   "metadata": {},
   "outputs": [],
   "source": [
    "#k_merized_chunk = kmers_stride1('AAAAAA')\n",
    "#tokenized_chunk = tokenizer.encode_plus(k_merized_chunk,add_special_tokens=1)\n",
    "#tokenized_chunk"
   ]
  },
  {
   "cell_type": "code",
   "execution_count": 11,
   "id": "62d8b24e-bff6-4fd3-917a-31108ff43c5d",
   "metadata": {},
   "outputs": [],
   "source": [
    "config = BertConfig.from_pretrained('./DNABERT/src/transformers/dnabert-config/bert-config-6/config.json')\n",
    "\n",
    "model = BertForMaskedLM(config).to(device)"
   ]
  },
  {
   "cell_type": "code",
   "execution_count": 12,
   "id": "888c8ebc-d868-4a07-892c-24d232255e02",
   "metadata": {},
   "outputs": [],
   "source": [
    "#collate_fn = DataCollatorForLanguageModeling(tokenizer=tokenizer, mlm=True, mlm_probability=0.15)"
   ]
  },
  {
   "cell_type": "code",
   "execution_count": 13,
   "id": "6d05a35e-98c3-46b2-a2a0-647e09fcda3e",
   "metadata": {},
   "outputs": [],
   "source": [
    "def collate_fn(batch):\n",
    "    examples, seq_idx = zip(*batch)\n",
    "    seq_padded = pad_sequence(examples, batch_first=True, padding_value=tokenizer.pad_token_id)\n",
    "    return misc.mask_tokens(seq_padded, tokenizer, input_params.mlm_probability), seq_idx"
   ]
  },
  {
   "cell_type": "code",
   "execution_count": 14,
   "id": "39ac0b02-19e7-476b-bed8-0a3d3ecb8caa",
   "metadata": {},
   "outputs": [
    {
     "name": "stderr",
     "output_type": "stream",
     "text": [
      "/tmp/ipykernel_485033/3011938391.py:5: SettingWithCopyWarning: \n",
      "A value is trying to be set on a copy of a slice from a DataFrame.\n",
      "Try using .loc[row_indexer,col_indexer] = value instead\n",
      "\n",
      "See the caveats in the documentation: https://pandas.pydata.org/pandas-docs/stable/user_guide/indexing.html#returning-a-view-versus-a-copy\n",
      "  train_df['train_chunk'] = train_chunk[:N_train]\n"
     ]
    }
   ],
   "source": [
    "N_train = int(len(seq_df)*(1-input_params.val_fraction))       \n",
    "train_df, test_df = seq_df.iloc[:N_train], seq_df.iloc[N_train:]\n",
    "\n",
    "train_chunk = np.repeat(list(range(input_params.train_chunks)),repeats = N_train // input_params.train_chunks + 1 )\n",
    "train_df['train_chunk'] = train_chunk[:N_train]\n",
    "\n",
    "train_dataset = SeqDataset(input_params.fasta, train_df)\n",
    "train_dataloader = DataLoader(dataset = train_dataset, batch_size = input_params.batch_size, \n",
    "                              num_workers = 1, worker_init_fn=misc.worker_init_fn, collate_fn = collate_fn, shuffle = False)\n",
    "\n",
    "test_dataset = SeqDataset(input_params.fasta, test_df)\n",
    "test_dataloader = DataLoader(dataset = test_dataset, batch_size = input_params.batch_size, \n",
    "                             num_workers = 1,  worker_init_fn=misc.worker_init_fn, collate_fn = collate_fn, shuffle = False)"
   ]
  },
  {
   "cell_type": "code",
   "execution_count": 15,
   "id": "a9d8cb44-dcf9-4576-9043-9977b4428047",
   "metadata": {},
   "outputs": [],
   "source": [
    "gc.collect()\n",
    "torch.cuda.empty_cache()"
   ]
  },
  {
   "cell_type": "code",
   "execution_count": 16,
   "id": "4b5cf702-943c-4cac-87cc-296914d37c32",
   "metadata": {},
   "outputs": [],
   "source": [
    "#pretrained_dir = '/lustre/groups/epigenereg01/workspace/projects/vale/MLM/dnabert/default/6-new-12w-0/'\n",
    "#model = BertForMaskedLM.from_pretrained(pretrained_dir).to(device)\n",
    "#\n",
    "#val_metrics =  train_eval.model_eval(model, None, test_dataloader, device,\n",
    "#                    silent = False)"
   ]
  },
  {
   "cell_type": "code",
   "execution_count": 17,
   "id": "2cbdd0c6-ecb7-4315-bdad-8eb7ac5bfbfb",
   "metadata": {},
   "outputs": [],
   "source": [
    "#pretrained_dir = '/lustre/groups/epigenereg01/workspace/projects/vale/mlm/models/dnabert-3utr/scheduler-1/checkpoints/epoch_7/'\n",
    "#model = BertForMaskedLM.from_pretrained(pretrained_dir).to(device)\n",
    "#\n",
    "#val_metrics =  train_eval.model_eval(model, None, test_dataloader, device,\n",
    "#                    silent = False)"
   ]
  },
  {
   "cell_type": "code",
   "execution_count": 18,
   "id": "fdd4f7be-f71b-495f-9136-3dda67dc3087",
   "metadata": {},
   "outputs": [],
   "source": [
    "# Prepare optimizer and schedule (linear warmup and decay)\n",
    "no_decay = [\"bias\", \"LayerNorm.weight\"]\n",
    "optimizer_grouped_parameters = [\n",
    "    {\n",
    "            \"params\": [p for n, p in model.named_parameters() if not any(nd in n for nd in no_decay)],\n",
    "            \"weight_decay\": input_params.weight_decay,\n",
    "    },\n",
    "        {\"params\": [p for n, p in model.named_parameters() if any(nd in n for nd in no_decay)], \"weight_decay\": 0.0},\n",
    "    ]\n",
    "\n",
    "optimizer = torch.optim.AdamW(optimizer_grouped_parameters, lr=input_params.max_lr, eps=1e-6, betas=(0.9,0.98))\n",
    "\n",
    "scheduler = torch.optim.lr_scheduler.CyclicLR(optimizer, base_lr = 0, max_lr = input_params.max_lr,\n",
    "                                             step_size_up = input_params.step_size_up, step_size_down = input_params.step_size_down, cycle_momentum=False)"
   ]
  },
  {
   "cell_type": "code",
   "execution_count": 19,
   "id": "68f27a3a-feca-4a2c-b37f-5e925c38180a",
   "metadata": {},
   "outputs": [],
   "source": [
    "last_epoch = 0\n",
    "\n",
    "if input_params.checkpoint_dir:\n",
    "\n",
    "    model = BertForMaskedLM.from_pretrained(input_params.checkpoint_dir).to(device)\n",
    "    \n",
    "    if os.path.isfile(input_params.checkpoint_dir + '/opimizer.pt'):\n",
    "            optimizer.load_state_dict(torch.load(input_params.checkpoint_dir + '/opimizer.pt'))\n",
    "            scheduler.load_state_dict(torch.load(input_params.checkpoint_dir + '/scheduler.pt'))\n",
    "\n",
    "weights_dir = os.path.join(input_params.output_dir, 'checkpoints') #dir to save model weights at save_at epochs\n",
    "\n",
    "if input_params.save_at:\n",
    "    os.makedirs(weights_dir, exist_ok = True)"
   ]
  },
  {
   "cell_type": "code",
   "execution_count": 20,
   "id": "470dd071-7785-46e8-a255-27dd2f7fae4f",
   "metadata": {},
   "outputs": [],
   "source": [
    "#val_metrics =  train_eval.model_eval(model, optimizer, test_dataloader, device,\n",
    "#                    silent = False)"
   ]
  },
  {
   "cell_type": "code",
   "execution_count": 21,
   "id": "8c028918-7ec8-44a1-b41b-b41a77ee1440",
   "metadata": {},
   "outputs": [],
   "source": [
    "def metrics_to_str(metrics):\n",
    "    loss, total_acc, masked_acc = metrics\n",
    "    return f'loss: {loss:.4}, total acc: {total_acc:.3f}, masked acc: {masked_acc:.3f}'"
   ]
  },
  {
   "cell_type": "code",
   "execution_count": null,
   "id": "ce94ff3d-89f2-46f1-ae69-da2d6f4521f1",
   "metadata": {},
   "outputs": [],
   "source": [
    "from IPython.display import clear_output\n",
    "\n",
    "clear_output()\n",
    "\n",
    "#from utils.misc import print    #print function that displays time\n",
    "\n",
    "if not input_params.test:\n",
    "\n",
    "    for epoch in range(last_epoch+1, input_params.tot_epochs+1):\n",
    "\n",
    "        print(f'EPOCH {epoch}: Training...')\n",
    "\n",
    "        train_dataset.seq_df = train_df[train_df.train_chunk == (epoch-1) % input_params.train_chunks]\n",
    "        train_dataset.end = len(train_dataset.seq_df)\n",
    "        \n",
    "        print(f'using train samples: {list(train_dataset.seq_df.index[[0,-1]])}')\n",
    "        \n",
    "        train_metrics = train_eval.model_train(model, optimizer, train_dataloader, device, scheduler=scheduler,\n",
    "                            silent = False)\n",
    "        \n",
    "        print(f'epoch {epoch} - train ({scheduler.last_epoch+1} iterations), {metrics_to_str(train_metrics)}')\n",
    "\n",
    "        if epoch in input_params.save_at or -1 in input_params.save_at: #save model weights\n",
    "\n",
    "            misc.save_model_weights(model, optimizer, scheduler, weights_dir, epoch, input_params.save_at)\n",
    "\n",
    "        if input_params.val_fraction>0 and ( epoch==input_params.tot_epochs or\n",
    "                            (input_params.validate_every and epoch%input_params.validate_every==0)):\n",
    "\n",
    "            print(f'EPOCH {epoch}: Validating...')\n",
    "\n",
    "            val_metrics =  train_eval.model_eval(model, optimizer, test_dataloader, device,\n",
    "                    silent = False)\n",
    "\n",
    "            print(f'epoch {epoch} - validation, {metrics_to_str(val_metrics)}')\n",
    "            "
   ]
  },
  {
   "cell_type": "code",
   "execution_count": null,
   "id": "5f9e5967-2f98-43fd-9ea0-4cb405b04e65",
   "metadata": {},
   "outputs": [],
   "source": []
  }
 ],
 "metadata": {
  "kernelspec": {
   "display_name": "Python 3 (ipykernel)",
   "language": "python",
   "name": "python3"
  },
  "language_info": {
   "codemirror_mode": {
    "name": "ipython",
    "version": 3
   },
   "file_extension": ".py",
   "mimetype": "text/x-python",
   "name": "python",
   "nbconvert_exporter": "python",
   "pygments_lexer": "ipython3",
   "version": "3.10.13"
  }
 },
 "nbformat": 4,
 "nbformat_minor": 5
}

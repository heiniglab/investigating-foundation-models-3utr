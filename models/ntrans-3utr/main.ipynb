{
 "cells": [
  {
   "cell_type": "code",
   "execution_count": 1,
   "id": "3f78039f-8dd7-43d1-8ac6-684736938326",
   "metadata": {},
   "outputs": [],
   "source": [
    "import os\n",
    "import gc\n",
    "import pickle\n",
    "import argparse\n",
    "import json\n",
    "\n",
    "import numpy as np\n",
    "import pandas as pd\n",
    "\n",
    "from tqdm import tqdm\n",
    "\n",
    "import pysam\n",
    "\n",
    "import torch\n",
    "from torch.utils.data import DataLoader, IterableDataset\n",
    "from transformers import AutoTokenizer, DataCollatorForLanguageModeling, get_inverse_sqrt_schedule\n",
    "\n",
    "from ntrans.esm_config import EsmConfig\n",
    "from ntrans.modeling_esm import EsmForMaskedLM\n",
    "\n",
    "import helpers.misc as misc                #miscellaneous functions\n",
    "import helpers.train_eval as train_eval    #train and evaluation\n",
    "\n",
    "%load_ext autoreload\n",
    "%autoreload 2"
   ]
  },
  {
   "cell_type": "code",
   "execution_count": 2,
   "id": "05dcdca1-c81a-41fc-a8ed-40ee96842412",
   "metadata": {},
   "outputs": [],
   "source": [
    "os.environ[\"PYTORCH_CUDA_ALLOC_CONF\"] = \"max_split_size_mb:512\""
   ]
  },
  {
   "cell_type": "code",
   "execution_count": 3,
   "id": "7eca49b9-8937-4ef5-8291-d119c037f254",
   "metadata": {},
   "outputs": [
    {
     "name": "stdout",
     "output_type": "stream",
     "text": [
      "\n",
      "CUDA device: NVIDIA A100-PCIE-40GB MIG 3g.20gb\n",
      "\n"
     ]
    }
   ],
   "source": [
    "if torch.cuda.is_available():\n",
    "    device = torch.device('cuda')\n",
    "    print(f'\\nCUDA device: {torch.cuda.get_device_name(0)}\\n')\n",
    "else:\n",
    "    device = torch.device('cpu')\n",
    "    print('\\nCUDA device: CPU\\n')\n",
    "    #raise Exception('CUDA is not found')"
   ]
  },
  {
   "cell_type": "code",
   "execution_count": 4,
   "id": "cc332645-382d-4109-812a-938dac8eb8b1",
   "metadata": {},
   "outputs": [],
   "source": [
    "datadir = '/lustre/groups/epigenereg01/workspace/projects/vale/mlm/'"
   ]
  },
  {
   "cell_type": "code",
   "execution_count": 5,
   "id": "ad2f7d28-d069-45bc-a6dc-f5834ee63f56",
   "metadata": {},
   "outputs": [],
   "source": [
    "class SeqDataset(IterableDataset):\n",
    "    \n",
    "    def __init__(self, fasta_fa, seq_df):\n",
    "        \n",
    "        if fasta_fa:\n",
    "            self.fasta = pysam.FastaFile(fasta_fa)\n",
    "        else:\n",
    "             self.fasta = None\n",
    "\n",
    "        self.seq_df = seq_df\n",
    "        self.start = 0\n",
    "        self.end = len(self.seq_df)\n",
    "        \n",
    "    def __len__(self):\n",
    "        return len(self.seq_df)\n",
    "                \n",
    "    def __iter__(self):\n",
    "        \n",
    "        #worker_total_num = torch.utils.data.get_worker_info().num_workers\n",
    "        #worker_id = torch.utils.data.get_worker_info().id\n",
    "        \n",
    "        for seq_idx in range(self.start,self.end):\n",
    "            \n",
    "            if self.fasta:\n",
    "                seq = self.fasta.fetch(self.seq_df.iloc[seq_idx].seq_name).upper()\n",
    "            else:\n",
    "                seq = self.seq_df.iloc[seq_idx].seq.upper()\n",
    "    \n",
    "            #species_label = self.seq_df.iloc[idx].species_label\n",
    "            \n",
    "            seq = seq.replace('-','')\n",
    "\n",
    "            tokenized_seq = tokenizer(seq, add_special_tokens=False)['input_ids']\n",
    "\n",
    "            #N_tokens_overlap=np.random.randint(low=0,high=input_params.max_overlap_tokens),\n",
    "\n",
    "            tokenized_chunks, _ = misc.get_chunks(tokenized_seq, \n",
    "                                                   N_tokens_chunk=input_params.max_tokens, \n",
    "                                                   N_tokens_overlap=input_params.max_overlap_tokens,\n",
    "                                                   tokenizer_cls_token_id=tokenizer.cls_token_id,\n",
    "                                                   tokenizer_eos_token_id=None,\n",
    "                                                   tokenizer_pad_token_id=None,\n",
    "                                                   padding=False)\n",
    "\n",
    "            for tokenized_chunk in tokenized_chunks:\n",
    "\n",
    "                attention_mask = [1 if token_id!=tokenizer.pad_token_id else 0 for token_id in tokenized_chunk]\n",
    "                \n",
    "                tokenized_chunk = {'input_ids':tokenized_chunk,\n",
    "                                   'seq_idx':seq_idx,\n",
    "                                   'token_type_ids':[0]*len(tokenized_chunk), \n",
    "                                   'attention_mask':attention_mask}\n",
    "                \n",
    "                yield tokenized_chunk\n",
    "                        \n",
    "    def close(self):\n",
    "        self.fasta.close()"
   ]
  },
  {
   "cell_type": "code",
   "execution_count": 6,
   "id": "585b6abb-2ac1-4da9-929c-8163e67e7c70",
   "metadata": {},
   "outputs": [],
   "source": [
    "input_params = misc.dotdict({})\n",
    "\n",
    "input_params.max_overlap_tokens = 50\n",
    "input_params.max_tokens = 1024\n",
    "input_params.val_fraction = 0.1\n",
    "\n",
    "input_params.train_chunks = 64\n",
    "input_params.batch_size = 2\n",
    "input_params.weight_decay = 0\n",
    "input_params.max_lr = 1e-4\n",
    "input_params.max_seq_len = 5000\n",
    "\n",
    "input_params.fasta = datadir + 'fasta/241_mammals.shuffled.fa'\n",
    "\n",
    "input_params.output_dir = './test/'\n",
    "input_params.tot_epochs = 10\n",
    "input_params.val_fraction = 0.1\n",
    "input_params.validate_every = 1\n",
    "input_params.save_at = [2]\n",
    "input_params.save_at = ['-1']\n",
    "\n",
    "input_params.save_at = misc.list2range(input_params.save_at)"
   ]
  },
  {
   "cell_type": "code",
   "execution_count": 7,
   "id": "fc2d9fd3-c2a0-4a5f-ba36-bf0f71b9aa3b",
   "metadata": {},
   "outputs": [],
   "source": [
    "seq_df = pd.read_csv(input_params.fasta + '.fai', header=None, sep='\\t', usecols=[0,1], names=['seq_name','seq_len'])\n",
    "\n",
    "#seq_df = seq_df.iloc[:3000]\n",
    "\n",
    "seq_df['species_name'] = seq_df.seq_name.apply(lambda x:x.split(':')).apply(lambda x:x[1] if len(x)==2 else 'Homo_sapiens')\n",
    "\n",
    "all_species = sorted(seq_df.species_name.unique())\n",
    "\n",
    "if not input_params.species_agnostic:\n",
    "    species_encoding = {species:idx for idx,species in enumerate(all_species)}\n",
    "else:\n",
    "    species_encoding = {species:0 for species in all_species}\n",
    "    \n",
    "seq_df['species_label'] = seq_df.species_name.map(species_encoding)\n",
    "\n",
    "#seq_df = seq_df.sample(frac = 1., random_state = 1) #DO NOT SHUFFLE, otherwise too slow"
   ]
  },
  {
   "cell_type": "code",
   "execution_count": 8,
   "id": "ccadd11f-f0f0-42be-b7b7-be9a6f228650",
   "metadata": {},
   "outputs": [],
   "source": [
    "tokenizer = AutoTokenizer.from_pretrained('3utr_tokenizer',model_max_length=input_params.max_tok_len)\n",
    "\n",
    "tokenizer.deprecation_warnings[\"Asking-to-pad-a-fast-tokenizer\"] = True"
   ]
  },
  {
   "cell_type": "code",
   "execution_count": 9,
   "id": "62d8b24e-bff6-4fd3-917a-31108ff43c5d",
   "metadata": {},
   "outputs": [
    {
     "data": {
      "text/plain": [
       "Embedding(4108, 768, padding_idx=1)"
      ]
     },
     "execution_count": 9,
     "metadata": {},
     "output_type": "execute_result"
    }
   ],
   "source": [
    "config = EsmConfig.from_pretrained('ntrans/config_v2-250m.json')\n",
    "config.vocab_size = len(tokenizer)\n",
    "\n",
    "model = EsmForMaskedLM(config).to(device)\n",
    "\n",
    "model.resize_token_embeddings(len(tokenizer))"
   ]
  },
  {
   "cell_type": "code",
   "execution_count": 10,
   "id": "888c8ebc-d868-4a07-892c-24d232255e02",
   "metadata": {},
   "outputs": [],
   "source": [
    "collate_fn = DataCollatorForLanguageModeling(tokenizer=tokenizer, mlm=True, mlm_probability=0.15)"
   ]
  },
  {
   "cell_type": "code",
   "execution_count": 11,
   "id": "39ac0b02-19e7-476b-bed8-0a3d3ecb8caa",
   "metadata": {},
   "outputs": [
    {
     "name": "stderr",
     "output_type": "stream",
     "text": [
      "/tmp/ipykernel_485521/3011938391.py:5: SettingWithCopyWarning: \n",
      "A value is trying to be set on a copy of a slice from a DataFrame.\n",
      "Try using .loc[row_indexer,col_indexer] = value instead\n",
      "\n",
      "See the caveats in the documentation: https://pandas.pydata.org/pandas-docs/stable/user_guide/indexing.html#returning-a-view-versus-a-copy\n",
      "  train_df['train_chunk'] = train_chunk[:N_train]\n"
     ]
    }
   ],
   "source": [
    "N_train = int(len(seq_df)*(1-input_params.val_fraction))       \n",
    "train_df, test_df = seq_df.iloc[:N_train], seq_df.iloc[N_train:]\n",
    "\n",
    "train_chunk = np.repeat(list(range(input_params.train_chunks)),repeats = N_train // input_params.train_chunks + 1 )\n",
    "train_df['train_chunk'] = train_chunk[:N_train]\n",
    "\n",
    "train_dataset = SeqDataset(input_params.fasta, train_df)\n",
    "train_dataloader = DataLoader(dataset = train_dataset, batch_size = input_params.batch_size, \n",
    "                              num_workers = 1, worker_init_fn=misc.worker_init_fn, collate_fn = collate_fn, shuffle = False)\n",
    "\n",
    "test_dataset = SeqDataset(input_params.fasta, test_df)\n",
    "test_dataloader = DataLoader(dataset = test_dataset, batch_size = input_params.batch_size, \n",
    "                             num_workers = 1,  worker_init_fn=misc.worker_init_fn, collate_fn = collate_fn, shuffle = False)"
   ]
  },
  {
   "cell_type": "code",
   "execution_count": 12,
   "id": "266c1ef4-0137-45f6-828a-cc98b9678956",
   "metadata": {},
   "outputs": [],
   "source": [
    "#from transformers import AutoTokenizer\n",
    "#\n",
    "#pretrained_dir = '/lustre/groups/epigenereg01/workspace/projects/vale/MLM/dnabert2/DNABERT-2-117M/'\n",
    "#tokenizer = AutoTokenizer.from_pretrained(pretrained_dir,trust_remote_code=True)\n",
    "#model = BertForMaskedLM.from_pretrained(pretrained_dir).to(device)\n",
    "#\n",
    "#val_metrics =  train_eval.model_eval(model, None, test_dataloader, device,\n",
    "#                    silent = False)"
   ]
  },
  {
   "cell_type": "code",
   "execution_count": 13,
   "id": "a9d8cb44-dcf9-4576-9043-9977b4428047",
   "metadata": {},
   "outputs": [],
   "source": [
    "gc.collect()\n",
    "torch.cuda.empty_cache()"
   ]
  },
  {
   "cell_type": "code",
   "execution_count": 14,
   "id": "61c565b1-7538-4620-9e5f-0c7d85aa24e9",
   "metadata": {},
   "outputs": [],
   "source": [
    "model_params = [p for p in model.parameters() if p.requires_grad]\n",
    "\n",
    "optimizer = torch.optim.Adam(model_params, betas=(0.9,0.999), eps=1e-8,\n",
    "                             lr = input_params.max_lr, \n",
    "                             weight_decay = input_params.weight_decay)"
   ]
  },
  {
   "cell_type": "code",
   "execution_count": 15,
   "id": "f4417aaf-3eea-4133-9c0c-714c1f34d6a1",
   "metadata": {},
   "outputs": [],
   "source": [
    "#input_params.checkpoint_dir = '/lustre/groups/epigenereg01/workspace/projects/vale/mlm/dnabert2-3utr/single_gpu/checkpoints/epoch_4/'"
   ]
  },
  {
   "cell_type": "code",
   "execution_count": 16,
   "id": "238d8baf-e41c-4525-bedc-38806355b936",
   "metadata": {},
   "outputs": [],
   "source": [
    "scheduler = get_inverse_sqrt_schedule(optimizer, num_warmup_steps=16000,)"
   ]
  },
  {
   "cell_type": "code",
   "execution_count": 17,
   "id": "68f27a3a-feca-4a2c-b37f-5e925c38180a",
   "metadata": {},
   "outputs": [],
   "source": [
    "last_epoch = 0\n",
    "\n",
    "if input_params.checkpoint_dir:\n",
    "\n",
    "    model = EsmForMaskedLM.from_pretrained(input_params.checkpoint_dir).to(device)\n",
    "    \n",
    "    if os.path.isfile(input_params.checkpoint_dir + '/optimizer.pt'):\n",
    "            optimizer.load_state_dict(torch.load(input_params.checkpoint_dir + '/optimizer.pt'))\n",
    "            scheduler.load_state_dict(torch.load(input_params.checkpoint_dir + '/scheduler.pt'))\n",
    "\n",
    "    last_epoch = int(input_params.checkpoint_dir.rstrip('/').split('_')[-1]) #infer previous epoch from input_params.checkpoint_dir\n",
    "\n",
    "weights_dir = os.path.join(input_params.output_dir, 'checkpoints') #dir to save model weights at save_at epochs\n",
    "\n",
    "if input_params.save_at:\n",
    "    os.makedirs(weights_dir, exist_ok = True)"
   ]
  },
  {
   "cell_type": "code",
   "execution_count": 18,
   "id": "8c028918-7ec8-44a1-b41b-b41a77ee1440",
   "metadata": {},
   "outputs": [],
   "source": [
    "def metrics_to_str(metrics):\n",
    "    loss, total_acc, masked_acc = metrics\n",
    "    return f'loss: {loss:.4}, total acc: {total_acc:.3f}, masked acc: {masked_acc:.3f}'"
   ]
  },
  {
   "cell_type": "code",
   "execution_count": null,
   "id": "ce94ff3d-89f2-46f1-ae69-da2d6f4521f1",
   "metadata": {},
   "outputs": [],
   "source": [
    "from IPython.display import clear_output\n",
    "\n",
    "clear_output()\n",
    "\n",
    "#from utils.misc import print    #print function that displays time\n",
    "\n",
    "if not input_params.test:\n",
    "\n",
    "    for epoch in range(last_epoch+1, input_params.tot_epochs+1):\n",
    "\n",
    "        print(f'EPOCH {epoch}: Training...')\n",
    "\n",
    "        train_dataset.seq_df = train_df[train_df.train_chunk == (epoch-1) % input_params.train_chunks]\n",
    "        train_dataset.end = len(train_dataset.seq_df)\n",
    "        \n",
    "        print(f'using train samples: {list(train_dataset.seq_df.index[[0,-1]])}')\n",
    "\n",
    "        train_metrics = train_eval.model_train(model, optimizer, train_dataloader, device, scheduler=scheduler,\n",
    "                            silent = False)\n",
    "        \n",
    "        print(f'epoch {epoch} - train ({scheduler.last_epoch+1} iterations), {metrics_to_str(train_metrics)}')\n",
    "\n",
    "        if epoch in input_params.save_at or -1 in input_params.save_at: #save model weights\n",
    "\n",
    "            output_dir = misc.save_model_weights(model, None, optimizer, scheduler, weights_dir, epoch, input_params.save_at)\n",
    "            _ = os.system('cp ./ntrans/*.py ' + output_dir) \n",
    "            _ = os.system('cp ./3utr_tokenizer/* ' + output_dir) \n",
    "            \n",
    "        if input_params.val_fraction>0 and ( epoch==input_params.tot_epochs or\n",
    "                            (input_params.validate_every and epoch%input_params.validate_every==0)):\n",
    "\n",
    "            print(f'EPOCH {epoch}: Validating...')\n",
    "\n",
    "            val_metrics =  train_eval.model_eval(model, optimizer, test_dataloader, device,\n",
    "                    silent = False)\n",
    "\n",
    "            print(f'epoch {epoch} - validation, {metrics_to_str(val_metrics)}')\n",
    "            "
   ]
  },
  {
   "cell_type": "code",
   "execution_count": null,
   "id": "3a7f9004-a153-4ffb-b40c-4a198d461849",
   "metadata": {},
   "outputs": [],
   "source": []
  },
  {
   "cell_type": "code",
   "execution_count": null,
   "id": "801faee3-1876-41bc-beb9-21add5fb9c62",
   "metadata": {},
   "outputs": [],
   "source": []
  }
 ],
 "metadata": {
  "kernelspec": {
   "display_name": "Python 3 (ipykernel)",
   "language": "python",
   "name": "python3"
  },
  "language_info": {
   "codemirror_mode": {
    "name": "ipython",
    "version": 3
   },
   "file_extension": ".py",
   "mimetype": "text/x-python",
   "name": "python",
   "nbconvert_exporter": "python",
   "pygments_lexer": "ipython3",
   "version": "3.10.13"
  }
 },
 "nbformat": 4,
 "nbformat_minor": 5
}

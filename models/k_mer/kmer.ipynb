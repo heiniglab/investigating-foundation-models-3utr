{
 "cells": [
  {
   "cell_type": "markdown",
   "metadata": {},
   "source": [
    "# K-mer\n",
    "The goal of this notebook is to reproduce the k-mer model.\n",
    "While investigating the plotting notebook in the original repository it was found that the 11-mer model actually is the best markov model. In the config file for the best markov model in the results folder it can be seen, that it is a bidirectional markov model of order 5.\n"
   ]
  },
  {
   "cell_type": "code",
   "execution_count": 1,
   "metadata": {
    "tags": []
   },
   "outputs": [],
   "source": [
    "%load_ext autoreload\n",
    "%autoreload 2\n",
    "\n",
    "import pandas as pd\n",
    "import re\n",
    "\n",
    "import numpy as np\n",
    "\n",
    "from markov_model import *\n",
    "\n",
    "import pickle\n",
    "from collections import defaultdict\n",
    "\n",
    "from tqdm import tqdm"
   ]
  },
  {
   "cell_type": "code",
   "execution_count": 2,
   "metadata": {
    "tags": []
   },
   "outputs": [],
   "source": [
    "markov_order = 3\n",
    "K = (markov_order*2)+1"
   ]
  },
  {
   "cell_type": "code",
   "execution_count": 3,
   "metadata": {
    "tags": []
   },
   "outputs": [],
   "source": [
    "data_dir = '/lustre/groups/epigenereg01/workspace/projects/vale/mlm/'"
   ]
  },
  {
   "cell_type": "code",
   "execution_count": 6,
   "metadata": {},
   "outputs": [],
   "source": [
    "def read_fasta(fasta_fa, N_seqs=None):\n",
    "    \n",
    "    fasta_df = defaultdict(str)\n",
    "\n",
    "    c = 0\n",
    "    \n",
    "    with open(fasta_fa, 'r') as f:\n",
    "        for line in f:\n",
    "            if line.startswith('>'):\n",
    "                seq_name = line\n",
    "                c += 1\n",
    "                if N_seqs is not None and c>N_seqs:\n",
    "                    break\n",
    "            else:\n",
    "                fasta_df[seq_name] += line.rstrip().upper()\n",
    "    \n",
    "    fasta_df = pd.DataFrame({'seq':fasta_df.values(), 'seq_name':fasta_df.keys()})\n",
    "    \n",
    "    return fasta_df"
   ]
  },
  {
   "cell_type": "code",
   "execution_count": 8,
   "metadata": {},
   "outputs": [],
   "source": [
    "human_fasta = data_dir + 'fasta/Homo_sapiens_rna.fa' #3'UTR on hegative strand should already be reversed\n",
    "\n",
    "other_species_fasta = data_dir + 'fasta/241_mammals.shuffled.fa'\n",
    "\n",
    "train_df = read_fasta(other_species_fasta, N_seqs=100000)\n",
    "\n",
    "test_df = read_fasta(human_fasta)\n",
    "test_df.seq_name = test_df.seq_name.apply(lambda x: x[1:].rstrip())"
   ]
  },
  {
   "cell_type": "code",
   "execution_count": 13,
   "metadata": {
    "tags": []
   },
   "outputs": [
    {
     "name": "stderr",
     "output_type": "stream",
     "text": [
      "100%|██████████| 100000/100000 [10:51<00:00, 153.49it/s]\n"
     ]
    }
   ],
   "source": [
    "# get the frequency counts of all motifs till 11mer\n",
    "kmer_train = KmerCount(K,pseudocount=0.1)\n",
    "\n",
    "kmer_train.compute_counts(train_df.seq)"
   ]
  },
  {
   "cell_type": "code",
   "execution_count": 14,
   "metadata": {
    "tags": []
   },
   "outputs": [],
   "source": [
    "markov_model = BiMarkov(kmer_train)"
   ]
  },
  {
   "cell_type": "code",
   "execution_count": 15,
   "metadata": {
    "tags": []
   },
   "outputs": [
    {
     "name": "stderr",
     "output_type": "stream",
     "text": [
      "/home/icb/sergey.vilov/workspace/MLM/motif_predictions/k_mer/markov_model.py:150: RuntimeWarning: invalid value encountered in divide\n",
      "  self.markov_matrix[order,:,:] = self.markov_matrix[order,:,:]/np.sum(self.markov_matrix[order,:,:],axis=1)[:,np.newaxis]\n"
     ]
    }
   ],
   "source": [
    "# calculate the markov matrix using the 11mer counts\n",
    "markov_model.compile_from_counts()"
   ]
  },
  {
   "cell_type": "code",
   "execution_count": 16,
   "metadata": {
    "tags": []
   },
   "outputs": [],
   "source": [
    "test_df = test_df.set_index('seq_name').seq #dataframe to series"
   ]
  },
  {
   "cell_type": "code",
   "execution_count": 17,
   "metadata": {
    "tags": []
   },
   "outputs": [
    {
     "name": "stderr",
     "output_type": "stream",
     "text": [
      "100%|██████████| 18134/18134 [01:30<00:00, 201.37it/s]\n"
     ]
    }
   ],
   "source": [
    "#inference\n",
    "\n",
    "mapping = {'A':0,'C':1,'G':2,'T':3}\n",
    "\n",
    "motif_probas = []\n",
    "\n",
    "for seq_name, seq in tqdm(test_df.items(),total = len(test_df)):\n",
    "    \n",
    "    prbs = markov_model.impute_for_seq(seq, order=markov_order)\n",
    "    \n",
    "    motif_probas.append((seq_name, seq, prbs))"
   ]
  },
  {
   "cell_type": "code",
   "execution_count": 19,
   "metadata": {
    "tags": []
   },
   "outputs": [],
   "source": [
    "output_dir = data_dir + f'human_3utr/probs/K-mer/{K}_mer/'\n",
    "os.makedirs(output_dir, exist_ok=True)\n",
    "\n",
    "with open(output_dir + 'predictions.pickle', 'wb') as f:\n",
    "    seq_names, seqs, probs = zip(*motif_probas)\n",
    "    pickle.dump({'seq_names':seq_names, 'seqs':seqs, 'probs':probs},f)"
   ]
  },
  {
   "cell_type": "markdown",
   "metadata": {},
   "source": [
    "# Performance for different K"
   ]
  },
  {
   "cell_type": "code",
   "execution_count": 44,
   "metadata": {},
   "outputs": [],
   "source": [
    "kmers = [7,9,11,13]\n",
    "\n",
    "model_scores = {}\n",
    "\n",
    "for k in kmers:\n",
    "    with open(data_dir + f'human_3utr/probs/K-mer/{K}_mer/predictions.pickle', 'rb') as f:\n",
    "        data = pickle.load(f)\n",
    "        model_scores[k] = {k:v for k,v in zip(data['seq_names'],data['probs'])}"
   ]
  },
  {
   "cell_type": "code",
   "execution_count": 45,
   "metadata": {},
   "outputs": [
    {
     "name": "stderr",
     "output_type": "stream",
     "text": [
      "100%|██████████| 18134/18134 [00:07<00:00, 2413.63it/s]\n"
     ]
    }
   ],
   "source": [
    "res = {k:[] for k in kmers}\n",
    "\n",
    "for seq_name, seq in tqdm(test_df.items(),total = len(test_df)):\n",
    "    seq_mapping = np.array([mapping[base] for base in seq]) #motif sequence to ordinal encoding\n",
    "    for k in kmers:\n",
    "        preds = np.argmax(model_scores[k][seq_name],axis=1)\n",
    "        res[k].extend(list(seq_mapping==preds))"
   ]
  },
  {
   "cell_type": "code",
   "execution_count": 46,
   "metadata": {},
   "outputs": [],
   "source": [
    "mean_acc = {k:np.mean(v) for k,v in res.items()}\n",
    "std_acc = {k:np.std(v) for k,v in res.items()}"
   ]
  },
  {
   "cell_type": "code",
   "execution_count": 52,
   "metadata": {},
   "outputs": [
    {
     "data": {
      "text/plain": [
       "{7: 0.37839834126653354,\n",
       " 9: 0.3973033119437702,\n",
       " 11: 0.4121199421714091,\n",
       " 13: 0.43742221225283656}"
      ]
     },
     "execution_count": 52,
     "metadata": {},
     "output_type": "execute_result"
    }
   ],
   "source": [
    "mean_acc"
   ]
  },
  {
   "cell_type": "code",
   "execution_count": 53,
   "metadata": {},
   "outputs": [
    {
     "data": {
      "text/plain": [
       "{7: 0.48498766643417823,\n",
       " 9: 0.48933974931767193,\n",
       " 11: 0.49221651276246636,\n",
       " 13: 0.49606856429396046}"
      ]
     },
     "execution_count": 53,
     "metadata": {},
     "output_type": "execute_result"
    }
   ],
   "source": [
    "std_acc"
   ]
  },
  {
   "cell_type": "code",
   "execution_count": null,
   "metadata": {},
   "outputs": [],
   "source": []
  }
 ],
 "metadata": {
  "kernelspec": {
   "display_name": "Python 3 (ipykernel)",
   "language": "python",
   "name": "python3"
  },
  "language_info": {
   "codemirror_mode": {
    "name": "ipython",
    "version": 3
   },
   "file_extension": ".py",
   "mimetype": "text/x-python",
   "name": "python",
   "nbconvert_exporter": "python",
   "pygments_lexer": "ipython3",
   "version": "3.10.13"
  },
  "vscode": {
   "interpreter": {
    "hash": "7231443d2c6613b194813e6f98d913231f722dc8bb3ac4a1397dcf3c267e4542"
   }
  }
 },
 "nbformat": 4,
 "nbformat_minor": 4
}

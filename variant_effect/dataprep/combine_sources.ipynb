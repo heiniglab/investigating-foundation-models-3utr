{
 "cells": [
  {
   "cell_type": "code",
   "execution_count": 20,
   "id": "632da78c-658c-4fe3-b6af-4e423837db11",
   "metadata": {},
   "outputs": [],
   "source": [
    "import pandas as pd\n",
    "import numpy as np\n",
    "import re\n",
    "import os\n",
    "from textwrap import wrap\n",
    "from tqdm import tqdm"
   ]
  },
  {
   "cell_type": "code",
   "execution_count": 21,
   "id": "71dd8f8d-dd33-4bde-b12d-ee09bf3efb8c",
   "metadata": {},
   "outputs": [],
   "source": [
    "data_dir = '/lustre/groups/epigenereg01/workspace/projects/vale/mlm/variants/'"
   ]
  },
  {
   "cell_type": "markdown",
   "id": "067ffd5f-945e-434c-ae61-5743a0dde346",
   "metadata": {},
   "source": [
    "## Collect variants from all sources"
   ]
  },
  {
   "cell_type": "code",
   "execution_count": 22,
   "id": "291abab3-3dcf-4bb2-b281-77607943cb7b",
   "metadata": {},
   "outputs": [],
   "source": [
    "clinvar_variants = pd.read_csv(data_dir + 'prefiltered/clinvar/clinvar.3utr.pathogenic.bed', usecols=[0,1,3],names=['chrom','pos','info'], sep='\\t') #clinvar (Likely) pathogenic\n",
    "\n",
    "flt = (clinvar_variants['info'].str.contains('no_assertion'))|(clinvar_variants['info'].str.contains('no_interpretation'))\n",
    "clinvar_variants = clinvar_variants[~flt]\n",
    "\n",
    "clinvar_variants['source'] = 'clinvar'\n",
    "clinvar_variants['label'] = 1"
   ]
  },
  {
   "cell_type": "code",
   "execution_count": 23,
   "id": "dbafda86-c61b-48f9-96c0-cb0be1443101",
   "metadata": {},
   "outputs": [],
   "source": [
    "eQTL_susie = pd.read_csv(data_dir + 'prefiltered/eQTL-susie/eQTL.3utr.bed', usecols=[0,1,3],names=['chrom','pos','info'], sep='\\t') #eQTLs with pvalue<1e-30\n",
    "\n",
    "eQTL_susie['pvalue'] = eQTL_susie['info'].apply(lambda x: re.search('pvalue=([0-9\\.\\-eE]+)',x).groups()[0]).astype(float)\n",
    "\n",
    "eQTL_susie['source'] = 'eQTL-susie'\n",
    "eQTL_susie['label'] = 1"
   ]
  },
  {
   "cell_type": "code",
   "execution_count": 24,
   "id": "adcf09af-6448-4443-8149-9fc2ca833eec",
   "metadata": {},
   "outputs": [],
   "source": [
    "gnomAD_variants = pd.read_csv(data_dir + 'prefiltered/gnomAD/gnomAD_GRCh38.utr3.bed', usecols=[0,1,3],names=['chrom','pos','info'], sep='\\t')\n",
    "\n",
    "is_low_frequency = gnomAD_variants['info'].apply(lambda x: re.search('AC=([0-9]+)',x).groups()[0]=='1') #putative functional variants with AC=1\n",
    "gnomAD_variants['AF']=gnomAD_variants['info'].apply(lambda x: re.search('AF=([-e\\.0-9]+)',x).groups()[0]).astype(float)\n",
    "\n",
    "gnomAD_variants.loc[is_low_frequency,'label'] = 1 \n",
    "gnomAD_variants.loc[~is_low_frequency,'label'] = 0 #putative non-functional, must be only with AF>5% (see dataprep pipeline)\n",
    "\n",
    "gnomAD_variants['source'] = 'gnomAD'"
   ]
  },
  {
   "cell_type": "code",
   "execution_count": 25,
   "id": "7242df79-b82e-454d-9aaa-843478856488",
   "metadata": {},
   "outputs": [],
   "source": [
    "variants_df = pd.concat([clinvar_variants,eQTL_susie,gnomAD_variants])"
   ]
  },
  {
   "cell_type": "code",
   "execution_count": 26,
   "id": "6878b53c-48c4-44cb-ab51-2bb96bc240af",
   "metadata": {},
   "outputs": [],
   "source": [
    "for vartype in ('snps',):\n",
    "    CADD_pos = pd.read_csv(data_dir + f'prefiltered/CADD/CADD.3utr.{vartype}.pos.bed', usecols=[0,1,3],names=['chrom','pos','info'], sep='\\t')\n",
    "    CADD_pos['source'] = 'CADD'\n",
    "    CADD_pos['label'] = 1\n",
    "    variants_df = pd.concat([variants_df,CADD_pos])\n",
    "\n",
    "for vartype in ('snps',):\n",
    "    CADD_neg = pd.read_csv(data_dir + f'prefiltered/CADD/CADD.3utr.{vartype}.neg.bed', usecols=[0,1,3],names=['chrom','pos','info'], sep='\\t')\n",
    "    CADD_neg['source'] = 'CADD'\n",
    "    CADD_neg['label'] = 0\n",
    "    variants_df = pd.concat([variants_df,CADD_neg])"
   ]
  },
  {
   "cell_type": "code",
   "execution_count": 27,
   "id": "3be4fb79-a299-48da-99f2-2d92885a6b82",
   "metadata": {},
   "outputs": [],
   "source": [
    "variants_df['ref'] = variants_df['info'].apply(lambda x: re.search('GT=([ACTG/]+)',x).groups()[0].split('/')[0]) \n",
    "variants_df['alt'] = variants_df['info'].apply(lambda x: re.search('GT=([ACTG/]+)',x).groups()[0].split('/')[1]) "
   ]
  },
  {
   "cell_type": "code",
   "execution_count": 28,
   "id": "5a5b7a0c-f291-4043-b245-72d46edfe192",
   "metadata": {},
   "outputs": [],
   "source": [
    "len_ref = variants_df.ref.apply(len)\n",
    "len_alt = variants_df.alt.apply(len)\n",
    "\n",
    "variants_df.loc[(len_ref==1)&(len_alt==1),'vartype'] = 'SNP'\n",
    "variants_df.loc[(len_ref>1)&(len_alt==1),'vartype'] = 'DEL'\n",
    "variants_df.loc[(len_ref==1)&(len_alt>1),'vartype'] = 'INS'"
   ]
  },
  {
   "cell_type": "code",
   "execution_count": 29,
   "id": "72a090a7-4e98-4e4d-8bbd-86969361e0d8",
   "metadata": {},
   "outputs": [],
   "source": [
    "variants_df = variants_df[variants_df.vartype=='SNP'] #take only SNPs\n",
    "#variants_df = variants_df[(variants_df.ref.isin(list('ACGT')))&(variants_df.alt.isin(list('ACGT')))] #only correct SNPs"
   ]
  },
  {
   "cell_type": "code",
   "execution_count": 30,
   "id": "13a6a2c8-408f-41fe-9f5c-f2dfc6e722e6",
   "metadata": {},
   "outputs": [],
   "source": [
    "variants_df.loc[:,'var_id'] = variants_df.chrom + '_' + variants_df.pos.astype(str) + '_' + variants_df.ref + '_' + variants_df.alt"
   ]
  },
  {
   "cell_type": "code",
   "execution_count": 31,
   "id": "e3b06303-f29b-4b89-bb5e-9ec154917235",
   "metadata": {},
   "outputs": [],
   "source": [
    "variants_df.reset_index(inplace=True,drop=True)\n",
    "\n",
    "gnomad_neg = variants_df.loc[(variants_df.source=='gnomAD')&(variants_df.label==0),['chrom','pos','ref','alt','AF']]\n",
    "\n",
    "variants_df = variants_df.drop(columns='AF').merge(gnomad_neg, how='left')"
   ]
  },
  {
   "cell_type": "code",
   "execution_count": 32,
   "id": "4dd16ca8-e4e0-4afe-9aa6-42ea9bee7f69",
   "metadata": {},
   "outputs": [],
   "source": [
    "#drop gnomAD negative variants that overlap with positive variants (excluding CADD since that's a separate dataset)\n",
    "pos_vars = variants_df.loc[(variants_df.source!='CADD')&(variants_df.label==1),['chrom','pos','ref','alt']].drop_duplicates()\n",
    "\n",
    "idx_to_drop = gnomad_neg.reset_index().merge(pos_vars,how='inner')['index'].values\n",
    "\n",
    "variants_df.drop(idx_to_drop,inplace=True)"
   ]
  },
  {
   "cell_type": "code",
   "execution_count": 33,
   "id": "d8b178b8-645e-42b5-9feb-cd05b74a10a7",
   "metadata": {},
   "outputs": [],
   "source": [
    "variants_df = variants_df[(variants_df.source!='eQTL-susie')|(variants_df.pvalue<=1e-25)]"
   ]
  },
  {
   "cell_type": "code",
   "execution_count": 34,
   "id": "d45fa2ea-c6a5-486a-a4e3-f4bb91045910",
   "metadata": {},
   "outputs": [],
   "source": [
    "variants_df['seq_name'] = variants_df['info'].apply(lambda x: re.search('seq_name=([^,;]+)',x).groups()[0])"
   ]
  },
  {
   "cell_type": "code",
   "execution_count": 35,
   "id": "1afa49af-a1c1-46a5-982b-38dcb16347dc",
   "metadata": {},
   "outputs": [],
   "source": [
    "variants_df.drop(columns=['info','pvalue'], inplace=True) # we don't need info column anymore"
   ]
  },
  {
   "cell_type": "code",
   "execution_count": 36,
   "id": "7166c829-72f2-4687-ad2c-9af5df94efa7",
   "metadata": {},
   "outputs": [],
   "source": [
    "#3'UTR table\n",
    "\n",
    "utr_table = pd.read_csv(data_dir + '../UTR_coords/GRCh38_3_prime_UTR_clean-sorted.bed', sep='\\t',\n",
    "                       header = None, names=['seq_start','seq_end','seq_name','strand'], usecols=[1,2,3,5])"
   ]
  },
  {
   "cell_type": "code",
   "execution_count": 37,
   "id": "39ac1967-ea0c-4cba-ab5c-7cd1836845fb",
   "metadata": {},
   "outputs": [],
   "source": [
    "variants_df = variants_df.merge(utr_table, how='left')"
   ]
  },
  {
   "cell_type": "code",
   "execution_count": 38,
   "id": "77aa1211-f058-4733-a2aa-3e2801d1db93",
   "metadata": {},
   "outputs": [],
   "source": [
    "#if there're more than one 3'UTRs for a given variant, take the longest\n",
    "variants_df['seq_len'] = variants_df.seq_end-variants_df.seq_start\n",
    "variants_df = variants_df.sort_values(by='seq_len',ascending=False).drop_duplicates(['var_id','source'],keep='first')"
   ]
  },
  {
   "cell_type": "code",
   "execution_count": 68,
   "id": "9768c6cd-d5b1-4b05-a4d7-e407fa48c9ad",
   "metadata": {},
   "outputs": [],
   "source": [
    "variants_df['pos_rel'] = variants_df.pos-variants_df.seq_start #relative variant position w.r.t. 3'UTR sequence"
   ]
  },
  {
   "cell_type": "code",
   "execution_count": 69,
   "id": "e14dca98-a20e-454a-bc2c-2afea535c33d",
   "metadata": {},
   "outputs": [
    {
     "data": {
      "text/plain": [
       "split       label\n",
       "CADD        0.0      10000\n",
       "            1.0      10000\n",
       "clinvar     0.0      10000\n",
       "            1.0        261\n",
       "eQTL-susie  0.0      10000\n",
       "            1.0      10000\n",
       "gnomAD      0.0      10000\n",
       "            1.0      10000\n",
       "Name: count, dtype: int64"
      ]
     },
     "execution_count": 69,
     "metadata": {},
     "output_type": "execute_result"
    }
   ],
   "source": [
    "# take at most N_vars positive variants for each split\n",
    "# for each split, choose N_vars negative variants\n",
    "# negative variants for different splits will not overlap\n",
    "\n",
    "N_vars = 10_000\n",
    "\n",
    "df = []\n",
    "\n",
    "for source in ('CADD', 'gnomAD','clinvar','eQTL-susie'):\n",
    "    \n",
    "    pos_df = variants_df[(variants_df.label==1)&(variants_df.source==source)]\n",
    "    \n",
    "    pos_source = pos_df.sample(n=min(len(pos_df),N_vars), replace=False, random_state=1)\n",
    "    pos_source['split'] = source\n",
    "    df.append(pos_source)\n",
    "    \n",
    "    if source!='CADD':\n",
    "        #for clinvar,gnomAD, and eQTL-, we use negative variants from gnomAD\n",
    "        neg_df = variants_df[(variants_df.label==0)&(variants_df.source=='gnomAD')]\n",
    "    else:\n",
    "        #for CADD, we use negative variants from CADD\n",
    "        neg_df = variants_df[(variants_df.label==0)&(variants_df.source=='CADD')]\n",
    "    \n",
    "    neg_source = neg_df.sample(n=min(len(neg_df),N_vars), replace=False, random_state=1) \n",
    "    neg_source['split'] = source\n",
    "    df.append(neg_source)\n",
    "    \n",
    "df = pd.concat(df)\n",
    "\n",
    "variants_df = df[~df.split.isna()] #remove variants without a pair\n",
    "\n",
    "variants_df.groupby('split').label.value_counts()"
   ]
  },
  {
   "cell_type": "code",
   "execution_count": 77,
   "id": "c67513d0-7268-41b4-b597-f56727b24363",
   "metadata": {},
   "outputs": [
    {
     "data": {
      "text/plain": [
       "0.9525"
      ]
     },
     "execution_count": 77,
     "metadata": {},
     "output_type": "execute_result"
    }
   ],
   "source": [
    "(variants_df[variants_df.source=='eQTL-susie'].AF>0.05).mean()"
   ]
  },
  {
   "cell_type": "code",
   "execution_count": 76,
   "id": "10011595-341e-467e-82f4-2eb136f97a52",
   "metadata": {},
   "outputs": [],
   "source": [
    "output_name= data_dir+'selected/variants_snp.tsv'\n",
    "\n",
    "#POSITIONS are 0-based!\n",
    "variants_df.to_csv(output_name, sep='\\t', index=None) #POSITIONS are 0-based!"
   ]
  },
  {
   "cell_type": "code",
   "execution_count": 29,
   "id": "394a2f94-2bed-47e9-92be-833f2f16feef",
   "metadata": {},
   "outputs": [],
   "source": [
    "variants_df = pd.read_csv(data_dir+'selected/variants_snp.tsv', sep='\\t') #POSITIONS are 0-based!"
   ]
  },
  {
   "cell_type": "code",
   "execution_count": 30,
   "id": "e698f8e5-f289-4800-b9fe-42552fbaf1a7",
   "metadata": {},
   "outputs": [],
   "source": [
    "#create a smaller subset since computing variant influence score is too time-consuming\n",
    "# we will compute vif on this subset\n",
    "\n",
    "subset = variants_df.groupby(['split','label']).apply(lambda x:x.sample(n=min(3000,len(x)),replace=False,random_state=1),include_groups=False)\n",
    "\n",
    "subset = subset.droplevel(-1).reset_index().drop_duplicates()\n",
    "\n",
    "vis_whitelist = pd.concat([subset.var_id+'_ref',subset.var_id+'_alt'])"
   ]
  },
  {
   "cell_type": "code",
   "execution_count": 31,
   "id": "7817de81-2418-4cfb-b32a-04b1cd322467",
   "metadata": {},
   "outputs": [],
   "source": [
    "vis_whitelist.to_csv(data_dir+'selected/vis_whitelist.tsv', index=None,header=None)"
   ]
  },
  {
   "cell_type": "code",
   "execution_count": 32,
   "id": "62df6d73-330e-4e02-b083-2e15e32edf73",
   "metadata": {},
   "outputs": [],
   "source": [
    "ref_whitelist = variants_df.var_id + '_ref'\n",
    "ref_whitelist.to_csv(data_dir+'selected/reference_allele.tsv', index=None,header=None)"
   ]
  },
  {
   "cell_type": "markdown",
   "id": "b468e0d5-aeac-471d-a070-98a20c08bc1f",
   "metadata": {},
   "source": [
    "# Seed variants to sequences"
   ]
  },
  {
   "cell_type": "code",
   "execution_count": 13,
   "id": "601ff7e2-a790-47b6-be81-622f2d46b466",
   "metadata": {},
   "outputs": [],
   "source": [
    "WINDOW_WIDTH = 4096\n",
    "WINDOW_WIDTH_VIS = 2048"
   ]
  },
  {
   "cell_type": "code",
   "execution_count": 4,
   "id": "ecad11d6-0c63-4908-a628-1a1802702a4a",
   "metadata": {},
   "outputs": [],
   "source": [
    "variants_df = pd.read_csv(data_dir+'selected/variants_snp.tsv', sep='\\t') "
   ]
  },
  {
   "cell_type": "code",
   "execution_count": 5,
   "id": "60ce89ea-562a-46e4-b41d-e88f33288b09",
   "metadata": {},
   "outputs": [],
   "source": [
    "variants_df.drop_duplicates(subset='var_id', inplace=True)"
   ]
  },
  {
   "cell_type": "code",
   "execution_count": 6,
   "id": "38ef1374-7111-42e3-a01d-a190b1f84557",
   "metadata": {},
   "outputs": [],
   "source": [
    "import pysam\n",
    "\n",
    "human_fasta = pysam.FastaFile(data_dir + '../fasta/hg38.fa')"
   ]
  },
  {
   "cell_type": "code",
   "execution_count": 7,
   "id": "5a0408ba-57f4-4280-a5f7-ff7387ce4905",
   "metadata": {},
   "outputs": [],
   "source": [
    "def reverse_complement(seq):\n",
    "    '''\n",
    "    Take sequence reverse complement\n",
    "    '''\n",
    "    compl_dict = {'A':'T', 'C':'G', 'G':'C', 'T':'A','a':'t', 'c':'g', 'g':'c', 't':'a'}\n",
    "    compl_seq = ''.join([compl_dict.get(x,x) for x in seq])\n",
    "    rev_seq = compl_seq[::-1]\n",
    "    return rev_seq"
   ]
  },
  {
   "cell_type": "code",
   "execution_count": 8,
   "id": "99947ccd-3595-42e9-9f36-08797a0a69aa",
   "metadata": {},
   "outputs": [],
   "source": [
    "def extract_utr_seq(var, seq_len, \n",
    "                    rc_on_negative=False, mask_beyond_3utr=False,seq_clip_3utr=False,var_to_lower=False):\n",
    "\n",
    "    left = var.pos-seq_len//2\n",
    "    right = var.pos+seq_len//2\n",
    "\n",
    "    if seq_clip_3utr:\n",
    "        left = max(left,var.seq_start)\n",
    "        right = min(right,var.seq_end)\n",
    "\n",
    "    refseq = human_fasta.fetch(var.chrom, left, right).upper()\n",
    "    \n",
    "    varpos = var.pos-left#relative variant position in the sequence\n",
    "\n",
    "    refseq = np.array(list(refseq))\n",
    "\n",
    "    if mask_beyond_3utr:\n",
    "        assert seq_clip_3utr==False\n",
    "        refseq[:max(var.seq_start-(var.pos-seq_len//2),0)] = 'N'\n",
    "        if var.pos+seq_len//2>var.seq_end:\n",
    "            refseq[var.seq_end-(var.pos+seq_len//2):] = 'N'\n",
    "\n",
    "    assert len(refseq)==right-left\n",
    "            \n",
    "    altseq = refseq.copy()\n",
    "     \n",
    "    if var.vartype!='DEL':\n",
    "        if refseq[varpos] != var.ref:\n",
    "            return (None, None)\n",
    "        altseq[varpos] = var.alt\n",
    "    else:\n",
    "        if refseq[varpos:varpos+len(var.ref)] != var.ref:\n",
    "            return (None, None)\n",
    "        altseq[varpos+1:varpos+len(var.ref)] = ''\n",
    "\n",
    "    if var_to_lower:\n",
    "        refseq[varpos] = refseq[varpos].lower()\n",
    "        altseq[varpos] = altseq[varpos].lower()\n",
    "\n",
    "    altseq = ''.join(altseq)\n",
    "    refseq = ''.join(refseq)\n",
    "    \n",
    "    #for genes on the negative strand, take reverse complement\n",
    "    if rc_on_negative and var.strand=='-':\n",
    "        altseq = reverse_complement(altseq)\n",
    "        refseq = reverse_complement(refseq)\n",
    "\n",
    "    return refseq, altseq"
   ]
  },
  {
   "cell_type": "code",
   "execution_count": 9,
   "id": "86b2c4aa-f948-4509-b2da-37f7eba6bc0e",
   "metadata": {},
   "outputs": [],
   "source": [
    "def write_fasta(fasta_path, **kwargs):\n",
    "\n",
    "    c = 0\n",
    "    \n",
    "    with open(fasta_path, 'w') as f:\n",
    "        for idx, var in tqdm(variants_df.iterrows(), total=len(variants_df)):\n",
    "            refseq, altseq = extract_utr_seq(var, **kwargs)\n",
    "            assert refseq!=None, f'{var}'\n",
    "            f.write(f'>{var.var_id}_ref\\n')\n",
    "            for line in wrap(refseq, 80): #wrap reference sequence with standard FASTA width\n",
    "                f.write(line+'\\n')\n",
    "            f.write(f'>{var.var_id}_alt\\n')\n",
    "            for line in wrap(altseq, 80): #wrap alternative sequence with standard FASTA width\n",
    "                f.write(line+'\\n')\n",
    "            c += 1\n",
    "    return c"
   ]
  },
  {
   "cell_type": "markdown",
   "id": "19bfb998-4c0f-458a-9516-880655ee87a2",
   "metadata": {},
   "source": [
    "### Create FASTA for variants"
   ]
  },
  {
   "cell_type": "code",
   "execution_count": null,
   "id": "a23298a6-4a93-43e5-9b4d-9cea9b73ea2c",
   "metadata": {},
   "outputs": [],
   "source": [
    "N_pairs=write_fasta(data_dir + f'selected/variants_dna_fwd.fa',seq_len=WINDOW_WIDTH,rc_on_negative=False,mask_beyond_3utr=False,\n",
    "                   seq_clip_3utr=False,var_to_lower=True)\n",
    "\n",
    "print(f'{N_pairs} pairs written')\n",
    "\n",
    "N_pairs=write_fasta(data_dir + f'selected/variants_rna.fa',seq_len=WINDOW_WIDTH,rc_on_negative=True,mask_beyond_3utr=False,\n",
    "                   seq_clip_3utr=True,var_to_lower=True)\n",
    "\n",
    "print(f'{N_pairs} pairs written')"
   ]
  },
  {
   "cell_type": "code",
   "execution_count": 14,
   "id": "15010da1-798b-45f6-ad37-9a560ce08454",
   "metadata": {},
   "outputs": [],
   "source": [
    "! samtools faidx {data_dir}/selected/variants_rna.fa"
   ]
  },
  {
   "cell_type": "code",
   "execution_count": 14,
   "id": "96d1a3d6-a86e-46bd-a929-3a67be5a54ff",
   "metadata": {},
   "outputs": [],
   "source": [
    "! samtools faidx {data_dir}/selected/variants_dna_fwd.fa"
   ]
  },
  {
   "cell_type": "markdown",
   "id": "a9a93c88-a958-4630-b721-a74ac2b1ac98",
   "metadata": {},
   "source": [
    "### Create FASTA files for VIS computation\n",
    "\n",
    "We create smaller FASTA files for variant influence score since computing predictions for large sequences is time consuming"
   ]
  },
  {
   "cell_type": "code",
   "execution_count": 14,
   "id": "cf204c7c-2177-4941-bb3b-aef0f5a0500a",
   "metadata": {},
   "outputs": [
    {
     "name": "stderr",
     "output_type": "stream",
     "text": [
      "100%|██████████| 50228/50228 [10:47<00:00, 77.52it/s] \n"
     ]
    },
    {
     "name": "stdout",
     "output_type": "stream",
     "text": [
      "50228 pairs written\n"
     ]
    },
    {
     "name": "stderr",
     "output_type": "stream",
     "text": [
      "100%|██████████| 50228/50228 [01:49<00:00, 460.74it/s]"
     ]
    },
    {
     "name": "stdout",
     "output_type": "stream",
     "text": [
      "50228 pairs written\n"
     ]
    },
    {
     "name": "stderr",
     "output_type": "stream",
     "text": [
      "\n"
     ]
    }
   ],
   "source": [
    "N_pairs=write_fasta(data_dir + f'selected/variants_VIS_dna_fwd.fa',seq_len=WINDOW_WIDTH_VIS,rc_on_negative=False,mask_beyond_3utr=False,\n",
    "                   seq_clip_3utr=False,var_to_lower=True)\n",
    "\n",
    "print(f'{N_pairs} pairs written')\n",
    "\n",
    "N_pairs=write_fasta(data_dir + f'selected/variants_VIS_rna.fa',seq_len=WINDOW_WIDTH_VIS,rc_on_negative=True,mask_beyond_3utr=False,\n",
    "                   seq_clip_3utr=True,var_to_lower=True)\n",
    "\n",
    "print(f'{N_pairs} pairs written')"
   ]
  },
  {
   "cell_type": "code",
   "execution_count": 15,
   "id": "42afb79a-e30b-4eb5-8521-e826c78ac4e4",
   "metadata": {},
   "outputs": [],
   "source": [
    "! samtools faidx {data_dir}/selected/variants_VIS_rna.fa"
   ]
  },
  {
   "cell_type": "code",
   "execution_count": 16,
   "id": "25d29df3-9b82-435b-b491-b4728f463d24",
   "metadata": {},
   "outputs": [],
   "source": [
    "! samtools faidx {data_dir}/selected/variants_VIS_dna_fwd.fa"
   ]
  },
  {
   "cell_type": "code",
   "execution_count": null,
   "id": "18f2610f-c0a5-40e2-b8f3-446fe96deeef",
   "metadata": {},
   "outputs": [],
   "source": []
  }
 ],
 "metadata": {
  "kernelspec": {
   "display_name": "Python 3 (ipykernel)",
   "language": "python",
   "name": "python3"
  },
  "language_info": {
   "codemirror_mode": {
    "name": "ipython",
    "version": 3
   },
   "file_extension": ".py",
   "mimetype": "text/x-python",
   "name": "python",
   "nbconvert_exporter": "python",
   "pygments_lexer": "ipython3",
   "version": "3.10.13"
  }
 },
 "nbformat": 4,
 "nbformat_minor": 5
}

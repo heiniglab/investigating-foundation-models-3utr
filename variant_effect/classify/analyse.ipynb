{
 "cells": [
  {
   "cell_type": "code",
   "execution_count": 1,
   "id": "675d33de-ab99-477c-940c-fa2631fe7212",
   "metadata": {
    "tags": []
   },
   "outputs": [],
   "source": [
    "import numpy as np\n",
    "import pandas as pd\n",
    "import scipy\n",
    "import sklearn.metrics\n",
    "import os\n",
    "\n",
    "import matplotlib.pyplot as plt\n",
    "import matplotlib as mpl\n",
    "#import seaborn as sns\n",
    "\n",
    "from sklearn.metrics import roc_auc_score\n",
    "import statsmodels.stats.multicomp as mc"
   ]
  },
  {
   "cell_type": "markdown",
   "id": "e430f7c8-7cd0-4194-8bf7-26c19cc0efa1",
   "metadata": {},
   "source": [
    "# Collect predictions"
   ]
  },
  {
   "cell_type": "code",
   "execution_count": 7,
   "id": "c6b77ddf-2b51-4a9f-ace6-d16c65a03fc9",
   "metadata": {
    "tags": []
   },
   "outputs": [],
   "source": [
    "regressor = 'MLP'\n",
    "merge_embeddings = 1"
   ]
  },
  {
   "cell_type": "code",
   "execution_count": 8,
   "id": "bb9145a5-0756-4fd1-9362-952a1de453fe",
   "metadata": {},
   "outputs": [],
   "source": [
    "data_dir = f'/lustre/groups/epigenereg01/workspace/projects/vale/mlm/variants/predictions/merge_embeddings_{merge_embeddings}/{regressor}/'"
   ]
  },
  {
   "cell_type": "code",
   "execution_count": 12,
   "id": "ba0d9e61-0bcf-4d8b-ba1b-6af7f5a88922",
   "metadata": {
    "tags": []
   },
   "outputs": [],
   "source": [
    "#models = ['Species-aware','Species-agnostic','DNABERT','DNABERT-2','NT-MS-v2-500M','4mers','5mers','word2vec','effective_length']\n",
    "models = ['dnabert','dnabert-3utr-2e',  'dnabert2','dnabert2-zoo', 'dnabert2-3utr-2e', 'ntrans-v2-100m',  'ntrans-v2-100m-3utr-2e', 'stspace-3utr-2e', 'stspace-3utr-DNA', 'stspace-spaw-3utr-2e',\n",
    "          'stspace-3utr-hs','5mers', 'effective_length', ]"
   ]
  },
  {
   "cell_type": "code",
   "execution_count": 17,
   "id": "eb820876-4815-409b-b40d-90bbc8979907",
   "metadata": {},
   "outputs": [
    {
     "name": "stdout",
     "output_type": "stream",
     "text": [
      "clinvar\n",
      "gnomAD\n",
      "eQTL-susie\n",
      "CADD\n"
     ]
    }
   ],
   "source": [
    "res = {}\n",
    "\n",
    "for subset in ('clinvar', 'gnomAD','eQTL-susie','CADD'):\n",
    "        res[subset] = []\n",
    "        for model in models:\n",
    "            res_tsv = data_dir + f'{subset}-{model}.tsv'\n",
    "            if os.path.isfile(res_tsv):\n",
    "                df = pd.read_csv(res_tsv, sep='\\t')\n",
    "                df['model'] = model\n",
    "                res[subset].append(df)\n",
    "        if len(res[subset])>0:\n",
    "            res[subset] = pd.concat(res[subset])\n",
    "            N=res[subset].groupby('model').size().mean()\n",
    "            print(subset)"
   ]
  },
  {
   "cell_type": "code",
   "execution_count": 18,
   "id": "1d9172f3-beb1-4cbc-80a5-58af28b553a2",
   "metadata": {
    "tags": []
   },
   "outputs": [
    {
     "name": "stderr",
     "output_type": "stream",
     "text": [
      "/tmp/ipykernel_1102768/3352880854.py:9: DeprecationWarning: DataFrameGroupBy.apply operated on the grouping columns. This behavior is deprecated, and in a future version of pandas the grouping columns will be excluded from the operation. Either pass `include_groups=False` to exclude the groupings or explicitly select the grouping columns after groupby to silence this warning.\n",
      "  preds_res[subset] = res[subset].groupby('model').apply(lambda x:roc_auc_score(x.label.values,x.y_pred.values))\n",
      "/tmp/ipykernel_1102768/3352880854.py:9: DeprecationWarning: DataFrameGroupBy.apply operated on the grouping columns. This behavior is deprecated, and in a future version of pandas the grouping columns will be excluded from the operation. Either pass `include_groups=False` to exclude the groupings or explicitly select the grouping columns after groupby to silence this warning.\n",
      "  preds_res[subset] = res[subset].groupby('model').apply(lambda x:roc_auc_score(x.label.values,x.y_pred.values))\n",
      "/tmp/ipykernel_1102768/3352880854.py:9: DeprecationWarning: DataFrameGroupBy.apply operated on the grouping columns. This behavior is deprecated, and in a future version of pandas the grouping columns will be excluded from the operation. Either pass `include_groups=False` to exclude the groupings or explicitly select the grouping columns after groupby to silence this warning.\n",
      "  preds_res[subset] = res[subset].groupby('model').apply(lambda x:roc_auc_score(x.label.values,x.y_pred.values))\n",
      "/tmp/ipykernel_1102768/3352880854.py:9: DeprecationWarning: DataFrameGroupBy.apply operated on the grouping columns. This behavior is deprecated, and in a future version of pandas the grouping columns will be excluded from the operation. Either pass `include_groups=False` to exclude the groupings or explicitly select the grouping columns after groupby to silence this warning.\n",
      "  preds_res[subset] = res[subset].groupby('model').apply(lambda x:roc_auc_score(x.label.values,x.y_pred.values))\n"
     ]
    },
    {
     "data": {
      "text/html": [
       "<div>\n",
       "<style scoped>\n",
       "    .dataframe tbody tr th:only-of-type {\n",
       "        vertical-align: middle;\n",
       "    }\n",
       "\n",
       "    .dataframe tbody tr th {\n",
       "        vertical-align: top;\n",
       "    }\n",
       "\n",
       "    .dataframe thead th {\n",
       "        text-align: right;\n",
       "    }\n",
       "</style>\n",
       "<table border=\"1\" class=\"dataframe\">\n",
       "  <thead>\n",
       "    <tr style=\"text-align: right;\">\n",
       "      <th></th>\n",
       "      <th>clinvar</th>\n",
       "      <th>gnomAD</th>\n",
       "      <th>eQTL-susie</th>\n",
       "      <th>CADD</th>\n",
       "    </tr>\n",
       "    <tr>\n",
       "      <th>model</th>\n",
       "      <th></th>\n",
       "      <th></th>\n",
       "      <th></th>\n",
       "      <th></th>\n",
       "    </tr>\n",
       "  </thead>\n",
       "  <tbody>\n",
       "    <tr>\n",
       "      <th>dnabert</th>\n",
       "      <td>0.934682</td>\n",
       "      <td>0.582782</td>\n",
       "      <td>0.570608</td>\n",
       "      <td>0.601564</td>\n",
       "    </tr>\n",
       "    <tr>\n",
       "      <th>dnabert-3utr-2e</th>\n",
       "      <td>0.948272</td>\n",
       "      <td>0.595323</td>\n",
       "      <td>0.627507</td>\n",
       "      <td>0.583747</td>\n",
       "    </tr>\n",
       "    <tr>\n",
       "      <th>dnabert2</th>\n",
       "      <td>0.952061</td>\n",
       "      <td>0.564615</td>\n",
       "      <td>0.789081</td>\n",
       "      <td>0.537987</td>\n",
       "    </tr>\n",
       "    <tr>\n",
       "      <th>dnabert2-3utr-2e</th>\n",
       "      <td>0.954795</td>\n",
       "      <td>0.590034</td>\n",
       "      <td>0.821478</td>\n",
       "      <td>0.550759</td>\n",
       "    </tr>\n",
       "    <tr>\n",
       "      <th>dnabert2-zoo</th>\n",
       "      <td>0.954694</td>\n",
       "      <td>0.588238</td>\n",
       "      <td>0.831282</td>\n",
       "      <td>0.537035</td>\n",
       "    </tr>\n",
       "    <tr>\n",
       "      <th>ntrans-v2-100m</th>\n",
       "      <td>0.957902</td>\n",
       "      <td>0.570417</td>\n",
       "      <td>0.705879</td>\n",
       "      <td>0.527313</td>\n",
       "    </tr>\n",
       "    <tr>\n",
       "      <th>ntrans-v2-100m-3utr-2e</th>\n",
       "      <td>0.938498</td>\n",
       "      <td>0.576383</td>\n",
       "      <td>0.700542</td>\n",
       "      <td>0.545090</td>\n",
       "    </tr>\n",
       "    <tr>\n",
       "      <th>stspace-3utr-2e</th>\n",
       "      <td>0.928032</td>\n",
       "      <td>0.571889</td>\n",
       "      <td>0.778317</td>\n",
       "      <td>0.559495</td>\n",
       "    </tr>\n",
       "    <tr>\n",
       "      <th>stspace-3utr-DNA</th>\n",
       "      <td>0.919555</td>\n",
       "      <td>0.573063</td>\n",
       "      <td>0.751494</td>\n",
       "      <td>0.542675</td>\n",
       "    </tr>\n",
       "    <tr>\n",
       "      <th>stspace-3utr-hs</th>\n",
       "      <td>0.921021</td>\n",
       "      <td>0.560160</td>\n",
       "      <td>0.747265</td>\n",
       "      <td>0.536153</td>\n",
       "    </tr>\n",
       "    <tr>\n",
       "      <th>stspace-spaw-3utr-2e</th>\n",
       "      <td>0.931431</td>\n",
       "      <td>0.571241</td>\n",
       "      <td>0.783967</td>\n",
       "      <td>0.562370</td>\n",
       "    </tr>\n",
       "  </tbody>\n",
       "</table>\n",
       "</div>"
      ],
      "text/plain": [
       "                         clinvar    gnomAD  eQTL-susie      CADD\n",
       "model                                                           \n",
       "dnabert                 0.934682  0.582782    0.570608  0.601564\n",
       "dnabert-3utr-2e         0.948272  0.595323    0.627507  0.583747\n",
       "dnabert2                0.952061  0.564615    0.789081  0.537987\n",
       "dnabert2-3utr-2e        0.954795  0.590034    0.821478  0.550759\n",
       "dnabert2-zoo            0.954694  0.588238    0.831282  0.537035\n",
       "ntrans-v2-100m          0.957902  0.570417    0.705879  0.527313\n",
       "ntrans-v2-100m-3utr-2e  0.938498  0.576383    0.700542  0.545090\n",
       "stspace-3utr-2e         0.928032  0.571889    0.778317  0.559495\n",
       "stspace-3utr-DNA        0.919555  0.573063    0.751494  0.542675\n",
       "stspace-3utr-hs         0.921021  0.560160    0.747265  0.536153\n",
       "stspace-spaw-3utr-2e    0.931431  0.571241    0.783967  0.562370"
      ]
     },
     "execution_count": 18,
     "metadata": {},
     "output_type": "execute_result"
    }
   ],
   "source": [
    "preds_res = {}\n",
    "best_models = {}\n",
    "\n",
    "\n",
    "for subset in ('clinvar', 'gnomAD','eQTL-susie','CADD'):\n",
    "\n",
    "        if len(res[subset])>0:\n",
    "        \n",
    "            preds_res[subset] = res[subset].groupby('model').apply(lambda x:roc_auc_score(x.label.values,x.y_pred.values))\n",
    "        \n",
    "preds_res = pd.DataFrame(preds_res).map(lambda x: f'{x[0]:.2f}±{x[1]:.2f}' if type(x)==tuple else x)\n",
    "\n",
    "preds_res"
   ]
  },
  {
   "cell_type": "code",
   "execution_count": null,
   "id": "a8e5df2f-e37f-4ff0-94da-60936032e4a7",
   "metadata": {},
   "outputs": [],
   "source": []
  },
  {
   "cell_type": "code",
   "execution_count": null,
   "id": "2ea07e91-9674-4b3e-9d3d-6226a7b2c5cb",
   "metadata": {},
   "outputs": [],
   "source": []
  }
 ],
 "metadata": {
  "kernelspec": {
   "display_name": "Python 3 (ipykernel)",
   "language": "python",
   "name": "python3"
  },
  "language_info": {
   "codemirror_mode": {
    "name": "ipython",
    "version": 3
   },
   "file_extension": ".py",
   "mimetype": "text/x-python",
   "name": "python",
   "nbconvert_exporter": "python",
   "pygments_lexer": "ipython3",
   "version": "3.10.13"
  }
 },
 "nbformat": 4,
 "nbformat_minor": 5
}

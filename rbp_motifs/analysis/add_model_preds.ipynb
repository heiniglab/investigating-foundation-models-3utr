{
 "cells": [
  {
   "cell_type": "code",
   "execution_count": 1,
   "id": "9d1bdb26-050d-4622-8304-aa8c657c1475",
   "metadata": {
    "tags": []
   },
   "outputs": [],
   "source": [
    "import pandas as pd\n",
    "import numpy as np\n",
    "import pickle\n",
    "from tqdm.notebook import tqdm\n",
    "from glob import glob\n",
    "from collections import defaultdict\n",
    "\n",
    "import sys\n",
    "sys.path.append(\"/home/icb/sergey.vilov/workspace/MLM/utils\") \n",
    "\n",
    "from misc import model_alias, dna_models"
   ]
  },
  {
   "cell_type": "code",
   "execution_count": 2,
   "id": "42a60fb3-8873-4fe3-ab29-25ea1f90b534",
   "metadata": {
    "tags": []
   },
   "outputs": [],
   "source": [
    "data_dir = '/lustre/groups/epigenereg01/workspace/projects/vale/mlm/'"
   ]
  },
  {
   "cell_type": "code",
   "execution_count": 3,
   "id": "83150e52-b435-4632-b3ef-268a943bda93",
   "metadata": {},
   "outputs": [
    {
     "name": "stderr",
     "output_type": "stream",
     "text": [
      "/tmp/ipykernel_986265/3294161621.py:3: DtypeWarning: Columns (7,8) have mixed types. Specify dtype option on import or set low_memory=False.\n",
      "  eclip_df = pd.read_csv(eclip_tsv,sep='\\t')\n"
     ]
    },
    {
     "data": {
      "text/html": [
       "<div>\n",
       "<style scoped>\n",
       "    .dataframe tbody tr th:only-of-type {\n",
       "        vertical-align: middle;\n",
       "    }\n",
       "\n",
       "    .dataframe tbody tr th {\n",
       "        vertical-align: top;\n",
       "    }\n",
       "\n",
       "    .dataframe thead th {\n",
       "        text-align: right;\n",
       "    }\n",
       "</style>\n",
       "<table border=\"1\" class=\"dataframe\">\n",
       "  <thead>\n",
       "    <tr style=\"text-align: right;\">\n",
       "      <th></th>\n",
       "      <th>chrom</th>\n",
       "      <th>pos</th>\n",
       "      <th>seq_name</th>\n",
       "      <th>strand</th>\n",
       "      <th>motif</th>\n",
       "      <th>motif_id</th>\n",
       "      <th>motif_start</th>\n",
       "      <th>RBP</th>\n",
       "      <th>stepwiseR_minus1</th>\n",
       "      <th>eCLIP_RBNS</th>\n",
       "    </tr>\n",
       "  </thead>\n",
       "  <tbody>\n",
       "    <tr>\n",
       "      <th>0</th>\n",
       "      <td>chr7</td>\n",
       "      <td>127591380</td>\n",
       "      <td>ENST00000000233.10_utr3_5_0_chr7_127591300_f</td>\n",
       "      <td>+</td>\n",
       "      <td>TGCCC</td>\n",
       "      <td>chr7_127591380_TGCCC_f</td>\n",
       "      <td>81</td>\n",
       "      <td>PCBP1</td>\n",
       "      <td>2.26</td>\n",
       "      <td>True</td>\n",
       "    </tr>\n",
       "    <tr>\n",
       "      <th>1</th>\n",
       "      <td>chr7</td>\n",
       "      <td>127591402</td>\n",
       "      <td>ENST00000000233.10_utr3_5_0_chr7_127591300_f</td>\n",
       "      <td>+</td>\n",
       "      <td>TCCCC</td>\n",
       "      <td>chr7_127591402_TCCCC_f</td>\n",
       "      <td>103</td>\n",
       "      <td>PCBP1</td>\n",
       "      <td>1.92</td>\n",
       "      <td>True</td>\n",
       "    </tr>\n",
       "    <tr>\n",
       "      <th>2</th>\n",
       "      <td>chr7</td>\n",
       "      <td>127591403</td>\n",
       "      <td>ENST00000000233.10_utr3_5_0_chr7_127591300_f</td>\n",
       "      <td>+</td>\n",
       "      <td>CCCCC</td>\n",
       "      <td>chr7_127591403_CCCCC_f</td>\n",
       "      <td>104</td>\n",
       "      <td>PCBP1</td>\n",
       "      <td>2.99</td>\n",
       "      <td>True</td>\n",
       "    </tr>\n",
       "    <tr>\n",
       "      <th>3</th>\n",
       "      <td>chr7</td>\n",
       "      <td>127591404</td>\n",
       "      <td>ENST00000000233.10_utr3_5_0_chr7_127591300_f</td>\n",
       "      <td>+</td>\n",
       "      <td>CCCCA</td>\n",
       "      <td>chr7_127591404_CCCCA_f</td>\n",
       "      <td>105</td>\n",
       "      <td>PCBP1</td>\n",
       "      <td>2.49</td>\n",
       "      <td>True</td>\n",
       "    </tr>\n",
       "    <tr>\n",
       "      <th>4</th>\n",
       "      <td>chr7</td>\n",
       "      <td>127591542</td>\n",
       "      <td>ENST00000000233.10_utr3_5_0_chr7_127591300_f</td>\n",
       "      <td>+</td>\n",
       "      <td>GCCCC</td>\n",
       "      <td>chr7_127591542_GCCCC_f</td>\n",
       "      <td>243</td>\n",
       "      <td>PCBP1</td>\n",
       "      <td>3.7</td>\n",
       "      <td>True</td>\n",
       "    </tr>\n",
       "  </tbody>\n",
       "</table>\n",
       "</div>"
      ],
      "text/plain": [
       "  chrom        pos                                      seq_name strand  \\\n",
       "0  chr7  127591380  ENST00000000233.10_utr3_5_0_chr7_127591300_f      +   \n",
       "1  chr7  127591402  ENST00000000233.10_utr3_5_0_chr7_127591300_f      +   \n",
       "2  chr7  127591403  ENST00000000233.10_utr3_5_0_chr7_127591300_f      +   \n",
       "3  chr7  127591404  ENST00000000233.10_utr3_5_0_chr7_127591300_f      +   \n",
       "4  chr7  127591542  ENST00000000233.10_utr3_5_0_chr7_127591300_f      +   \n",
       "\n",
       "   motif                motif_id  motif_start    RBP stepwiseR_minus1  \\\n",
       "0  TGCCC  chr7_127591380_TGCCC_f           81  PCBP1             2.26   \n",
       "1  TCCCC  chr7_127591402_TCCCC_f          103  PCBP1             1.92   \n",
       "2  CCCCC  chr7_127591403_CCCCC_f          104  PCBP1             2.99   \n",
       "3  CCCCA  chr7_127591404_CCCCA_f          105  PCBP1             2.49   \n",
       "4  GCCCC  chr7_127591542_GCCCC_f          243  PCBP1              3.7   \n",
       "\n",
       "   eCLIP_RBNS  \n",
       "0        True  \n",
       "1        True  \n",
       "2        True  \n",
       "3        True  \n",
       "4        True  "
      ]
     },
     "execution_count": 3,
     "metadata": {},
     "output_type": "execute_result"
    }
   ],
   "source": [
    "eclip_tsv  = data_dir + 'motif_analysis/eclip.tsv'\n",
    "\n",
    "eclip_df = pd.read_csv(eclip_tsv,sep='\\t')\n",
    "\n",
    "#eclip_df = eclip_df.drop(columns=['stepwiseR_minus1','RBP'])\n",
    "\n",
    "eclip_df.head()"
   ]
  },
  {
   "cell_type": "code",
   "execution_count": 4,
   "id": "b5df4c34-78f6-4aef-a576-c6c82a8aa455",
   "metadata": {},
   "outputs": [
    {
     "data": {
      "text/plain": [
       "seq_name\n",
       "ENST00000000233.10_utr3_5_0_chr7_127591300_f    [[81, TGCCC], [103, TCCCC], [104, CCCCC], [105...\n",
       "ENST00000000412.8_utr3_6_0_chr12_8940361_r                         [[1058, CCCAC], [1024, GTCCC]]\n",
       "ENST00000001008.6_utr3_9_0_chr12_2803259_f      [[474, TTCCC], [485, ACCCC], [486, CCCCC], [48...\n",
       "ENST00000001146.7_utr3_5_0_chr2_72129238_r      [[717, ACACA], [19, AGCCC], [1731, CCCCA], [38...\n",
       "ENST00000002165.11_utr3_6_0_chr6_143494812_r    [[128, TTCCC], [136, TTCCC], [138, CCCAC], [16...\n",
       "dtype: object"
      ]
     },
     "execution_count": 4,
     "metadata": {},
     "output_type": "execute_result"
    }
   ],
   "source": [
    "eclip_hits = eclip_df[['seq_name','motif_start','motif']].groupby('seq_name').apply(lambda x:x.values.tolist(),include_groups=False)\n",
    "\n",
    "eclip_hits.head() #relative k-mer positions for each 3'UTR sequence"
   ]
  },
  {
   "cell_type": "code",
   "execution_count": 5,
   "id": "f7abc3af-c4b0-43dc-b1ff-8487882c8d69",
   "metadata": {},
   "outputs": [],
   "source": [
    "pred_dir =  data_dir + 'human_3utr/probs/'\n",
    "\n",
    "models = ['DNABERT','DNBT-3UTR-RNA','NT-MS-v2-100M','NT-3UTR-RNA',\n",
    "          'STSP-3UTR-RNA','STSP-3UTR-RNA-HS','STSP-3UTR-DNA',\n",
    "         'PhyloP-100way','PhyloP-241way','CADD-1.7','Zoo-AL']"
   ]
  },
  {
   "cell_type": "code",
   "execution_count": 6,
   "id": "55278cce-4e82-4160-96e5-ca5a828c7940",
   "metadata": {},
   "outputs": [],
   "source": [
    "strand_info = pd.read_csv(data_dir + 'UTR_coords/GRCh38_3_prime_UTR_clean-sorted.bed', sep='\\t', header = None, names=['seq_name','strand'], usecols=[3,5]).set_index('seq_name').squeeze()"
   ]
  },
  {
   "cell_type": "code",
   "execution_count": 7,
   "id": "8fab8787-f548-4880-9905-3c67a99f29b2",
   "metadata": {
    "tags": []
   },
   "outputs": [],
   "source": [
    "mapping = {'A':0,'C':1,'G':2,'T':3}"
   ]
  },
  {
   "cell_type": "code",
   "execution_count": 8,
   "id": "deb3b92c-541a-4761-84ae-28bf745b198a",
   "metadata": {},
   "outputs": [],
   "source": [
    "def get_model(glob_path,seq_list,dna_model=False):\n",
    "    \n",
    "    res = {}\n",
    "    for probas_file in glob(glob_path):\n",
    "        with open(probas_file, 'rb') as f:\n",
    "            fold_res = pickle.load(f)\n",
    "            fold_res = {seq_name:{'probs':prob,'seq':seq.upper()} for seq_name,prob,seq in zip(fold_res['seq_names'],fold_res['probs'],fold_res['seqs'])\n",
    "                        if seq_name in seq_list}\n",
    "            res.update(fold_res)\n",
    "\n",
    "    if dna_model:\n",
    "        for seq_name in res.keys():\n",
    "            if strand_info.loc[seq_name]=='-':\n",
    "                #reverse complement to match rna sequences\n",
    "                res[seq_name]['seq'] = reverse_complement(res[seq_name]['seq'])\n",
    "                if res[seq_name]['probs'].ndim>1:\n",
    "                    res[seq_name]['probs'] = res[seq_name]['probs'][::-1,[3,2,1,0]] #reverse complement probabilities\n",
    "                else:\n",
    "                    res[seq_name]['probs'] = res[seq_name]['probs'][::-1] #reverse complement probabilities\n",
    "\n",
    "    return res\n",
    "\n",
    "def read_fasta(fasta):\n",
    "\n",
    "    seqs = defaultdict(str)\n",
    "    \n",
    "    with open(fasta, 'r') as f:\n",
    "        for line in f:\n",
    "            if line.startswith('>'):\n",
    "                seq_name = line[1:].rstrip()\n",
    "            else:\n",
    "                seq = line.rstrip()\n",
    "                seqs[seq_name] += seq.upper()\n",
    "    return seqs\n",
    "\n",
    "def reverse_complement(seq):\n",
    "    '''\n",
    "    Take sequence reverse complement\n",
    "    '''\n",
    "    compl_dict = {'A':'T', 'C':'G', 'G':'C', 'T':'A'}\n",
    "    compl_seq = ''.join([compl_dict.get(x,x) for x in seq])\n",
    "    rev_seq = compl_seq[::-1]\n",
    "    return rev_seq"
   ]
  },
  {
   "cell_type": "code",
   "execution_count": 9,
   "id": "67c23848-4ad3-43ba-8381-b12ad1576a43",
   "metadata": {},
   "outputs": [
    {
     "data": {
      "text/plain": [
       "11358"
      ]
     },
     "execution_count": 9,
     "metadata": {},
     "output_type": "execute_result"
    }
   ],
   "source": [
    "human_3utr = read_fasta(data_dir + '/fasta/Homo_sapiens_rna.fa')\n",
    "human_3utr = {seq_name:seq for seq_name,seq in human_3utr.items() if seq_name in eclip_hits.index}\n",
    "\n",
    "len(human_3utr)"
   ]
  },
  {
   "cell_type": "code",
   "execution_count": 10,
   "id": "04dfb639-7c44-4972-a067-d8e13be95a62",
   "metadata": {
    "tags": []
   },
   "outputs": [
    {
     "name": "stdout",
     "output_type": "stream",
     "text": [
      "DNABERT loaded, 11358 sequences\n",
      "DNBT-3UTR-RNA loaded, 11358 sequences\n",
      "NT-MS-v2-100M loaded, 11358 sequences\n",
      "NT-3UTR-RNA loaded, 11358 sequences\n",
      "STSP-3UTR-RNA loaded, 11358 sequences\n",
      "STSP-3UTR-RNA-HS loaded, 11358 sequences\n",
      "STSP-3UTR-DNA loaded, 11358 sequences\n",
      "PhyloP-100way loaded, 11358 sequences\n",
      "PhyloP-241way loaded, 11358 sequences\n",
      "CADD-1.7 loaded, 11358 sequences\n",
      "Zoo-AL loaded, 11358 sequences\n"
     ]
    }
   ],
   "source": [
    "model_probs = {}\n",
    "\n",
    "for model in models:\n",
    "    dna_model = model in dna_models\n",
    "    model_probs[model] = get_model(pred_dir + '/' + model_alias[model] + '/predictions*.pickle',\n",
    "                                   human_3utr.keys(), dna_model)\n",
    "    \n",
    "    print(f'{model} loaded, {len(model_probs[model])} sequences')"
   ]
  },
  {
   "cell_type": "code",
   "execution_count": 11,
   "id": "54bb21a7-4626-4b8e-b23e-71cd09e4b797",
   "metadata": {},
   "outputs": [],
   "source": [
    "agg_strategy = 'MEAN' #MEAN or MAX"
   ]
  },
  {
   "cell_type": "code",
   "execution_count": 12,
   "id": "9db45830-d2b2-469f-8c93-c71333505235",
   "metadata": {},
   "outputs": [],
   "source": [
    "agg_func_LM = lambda x: np.mean(x) if agg_strategy=='MEAN' else np.max(x)\n",
    "agg_func_zoo_al = lambda x: np.mean(x)"
   ]
  },
  {
   "cell_type": "code",
   "execution_count": 13,
   "id": "a1146f12-7b78-43f0-af76-fa3e2e9dcd28",
   "metadata": {
    "tags": []
   },
   "outputs": [],
   "source": [
    "motif_len = 5\n",
    "\n",
    "res = []\n",
    "\n",
    "for seq_name,seq in tqdm(human_3utr.items()):\n",
    "    \n",
    "    for model in models:\n",
    "\n",
    "            for motif_start,motif in eclip_hits.loc[seq_name]:\n",
    "                \n",
    "                motif_end = motif_start+motif_len\n",
    "                \n",
    "                assert seq[motif_start:motif_end]==motif\n",
    "                \n",
    "                motif_mapping = [mapping[x] for x in motif]\n",
    "                \n",
    "                assert model_probs[model][seq_name]['seq'][motif_start:motif_end] == motif\n",
    "                \n",
    "                motif_scores = model_probs[model][seq_name]['probs'][motif_start:motif_end]\n",
    "                \n",
    "                if  'PhyloP' in model:\n",
    "                    \n",
    "                    score_ref, score_alt, score_ref_vs_alt = np.max(motif_scores), None, None\n",
    "                    \n",
    "                elif 'CADD' in model:\n",
    "                    \n",
    "                    score_ref, score_alt, score_ref_vs_alt = None, np.max(motif_scores), None\n",
    "                    \n",
    "                else:\n",
    "                    \n",
    "                    motif_scores = motif_scores[::,:4]\n",
    "                    motif_scores = motif_scores/motif_scores.sum(1,keepdims=True)\n",
    "                    \n",
    "                    pref = np.array([motif_scores[pos_idx, ref_nt_idx] for pos_idx, ref_nt_idx in enumerate(motif_mapping)])\n",
    "                    paltmin = np.array([np.delete(motif_scores[pos_idx],ref_nt_idx).min() for pos_idx, ref_nt_idx in enumerate(motif_mapping)])\n",
    "                    \n",
    "                    log_palt_minus1 = -np.log(paltmin+1e-14)\n",
    "                    log_pref_palt = np.log(pref+1e-14) - np.log(paltmin+1e-14)\n",
    "\n",
    "                    if model == 'Zoo-AL':\n",
    "                        score_ref, score_alt, score_ref_vs_alt = agg_func_zoo_al(pref), agg_func_zoo_al(log_palt_minus1), agg_func_zoo_al(log_pref_palt)\n",
    "                    else:\n",
    "                        score_ref, score_alt, score_ref_vs_alt = agg_func_LM(pref), agg_func_LM(log_palt_minus1), agg_func_LM(log_pref_palt)\n",
    "                    \n",
    "                res.append((seq_name, motif, motif_start, model, score_ref, score_alt, score_ref_vs_alt))"
   ]
  },
  {
   "cell_type": "code",
   "execution_count": 14,
   "id": "7ca19c88-eaea-460a-ac4b-2bf05cb444ec",
   "metadata": {},
   "outputs": [],
   "source": [
    "res = pd.DataFrame(res,columns = ['seq_name','motif','motif_start','model','score_ref','score_alt', 'score_ref_vs_alt'])"
   ]
  },
  {
   "cell_type": "code",
   "execution_count": 15,
   "id": "3062047a-fefc-42f7-a41b-5ec0771148ef",
   "metadata": {},
   "outputs": [
    {
     "data": {
      "text/html": [
       "<div>\n",
       "<style scoped>\n",
       "    .dataframe tbody tr th:only-of-type {\n",
       "        vertical-align: middle;\n",
       "    }\n",
       "\n",
       "    .dataframe tbody tr th {\n",
       "        vertical-align: top;\n",
       "    }\n",
       "\n",
       "    .dataframe thead th {\n",
       "        text-align: right;\n",
       "    }\n",
       "</style>\n",
       "<table border=\"1\" class=\"dataframe\">\n",
       "  <thead>\n",
       "    <tr style=\"text-align: right;\">\n",
       "      <th></th>\n",
       "      <th>UTR_ID</th>\n",
       "      <th>chrom</th>\n",
       "      <th>pos</th>\n",
       "      <th>motif_start_UTR</th>\n",
       "      <th>motif</th>\n",
       "      <th>stepwiseR_minus1</th>\n",
       "      <th>RBP</th>\n",
       "      <th>model</th>\n",
       "      <th>eCLIP_RBNS</th>\n",
       "      <th>score_ref</th>\n",
       "      <th>score_alt</th>\n",
       "      <th>score_ref_vs_alt</th>\n",
       "      <th>fasta_file</th>\n",
       "    </tr>\n",
       "  </thead>\n",
       "  <tbody>\n",
       "    <tr>\n",
       "      <th>0</th>\n",
       "      <td>ENST00000641515.2_utr3_2_0_chr1_70009_f</td>\n",
       "      <td>chr1</td>\n",
       "      <td>71397</td>\n",
       "      <td>1389</td>\n",
       "      <td>ACACA</td>\n",
       "      <td>NaN</td>\n",
       "      <td>NaN</td>\n",
       "      <td>DNABERT</td>\n",
       "      <td>False</td>\n",
       "      <td>0.353159</td>\n",
       "      <td>2.409570</td>\n",
       "      <td>1.121219</td>\n",
       "      <td>fasta/Homo_sapiens_dna_fwd.fa</td>\n",
       "    </tr>\n",
       "    <tr>\n",
       "      <th>1</th>\n",
       "      <td>ENST00000641515.2_utr3_2_0_chr1_70009_f</td>\n",
       "      <td>chr1</td>\n",
       "      <td>70043</td>\n",
       "      <td>35</td>\n",
       "      <td>ACACA</td>\n",
       "      <td>NaN</td>\n",
       "      <td>NaN</td>\n",
       "      <td>DNABERT</td>\n",
       "      <td>False</td>\n",
       "      <td>0.324869</td>\n",
       "      <td>2.654499</td>\n",
       "      <td>1.425663</td>\n",
       "      <td>fasta/Homo_sapiens_dna_fwd.fa</td>\n",
       "    </tr>\n",
       "    <tr>\n",
       "      <th>2</th>\n",
       "      <td>ENST00000641515.2_utr3_2_0_chr1_70009_f</td>\n",
       "      <td>chr1</td>\n",
       "      <td>71398</td>\n",
       "      <td>1390</td>\n",
       "      <td>CACAT</td>\n",
       "      <td>NaN</td>\n",
       "      <td>NaN</td>\n",
       "      <td>DNABERT</td>\n",
       "      <td>False</td>\n",
       "      <td>0.311161</td>\n",
       "      <td>2.482050</td>\n",
       "      <td>1.035661</td>\n",
       "      <td>fasta/Homo_sapiens_dna_fwd.fa</td>\n",
       "    </tr>\n",
       "    <tr>\n",
       "      <th>3</th>\n",
       "      <td>ENST00000641515.2_utr3_2_0_chr1_70009_f</td>\n",
       "      <td>chr1</td>\n",
       "      <td>71097</td>\n",
       "      <td>1089</td>\n",
       "      <td>GTGTG</td>\n",
       "      <td>NaN</td>\n",
       "      <td>NaN</td>\n",
       "      <td>DNABERT</td>\n",
       "      <td>False</td>\n",
       "      <td>0.660861</td>\n",
       "      <td>3.309041</td>\n",
       "      <td>2.860582</td>\n",
       "      <td>fasta/Homo_sapiens_dna_fwd.fa</td>\n",
       "    </tr>\n",
       "    <tr>\n",
       "      <th>4</th>\n",
       "      <td>ENST00000641515.2_utr3_2_0_chr1_70009_f</td>\n",
       "      <td>chr1</td>\n",
       "      <td>70260</td>\n",
       "      <td>252</td>\n",
       "      <td>TATAT</td>\n",
       "      <td>NaN</td>\n",
       "      <td>NaN</td>\n",
       "      <td>DNABERT</td>\n",
       "      <td>False</td>\n",
       "      <td>0.346097</td>\n",
       "      <td>2.186077</td>\n",
       "      <td>1.108866</td>\n",
       "      <td>fasta/Homo_sapiens_dna_fwd.fa</td>\n",
       "    </tr>\n",
       "  </tbody>\n",
       "</table>\n",
       "</div>"
      ],
      "text/plain": [
       "                                    UTR_ID chrom    pos  motif_start_UTR  \\\n",
       "0  ENST00000641515.2_utr3_2_0_chr1_70009_f  chr1  71397             1389   \n",
       "1  ENST00000641515.2_utr3_2_0_chr1_70009_f  chr1  70043               35   \n",
       "2  ENST00000641515.2_utr3_2_0_chr1_70009_f  chr1  71398             1390   \n",
       "3  ENST00000641515.2_utr3_2_0_chr1_70009_f  chr1  71097             1089   \n",
       "4  ENST00000641515.2_utr3_2_0_chr1_70009_f  chr1  70260              252   \n",
       "\n",
       "   motif stepwiseR_minus1  RBP    model  eCLIP_RBNS  score_ref  score_alt  \\\n",
       "0  ACACA              NaN  NaN  DNABERT       False   0.353159   2.409570   \n",
       "1  ACACA              NaN  NaN  DNABERT       False   0.324869   2.654499   \n",
       "2  CACAT              NaN  NaN  DNABERT       False   0.311161   2.482050   \n",
       "3  GTGTG              NaN  NaN  DNABERT       False   0.660861   3.309041   \n",
       "4  TATAT              NaN  NaN  DNABERT       False   0.346097   2.186077   \n",
       "\n",
       "   score_ref_vs_alt                     fasta_file  \n",
       "0          1.121219  fasta/Homo_sapiens_dna_fwd.fa  \n",
       "1          1.425663  fasta/Homo_sapiens_dna_fwd.fa  \n",
       "2          1.035661  fasta/Homo_sapiens_dna_fwd.fa  \n",
       "3          2.860582  fasta/Homo_sapiens_dna_fwd.fa  \n",
       "4          1.108866  fasta/Homo_sapiens_dna_fwd.fa  "
      ]
     },
     "execution_count": 15,
     "metadata": {},
     "output_type": "execute_result"
    }
   ],
   "source": [
    "res = res.merge(eclip_df).rename(columns={'seq_name':'UTR_ID','motif_start':'motif_start_UTR'})\n",
    "\n",
    "res = res[['UTR_ID','chrom','pos','motif_start_UTR','motif','stepwiseR_minus1','RBP',\n",
    "                               'model','eCLIP_RBNS','score_ref','score_alt','score_ref_vs_alt']]\n",
    "\n",
    "res.loc[res.model.isin(dna_models),'fasta_file'] = 'fasta/Homo_sapiens_dna_fwd.fa'\n",
    "res.loc[~res.model.isin(dna_models),'fasta_file'] = 'fasta/Homo_sapiens_rna.fa'\n",
    "\n",
    "res.head()"
   ]
  },
  {
   "cell_type": "code",
   "execution_count": 16,
   "id": "b179b0cf-c0b2-4c39-b448-778c5777a3d3",
   "metadata": {},
   "outputs": [],
   "source": [
    "res.to_csv(data_dir + f'all_scores/motifs_k{motif_len}_agg_{agg_strategy}_zoo-al_hs.tsv.gz',sep='\\t',index=None)"
   ]
  }
 ],
 "metadata": {
  "kernelspec": {
   "display_name": "Python 3 (ipykernel)",
   "language": "python",
   "name": "python3"
  },
  "language_info": {
   "codemirror_mode": {
    "name": "ipython",
    "version": 3
   },
   "file_extension": ".py",
   "mimetype": "text/x-python",
   "name": "python",
   "nbconvert_exporter": "python",
   "pygments_lexer": "ipython3",
   "version": "3.10.16"
  }
 },
 "nbformat": 4,
 "nbformat_minor": 5
}

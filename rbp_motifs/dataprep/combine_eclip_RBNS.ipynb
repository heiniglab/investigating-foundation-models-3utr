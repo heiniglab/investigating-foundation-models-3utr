{
 "cells": [
  {
   "cell_type": "code",
   "execution_count": 5,
   "id": "4e2aa69f-29c8-4de7-b9c3-d2fd9318bab7",
   "metadata": {},
   "outputs": [],
   "source": [
    "import pandas as pd\n",
    "import numpy as np\n",
    "from collections import defaultdict\n",
    "from tqdm.notebook import tqdm"
   ]
  },
  {
   "cell_type": "code",
   "execution_count": 4,
   "id": "1afa008e-4ba2-4a31-8a4f-d23a850ef648",
   "metadata": {},
   "outputs": [],
   "source": [
    "#sort and merge overlapping intervals\n",
    "#see https://stackoverflow.com/questions/43600878/merging-overlapping-intervals\n",
    "def merge_intervals(intervals_list):\n",
    "    # Sort by the start coordinate\n",
    "    intervals_list.sort(key=lambda interval: interval[0])\n",
    "    # Create a stack with the first interval\n",
    "    merged = [intervals_list[0]]\n",
    "    # Check for overlapping interval\n",
    "    for current in intervals_list:\n",
    "        previous = merged[-1]\n",
    "        if current[0] <= previous[1]:\n",
    "            previous[1] = max(previous[1], current[1])  # If it’s overlapping, then merge them into one interval\n",
    "        else: # otherwise, push it in the stack\n",
    "            merged.append(current)\n",
    "    return merged\n",
    "\n",
    "def add_relative_coordinates(motifs_df):\n",
    "\n",
    "    '''\n",
    "    add relative coordinates for each eCLIP sequence w.r.t. 3'UTR sequence\n",
    "    '''\n",
    "\n",
    "    df = motifs_df.merge(utr_table, how='left')\n",
    "\n",
    "    df.drop_duplicates(subset=['chrom','eclip_start','eclip_end'], inplace=True)\n",
    "\n",
    "    df['start_rel'] = df.apply(lambda x: x.eclip_start-x.utr_start if x.strand=='+'\n",
    "                                    else x.utr_end-x.eclip_end, axis=1) #relative to sequence start\n",
    "    \n",
    "    df['end_rel'] = df.apply(lambda x: x.eclip_end-x.utr_start if x.strand=='+'\n",
    "                                    else x.utr_end-x.eclip_start, axis=1) #relative to sequence start\n",
    "\n",
    "    return df\n",
    "\n",
    "def read_fasta(fasta):\n",
    "\n",
    "    seqs = defaultdict(str)\n",
    "    \n",
    "    with open(fasta, 'r') as f:\n",
    "        for line in f:\n",
    "            if line.startswith('>'):\n",
    "                seq_name = line[1:].rstrip()\n",
    "            else:\n",
    "                seq = line.rstrip()\n",
    "                seqs[seq_name] += seq.upper()\n",
    "    return seqs\n",
    "\n",
    "def get_overlap(a, b):\n",
    "    '''\n",
    "    get the overlap length between 2 intervals\n",
    "    '''\n",
    "    return max(0, min(a[1], b[1]) - max(a[0], b[0]))\n",
    "\n",
    "def get_max_overlap(interval, intervals):\n",
    "    '''\n",
    "    get the overlap of maximal length between a given interval and a list of intervals\n",
    "    '''\n",
    "    return np.max([get_overlap(interval,x) for x in intervals])"
   ]
  },
  {
   "cell_type": "code",
   "execution_count": 8,
   "id": "7c7a0f0f-ac3f-41f6-98f1-195a580aedfa",
   "metadata": {},
   "outputs": [],
   "source": [
    "data_dir = '/lustre/groups/epigenereg01/workspace/projects/vale/mlm/motif_analysis/'"
   ]
  },
  {
   "cell_type": "code",
   "execution_count": 4,
   "id": "93dd90ba-333d-4d46-9846-09b75624d444",
   "metadata": {},
   "outputs": [
    {
     "data": {
      "text/html": [
       "<div>\n",
       "<style scoped>\n",
       "    .dataframe tbody tr th:only-of-type {\n",
       "        vertical-align: middle;\n",
       "    }\n",
       "\n",
       "    .dataframe tbody tr th {\n",
       "        vertical-align: top;\n",
       "    }\n",
       "\n",
       "    .dataframe thead th {\n",
       "        text-align: right;\n",
       "    }\n",
       "</style>\n",
       "<table border=\"1\" class=\"dataframe\">\n",
       "  <thead>\n",
       "    <tr style=\"text-align: right;\">\n",
       "      <th></th>\n",
       "      <th>chrom</th>\n",
       "      <th>utr_start</th>\n",
       "      <th>utr_end</th>\n",
       "      <th>seq_name</th>\n",
       "      <th>strand</th>\n",
       "    </tr>\n",
       "  </thead>\n",
       "  <tbody>\n",
       "    <tr>\n",
       "      <th>0</th>\n",
       "      <td>chr1</td>\n",
       "      <td>67092164</td>\n",
       "      <td>67093004</td>\n",
       "      <td>ENST00000684719.1_utr3_7_0_chr1_67092165_r</td>\n",
       "      <td>-</td>\n",
       "    </tr>\n",
       "    <tr>\n",
       "      <th>1</th>\n",
       "      <td>chr1</td>\n",
       "      <td>8352403</td>\n",
       "      <td>8355086</td>\n",
       "      <td>ENST00000400908.7_utr3_22_0_chr1_8352404_r</td>\n",
       "      <td>-</td>\n",
       "    </tr>\n",
       "    <tr>\n",
       "      <th>2</th>\n",
       "      <td>chr1</td>\n",
       "      <td>75202128</td>\n",
       "      <td>75203726</td>\n",
       "      <td>ENST00000370859.8_utr3_23_0_chr1_75202129_r</td>\n",
       "      <td>-</td>\n",
       "    </tr>\n",
       "    <tr>\n",
       "      <th>3</th>\n",
       "      <td>chr1</td>\n",
       "      <td>83865023</td>\n",
       "      <td>83869961</td>\n",
       "      <td>ENST00000260505.13_utr3_20_0_chr1_83865024_r</td>\n",
       "      <td>-</td>\n",
       "    </tr>\n",
       "    <tr>\n",
       "      <th>4</th>\n",
       "      <td>chr1</td>\n",
       "      <td>92246401</td>\n",
       "      <td>92246529</td>\n",
       "      <td>ENST00000370360.8_utr3_18_0_chr1_92246402_r</td>\n",
       "      <td>-</td>\n",
       "    </tr>\n",
       "  </tbody>\n",
       "</table>\n",
       "</div>"
      ],
      "text/plain": [
       "  chrom  utr_start   utr_end                                      seq_name  \\\n",
       "0  chr1   67092164  67093004    ENST00000684719.1_utr3_7_0_chr1_67092165_r   \n",
       "1  chr1    8352403   8355086    ENST00000400908.7_utr3_22_0_chr1_8352404_r   \n",
       "2  chr1   75202128  75203726   ENST00000370859.8_utr3_23_0_chr1_75202129_r   \n",
       "3  chr1   83865023  83869961  ENST00000260505.13_utr3_20_0_chr1_83865024_r   \n",
       "4  chr1   92246401  92246529   ENST00000370360.8_utr3_18_0_chr1_92246402_r   \n",
       "\n",
       "  strand  \n",
       "0      -  \n",
       "1      -  \n",
       "2      -  \n",
       "3      -  \n",
       "4      -  "
      ]
     },
     "execution_count": 4,
     "metadata": {},
     "output_type": "execute_result"
    }
   ],
   "source": [
    "# get coordinates of eCLIP peaks for each sequence\n",
    "\n",
    "utr_table = pd.read_csv(data_dir + '../UTR_coords/GRCh38_3_prime_UTR_clean.bed', sep='\\t',\n",
    "                       usecols=[0,1,2,3,5], names=['chrom','utr_start','utr_end','seq_name','strand']) #absolute coordinates of 3'UTR sequences\n",
    "\n",
    "utr_table.head()"
   ]
  },
  {
   "cell_type": "code",
   "execution_count": 5,
   "id": "bee16d6f-4cfb-4593-9521-a636d90b4f68",
   "metadata": {},
   "outputs": [
    {
     "data": {
      "text/html": [
       "<div>\n",
       "<style scoped>\n",
       "    .dataframe tbody tr th:only-of-type {\n",
       "        vertical-align: middle;\n",
       "    }\n",
       "\n",
       "    .dataframe tbody tr th {\n",
       "        vertical-align: top;\n",
       "    }\n",
       "\n",
       "    .dataframe thead th {\n",
       "        text-align: right;\n",
       "    }\n",
       "</style>\n",
       "<table border=\"1\" class=\"dataframe\">\n",
       "  <thead>\n",
       "    <tr style=\"text-align: right;\">\n",
       "      <th></th>\n",
       "      <th>chrom</th>\n",
       "      <th>eclip_start</th>\n",
       "      <th>eclip_end</th>\n",
       "      <th>seq_name</th>\n",
       "      <th>target</th>\n",
       "    </tr>\n",
       "  </thead>\n",
       "  <tbody>\n",
       "    <tr>\n",
       "      <th>0</th>\n",
       "      <td>chr1</td>\n",
       "      <td>944221</td>\n",
       "      <td>944317</td>\n",
       "      <td>ENST00000327044.7_utr3_18_0_chr1_944203_r</td>\n",
       "      <td>APOBEC3C_K562_IDR</td>\n",
       "    </tr>\n",
       "    <tr>\n",
       "      <th>1</th>\n",
       "      <td>chr1</td>\n",
       "      <td>944229</td>\n",
       "      <td>944297</td>\n",
       "      <td>ENST00000327044.7_utr3_18_0_chr1_944203_r</td>\n",
       "      <td>PABPC4_K562_IDR</td>\n",
       "    </tr>\n",
       "    <tr>\n",
       "      <th>2</th>\n",
       "      <td>chr1</td>\n",
       "      <td>944247</td>\n",
       "      <td>944312</td>\n",
       "      <td>ENST00000327044.7_utr3_18_0_chr1_944203_r</td>\n",
       "      <td>PABPC4_K562_IDR</td>\n",
       "    </tr>\n",
       "    <tr>\n",
       "      <th>3</th>\n",
       "      <td>chr1</td>\n",
       "      <td>944270</td>\n",
       "      <td>944337</td>\n",
       "      <td>ENST00000327044.7_utr3_18_0_chr1_944203_r</td>\n",
       "      <td>PABPC4_K562_IDR</td>\n",
       "    </tr>\n",
       "    <tr>\n",
       "      <th>4</th>\n",
       "      <td>chr1</td>\n",
       "      <td>944319</td>\n",
       "      <td>944511</td>\n",
       "      <td>ENST00000327044.7_utr3_18_0_chr1_944203_r</td>\n",
       "      <td>UPF1_HepG2_IDR</td>\n",
       "    </tr>\n",
       "  </tbody>\n",
       "</table>\n",
       "</div>"
      ],
      "text/plain": [
       "  chrom  eclip_start  eclip_end                                   seq_name  \\\n",
       "0  chr1       944221     944317  ENST00000327044.7_utr3_18_0_chr1_944203_r   \n",
       "1  chr1       944229     944297  ENST00000327044.7_utr3_18_0_chr1_944203_r   \n",
       "2  chr1       944247     944312  ENST00000327044.7_utr3_18_0_chr1_944203_r   \n",
       "3  chr1       944270     944337  ENST00000327044.7_utr3_18_0_chr1_944203_r   \n",
       "4  chr1       944319     944511  ENST00000327044.7_utr3_18_0_chr1_944203_r   \n",
       "\n",
       "              target  \n",
       "0  APOBEC3C_K562_IDR  \n",
       "1    PABPC4_K562_IDR  \n",
       "2    PABPC4_K562_IDR  \n",
       "3    PABPC4_K562_IDR  \n",
       "4     UPF1_HepG2_IDR  "
      ]
     },
     "execution_count": 5,
     "metadata": {},
     "output_type": "execute_result"
    }
   ],
   "source": [
    "eclip_pos = pd.read_csv(data_dir + 'van_nostrand_2019/eCLIP/eCLIP.3utr.pos_IDR.bed', sep='\\t',\n",
    "                       usecols=[0,1,2,3,6], names=['chrom','eclip_start','eclip_end','seq_name','target']) #absolute coordinates of eCLIP peaks\n",
    "\n",
    "eclip_pos.head()"
   ]
  },
  {
   "cell_type": "code",
   "execution_count": 6,
   "id": "b87e7d57-f650-4b32-9d2e-de920a286505",
   "metadata": {},
   "outputs": [
    {
     "data": {
      "text/html": [
       "<div>\n",
       "<style scoped>\n",
       "    .dataframe tbody tr th:only-of-type {\n",
       "        vertical-align: middle;\n",
       "    }\n",
       "\n",
       "    .dataframe tbody tr th {\n",
       "        vertical-align: top;\n",
       "    }\n",
       "\n",
       "    .dataframe thead th {\n",
       "        text-align: right;\n",
       "    }\n",
       "</style>\n",
       "<table border=\"1\" class=\"dataframe\">\n",
       "  <thead>\n",
       "    <tr style=\"text-align: right;\">\n",
       "      <th></th>\n",
       "      <th>chrom</th>\n",
       "      <th>eclip_start</th>\n",
       "      <th>eclip_end</th>\n",
       "      <th>seq_name</th>\n",
       "    </tr>\n",
       "  </thead>\n",
       "  <tbody>\n",
       "    <tr>\n",
       "      <th>0</th>\n",
       "      <td>chr1</td>\n",
       "      <td>70008</td>\n",
       "      <td>71585</td>\n",
       "      <td>ENST00000641515.2_utr3_2_0_chr1_70009_f</td>\n",
       "    </tr>\n",
       "    <tr>\n",
       "      <th>1</th>\n",
       "      <td>chr1</td>\n",
       "      <td>944153</td>\n",
       "      <td>944209</td>\n",
       "      <td>ENST00000616016.5_utr3_13_0_chr1_944154_f</td>\n",
       "    </tr>\n",
       "    <tr>\n",
       "      <th>2</th>\n",
       "      <td>chr1</td>\n",
       "      <td>944202</td>\n",
       "      <td>944209</td>\n",
       "      <td>ENST00000327044.7_utr3_18_0_chr1_944203_r</td>\n",
       "    </tr>\n",
       "    <tr>\n",
       "      <th>3</th>\n",
       "      <td>chr1</td>\n",
       "      <td>965688</td>\n",
       "      <td>965719</td>\n",
       "      <td>ENST00000338591.8_utr3_11_0_chr1_965192_f</td>\n",
       "    </tr>\n",
       "    <tr>\n",
       "      <th>4</th>\n",
       "      <td>chr1</td>\n",
       "      <td>998963</td>\n",
       "      <td>998981</td>\n",
       "      <td>ENST00000304952.11_utr3_3_0_chr1_998964_r</td>\n",
       "    </tr>\n",
       "  </tbody>\n",
       "</table>\n",
       "</div>"
      ],
      "text/plain": [
       "  chrom  eclip_start  eclip_end                                   seq_name\n",
       "0  chr1        70008      71585    ENST00000641515.2_utr3_2_0_chr1_70009_f\n",
       "1  chr1       944153     944209  ENST00000616016.5_utr3_13_0_chr1_944154_f\n",
       "2  chr1       944202     944209  ENST00000327044.7_utr3_18_0_chr1_944203_r\n",
       "3  chr1       965688     965719  ENST00000338591.8_utr3_11_0_chr1_965192_f\n",
       "4  chr1       998963     998981  ENST00000304952.11_utr3_3_0_chr1_998964_r"
      ]
     },
     "execution_count": 6,
     "metadata": {},
     "output_type": "execute_result"
    }
   ],
   "source": [
    "eclip_neg = pd.read_csv(data_dir + 'van_nostrand_2019/eCLIP/eCLIP.3utr.neg.bed', sep='\\t',\n",
    "                       usecols=[0,1,2,3], names=['chrom','eclip_start','eclip_end','seq_name']) #absolute coordinates of eCLIP peaks\n",
    "\n",
    "eclip_neg.head()"
   ]
  },
  {
   "cell_type": "code",
   "execution_count": 7,
   "id": "72e7b894-8626-4fb5-865a-46e17c539a77",
   "metadata": {},
   "outputs": [],
   "source": [
    "stepwiseR1_min = 0\n",
    "motif_len = 5\n",
    "\n",
    "rbns_motifs = pd.read_excel(data_dir + 'van_nostrand_2019/41586_2020_2077_MOESM8_ESM.xlsx')\n",
    "    \n",
    "rbns_motifs = rbns_motifs.set_index('RBP').iloc[:,4:].apply(list,axis=1)\n",
    "rbns_motifs = rbns_motifs.explode().dropna()\n",
    "    \n",
    "rbns_motifs = rbns_motifs.apply(lambda x:pd.Series(x.split('_'),index=['motif','logonum','stepwise_r']))\n",
    "rbns_motifs.stepwise_r = rbns_motifs.stepwise_r.astype(float)\n",
    "rbns_motifs.logonum = rbns_motifs.logonum.astype(int)\n",
    "rbns_motifs.motif = rbns_motifs.motif.str.replace('U','T')\n",
    "rbns_motifs = rbns_motifs[rbns_motifs.stepwise_r>=stepwiseR1_min]\n",
    "\n",
    "stepwise_r = rbns_motifs.reset_index().set_index(['RBP','motif']).stepwise_r\n",
    "rbns_motifs = rbns_motifs.groupby(rbns_motifs.index).motif.apply(list)"
   ]
  },
  {
   "cell_type": "code",
   "execution_count": 8,
   "id": "fb1267e2-0de9-4389-97f6-51f129346d90",
   "metadata": {},
   "outputs": [],
   "source": [
    "human_fa = data_dir + '../fasta/Homo_sapiens_rna.fa'\n",
    "utr_seqs = read_fasta(human_fa)"
   ]
  },
  {
   "cell_type": "code",
   "execution_count": 9,
   "id": "35993948-e936-4da6-9f25-bb71318074c5",
   "metadata": {},
   "outputs": [],
   "source": [
    "eclip_pos.target = eclip_pos.target.apply(lambda x:x.split('_')[0])\n",
    "\n",
    "eclip_pos = eclip_pos[eclip_pos.target.isin(rbns_motifs.index)]\n",
    "eclip_pos = add_relative_coordinates(eclip_pos)\n",
    "\n",
    "eclip_pos = eclip_pos.groupby(['seq_name','target']).apply(lambda x: merge_intervals(x[['start_rel','end_rel']].values.tolist()),include_groups=False)"
   ]
  },
  {
   "cell_type": "code",
   "execution_count": 10,
   "id": "31a6f92e-78ea-458b-94a2-a156fbe44607",
   "metadata": {},
   "outputs": [],
   "source": [
    "eclip_neg = add_relative_coordinates(eclip_neg)\n",
    "eclip_neg = eclip_neg.groupby('seq_name').apply(lambda x: merge_intervals(x[['start_rel','end_rel']].values.tolist()),include_groups=False)"
   ]
  },
  {
   "cell_type": "code",
   "execution_count": 11,
   "id": "491dec25-dd44-421f-bc60-f3a0a6076ff8",
   "metadata": {},
   "outputs": [
    {
     "data": {
      "application/vnd.jupyter.widget-view+json": {
       "model_id": "b0f06f47b7e446bda697de0002a588cd",
       "version_major": 2,
       "version_minor": 0
      },
      "text/plain": [
       "  0%|          | 0/18134 [00:00<?, ?it/s]"
      ]
     },
     "metadata": {},
     "output_type": "display_data"
    }
   ],
   "source": [
    "pos_df = []\n",
    "neg_df = []\n",
    "\n",
    "for seq_name, seq in tqdm(utr_seqs.items()):\n",
    "    if seq_name in eclip_pos.index or seq_name in eclip_neg.index:\n",
    "        for motif_start in range(0,len(seq)-motif_len):\n",
    "            motif_pos = [motif_start,motif_start+motif_len]\n",
    "            motif = seq[motif_start:motif_start+motif_len]\n",
    "            if seq_name in eclip_pos.index:\n",
    "                for target, intervals in eclip_pos.loc[seq_name].items():\n",
    "                    if motif in rbns_motifs[target] and get_max_overlap(motif_pos, intervals) == motif_len:\n",
    "                        stepwiseR = stepwise_r[(target,motif)]\n",
    "                        pos_df.append([seq_name, motif_start, motif, target, stepwiseR])\n",
    "            if seq_name in eclip_neg.index:\n",
    "                if get_max_overlap(motif_pos, eclip_neg.loc[seq_name]) == motif_len: \n",
    "                    neg_df.append([seq_name, motif_start, motif])"
   ]
  },
  {
   "cell_type": "code",
   "execution_count": 12,
   "id": "660dd2b6-77d9-4373-80f8-32d8dbafc8b5",
   "metadata": {},
   "outputs": [],
   "source": [
    "pos_df = pd.DataFrame(pos_df,columns=['seq_name', 'motif_start', 'motif', 'RBP', 'stepwiseR_minus1'])\n",
    "neg_df = pd.DataFrame(neg_df,columns=['seq_name', 'motif_start', 'motif'])"
   ]
  },
  {
   "cell_type": "code",
   "execution_count": 13,
   "id": "473c18a6-775b-4bba-a872-66e1447c8ee6",
   "metadata": {},
   "outputs": [
    {
     "name": "stdout",
     "output_type": "stream",
     "text": [
      "20 77\n"
     ]
    }
   ],
   "source": [
    "n_proteins = pos_df.RBP.nunique()\n",
    "n_motifs = pos_df.motif.nunique()\n",
    "\n",
    "print(n_proteins,n_motifs)"
   ]
  },
  {
   "cell_type": "code",
   "execution_count": 20,
   "id": "5c468fb0-5ad5-4333-a652-c464c2c25145",
   "metadata": {},
   "outputs": [],
   "source": [
    "pos_df = pos_df.groupby(['seq_name', 'motif_start', 'motif']).agg({'RBP':lambda x:','.join(x),\n",
    "                                                            'stepwiseR_minus1':lambda x:','.join(x.astype(str))}).reset_index()"
   ]
  },
  {
   "cell_type": "code",
   "execution_count": 21,
   "id": "cc4dda4a-b812-4614-b7ee-8a861ea5a8a1",
   "metadata": {},
   "outputs": [
    {
     "data": {
      "text/plain": [
       "57172"
      ]
     },
     "execution_count": 21,
     "metadata": {},
     "output_type": "execute_result"
    }
   ],
   "source": [
    "len(pos_df)"
   ]
  },
  {
   "cell_type": "code",
   "execution_count": 23,
   "id": "e6e5c41d-f4bc-443d-a539-79cbabe75b1a",
   "metadata": {},
   "outputs": [],
   "source": [
    "neg_df = neg_df[neg_df.motif.isin(pos_df.motif)] #use only the same k-mers as in positive set"
   ]
  },
  {
   "cell_type": "code",
   "execution_count": 24,
   "id": "c04200ac-94bc-4230-9d63-65141691f241",
   "metadata": {},
   "outputs": [
    {
     "data": {
      "text/plain": [
       "1653964"
      ]
     },
     "execution_count": 24,
     "metadata": {},
     "output_type": "execute_result"
    }
   ],
   "source": [
    "len(neg_df)"
   ]
  },
  {
   "cell_type": "code",
   "execution_count": 25,
   "id": "e9dccc0e-59e3-477d-8a92-214657149d28",
   "metadata": {},
   "outputs": [],
   "source": [
    "#subsample the negative set s.t. it has the same k-mer distribution as in the positive set\n",
    "\n",
    "pos_motif_count = pos_df.motif.value_counts()\n",
    "neg_df = neg_df.groupby('motif').apply(lambda x:x.sample(n=pos_motif_count[x.name],replace=False, random_state=1),include_groups=False).reset_index(level=0)\n",
    "\n",
    "neg_df = neg_df[['seq_name','motif_start','motif']]"
   ]
  },
  {
   "cell_type": "code",
   "execution_count": 28,
   "id": "cf052b93-c855-4674-816d-052db5b6b829",
   "metadata": {},
   "outputs": [],
   "source": [
    "pos_df['eCLIP_RBNS'] = True #functional\n",
    "neg_df['eCLIP_RBNS'] = False #non-functional\n",
    "\n",
    "motifs_df = pd.concat([pos_df,neg_df])"
   ]
  },
  {
   "cell_type": "code",
   "execution_count": 29,
   "id": "1a43863a-9b5c-4566-a75a-54520acb8001",
   "metadata": {},
   "outputs": [],
   "source": [
    "motifs_df = motifs_df.merge(utr_table) #add 3'UTR coordinates"
   ]
  },
  {
   "cell_type": "code",
   "execution_count": 79,
   "id": "b210bf1a-9d2d-42cd-af7a-1cb58ac78826",
   "metadata": {},
   "outputs": [],
   "source": [
    "#absolute coordinates of the k-mer on the chromosome\n",
    "#0-based\n",
    "#for the negative strand, motif_start is defined w.r.t. reverse complemented sequences,\n",
    "#so different formula for conversion\n",
    "\n",
    "motifs_df['pos'] = motifs_df.apply(lambda x: x.motif_start+x.utr_start if x.strand=='+'\n",
    "                                    else x.utr_end-(x.motif_start+motif_len), axis=1)"
   ]
  },
  {
   "cell_type": "code",
   "execution_count": 31,
   "id": "a15f6131-696a-4cee-81c5-2587d9f63eea",
   "metadata": {},
   "outputs": [
    {
     "data": {
      "text/plain": [
       "eCLIP_RBNS\n",
       "True     57172\n",
       "False    57172\n",
       "Name: count, dtype: int64"
      ]
     },
     "execution_count": 31,
     "metadata": {},
     "output_type": "execute_result"
    }
   ],
   "source": [
    "motifs_df.eCLIP_RBNS.value_counts()"
   ]
  },
  {
   "cell_type": "code",
   "execution_count": 80,
   "id": "cff5b7a8-0b7f-4543-a932-7b9f0020a212",
   "metadata": {},
   "outputs": [],
   "source": [
    "motifs_df['motif_id'] = motifs_df.chrom + '_' + motifs_df.pos.astype(str) + '_' + motifs_df.motif + '_' + motifs_df.seq_name.str[-1]"
   ]
  },
  {
   "cell_type": "code",
   "execution_count": 81,
   "id": "eb74c7a5-9322-4fb4-9dd4-a65f0ac4ec14",
   "metadata": {},
   "outputs": [],
   "source": [
    "motifs_df = motifs_df[['chrom','pos','seq_name','strand','motif','motif_id','motif_start','RBP','stepwiseR_minus1','eCLIP_RBNS']]"
   ]
  },
  {
   "cell_type": "code",
   "execution_count": 82,
   "id": "53662e06-a87b-40bc-91b4-d790ad3fb88e",
   "metadata": {},
   "outputs": [],
   "source": [
    "motifs_df.to_csv(data_dir + 'eclip.tsv',sep='\\t',index=False)"
   ]
  }
 ],
 "metadata": {
  "kernelspec": {
   "display_name": "Python 3 (ipykernel)",
   "language": "python",
   "name": "python3"
  },
  "language_info": {
   "codemirror_mode": {
    "name": "ipython",
    "version": 3
   },
   "file_extension": ".py",
   "mimetype": "text/x-python",
   "name": "python",
   "nbconvert_exporter": "python",
   "pygments_lexer": "ipython3",
   "version": "3.10.13"
  }
 },
 "nbformat": 4,
 "nbformat_minor": 5
}

{
 "cells": [
  {
   "cell_type": "code",
   "execution_count": 5,
   "id": "a6d2af15-7a15-449d-928d-da016178ca8f",
   "metadata": {},
   "outputs": [],
   "source": [
    "import pickle\n",
    "import os\n",
    "import numpy as np\n",
    "from tqdm import tqdm\n",
    "from collections import defaultdict\n",
    "from glob import glob"
   ]
  },
  {
   "cell_type": "code",
   "execution_count": 6,
   "id": "9dea735e-c080-42a4-92f7-8bb2e9ae52c1",
   "metadata": {},
   "outputs": [],
   "source": [
    "data_dir = '/lustre/groups/epigenereg01/workspace/projects/vale/mlm/'"
   ]
  },
  {
   "cell_type": "code",
   "execution_count": 9,
   "id": "123047b8-0360-4443-af3c-5808ed3e6939",
   "metadata": {},
   "outputs": [],
   "source": [
    "def read_fasta(fasta):\n",
    "\n",
    "    seqs = defaultdict(str)\n",
    "    \n",
    "    with open(fasta, 'r') as f:\n",
    "        for line in f:\n",
    "            if line.startswith('>'):\n",
    "                seq_name = line[1:].rstrip()\n",
    "            else:\n",
    "                seqs[seq_name] += line.rstrip().upper()\n",
    "    return seqs\n",
    "\n",
    "def reverse_complement(seq):\n",
    "    '''\n",
    "    Take sequence reverse complement\n",
    "    '''\n",
    "    compl_dict = {'A':'T', 'C':'G', 'G':'C', 'T':'A'}\n",
    "    compl_seq = ''.join([compl_dict.get(x,x) for x in seq])\n",
    "    rev_seq = compl_seq[::-1]\n",
    "    return rev_seq"
   ]
  },
  {
   "cell_type": "code",
   "execution_count": 8,
   "id": "56aaa41b-02e3-44dc-8f0a-7d68b77da42f",
   "metadata": {},
   "outputs": [
    {
     "data": {
      "text/plain": [
       "seq_name\n",
       "ENST00000394232.6_utr3_12_0_chr15_91292553_f    18\n",
       "ENST00000291442.4_utr3_3_0_chr19_17231883_r     18\n",
       "ENST00000310981.6_utr3_0_0_chr2_127702177_f     18\n",
       "ENST00000418260.3_utr3_1_0_chr12_31615023_r     18\n",
       "ENST00000380985.10_utr3_12_0_chr5_65822916_f    18\n",
       "Name: folder, dtype: object"
      ]
     },
     "execution_count": 8,
     "metadata": {},
     "output_type": "execute_result"
    }
   ],
   "source": [
    "# all 3'UTR FASTA alignments are distributed across subfolders\n",
    "# find all FASTA files and their subfolders\n",
    "\n",
    "fasta_path = data_dir + 'fasta/aligned_3UTR/fa/'\n",
    "\n",
    "fasta_dirs = []\n",
    "\n",
    "for file in glob(fasta_path + '**/*.fa', recursive=True):\n",
    "    relative_path = os.path.relpath(file, fasta_path)\n",
    "    folder, seq_id = relative_path.split('/')\n",
    "    seq_id = seq_id.replace('.fa','')\n",
    "    fasta_dirs.append((folder,seq_id))\n",
    "    \n",
    "fasta_dirs = pd.DataFrame(fasta_dirs, columns=['folder','seq_name']).set_index('seq_name').squeeze()\n",
    "\n",
    "fasta_dirs.head()"
   ]
  },
  {
   "cell_type": "code",
   "execution_count": 24,
   "id": "a928b41f-e3fe-461e-b7ae-62a5d34e52b5",
   "metadata": {},
   "outputs": [
    {
     "name": "stderr",
     "output_type": "stream",
     "text": [
      "100%|██████████| 18178/18178 [30:00<00:00, 10.09it/s] \n"
     ]
    }
   ],
   "source": [
    "all_seqs, all_counts = [], []\n",
    "\n",
    "for seq_name, subdir in tqdm(fasta_dirs.items(), total=len(fasta_dirs)):\n",
    "    \n",
    "    file_path = fasta_path + subdir + '/' + seq_name + '.fa'\n",
    "\n",
    "    fasta = read_fasta(file_path)\n",
    "    \n",
    "    fasta_seqs = np.array([list(seq) for seq in fasta.values()])\n",
    "\n",
    "    seq_counts = np.array([np.sum(fasta_seqs == nt,0) for nt in ['A','C','G','T']]).T\n",
    "\n",
    "    homo_sapiens_seq = ''.join(fasta_seqs[0]).upper()\n",
    "    \n",
    "    all_counts.append(seq_counts)\n",
    "    all_seqs.append(homo_sapiens_seq)"
   ]
  },
  {
   "cell_type": "code",
   "execution_count": 41,
   "id": "5f5c9749-9bc5-4ab3-807a-4c4fd9386399",
   "metadata": {},
   "outputs": [],
   "source": [
    "all_probs = [x/x.sum(1, keepdims=True) for x in all_counts]"
   ]
  },
  {
   "cell_type": "code",
   "execution_count": 42,
   "id": "3a9ab093-5dae-4de3-b8f4-26e06886d434",
   "metadata": {},
   "outputs": [],
   "source": [
    "output_dir = data_dir + f'/human_3utr/probs/zoo-al/'\n",
    "\n",
    "os.makedirs(output_dir, exist_ok=True)\n",
    "\n",
    "with open(output_dir + 'predictions.pickle', 'wb') as f:\n",
    "    pickle.dump({'seq_names':fasta_dirs.index.tolist(), 'seqs':all_seqs, 'probs':all_probs, 'counts':all_counts},f)"
   ]
  },
  {
   "cell_type": "code",
   "execution_count": null,
   "id": "293d1b8a-7b2e-41e5-aafd-efc1e63d42d6",
   "metadata": {},
   "outputs": [],
   "source": []
  }
 ],
 "metadata": {
  "kernelspec": {
   "display_name": "Python 3 (ipykernel)",
   "language": "python",
   "name": "python3"
  },
  "language_info": {
   "codemirror_mode": {
    "name": "ipython",
    "version": 3
   },
   "file_extension": ".py",
   "mimetype": "text/x-python",
   "name": "python",
   "nbconvert_exporter": "python",
   "pygments_lexer": "ipython3",
   "version": "3.10.13"
  }
 },
 "nbformat": 4,
 "nbformat_minor": 5
}

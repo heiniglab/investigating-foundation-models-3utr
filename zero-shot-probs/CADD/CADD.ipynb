{
 "cells": [
  {
   "cell_type": "code",
   "execution_count": 1,
   "id": "a6d2af15-7a15-449d-928d-da016178ca8f",
   "metadata": {},
   "outputs": [],
   "source": [
    "import pickle\n",
    "import os\n",
    "import pandas as pd\n",
    "import numpy as np\n",
    "from tqdm import tqdm\n",
    "from collections import defaultdict"
   ]
  },
  {
   "cell_type": "code",
   "execution_count": 2,
   "id": "9dea735e-c080-42a4-92f7-8bb2e9ae52c1",
   "metadata": {},
   "outputs": [],
   "source": [
    "data_dir = '/lustre/groups/epigenereg01/workspace/projects/vale/mlm/'"
   ]
  },
  {
   "cell_type": "code",
   "execution_count": 3,
   "id": "7933789c-84c7-4fa2-beac-cabf6c004d4e",
   "metadata": {},
   "outputs": [],
   "source": [
    "utr_table = pd.read_csv(data_dir + 'UTR_coords/GRCh38_3_prime_UTR_clean-sorted.bed', sep='\\t',\n",
    "                       header = None, names=['chrom','seq_start','seq_end','seq_name','strand'], usecols=[0,1,2,3,5]).set_index('seq_name')"
   ]
  },
  {
   "cell_type": "code",
   "execution_count": 4,
   "id": "37ae3b97-0d5d-4926-9e11-7025c866b59b",
   "metadata": {},
   "outputs": [],
   "source": [
    "#for data preparation, see effect_prediction/dataprep/CADD/Snakefile.py\n",
    "\n",
    "cadd_res = pd.read_csv(data_dir + 'variants/prefiltered/CADD/CADD.3utr.snps.scores.tsv.gz', sep='\\t',\n",
    "                       header = None, names=['chrom','pos','score'],usecols=[0,1,4])"
   ]
  },
  {
   "cell_type": "code",
   "execution_count": 5,
   "id": "2b40a055-c997-4fc3-bc98-64555cf9eb23",
   "metadata": {},
   "outputs": [],
   "source": [
    "cadd_res = cadd_res.groupby(['chrom','pos']).score.max().reset_index().sort_values(by=['chrom','pos']).set_index('chrom')"
   ]
  },
  {
   "cell_type": "code",
   "execution_count": 6,
   "id": "0e02305a-0d7e-481f-bfa9-f433bd25ad1a",
   "metadata": {},
   "outputs": [],
   "source": [
    "cadd_res.pos = cadd_res.pos-1 #to 0-based"
   ]
  },
  {
   "cell_type": "code",
   "execution_count": 7,
   "id": "5ba08e7f-149b-44a8-b0d2-7de7328c641e",
   "metadata": {},
   "outputs": [],
   "source": [
    "fasta = data_dir + '/fasta/Homo_sapiens_dna_fwd.fa' #rna dataset\n",
    "\n",
    "human_seqs = defaultdict(str)\n",
    "\n",
    "with open(fasta, 'r') as f:\n",
    "    for line in f:\n",
    "        if line.startswith('>'):\n",
    "            seq_name = line[1:].rstrip()\n",
    "        else:\n",
    "            human_seqs[seq_name] += line.rstrip().upper()"
   ]
  },
  {
   "cell_type": "code",
   "execution_count": 8,
   "id": "2eda1b93-ec39-4aa8-be2d-143c6f2be648",
   "metadata": {},
   "outputs": [],
   "source": [
    "utr_table = utr_table[utr_table.index.isin(human_seqs.keys())]"
   ]
  },
  {
   "cell_type": "code",
   "execution_count": 9,
   "id": "e0d8ddc0-b53e-4bcb-99a7-a93fdfa8c64d",
   "metadata": {},
   "outputs": [
    {
     "name": "stderr",
     "output_type": "stream",
     "text": [
      "100%|██████████| 18134/18134 [16:29<00:00, 18.33it/s]\n"
     ]
    }
   ],
   "source": [
    "res = []\n",
    "\n",
    "for seq_name, (chrom, start_seq,end_seq,strand) in tqdm(utr_table.iterrows(),total=len(utr_table)):\n",
    "    L = end_seq-start_seq #sequence length\n",
    "    seq_scores = np.full((L,), np.nan)\n",
    "    df = cadd_res.loc[chrom]\n",
    "    start_idx = np.searchsorted(df.pos,start_seq)\n",
    "    end_idx = np.searchsorted(df.pos,end_seq)\n",
    "    for _, row in df.iloc[start_idx:end_idx].iterrows():\n",
    "        seq_scores[int(row.pos)-start_seq] = row.score\n",
    "    res.append((seq_name,human_seqs[seq_name],seq_scores))"
   ]
  },
  {
   "cell_type": "code",
   "execution_count": 10,
   "id": "3a9ab093-5dae-4de3-b8f4-26e06886d434",
   "metadata": {},
   "outputs": [],
   "source": [
    "output_dir = data_dir + f'/human_3utr/probs/CADD-1.7/'\n",
    "\n",
    "os.makedirs(output_dir, exist_ok=True)\n",
    "\n",
    "with open(output_dir + 'predictions.pickle', 'wb') as f:\n",
    "    seq_names, seqs, probs = zip(*res)\n",
    "    pickle.dump({'seq_names':seq_names, 'seqs':seqs, 'probs':probs},f)"
   ]
  },
  {
   "cell_type": "code",
   "execution_count": null,
   "id": "6199fa21-eb73-4149-aa2d-a03a15a33ac1",
   "metadata": {},
   "outputs": [],
   "source": []
  }
 ],
 "metadata": {
  "kernelspec": {
   "display_name": "Python 3 (ipykernel)",
   "language": "python",
   "name": "python3"
  },
  "language_info": {
   "codemirror_mode": {
    "name": "ipython",
    "version": 3
   },
   "file_extension": ".py",
   "mimetype": "text/x-python",
   "name": "python",
   "nbconvert_exporter": "python",
   "pygments_lexer": "ipython3",
   "version": "3.10.13"
  }
 },
 "nbformat": 4,
 "nbformat_minor": 5
}

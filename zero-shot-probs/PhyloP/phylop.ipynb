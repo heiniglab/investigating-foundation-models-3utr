{
 "cells": [
  {
   "cell_type": "code",
   "execution_count": 1,
   "id": "a6d2af15-7a15-449d-928d-da016178ca8f",
   "metadata": {},
   "outputs": [],
   "source": [
    "import pickle\n",
    "import os\n",
    "import pandas as pd\n",
    "import numpy as np\n",
    "from tqdm import tqdm\n",
    "from collections import defaultdict"
   ]
  },
  {
   "cell_type": "code",
   "execution_count": 2,
   "id": "9dea735e-c080-42a4-92f7-8bb2e9ae52c1",
   "metadata": {},
   "outputs": [],
   "source": [
    "data_dir = '/lustre/groups/epigenereg01/workspace/projects/vale/mlm/'"
   ]
  },
  {
   "cell_type": "code",
   "execution_count": 3,
   "id": "7cf13889-735d-4809-ba25-ad3dae834442",
   "metadata": {},
   "outputs": [],
   "source": [
    "model = 'PhyloP-100way' #PhyloP-100way or PhyloP-241way"
   ]
  },
  {
   "cell_type": "code",
   "execution_count": 4,
   "id": "7933789c-84c7-4fa2-beac-cabf6c004d4e",
   "metadata": {},
   "outputs": [],
   "source": [
    "utr_table = pd.read_csv(data_dir + 'UTR_coords/GRCh38_3_prime_UTR_clean-sorted.bed', sep='\\t',\n",
    "                       header = None, names=['chrom','seq_start','seq_end','seq_name','strand'], usecols=[0,1,2,3,5]).set_index('seq_name')"
   ]
  },
  {
   "cell_type": "code",
   "execution_count": 5,
   "id": "25c91ff7-3d13-4b18-afd3-84219a637d39",
   "metadata": {},
   "outputs": [],
   "source": [
    "phylop_res = pd.read_csv(data_dir + f'variants/prefiltered/PhyloP/{model}.3utr.scores.tsv.gz', sep='\\t',\n",
    "                           header = None, names=['chrom','pos',f'{model}-score']).sort_values(by=['chrom','pos']).set_index('chrom')"
   ]
  },
  {
   "cell_type": "code",
   "execution_count": 6,
   "id": "0e02305a-0d7e-481f-bfa9-f433bd25ad1a",
   "metadata": {},
   "outputs": [],
   "source": [
    "phylop_res.pos = phylop_res.pos-1 #to 0-based"
   ]
  },
  {
   "cell_type": "code",
   "execution_count": 7,
   "id": "5ba08e7f-149b-44a8-b0d2-7de7328c641e",
   "metadata": {},
   "outputs": [],
   "source": [
    "fasta = data_dir + '/fasta/Homo_sapiens_dna_fwd.fa' #rna dataset\n",
    "\n",
    "human_seqs = defaultdict(str)\n",
    "\n",
    "with open(fasta, 'r') as f:\n",
    "    for line in f:\n",
    "        if line.startswith('>'):\n",
    "            seq_name = line[1:].rstrip()\n",
    "        else:\n",
    "            human_seqs[seq_name] += line.rstrip().upper()"
   ]
  },
  {
   "cell_type": "code",
   "execution_count": 8,
   "id": "2eda1b93-ec39-4aa8-be2d-143c6f2be648",
   "metadata": {},
   "outputs": [],
   "source": [
    "utr_table = utr_table[utr_table.index.isin(human_seqs.keys())]"
   ]
  },
  {
   "cell_type": "code",
   "execution_count": 9,
   "id": "e0d8ddc0-b53e-4bcb-99a7-a93fdfa8c64d",
   "metadata": {},
   "outputs": [
    {
     "name": "stderr",
     "output_type": "stream",
     "text": [
      "100%|██████████| 18134/18134 [21:03<00:00, 14.35it/s] \n"
     ]
    }
   ],
   "source": [
    "res = []\n",
    "\n",
    "for seq_name, (chrom, start_seq,end_seq,strand) in tqdm(utr_table.iterrows(),total=len(utr_table)):\n",
    "    L = end_seq-start_seq #sequence length\n",
    "    seq_scores = np.full((L,), np.nan)\n",
    "    df = phylop_res.loc[chrom]\n",
    "    start_idx = np.searchsorted(df.pos,start_seq)\n",
    "    end_idx = np.searchsorted(df.pos,end_seq)\n",
    "    for _, row in df.iloc[start_idx:end_idx].iterrows():\n",
    "        seq_scores[int(row.pos)-start_seq] = row[f'{model}-score']\n",
    "    res.append((seq_name,human_seqs[seq_name],seq_scores))"
   ]
  },
  {
   "cell_type": "code",
   "execution_count": 12,
   "id": "3a9ab093-5dae-4de3-b8f4-26e06886d434",
   "metadata": {},
   "outputs": [],
   "source": [
    "output_dir = data_dir + f'/human_3utr/probs/{model}/'\n",
    "\n",
    "os.makedirs(output_dir, exist_ok=True)\n",
    "\n",
    "with open(output_dir + 'predictions.pickle', 'wb') as f:\n",
    "    seq_names, seqs, probs = zip(*res)\n",
    "    pickle.dump({'seq_names':seq_names, 'seqs':seqs, 'probs':probs},f)"
   ]
  },
  {
   "cell_type": "code",
   "execution_count": null,
   "id": "652723c5-1f92-4658-984d-023373278569",
   "metadata": {},
   "outputs": [],
   "source": []
  }
 ],
 "metadata": {
  "kernelspec": {
   "display_name": "Python 3 (ipykernel)",
   "language": "python",
   "name": "python3"
  },
  "language_info": {
   "codemirror_mode": {
    "name": "ipython",
    "version": 3
   },
   "file_extension": ".py",
   "mimetype": "text/x-python",
   "name": "python",
   "nbconvert_exporter": "python",
   "pygments_lexer": "ipython3",
   "version": "3.10.13"
  }
 },
 "nbformat": 4,
 "nbformat_minor": 5
}

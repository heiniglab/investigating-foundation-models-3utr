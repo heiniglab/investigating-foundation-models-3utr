{
 "cells": [
  {
   "cell_type": "markdown",
   "id": "9f1e8c30-7b07-4596-a38d-9093ce954d89",
   "metadata": {
    "tags": []
   },
   "source": [
    "Take 3'UTR coordinates from hgTables, see\n",
    "https://groups.google.com/a/soe.ucsc.edu/g/genome/c/3R59gKDrKu8\n",
    "\n",
    "* add HGNC symbol (table from Biomart)\n",
    "* remove irrelevant contigs (e.g. decoy sequences)\n",
    "* take only contiguous UTR regions"
   ]
  },
  {
   "cell_type": "code",
   "execution_count": 1,
   "id": "d223f814",
   "metadata": {
    "tags": []
   },
   "outputs": [],
   "source": [
    "import numpy as np\n",
    "import pandas as pd\n",
    "import matplotlib.pyplot as plt\n",
    "import matplotlib as mpl\n",
    "\n",
    "mpl.rcParams.update({'xtick.labelsize': 16, 'ytick.labelsize': 16, \n",
    "                     'axes.titlesize':16, 'axes.labelsize':18})"
   ]
  },
  {
   "cell_type": "code",
   "execution_count": 2,
   "id": "409fab70-245d-49ca-954f-ab239c4de71d",
   "metadata": {},
   "outputs": [],
   "source": [
    "data_dir = '/lustre/groups/epigenereg01/workspace/projects/vale/mlm/'"
   ]
  },
  {
   "cell_type": "code",
   "execution_count": 3,
   "id": "56cd6f1d",
   "metadata": {},
   "outputs": [],
   "source": [
    "all_utr_df = pd.read_csv(data_dir + 'UTR_coords/GRCh38_3_prime_UTR.bed.gz', sep='\\t', names=['chrom','start','stop','utr_name','score','strand'])\n",
    "\n",
    "gene_annot_df = pd.read_csv(data_dir + 'UTR_coords/GRCh38_EnsembleCanonical_HGNC.tsv.gz', sep='\\t', skiprows=1,header=None,\n",
    "                           names=['transcript_id','canonical','HGNC_symbol'],usecols=[1,2,3]) #matching between Ensembl and HGNC gene names\n",
    "\n",
    "all_utr_df['transcript_id'] = all_utr_df.utr_name.apply(lambda x:x.split('.')[0]) #transcript ID from UTR ID\n",
    "\n",
    "df = all_utr_df.merge(gene_annot_df)\n",
    "\n",
    "df = df[(df.canonical==1) & (~df.HGNC_symbol.isna())]#take only Ensembl canonical and with HGNC symbol\n",
    "\n",
    "df = df[~df.chrom.str.contains('_')] #exclude decoy seqeunces, etc\n",
    "\n",
    "df.drop_duplicates(subset=['transcript_id'],keep=False,inplace=True) #take only UTR regions that are not splitted"
   ]
  },
  {
   "cell_type": "code",
   "execution_count": 70,
   "id": "96cd55b4",
   "metadata": {},
   "outputs": [],
   "source": [
    "df.to_csv(data_dir + 'UTR_coords/GRCh38_3_prime_UTR_clean.bed',sep='\\t',index=None,header=None)"
   ]
  }
 ],
 "metadata": {
  "kernelspec": {
   "display_name": "Python 3 (ipykernel)",
   "language": "python",
   "name": "python3"
  },
  "language_info": {
   "codemirror_mode": {
    "name": "ipython",
    "version": 3
   },
   "file_extension": ".py",
   "mimetype": "text/x-python",
   "name": "python",
   "nbconvert_exporter": "python",
   "pygments_lexer": "ipython3",
   "version": "3.10.13"
  }
 },
 "nbformat": 4,
 "nbformat_minor": 5
}

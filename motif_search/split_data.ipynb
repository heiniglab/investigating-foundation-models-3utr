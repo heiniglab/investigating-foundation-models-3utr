{
 "cells": [
  {
   "cell_type": "code",
   "execution_count": 1,
   "id": "9a88c23b-ee09-487c-a2c7-83f5218ae075",
   "metadata": {
    "tags": []
   },
   "outputs": [],
   "source": [
    "import pandas as pd\n",
    "import numpy as np\n",
    "\n",
    "from collections import defaultdict\n",
    "\n",
    "from sklearn.model_selection import train_test_split"
   ]
  },
  {
   "cell_type": "code",
   "execution_count": 85,
   "id": "5a042b47-a7db-453e-9688-e75e5b437a34",
   "metadata": {
    "tags": []
   },
   "outputs": [],
   "source": [
    "data_dir = '/lustre/groups/epigenereg01/workspace/projects/vale/mlm/'"
   ]
  },
  {
   "cell_type": "code",
   "execution_count": 41,
   "id": "a223ba35-a8d4-41b8-98c2-ae5deed95d72",
   "metadata": {
    "tags": []
   },
   "outputs": [],
   "source": [
    "#get human 3'UTR sequences\n",
    "\n",
    "human_fasta = data_dir + 'fasta/Homo_sapiens_rna.fa'\n",
    "\n",
    "dataset = defaultdict(str)\n",
    "\n",
    "with open(human_fasta, 'r') as f:\n",
    "    for line in f:\n",
    "        if line.startswith('>'):\n",
    "            seq_name = line[1:].rstrip()\n",
    "        else:\n",
    "            dataset[seq_name] += line.rstrip().upper()\n",
    "            \n",
    "dataset = pd.DataFrame(list(dataset.items()), columns=['seq_name','seq'])"
   ]
  },
  {
   "cell_type": "code",
   "execution_count": 42,
   "id": "5f241e63-1d79-4916-99da-0261a9f086ec",
   "metadata": {
    "tags": []
   },
   "outputs": [],
   "source": [
    "chrom = dataset.seq_name.apply(lambda x:x.split('_')[-3])"
   ]
  },
  {
   "cell_type": "code",
   "execution_count": 43,
   "id": "793badda-9b6f-4e83-9e3e-9550ccc9e72d",
   "metadata": {
    "tags": []
   },
   "outputs": [],
   "source": [
    "#75%/25% train/test split, stratified by chromosome\n",
    "\n",
    "train_df, test_df  = train_test_split(dataset, test_size=0.25, random_state=1,stratify=chrom)"
   ]
  },
  {
   "cell_type": "code",
   "execution_count": 44,
   "id": "57b93181-1907-4746-9803-77cd1b52a54f",
   "metadata": {
    "tags": []
   },
   "outputs": [],
   "source": [
    "train_df.to_csv(data_dir + '/motif_analysis/train.csv', index=None)\n",
    "test_df.to_csv(data_dir + '/motif_analysis/test.csv', index=None)"
   ]
  },
  {
   "cell_type": "code",
   "execution_count": null,
   "id": "5be02f00-588c-4f93-bb3e-74b2bb051c59",
   "metadata": {},
   "outputs": [],
   "source": []
  }
 ],
 "metadata": {
  "kernelspec": {
   "display_name": "Python 3 (ipykernel)",
   "language": "python",
   "name": "python3"
  },
  "language_info": {
   "codemirror_mode": {
    "name": "ipython",
    "version": 3
   },
   "file_extension": ".py",
   "mimetype": "text/x-python",
   "name": "python",
   "nbconvert_exporter": "python",
   "pygments_lexer": "ipython3",
   "version": "3.10.13"
  }
 },
 "nbformat": 4,
 "nbformat_minor": 5
}

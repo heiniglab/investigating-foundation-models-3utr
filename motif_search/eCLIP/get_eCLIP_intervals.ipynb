{
 "cells": [
  {
   "cell_type": "code",
   "execution_count": 1,
   "id": "af333f62-6716-4ed5-b399-2d86d9bfec6c",
   "metadata": {},
   "outputs": [],
   "source": [
    "import pandas as pd\n",
    "import numpy as np"
   ]
  },
  {
   "cell_type": "code",
   "execution_count": 2,
   "id": "725797b6-78f6-4887-ad17-e8b8a3209643",
   "metadata": {},
   "outputs": [],
   "source": [
    "data_dir = '/lustre/groups/epigenereg01/workspace/projects/vale/mlm/eCLIP/'"
   ]
  },
  {
   "cell_type": "code",
   "execution_count": 3,
   "id": "db92e9e8-7903-4ad3-ad56-fac02d608cea",
   "metadata": {},
   "outputs": [],
   "source": [
    "# get coordinates of eCLIP peaks for each sequence\n",
    "\n",
    "eclip_pos = pd.read_csv(data_dir + 'data/eCLIP.3utr.pos.PhyloP.bed', sep='\\t',\n",
    "                       usecols=[0,1,2,4], names=['chrom','eclip_start','eclip_end','seq_name']) #absolute coordinates of eCLIP peaks\n",
    "\n",
    "utr_table = pd.read_csv(data_dir + 'data/GRCh38.3utr_5Klimited.bed', sep='\\t',\n",
    "                       usecols=[0,1,2,3,5], names=['chrom','utr_start','utr_end','seq_name','strand']) #absolute coordinates of 3'UTR sequences\n",
    "\n",
    "eclip_df = eclip_pos.merge(utr_table, how='left')\n",
    "\n",
    "#eclip_df = eclip_df[eclip_df.seq_name.apply(lambda x: x in test_df.index)] # only seqeunces from the test dataset\n",
    "\n",
    "eclip_df.drop_duplicates(subset=['chrom','eclip_start','eclip_end'], inplace=True)\n",
    "\n",
    "eclip_df['eclip_start_rel'] = eclip_df.apply(lambda x: x.eclip_start-x.utr_start if x.strand=='+'\n",
    "                                else x.utr_end-x.eclip_end, axis=1) #relative to sequence start\n",
    "\n",
    "eclip_df['eclip_end_rel'] = eclip_df.apply(lambda x: x.eclip_end-x.utr_start if x.strand=='+'\n",
    "                                else x.utr_end-x.eclip_start, axis=1) #relative to sequence start\n",
    "\n",
    "eclip_pos_intervals = eclip_df.groupby('seq_name').apply(lambda x: x[['eclip_start_rel','eclip_end_rel']].values.tolist()) #positive eCLIP intervals for each sequence\n",
    "\n",
    "#sort and merge overlapping intervals\n",
    "#see https://stackoverflow.com/questions/43600878/merging-overlapping-intervals\n",
    "def merge_intervals(intervals_list):\n",
    "    # Sort by the start coordinate\n",
    "    intervals_list.sort(key=lambda interval: interval[0])\n",
    "    # Create a stack with the first interval\n",
    "    merged = [intervals_list[0]]\n",
    "    # Check for overlapping interval\n",
    "    for current in intervals_list:\n",
    "        previous = merged[-1]\n",
    "        if current[0] <= previous[1]:\n",
    "            previous[1] = max(previous[1], current[1])  # If it’s overlapping, then merge them into one interval\n",
    "        else: # otherwise, push it in the stack\n",
    "            merged.append(current)\n",
    "    return merged\n",
    "\n",
    "eclip_pos_intervals = eclip_pos_intervals.apply(merge_intervals)"
   ]
  },
  {
   "cell_type": "code",
   "execution_count": 11,
   "id": "395bcf5a-2d3a-43dc-aa5b-f0359145bc6f",
   "metadata": {},
   "outputs": [],
   "source": [
    "eclip_pos_intervals.to_pickle(data_dir + 'eCLIP_intervals_3UTR.df')"
   ]
  },
  {
   "cell_type": "code",
   "execution_count": null,
   "id": "f14e238f-0f76-41d1-bc09-9b26c758bc3d",
   "metadata": {},
   "outputs": [],
   "source": []
  }
 ],
 "metadata": {
  "kernelspec": {
   "display_name": "Python 3 (ipykernel)",
   "language": "python",
   "name": "python3"
  },
  "language_info": {
   "codemirror_mode": {
    "name": "ipython",
    "version": 3
   },
   "file_extension": ".py",
   "mimetype": "text/x-python",
   "name": "python",
   "nbconvert_exporter": "python",
   "pygments_lexer": "ipython3",
   "version": "3.10.13"
  }
 },
 "nbformat": 4,
 "nbformat_minor": 5
}

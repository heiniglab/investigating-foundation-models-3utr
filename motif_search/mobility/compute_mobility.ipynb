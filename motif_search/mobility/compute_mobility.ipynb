{
 "cells": [
  {
   "cell_type": "code",
   "execution_count": 1,
   "id": "7b51fa44-9476-4472-82c2-842bc90724ba",
   "metadata": {
    "tags": []
   },
   "outputs": [],
   "source": [
    "import os\n",
    "import pandas as pd\n",
    "import numpy as np\n",
    "from glob import glob\n",
    "import pickle\n",
    "from collections import defaultdict\n",
    "import re\n",
    "from tqdm import tqdm\n"
   ]
  },
  {
   "cell_type": "code",
   "execution_count": 2,
   "id": "6d99af61-03c9-43d0-a058-beff5087f9a0",
   "metadata": {},
   "outputs": [],
   "source": [
    "motif_len = 5 #5 or 6"
   ]
  },
  {
   "cell_type": "code",
   "execution_count": 3,
   "id": "53b575e4-e529-4df8-a1f9-bfb2f131ecb4",
   "metadata": {
    "tags": []
   },
   "outputs": [],
   "source": [
    "#data_dir = '/s/project/mll/sergey/effect_prediction/MLM/motif_predictions/'\n",
    "data_dir = '/lustre/groups/epigenereg01/workspace/projects/vale/MLM/motif_predictions/'"
   ]
  },
  {
   "cell_type": "code",
   "execution_count": 4,
   "id": "312a8c36-36f3-4041-8720-a380846474f6",
   "metadata": {},
   "outputs": [],
   "source": [
    "eclip_pos_intervals = pd.read_pickle(data_dir + '../eCLIP/eCLIP_intervals_3UTR.df')"
   ]
  },
  {
   "cell_type": "code",
   "execution_count": 5,
   "id": "c1aef653-c894-4cab-968c-d4bf857fefd0",
   "metadata": {
    "tags": []
   },
   "outputs": [],
   "source": [
    "test_df = pd.read_csv(data_dir + 'split_75_25/test.csv').set_index('seq_name').squeeze() #compute conservation scores only on fraction of data"
   ]
  },
  {
   "cell_type": "code",
   "execution_count": 6,
   "id": "eade37a2-6518-45ff-ac8b-fca140bb8100",
   "metadata": {
    "tags": []
   },
   "outputs": [],
   "source": [
    "#3'UTR table\n",
    "\n",
    "utr_table = pd.read_csv(data_dir + '../UTR_coords/GRCh38_3_prime_UTR_clean-sorted.bed', sep='\\t',\n",
    "                       header = None, names=['seq_name','strand','seq_len'], usecols=[3,5,9]).set_index('seq_name')"
   ]
  },
  {
   "cell_type": "markdown",
   "id": "3fbcd553-b6ed-477b-8c21-e51ca60f48b0",
   "metadata": {},
   "source": [
    "# Conservation\n",
    "\n",
    "For each motif in each 3'UTR Human sequence, compute the number of sequences (species) that also have this motif"
   ]
  },
  {
   "cell_type": "code",
   "execution_count": 7,
   "id": "ec697290-b3fb-4ec6-8908-63731a13b7fc",
   "metadata": {
    "tags": []
   },
   "outputs": [],
   "source": [
    "# all 3'UTR FASTA alignments are distributed across subfolders\n",
    "# find all FASTA files and their subfolders\n",
    "\n",
    "MAX_ALIGNMENT_LEN = 5000 #length at which sequences were cut after extracting\n",
    "\n",
    "fasta_path = data_dir + '../aligned/data/3_prime_UTR/'\n",
    "\n",
    "fasta_dirs = []\n",
    "\n",
    "for file in glob(fasta_path + '**/*.fa', recursive=True):\n",
    "    relative_path = os.path.relpath(file, fasta_path)\n",
    "    folder, seq_id = relative_path.split('/')\n",
    "    seq_id = seq_id.replace('.fa','')\n",
    "    fasta_dirs.append((folder,seq_id))\n",
    "    \n",
    "fasta_dirs = pd.DataFrame(fasta_dirs, columns=['folder','seq_name']).set_index('seq_name').squeeze()"
   ]
  },
  {
   "cell_type": "code",
   "execution_count": 8,
   "id": "21676f75-5cfd-4af8-93e7-98b3ab81d974",
   "metadata": {
    "tags": []
   },
   "outputs": [],
   "source": [
    "def read_fasta(fasta_file):\n",
    "    \n",
    "    '''\n",
    "    Read FASTA file\n",
    "    sequence names are ignored\n",
    "    outputs an array of sequences\n",
    "    '''\n",
    "    \n",
    "    fasta_seqs = []\n",
    "\n",
    "    with open(fasta_file,'r') as f:\n",
    "        for line in f:\n",
    "            if line.startswith('>'):\n",
    "                fasta_seqs.append('')\n",
    "            else:\n",
    "                fasta_seqs[-1] += line.rstrip().upper()\n",
    "                \n",
    "    return fasta_seqs"
   ]
  },
  {
   "cell_type": "code",
   "execution_count": 9,
   "id": "9b39fc81-1739-4e47-9614-62a7e5a016dd",
   "metadata": {
    "tags": []
   },
   "outputs": [],
   "source": [
    "def get_matches(fasta_seqs, motif_start, motif, tol=0):\n",
    "    \n",
    "    '''\n",
    "    For fasta_seqs yield the number of strings with the given motif\n",
    "    The motif can be located anywhere between motif_start-tol and motif_start+tol within the sequence\n",
    "    '''\n",
    "    \n",
    "    motif_len = len(motif)\n",
    "\n",
    "    if motif_start<0 or motif_start>MAX_ALIGNMENT_LEN-motif_len:\n",
    "        return np.NaN\n",
    "    \n",
    "    N_matches = 0.\n",
    "    \n",
    "    if fasta_seqs[0][motif_start:motif_start+motif_len] != motif:\n",
    "        print(motif,motif_start)\n",
    "        raise Exception(\"Wrong motif on reference sequence\") \n",
    "    \n",
    "    for seq in fasta_seqs:\n",
    "        if seq[max(motif_start-tol,0):motif_start+motif_len+tol].find(motif)>-1:\n",
    "            N_matches+=1\n",
    "\n",
    "    return N_matches"
   ]
  },
  {
   "cell_type": "code",
   "execution_count": 10,
   "id": "1b32e556-d5f6-4c52-aba7-b71374a2db4b",
   "metadata": {},
   "outputs": [],
   "source": [
    "def is_interval_in_seq(find_me, interval_seq):\n",
    "    '''\n",
    "    checks if a given interval is in a sequence of intervals\n",
    "    the sequence should be sorted by the 0th coordinate\n",
    "    '''\n",
    "    for interval in interval_seq:\n",
    "        if find_me[-1]<interval[0]:\n",
    "            # since interval_seq is sorted by the 0th coordinate, there is no more chance to encounter a region containing find_me\n",
    "            return False\n",
    "        # sought interval is included in the current interval\n",
    "        if find_me[0]>=interval[0] and find_me[1]<=interval[1]:\n",
    "            return True\n",
    "    \n",
    "    return False"
   ]
  },
  {
   "cell_type": "code",
   "execution_count": 11,
   "id": "3b0aff5c-b8d4-4cf0-b2b8-f9d3eeba8291",
   "metadata": {},
   "outputs": [
    {
     "name": "stderr",
     "output_type": "stream",
     "text": [
      "  1%|          | 37/4534 [02:21<4:46:59,  3.83s/it]\n",
      "\n",
      "KeyboardInterrupt\n",
      "\n"
     ]
    }
   ],
   "source": [
    "consv_df = []\n",
    "\n",
    "for seq_name,seq in tqdm(test_df.items(), total=len(test_df)):\n",
    "\n",
    "    file_path = fasta_path + fasta_dirs.loc[seq_name] + '/' + seq_name + '.fa'\n",
    "    \n",
    "    fasta_seqs = read_fasta(file_path)\n",
    "\n",
    "    if seq_name in eclip_pos_intervals.index:\n",
    "        eCLIP_valid_intervals = eclip_pos_intervals.loc[seq_name]\n",
    "    else:\n",
    "        eCLIP_valid_intervals = []\n",
    "\n",
    "    strand,seq_len  = utr_table.loc[seq_name].strand, utr_table.loc[seq_name].seq_len\n",
    "    \n",
    "    for motif_start in range(0,len(seq)-motif_len):\n",
    "        motif = seq[motif_start:motif_start+motif_len]\n",
    "        is_eCLIP = is_interval_in_seq((motif_start,motif_start+motif_len),eCLIP_valid_intervals)\n",
    "        if strand=='-':\n",
    "            motif_start_aligned = motif_start - (seq_len - len(fasta_seqs[0])) \n",
    "        else:\n",
    "            motif_start_aligned = motif_start\n",
    "        if motif_start_aligned>=0 and motif_start_aligned<=MAX_ALIGNMENT_LEN-motif_len:\n",
    "            Nmatches = []\n",
    "            #for tol in (0,10,50,100,200,300):\n",
    "            for tol in (0,10,50,100,250,500,1000,2500,5000):\n",
    "               Nmatches.append(int(get_matches(fasta_seqs, motif_start_aligned, motif, tol))) \n",
    "            consv_df.append((seq_name, motif, motif_start, int(is_eCLIP),*Nmatches))"
   ]
  },
  {
   "cell_type": "code",
   "execution_count": 77,
   "id": "489bc2a9-7d87-41f4-8a98-a1bd26153bea",
   "metadata": {},
   "outputs": [],
   "source": [
    "motifs_df = pd.DataFrame(consv_df, columns=['seq_name','motif','motif_start','is_eCLIP', \n",
    "                                          'Nmatches_0','Nmatches_10','Nmatches_50',\n",
    "                                         'Nmatches_100','Nmatches_250','Nmatches_500',\n",
    "                                         'Nmatches_1000','Nmatches_2500','Nmatches_5000'])"
   ]
  },
  {
   "cell_type": "code",
   "execution_count": null,
   "id": "d29fcc2d-df47-443b-a7ab-652f0aff850f",
   "metadata": {},
   "outputs": [],
   "source": [
    "#for each motif, get distance to the nearest position of the same motif\n",
    "\n",
    "motif_nearest = []\n",
    "\n",
    "df = motifs_df.sort_values(by=['seq_name','motif','motif_start']).set_index(['seq_name','motif']).motif_start\n",
    "\n",
    "for seq_name in tqdm(motifs_df.seq_name.unique()):\n",
    "    seq_df = df.loc[seq_name]\n",
    "    for motif in seq_df.index.unique():\n",
    "        motif_pos = seq_df.loc[motif]\n",
    "        if type(seq_df.loc[motif])!=pd.Series:\n",
    "            motif_nearest.append((seq_name, motif, motif_pos, 5000)) #only one motif in this sequence - no neighbours, give max distance\n",
    "        else:\n",
    "            for idx, pos in enumerate(motif_pos):\n",
    "                if idx==0:\n",
    "                    L_nearest = motif_pos[1] #leftmost motif, use distance to the right neighbour\n",
    "                elif idx==len(motif_pos)-1:\n",
    "                    L_nearest = motif_pos[idx]-motif_pos[idx-1] #rightmost motif, use distance to the left neighbour\n",
    "                else:\n",
    "                    L_nearest = min(motif_pos[idx]-motif_pos[idx-1], motif_pos[idx+1]-motif_pos[idx]) #minimal distance between left and right neighbours\n",
    "                motif_nearest.append((seq_name, motif, motif_pos[idx], L_nearest))    "
   ]
  },
  {
   "cell_type": "code",
   "execution_count": null,
   "id": "0bf3e808-a33a-4f36-8ac0-2482ed236a69",
   "metadata": {},
   "outputs": [],
   "source": [
    "motif_nearest = pd.DataFrame(motif_nearest, columns=['seq_name','motif','motif_start','L_nearest'])"
   ]
  },
  {
   "cell_type": "code",
   "execution_count": null,
   "id": "022085fa-fc18-48b0-8cb5-5df753728de0",
   "metadata": {},
   "outputs": [],
   "source": [
    "motifs_df = motifs_df.merge(motif_nearest, how='left')"
   ]
  },
  {
   "cell_type": "code",
   "execution_count": 80,
   "id": "063f7695-883e-48d6-a2da-226325e91369",
   "metadata": {},
   "outputs": [],
   "source": [
    "motifs_df.to_csv(data_dir + f'species_aware/conservation_k{motif_len}_new.csv.gz', index=None)"
   ]
  }
 ],
 "metadata": {
  "kernelspec": {
   "display_name": "Python 3 (ipykernel)",
   "language": "python",
   "name": "python3"
  },
  "language_info": {
   "codemirror_mode": {
    "name": "ipython",
    "version": 3
   },
   "file_extension": ".py",
   "mimetype": "text/x-python",
   "name": "python",
   "nbconvert_exporter": "python",
   "pygments_lexer": "ipython3",
   "version": "3.10.13"
  }
 },
 "nbformat": 4,
 "nbformat_minor": 5
}

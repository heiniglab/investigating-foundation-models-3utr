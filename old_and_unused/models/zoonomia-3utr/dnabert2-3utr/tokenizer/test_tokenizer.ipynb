{
 "cells": [
  {
   "cell_type": "code",
   "execution_count": 1,
   "id": "3090192e-7258-4b58-a01f-22023fbaf4f6",
   "metadata": {},
   "outputs": [],
   "source": [
    "import pandas as pd\n",
    "from transformers import PreTrainedTokenizerFast\n",
    "import pysam\n",
    "from tqdm import tqdm"
   ]
  },
  {
   "cell_type": "code",
   "execution_count": 2,
   "id": "c74b01b8-ded4-4d96-bb68-c3defeebe381",
   "metadata": {},
   "outputs": [],
   "source": [
    "workdir = '/lustre/groups/epigenereg01/workspace/projects/vale/mlm/fasta/'"
   ]
  },
  {
   "cell_type": "code",
   "execution_count": 3,
   "id": "0552904c-0cbe-4261-a8eb-4c7e388872fa",
   "metadata": {},
   "outputs": [
    {
     "data": {
      "text/plain": [
       "1"
      ]
     },
     "execution_count": 3,
     "metadata": {},
     "output_type": "execute_result"
    }
   ],
   "source": [
    "transformer_tokenizer = PreTrainedTokenizerFast(tokenizer_file=\"../DNABERT2/tokenizer.json\",\n",
    "mask_token = '[MASK]', pad_token = '[PAD]', sep_token = '[SEP]', cls_token = '[CLS]', unk_token = '[UNK]',)\n",
    "\n",
    "transformer_tokenizer.add_tokens([\"NNNNNN\"])"
   ]
  },
  {
   "cell_type": "code",
   "execution_count": 4,
   "id": "f67373f9-63d2-4b20-85d4-14ca03aa16f8",
   "metadata": {},
   "outputs": [
    {
     "data": {
      "text/plain": [
       "4097"
      ]
     },
     "execution_count": 4,
     "metadata": {},
     "output_type": "execute_result"
    }
   ],
   "source": [
    "len(transformer_tokenizer.vocab)"
   ]
  },
  {
   "cell_type": "code",
   "execution_count": 4,
   "id": "f2e4ed42-a37c-4a7e-8e6a-0ac326657434",
   "metadata": {},
   "outputs": [],
   "source": [
    "#transformer_tokenizer = PreTrainedTokenizerFast.from_pretrained('./multispecies_tokenizer')"
   ]
  },
  {
   "cell_type": "code",
   "execution_count": null,
   "id": "294cddd6-305e-4c7e-8b86-b8dc7db6596c",
   "metadata": {},
   "outputs": [],
   "source": [
    "for word in transformer_tokenizer.vocab:\n",
    "    if 'N' in word:\n",
    "        print(word)\n"
   ]
  },
  {
   "cell_type": "code",
   "execution_count": 5,
   "id": "5106be67-9f09-4fb8-9529-4e1721fc97a2",
   "metadata": {},
   "outputs": [],
   "source": [
    "chunk_len = 6000\n",
    "overlap_bp = 0\n",
    "max_seq_len = 10000"
   ]
  },
  {
   "cell_type": "code",
   "execution_count": 7,
   "id": "2112f80b-5911-418a-8086-5daf8d14b78d",
   "metadata": {},
   "outputs": [
    {
     "ename": "KeyboardInterrupt",
     "evalue": "",
     "output_type": "error",
     "traceback": [
      "\u001b[0;31m---------------------------------------------------------------------------\u001b[0m",
      "\u001b[0;31mKeyboardInterrupt\u001b[0m                         Traceback (most recent call last)",
      "Cell \u001b[0;32mIn[7], line 5\u001b[0m\n\u001b[1;32m      1\u001b[0m fa \u001b[38;5;241m=\u001b[39m workdir \u001b[38;5;241m+\u001b[39m \u001b[38;5;124m'\u001b[39m\u001b[38;5;124m241_mammals.shuffled.fa\u001b[39m\u001b[38;5;124m'\u001b[39m\n\u001b[1;32m      3\u001b[0m seq_names \u001b[38;5;241m=\u001b[39m pd\u001b[38;5;241m.\u001b[39mread_csv(fa \u001b[38;5;241m+\u001b[39m \u001b[38;5;124m'\u001b[39m\u001b[38;5;124m.fai\u001b[39m\u001b[38;5;124m'\u001b[39m, sep\u001b[38;5;241m=\u001b[39m\u001b[38;5;124m'\u001b[39m\u001b[38;5;130;01m\\t\u001b[39;00m\u001b[38;5;124m'\u001b[39m, header\u001b[38;5;241m=\u001b[39m\u001b[38;5;28;01mNone\u001b[39;00m, usecols\u001b[38;5;241m=\u001b[39m[\u001b[38;5;241m0\u001b[39m])[\u001b[38;5;241m0\u001b[39m]\u001b[38;5;241m.\u001b[39msqueeze()\u001b[38;5;241m.\u001b[39mvalues\n\u001b[0;32m----> 5\u001b[0m fasta \u001b[38;5;241m=\u001b[39m \u001b[43mpysam\u001b[49m\u001b[38;5;241;43m.\u001b[39;49m\u001b[43mFastaFile\u001b[49m\u001b[43m(\u001b[49m\u001b[43mfa\u001b[49m\u001b[43m)\u001b[49m\n\u001b[1;32m      7\u001b[0m data \u001b[38;5;241m=\u001b[39m []\n\u001b[1;32m      9\u001b[0m \u001b[38;5;28;01mdef\u001b[39;00m \u001b[38;5;21mseq_generator\u001b[39m():\n",
      "\u001b[0;31mKeyboardInterrupt\u001b[0m: "
     ]
    }
   ],
   "source": [
    "fa = workdir + '241_mammals.shuffled.fa'\n",
    "\n",
    "seq_names = pd.read_csv(fa + '.fai', sep='\\t', header=None, usecols=[0])[0].squeeze().values\n",
    "\n",
    "fasta = pysam.FastaFile(fa)\n",
    "\n",
    "data = []\n",
    "\n",
    "def seq_generator():\n",
    "    for seq_name in seq_names:\n",
    "        seq = fasta.fetch(seq_name).upper().replace('-','')[:max_seq_len]\n",
    "        for start_idx in range(0,len(seq),chunk_len-overlap_bp):\n",
    "            chunk = seq[start_idx:start_idx+chunk_len]\n",
    "            if len(chunk)<6:\n",
    "                continue\n",
    "            tok = transformer_tokenizer(chunk,\n",
    "                                            add_special_tokens=True,)\n",
    "            yield seq_name,seq,tok['input_ids']\n",
    "\n",
    "last_seq_name = ''\n",
    "pbar = tqdm(total=len(seq_names))\n",
    "\n",
    "for seq_name,seq,tokenized_seq in seq_generator():\n",
    "    data.append((seq_name,len(seq),len(tokenized_seq)))\n",
    "    if seq_name!=last_seq_name:\n",
    "        last_seq_name = seq_name\n",
    "        pbar.update(1)"
   ]
  },
  {
   "cell_type": "code",
   "execution_count": 8,
   "id": "8ac0ce63-990f-4b6b-8d6c-b3ad232a9f24",
   "metadata": {},
   "outputs": [
    {
     "data": {
      "text/plain": [
       "1306"
      ]
     },
     "execution_count": 8,
     "metadata": {},
     "output_type": "execute_result"
    }
   ],
   "source": [
    "len_df = pd.DataFrame(data,columns=['seq_name','seq_len','tok_len'])\n",
    "\n",
    "len_df.tok_len.max()"
   ]
  },
  {
   "cell_type": "code",
   "execution_count": 10,
   "id": "149ed22a-2579-4a4d-a16d-93f952552483",
   "metadata": {},
   "outputs": [
    {
     "data": {
      "text/plain": [
       "5193.625"
      ]
     },
     "execution_count": 10,
     "metadata": {},
     "output_type": "execute_result"
    }
   ],
   "source": [
    "len_df[len_df.tok_len==1024].seq_len.mean()"
   ]
  },
  {
   "cell_type": "code",
   "execution_count": 11,
   "id": "f8ce16bf-d2ad-4013-8379-6d0f6ab8dcc5",
   "metadata": {},
   "outputs": [
    {
     "data": {
      "text/plain": [
       "Text(10, 1094.84, '1084')"
      ]
     },
     "execution_count": 11,
     "metadata": {},
     "output_type": "execute_result"
    },
    {
     "data": {
      "image/png": "[encoded data removed]",
      "text/plain": [
       "<Figure size 640x480 with 1 Axes>"
      ]
     },
     "metadata": {},
     "output_type": "display_data"
    },
    {
     "name": "stderr",
     "output_type": "stream",
     "text": [
      "  2%|▏         | 91627/3783714 [01:20<42:58, 1431.82it/s]"
     ]
    }
   ],
   "source": [
    "seq_chunk_size = 5000\n",
    "min_bpe_len = len_df[len_df.seq_len<=seq_chunk_size].tok_len.max()\n",
    "\n",
    "import matplotlib.pyplot as plt\n",
    "\n",
    "fig, ax = plt.subplots()\n",
    "\n",
    "plt.scatter(len_df.seq_len, len_df.tok_len)\n",
    "\n",
    "#ax.set_xlim([0,1500])\n",
    "#ax.set_ylim([0,300])\n",
    "\n",
    "plt.vlines(x=seq_chunk_size,ymin=0,ymax=min_bpe_len, color='r', linestyle='--')\n",
    "plt.hlines(y=min_bpe_len,xmin=0,xmax=seq_chunk_size, color='r', linestyle='--')\n",
    "plt.text(10,min_bpe_len*1.01,min_bpe_len, fontsize=16, color='r')"
   ]
  },
  {
   "cell_type": "code",
   "execution_count": null,
   "id": "6a564552-404a-4d43-b408-4f180a8c446d",
   "metadata": {},
   "outputs": [],
   "source": []
  }
 ],
 "metadata": {
  "kernelspec": {
   "display_name": "Python 3 (ipykernel)",
   "language": "python",
   "name": "python3"
  },
  "language_info": {
   "codemirror_mode": {
    "name": "ipython",
    "version": 3
   },
   "file_extension": ".py",
   "mimetype": "text/x-python",
   "name": "python",
   "nbconvert_exporter": "python",
   "pygments_lexer": "ipython3",
   "version": "3.10.13"
  }
 },
 "nbformat": 4,
 "nbformat_minor": 5
}

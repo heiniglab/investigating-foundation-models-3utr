{
 "cells": [
  {
   "cell_type": "code",
   "execution_count": 1,
   "id": "3090192e-7258-4b58-a01f-22023fbaf4f6",
   "metadata": {},
   "outputs": [],
   "source": [
    "import pandas as pd\n",
    "import numpy as np\n",
    "from transformers import EsmTokenizer\n",
    "import pysam\n",
    "from tqdm import tqdm\n",
    "import re\n",
    "import matplotlib.pyplot as plt\n"
   ]
  },
  {
   "cell_type": "code",
   "execution_count": 2,
   "id": "c74b01b8-ded4-4d96-bb68-c3defeebe381",
   "metadata": {},
   "outputs": [],
   "source": [
    "workdir = '/lustre/groups/epigenereg01/workspace/projects/vale/MLM/fasta/240_species/'"
   ]
  },
  {
   "cell_type": "code",
   "execution_count": 3,
   "id": "0552904c-0cbe-4261-a8eb-4c7e388872fa",
   "metadata": {},
   "outputs": [
    {
     "data": {
      "text/plain": [
       "1"
      ]
     },
     "execution_count": 3,
     "metadata": {},
     "output_type": "execute_result"
    }
   ],
   "source": [
    "transformer_tokenizer  = EsmTokenizer(vocab_file=\"../ntrans_v2_250M/vocab.txt\",model_max_length=2048,clean_up_tokenization_spaces=True)\n",
    "transformer_tokenizer.add_tokens([\"NNNNNN\"])"
   ]
  },
  {
   "cell_type": "code",
   "execution_count": null,
   "id": "2112f80b-5911-418a-8086-5daf8d14b78d",
   "metadata": {},
   "outputs": [],
   "source": [
    "#fa = workdir + '/species/Homo_sapiens.fa'\n",
    "fa = workdir + '../../../mlm/fasta/241_mammals.shuffled.fa'\n",
    "\n",
    "seq_names = pd.read_csv(fa + '.fai', sep='\\t', header=None, usecols=[0])[0].squeeze().values\n",
    "\n",
    "fasta = pysam.FastaFile(fa)\n",
    "\n",
    "data = []\n",
    "\n",
    "total_Ns = []\n",
    "\n",
    "for seq_name in tqdm(seq_names):\n",
    "    seq = fasta.fetch(seq_name).upper().replace('-','')[:5000]\n",
    "    tok = transformer_tokenizer(seq,truncation=False)\n",
    "    total_Ns.extend([len(s) for s in re.findall('N+',seq)])\n",
    "    #if len(tok['input_ids'])==2048:\n",
    "    #    break\n",
    "    data.append((len(seq),len(tok['input_ids'])))\n",
    "    \n",
    "len_df = pd.DataFrame(data,columns=['seq_len','tok_len'])"
   ]
  },
  {
   "cell_type": "code",
   "execution_count": 5,
   "id": "6a8a7b5d-8a2c-4fb6-bdcb-f8ed8aeea715",
   "metadata": {},
   "outputs": [
    {
     "data": {
      "text/plain": [
       "972"
      ]
     },
     "execution_count": 5,
     "metadata": {},
     "output_type": "execute_result"
    }
   ],
   "source": [
    "len_df = pd.DataFrame(data,columns=['seq_len','tok_len'])\n",
    "len_df.tok_len.max()"
   ]
  },
  {
   "cell_type": "code",
   "execution_count": null,
   "id": "ee716eaa-da18-4688-9fc4-5c5f3bb21f00",
   "metadata": {},
   "outputs": [],
   "source": []
  }
 ],
 "metadata": {
  "kernelspec": {
   "display_name": "Python 3 (ipykernel)",
   "language": "python",
   "name": "python3"
  },
  "language_info": {
   "codemirror_mode": {
    "name": "ipython",
    "version": 3
   },
   "file_extension": ".py",
   "mimetype": "text/x-python",
   "name": "python",
   "nbconvert_exporter": "python",
   "pygments_lexer": "ipython3",
   "version": "3.10.13"
  }
 },
 "nbformat": 4,
 "nbformat_minor": 5
}

{
 "cells": [
  {
   "cell_type": "code",
   "execution_count": 1,
   "id": "ae43e306-e5f1-4831-bb06-cecdb288fd12",
   "metadata": {
    "tags": []
   },
   "outputs": [],
   "source": [
    "import numpy as np\n",
    "import pandas as pd\n",
    "import pickle\n",
    "\n",
    "import re\n",
    "\n",
    "import os\n",
    "import gc\n",
    "\n",
    "import pysam\n",
    "\n",
    "import torch\n",
    "from torch.utils.data import DataLoader, IterableDataset\n",
    "\n",
    "from tqdm import tqdm\n",
    "\n",
    "%load_ext autoreload\n",
    "%autoreload 2"
   ]
  },
  {
   "cell_type": "code",
   "execution_count": 2,
   "id": "8be2f56b-e9fb-4abc-9339-a335bc412afa",
   "metadata": {
    "tags": []
   },
   "outputs": [],
   "source": [
    "from encoding_utils import sequence_encoders, sequence_utils\n",
    "\n",
    "import helpers.train_eval as train_eval    #train and evaluation\n",
    "import helpers.misc as misc                #miscellaneous functions\n",
    "from helpers.metrics import MaskedAccuracy\n",
    "\n",
    "\n",
    "from models.spec_dss import DSSResNet, DSSResNetEmb, SpecAdd"
   ]
  },
  {
   "cell_type": "code",
   "execution_count": 3,
   "id": "73f455b8-053b-47d6-9206-d09fa0d11fe7",
   "metadata": {
    "tags": []
   },
   "outputs": [],
   "source": [
    "datadir = '/lustre/groups/epigenereg01/workspace/projects/vale/mlm/'"
   ]
  },
  {
   "cell_type": "code",
   "execution_count": 4,
   "id": "e28fa8fa-0356-499d-871e-fa6cffd4b567",
   "metadata": {
    "tags": []
   },
   "outputs": [],
   "source": [
    "#motifs = pd.read_csv(datadir + 'motif_predictions/motifs.csv').motif.unique()\n",
    "\n",
    "#selected_motifs = {motif:motif_idx+1 for motif_idx,motif in enumerate(motifs)} #{'ACCTG':1, 'GGTAA':2}"
   ]
  },
  {
   "cell_type": "code",
   "execution_count": 5,
   "id": "7efe7e33-86e5-4edc-a0a2-8b21f090d2f8",
   "metadata": {},
   "outputs": [],
   "source": [
    "class SeqDataset(IterableDataset):\n",
    "    \n",
    "    def __init__(self, fasta_fa, seq_df, transform, chunk_len=1000000000, overlap_bp=0):\n",
    "        \n",
    "        if fasta_fa:\n",
    "            self.fasta = pysam.FastaFile(fasta_fa)\n",
    "        else:\n",
    "             self.fasta = None\n",
    "\n",
    "        self.transform = transform\n",
    "        self.seq_df = seq_df\n",
    "        \n",
    "        self.start = 0\n",
    "        self.end = len(self.seq_df)\n",
    "\n",
    "        self.chunk_len = chunk_len\n",
    "        self.overlap_bp = overlap_bp\n",
    "        \n",
    "    def __len__(self):\n",
    "        return len(self.seq_df)\n",
    "                \n",
    "    def __iter__(self):\n",
    "        \n",
    "        #worker_total_num = torch.utils.data.get_worker_info().num_workers\n",
    "        #worker_id = torch.utils.data.get_worker_info().id\n",
    "        \n",
    "        for seq_idx in range(self.start,self.end):\n",
    "            \n",
    "            if self.fasta:\n",
    "                seq = self.fasta.fetch(self.seq_df.iloc[seq_idx].seq_name).upper()\n",
    "            else:\n",
    "                seq = self.seq_df.iloc[seq_idx].seq.upper()\n",
    "    \n",
    "            species_label = self.seq_df.iloc[seq_idx].species_label\n",
    "            \n",
    "            seq = seq.replace('-','')\n",
    "            \n",
    "            chunks, left_shift_last_chunk = misc.get_chunks(seq, self.chunk_len, self.overlap_bp)\n",
    "\n",
    "            for chunk_idx,seq_chunk in enumerate(chunks):\n",
    "\n",
    "                masked_sequence, target_labels_masked, target_labels, _, _ = self.transform(seq_chunk, motifs = {})\n",
    "        \n",
    "                masked_sequence = (masked_sequence, species_label)\n",
    "\n",
    "                chunk_meta = {'seq_name':self.seq_df.iloc[seq_idx].seq_name,\n",
    "                             'seq':seq_chunk,\n",
    "                             'left_shift':left_shift_last_chunk if chunk_idx==len(chunks)-1 else 0}\n",
    "                        \n",
    "                yield masked_sequence, target_labels_masked, target_labels, chunk_meta\n",
    "\n",
    "                        \n",
    "    def close(self):\n",
    "        self.fasta.close()"
   ]
  },
  {
   "cell_type": "code",
   "execution_count": 6,
   "id": "1b717766-416d-4f5d-96d2-9e8e2051e704",
   "metadata": {
    "tags": []
   },
   "outputs": [
    {
     "name": "stdout",
     "output_type": "stream",
     "text": [
      "\n",
      "CUDA device: NVIDIA A100-PCIE-40GB MIG 3g.20gb\n",
      "\n"
     ]
    }
   ],
   "source": [
    "if torch.cuda.is_available():\n",
    "    device = torch.device('cuda')\n",
    "    print(f'\\nCUDA device: {torch.cuda.get_device_name(0)}\\n')\n",
    "else:\n",
    "    device = torch.device('cpu')\n",
    "    print('\\nCUDA device: CPU\\n')\n",
    "    #raise Exception('CUDA is not found')"
   ]
  },
  {
   "cell_type": "code",
   "execution_count": 7,
   "id": "1958cd83-205c-4a97-9852-08ab25b458ef",
   "metadata": {
    "tags": []
   },
   "outputs": [],
   "source": [
    "gc.collect()\n",
    "torch.cuda.empty_cache()\n",
    "\n",
    "import os\n",
    "os.environ[\"PYTORCH_CUDA_ALLOC_CONF\"] = \"max_split_size_mb:512\""
   ]
  },
  {
   "cell_type": "code",
   "execution_count": 8,
   "id": "0d0d4774-37e7-4b8f-9cc7-ff957c958e7a",
   "metadata": {},
   "outputs": [
    {
     "data": {
      "text/plain": [
       "'/lustre/groups/epigenereg01/workspace/projects/vale/mlm/'"
      ]
     },
     "execution_count": 8,
     "metadata": {},
     "output_type": "execute_result"
    }
   ],
   "source": [
    "datadir"
   ]
  },
  {
   "cell_type": "code",
   "execution_count": 15,
   "id": "57f907e3-c581-41a5-80d1-034c93d2917f",
   "metadata": {},
   "outputs": [],
   "source": [
    "input_params = misc.dotdict({})\n",
    "\n",
    "input_params.fasta = datadir + 'fasta/241_mammals.shuffled.fa'\n",
    "#input_params.fasta = datadir + 'fasta/240_species/species/Homo_sapiens.fa'\n",
    "\n",
    "input_params.species_list = datadir + '../MLM/fasta/240_species/240_species.txt'\n",
    "\n",
    "input_params.output_dir = './test'\n",
    "\n",
    "input_params.test = False\n",
    "input_params.save_probs = True\n",
    "input_params.mask_at_test = True\n",
    "\n",
    "input_params.species_agnostic = True\n",
    "\n",
    "input_params.seq_len = 5000\n",
    "input_params.overlap_bp = 128\n",
    "\n",
    "input_params.tot_epochs = 50\n",
    "input_params.val_fraction = 0.1\n",
    "input_params.train_splits = 4\n",
    "\n",
    "input_params.save_at = []\n",
    "input_params.validate_every = 1\n",
    "\n",
    "input_params.d_model = 128\n",
    "input_params.n_layers = 4\n",
    "input_params.dropout = 0.\n",
    "\n",
    "input_params.batch_size = 1\n",
    "input_params.learning_rate = 1e-4\n",
    "input_params.weight_decay = 0#5e-4"
   ]
  },
  {
   "cell_type": "code",
   "execution_count": 16,
   "id": "33a3e0f3-6619-4616-bd26-a0ef7a5bbd8b",
   "metadata": {
    "tags": []
   },
   "outputs": [],
   "source": [
    "seq_df = pd.read_csv(input_params.fasta + '.fai', header=None, sep='\\t', usecols=[0], names=['seq_name'])\n",
    "\n",
    "seq_df['species_name'] = seq_df.seq_name.apply(lambda x:x.split(':')).apply(lambda x:x[-1] if len(x)==2 else x[1])\n",
    "\n",
    "if input_params.test:\n",
    "    seq_df = seq_df[seq_df.species_name=='Homo_sapiens']\n",
    "else:\n",
    "    seq_df = seq_df[seq_df.species_name!='Homo_sapiens']\n",
    "\n",
    "species_encoding = pd.read_csv(input_params.species_list, header=None).squeeze().to_dict()\n",
    "\n",
    "if not input_params.species_agnostic:\n",
    "    species_encoding = {species:idx for idx,species in species_encoding.items()}\n",
    "else:\n",
    "    species_encoding = {species:0 for _,species in species_encoding.items()}\n",
    "    \n",
    "species_encoding['Homo_sapiens'] = species_encoding['Pan_troglodytes']\n",
    "\n",
    "seq_df['species_label'] = seq_df.species_name.map(species_encoding)\n",
    "\n",
    "#seq_df = seq_df.sample(frac = 1., random_state = 1) #DO NOT SHUFFLE, otherwise too slow"
   ]
  },
  {
   "cell_type": "code",
   "execution_count": 17,
   "id": "98ce1c8b-d70c-4fe7-ac01-e86fd30a8dea",
   "metadata": {
    "tags": []
   },
   "outputs": [
    {
     "name": "stderr",
     "output_type": "stream",
     "text": [
      "/tmp/ipykernel_1774149/3381428139.py:12: SettingWithCopyWarning: \n",
      "A value is trying to be set on a copy of a slice from a DataFrame.\n",
      "Try using .loc[row_indexer,col_indexer] = value instead\n",
      "\n",
      "See the caveats in the documentation: https://pandas.pydata.org/pandas-docs/stable/user_guide/indexing.html#returning-a-view-versus-a-copy\n",
      "  train_df['train_fold'] = train_fold[:N_train]\n"
     ]
    }
   ],
   "source": [
    "if not input_params.test:\n",
    "\n",
    "    #Train and Validate\n",
    "\n",
    "    seq_transform = sequence_encoders.SequenceDataEncoder(seq_len = input_params.seq_len, total_len = input_params.seq_len,\n",
    "                                                      mask_rate = 0.15, split_mask = True)\n",
    "\n",
    "    N_train = int(len(seq_df)*(1-input_params.val_fraction))\n",
    "    train_df, test_df = seq_df.iloc[:N_train], seq_df.iloc[N_train:]\n",
    "\n",
    "    train_fold = np.repeat(list(range(input_params.train_splits)),repeats = N_train // input_params.train_splits + 1 )\n",
    "    train_df['train_fold'] = train_fold[:N_train]\n",
    "\n",
    "    train_dataset = SeqDataset(input_params.fasta, train_df, transform = seq_transform, chunk_len=input_params.seq_len, overlap_bp=input_params.overlap_bp)\n",
    "    \n",
    "    train_dataloader = DataLoader(dataset = train_dataset, batch_size = input_params.batch_size, num_workers = 1, worker_init_fn=misc.worker_init_fn, collate_fn = None, shuffle = False)\n",
    "\n",
    "    test_dataset = SeqDataset(input_params.fasta, test_df, transform = seq_transform, chunk_len=input_params.seq_len)\n",
    "    \n",
    "    test_dataloader = DataLoader(dataset = test_dataset, batch_size = input_params.batch_size, num_workers = 1, worker_init_fn=misc.worker_init_fn, collate_fn = None, shuffle = False)\n",
    "\n",
    "elif input_params.save_probs:\n",
    "\n",
    "    if input_params.mask_at_test:\n",
    "        seq_transform = sequence_encoders.RollingMasker(mask_stride = 50, frame = 0)\n",
    "    else:\n",
    "        seq_transform = sequence_encoders.PlainOneHot(frame = 0, padding = 'none')\n",
    "\n",
    "    test_dataset = SeqDataset(input_params.fasta, seq_df, transform = seq_transform, chunk_len=input_params.seq_len)\n",
    "    \n",
    "    test_dataloader = DataLoader(dataset = test_dataset, batch_size = 1, num_workers = 1, collate_fn = None, worker_init_fn=misc.worker_init_fn, shuffle = False)\n",
    "\n",
    "else:\n",
    "\n",
    "    #Test\n",
    "\n",
    "    seq_transform = sequence_encoders.SequenceDataEncoder(seq_len = input_params.seq_len, total_len = input_params.seq_len,\n",
    "                                                      mask_rate = 0.15, split_mask = True, frame = 0)\n",
    "\n",
    "    test_dataset = SeqDataset(input_params.fasta, seq_df, transform = seq_transform)\n",
    "    test_dataloader = DataLoader(dataset = test_dataset, batch_size = input_params.batch_size, num_workers = 1, worker_init_fn=misc.worker_init_fn, collate_fn = None, shuffle = False)"
   ]
  },
  {
   "cell_type": "code",
   "execution_count": 18,
   "id": "ad86179c-11e5-4b3b-a389-b8ab1b00bdbe",
   "metadata": {
    "tags": []
   },
   "outputs": [],
   "source": [
    "species_encoder = SpecAdd(embed = True, encoder = 'label', d_model = input_params.d_model)\n",
    "\n",
    "model = DSSResNetEmb(d_input = 5, d_output = 5, d_model = input_params.d_model, n_layers = input_params.n_layers, \n",
    "                     dropout = input_params.dropout, embed_before = True, species_encoder = species_encoder)\n",
    "\n",
    "model = model.to(device) \n",
    "\n",
    "model_params = [p for p in model.parameters() if p.requires_grad]\n",
    "\n",
    "optimizer = torch.optim.Adam(model_params, lr = input_params.learning_rate, weight_decay = input_params.weight_decay)"
   ]
  },
  {
   "cell_type": "code",
   "execution_count": 19,
   "id": "babb1eef-f0e5-4e02-9e86-c40a4e880bc3",
   "metadata": {},
   "outputs": [],
   "source": [
    "def get_n_params(model):\n",
    "    pp=0\n",
    "    for p in list(model.parameters()):\n",
    "        nn=1\n",
    "        for s in list(p.size()):\n",
    "            nn = nn*s\n",
    "        pp += nn\n",
    "    return pp"
   ]
  },
  {
   "cell_type": "code",
   "execution_count": 20,
   "id": "b083b381-cdbb-4be2-a80c-778324b0a54e",
   "metadata": {},
   "outputs": [
    {
     "data": {
      "text/plain": [
       "1006853"
      ]
     },
     "execution_count": 20,
     "metadata": {},
     "output_type": "execute_result"
    }
   ],
   "source": [
    "get_n_params(model)"
   ]
  },
  {
   "cell_type": "code",
   "execution_count": 34,
   "id": "ec227158-c405-4dc7-8f6a-38a83009d725",
   "metadata": {},
   "outputs": [],
   "source": [
    "last_epoch = 0\n",
    "\n",
    "if input_params.model_weight:\n",
    "\n",
    "    if torch.cuda.is_available():\n",
    "        #load on gpu\n",
    "        model.load_state_dict(torch.load(input_params.model_weight))\n",
    "        if input_params.optimizer_weight:\n",
    "            optimizer.load_state_dict(torch.load(input_params.optimizer_weight))\n",
    "    else:\n",
    "        #load on cpu\n",
    "        model.load_state_dict(torch.load(input_params.model_weight, map_location=torch.device('cpu')))\n",
    "        if input_params.optimizer_weight:\n",
    "            optimizer.load_state_dict(torch.load(input_params.optimizer_weight, map_location=torch.device('cpu')))\n",
    "\n",
    "    last_epoch = int(input_params.model_weight.split('_')[-3]) #infer previous epoch from input_params.model_weight\n",
    "\n",
    "weights_dir = os.path.join(input_params.output_dir, 'weights') #dir to save model weights at save_at epochs\n",
    "\n",
    "if input_params.save_at:\n",
    "    os.makedirs(weights_dir, exist_ok = True)"
   ]
  },
  {
   "cell_type": "code",
   "execution_count": 35,
   "id": "9f68efaa-d4a6-424f-a169-6d0d9046ec9e",
   "metadata": {
    "tags": []
   },
   "outputs": [],
   "source": [
    "def metrics_to_str(metrics):\n",
    "    loss, total_acc, masked_acc = metrics\n",
    "    return f'loss: {loss:.4}, total acc: {total_acc:.3f}, masked acc: {masked_acc:.3f}'"
   ]
  },
  {
   "cell_type": "code",
   "execution_count": null,
   "id": "fd086013-fd62-4964-8ccc-8b9d928d727d",
   "metadata": {
    "tags": []
   },
   "outputs": [
    {
     "name": "stdout",
     "output_type": "stream",
     "text": [
      "EPOCH 11: Test/Inference...\n"
     ]
    },
    {
     "name": "stderr",
     "output_type": "stream",
     "text": [
      "  0%|                                                                                                                                                                                                                                                                                                                                                                                                                                                                                                                                                                                                                                                                                             | 0/84822 [00:00<?, ?it/s]/home/icb/sergey.vilov/miniconda3/envs/mlm/lib/python3.10/site-packages/torch/nn/functional.py:1338: UserWarning: dropout2d: Received a 3D input to dropout2d and assuming that channel-wise 1D dropout behavior is desired - input is interpreted as shape (N, C, L), where C is the channel dim. This behavior will change in a future release to interpret the input as one without a batch dimension, i.e. shape (C, H, W). To maintain the 1D channel-wise dropout behavior, please switch to using dropout1d instead.\n",
      "  warnings.warn(\"dropout2d: Received a 3D input to dropout2d and assuming that channel-wise \"\n",
      "acc: 0.96, masked acc: 0.44, loss: 1.194:  18%|█████████████████████████████████████████████████████████████████████████████████████████████████████████████████▎                                                                                                                                                                                                                                                                                                                                                                                                                                                                                                                     | 15623/84822 [06:45<30:12, 38.17it/s]"
     ]
    }
   ],
   "source": [
    "from IPython.display import clear_output\n",
    "\n",
    "clear_output()\n",
    "\n",
    "#from utils.misc import print    #print function that displays time\n",
    "\n",
    "if not input_params.test:\n",
    "\n",
    "    for epoch in range(last_epoch+1, input_params.tot_epochs+1):\n",
    "\n",
    "        print(f'EPOCH {epoch}: Training...')\n",
    "\n",
    "        train_dataset.seq_df = train_df[train_df.train_fold == (epoch-1) % input_params.train_splits]\n",
    "        train_dataset.end = len(train_dataset.seq_df)\n",
    "\n",
    "        print(f'using train samples: {list(train_dataset.seq_df.index[[0,-1]])}')\n",
    "\n",
    "        train_metrics = train_eval.model_train(model, optimizer, train_dataloader, device,\n",
    "                            silent = False)\n",
    "\n",
    "        print(f'epoch {epoch} - train, {metrics_to_str(train_metrics)}')\n",
    "\n",
    "        if epoch in input_params.save_at: #save model weights\n",
    "\n",
    "            misc.save_model_weights(model, optimizer, weights_dir, epoch)\n",
    "\n",
    "        if input_params.val_fraction>0 and ( epoch==input_params.tot_epochs or\n",
    "                            (input_params.validate_every and epoch%input_params.validate_every==0)):\n",
    "\n",
    "            print(f'EPOCH {epoch}: Validating...')\n",
    "\n",
    "            val_metrics, *_ =  train_eval.model_eval(model, optimizer, test_dataloader, device,\n",
    "                    silent = False)\n",
    "\n",
    "            print(f'epoch {epoch} - validation, {metrics_to_str(val_metrics)}')\n",
    "            \n",
    "else:\n",
    "\n",
    "    print(f'EPOCH {last_epoch}: Test/Inference...')\n",
    "\n",
    "    test_metrics, test_embeddings, motif_probas =  train_eval.model_eval(model, optimizer, test_dataloader, device, \n",
    "                                                          get_embeddings = input_params.get_embeddings, \n",
    "                                                          silent = False)\n",
    "    \n",
    "    \n",
    "\n",
    "    print(f'epoch {last_epoch} - test, {metrics_to_str(test_metrics)}')\n",
    "\n",
    "    if input_params.get_embeddings:\n",
    "        \n",
    "        os.makedirs(input_params.output_dir, exist_ok = True)\n",
    "\n",
    "        with open(input_params.output_dir + '/embeddings.pickle', 'wb') as f:\n",
    "            #test_embeddings = np.vstack(test_embeddings)\n",
    "            #np.save(f,test_embeddings)\n",
    "            pickle.dump(test_embeddings,f)\n",
    "            #pickle.dump(seq_df.seq_name.tolist(),f)\n",
    "            \n",
    "print()\n",
    "print(f'peak GPU memory allocation: {round(torch.cuda.max_memory_allocated(device)/1024/1024)} Mb')\n",
    "print('Done')"
   ]
  },
  {
   "cell_type": "code",
   "execution_count": 38,
   "id": "c389ecc6-0c85-4d77-a04f-14d8eb1192bf",
   "metadata": {},
   "outputs": [
    {
     "data": {
      "text/plain": [
       "'/lustre/groups/epigenereg01/workspace/projects/vale/MLM/perbase_pred/embeddings/rna/Species-agnostic//embeddings.npy'"
      ]
     },
     "execution_count": 38,
     "metadata": {},
     "output_type": "execute_result"
    }
   ],
   "source": [
    "input_params.output_dir + '/embeddings.npy'"
   ]
  },
  {
   "cell_type": "code",
   "execution_count": null,
   "id": "424e2751-991e-48dc-9a8c-fbe0d673bad2",
   "metadata": {
    "tags": []
   },
   "outputs": [],
   "source": [
    "seq_transform = sequence_encoders.RollingMasker(mask_stride = 50, frame = 0)\n",
    "     \n",
    "val_fasta = datadir + 'fasta/240_mammals/240_mammals.shuffled.fa'\n",
    "val_df = pd.read_csv(val_fasta + '.fai', header=None, sep='\\t', usecols=[0], names=['seq_name'])\n",
    "val_df['species_name'] = val_df.seq_name.apply(lambda x:x.split(':')[1])\n",
    "val_df['species_label'] = 181\n",
    "\n",
    "val_df = val_df[val_df.species_name=='Pan_troglodytes'].sample(n=1000, random_state=1)\n",
    "\n",
    "val_dataset = SeqDataset(val_fasta, val_df, transform = seq_transform)\n",
    "val_dataloader = DataLoader(dataset = val_dataset, batch_size = 1, num_workers = 1, collate_fn = None, shuffle = False)"
   ]
  },
  {
   "cell_type": "code",
   "execution_count": 19,
   "id": "7bb3411d-4df5-4195-ae33-0501c595e593",
   "metadata": {
    "tags": []
   },
   "outputs": [
    {
     "name": "stderr",
     "output_type": "stream",
     "text": [
      "/data/nasif12/home_if12/l_vilov/workspace/species-aware-DNA-LM/mammals_model/models/dss.py:335: UserWarning: Casting complex values to real discards the imaginary part (Triggered internally at  /opt/conda/conda-bld/pytorch_1639180487213/work/aten/src/ATen/native/Copy.cpp:244.)\n",
      "  return einsum('chn,hnl->chl', W, S).float(), state                   # [C H L]\n"
     ]
    },
    {
     "name": "stdout",
     "output_type": "stream",
     "text": [
      "Before temperature - NLL: 1.664, ECE: 0.248\n",
      "Optimal temperature: 2.710\n",
      "After temperature - NLL: 1.414, ECE: 0.041\n"
     ]
    }
   ],
   "source": [
    "from helpers.temperature_scaling import ModelWithTemperature\n",
    "\n",
    "scaled_model = ModelWithTemperature(model)\n",
    "scaled_model.set_temperature(val_dataloader);"
   ]
  },
  {
   "cell_type": "code",
   "execution_count": 22,
   "id": "e5c892ef-80b4-4399-ad98-5fa715d2f155",
   "metadata": {
    "tags": []
   },
   "outputs": [],
   "source": [
    "input_params.temperature = scaled_model.temperature"
   ]
  },
  {
   "cell_type": "code",
   "execution_count": null,
   "id": "97fa34f8-7f27-4be4-b562-5b684365ee02",
   "metadata": {},
   "outputs": [],
   "source": []
  }
 ],
 "metadata": {
  "kernelspec": {
   "display_name": "Python 3 (ipykernel)",
   "language": "python",
   "name": "python3"
  },
  "language_info": {
   "codemirror_mode": {
    "name": "ipython",
    "version": 3
   },
   "file_extension": ".py",
   "mimetype": "text/x-python",
   "name": "python",
   "nbconvert_exporter": "python",
   "pygments_lexer": "ipython3",
   "version": "3.10.13"
  }
 },
 "nbformat": 4,
 "nbformat_minor": 5
}

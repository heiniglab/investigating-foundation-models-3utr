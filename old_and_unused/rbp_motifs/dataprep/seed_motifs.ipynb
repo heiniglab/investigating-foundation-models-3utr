{
 "cells": [
  {
   "cell_type": "code",
   "execution_count": null,
   "id": "db179419-d49e-4f1b-9641-02c8859ae581",
   "metadata": {},
   "outputs": [],
   "source": [
    "import pandas as pd\n",
    "import numpy as np\n",
    "from collections import defaultdict\n",
    "from tqdm.notebook import tqdm"
   ]
  },
  {
   "cell_type": "code",
   "execution_count": null,
   "id": "8a6e47cd-94b4-4506-8d62-1240137f33cc",
   "metadata": {},
   "outputs": [],
   "source": [
    "data_dir = '/lustre/groups/epigenereg01/workspace/projects/vale/mlm/motif_analysis/'"
   ]
  },
  {
   "cell_type": "markdown",
   "id": "531903d2-841c-492d-abec-7c17bb1f1c06",
   "metadata": {},
   "source": [
    "# Seed motifs to sequences"
   ]
  },
  {
   "cell_type": "code",
   "execution_count": 83,
   "id": "a9fd7e39-7b00-4bdc-aa6b-66c102d48149",
   "metadata": {},
   "outputs": [],
   "source": [
    "WINDOW_WIDTH = 4096\n",
    "motif_len = 5"
   ]
  },
  {
   "cell_type": "code",
   "execution_count": 93,
   "id": "47169543-5c07-4a6d-ae47-8dd1ff4111e3",
   "metadata": {},
   "outputs": [
    {
     "name": "stderr",
     "output_type": "stream",
     "text": [
      "/tmp/ipykernel_2955460/3050213565.py:1: DtypeWarning: Columns (7,8) have mixed types. Specify dtype option on import or set low_memory=False.\n",
      "  motifs_df = pd.read_csv(data_dir + 'eclip.tsv', sep='\\t').set_index('motif_id')\n"
     ]
    }
   ],
   "source": [
    "motifs_df = pd.read_csv(data_dir + 'eclip.tsv', sep='\\t').set_index('motif_id')"
   ]
  },
  {
   "cell_type": "code",
   "execution_count": 94,
   "id": "4dfdcc2e-5d32-41dd-abc1-dc6536d29a92",
   "metadata": {},
   "outputs": [],
   "source": [
    "# get coordinates of eCLIP peaks for each sequence\n",
    "\n",
    "utr_table = pd.read_csv(data_dir + '../UTR_coords/GRCh38_3_prime_UTR_clean.bed', sep='\\t',\n",
    "                       usecols=[0,1,2,3,5], names=['chrom','utr_start','utr_end','seq_name','strand']) #absolute coordinates of 3'UTR sequences\n",
    "\n",
    "motifs_df = motifs_df.merge(utr_table, how='left')"
   ]
  },
  {
   "cell_type": "code",
   "execution_count": 95,
   "id": "bf206466-bac4-4b6d-b531-ffdea1038b1a",
   "metadata": {},
   "outputs": [],
   "source": [
    "import pysam\n",
    "\n",
    "human_fasta = pysam.FastaFile(data_dir + '../fasta/hg38.fa')"
   ]
  },
  {
   "cell_type": "code",
   "execution_count": 96,
   "id": "a6d48fae-94eb-40b4-aa56-3d989d7781cf",
   "metadata": {},
   "outputs": [],
   "source": [
    "def reverse_complement(seq):\n",
    "    '''\n",
    "    Take sequence reverse complement\n",
    "    '''\n",
    "    compl_dict = {'A':'T', 'C':'G', 'G':'C', 'T':'A'}\n",
    "    compl_seq = ''.join([compl_dict.get(x,x) for x in seq])\n",
    "    rev_seq = compl_seq[::-1]\n",
    "    return rev_seq"
   ]
  },
  {
   "cell_type": "code",
   "execution_count": 121,
   "id": "7a843da4-da7c-4b44-84d0-dffe06e1cb30",
   "metadata": {},
   "outputs": [],
   "source": [
    "def extract_utr_seq(motif, seq_len, rc_on_negative=False, mask_beyond_3utr=False):\n",
    "\n",
    "    if motif.strand=='+':\n",
    "        pos_rel = motif.pos\n",
    "    else:\n",
    "        pos_rel = motif.pos + motif_len \n",
    "        \n",
    "    refseq = human_fasta.fetch(motif.chrom, pos_rel-seq_len//2, pos_rel+seq_len//2).upper()\n",
    "\n",
    "    refseq = np.array(list(refseq))\n",
    "\n",
    "    if mask_beyond_3utr:\n",
    "        refseq[:max(motif.utr_start-(pos_rel-seq_len//2),0)] = 'N'\n",
    "        if motif.pos+seq_len//2>motif.utr_end:\n",
    "            refseq[motif.utr_end-(pos_rel+seq_len//2):] = 'N'\n",
    "            \n",
    "    refseq = ''.join(refseq)\n",
    "\n",
    "    #for genes on the negative strand, take reverse complement\n",
    "    if rc_on_negative and motif.strand=='-':\n",
    "      refseq = reverse_complement(refseq)\n",
    "\n",
    "    if rc_on_negative:\n",
    "        assert refseq[seq_len//2:seq_len//2+motif_len]==motif.motif\n",
    "    else:\n",
    "        if motif.strand=='-':\n",
    "            assert reverse_complement(refseq)[seq_len//2:seq_len//2+motif_len]==motif.motif\n",
    "        else:\n",
    "            assert refseq[seq_len//2:seq_len//2+motif_len]==motif.motif\n",
    "\n",
    "    return refseq"
   ]
  },
  {
   "cell_type": "code",
   "execution_count": null,
   "id": "87f8ad6f-8143-4885-9409-80f8e1c839db",
   "metadata": {},
   "outputs": [],
   "source": [
    "#mask_beyond_3utr =True\n",
    "#rc_on_negative=False\n",
    "#for motif_id, motif in tqdm(motifs_df.sample(n=1000,random_state=1).iterrows(), total=len(motifs_df)):\n",
    "#            refseq = extract_utr_seq(motif, WINDOW_WIDTH, rc_on_negative,mask_beyond_3utr)"
   ]
  },
  {
   "cell_type": "code",
   "execution_count": 38,
   "id": "ddbdab5c-03fc-4efb-950f-d7c8f3c61de4",
   "metadata": {},
   "outputs": [],
   "source": [
    "def write_fasta(fasta_path, seq_len, rc_on_negative,mask_beyond_3utr):\n",
    "\n",
    "    c = 0\n",
    "    \n",
    "    with open(fasta_path, 'w') as f:\n",
    "        for motif_id, motif in tqdm(motifs_df.iterrows(), total=len(motifs_df)):\n",
    "            refseq = extract_utr_seq(motif, seq_len, rc_on_negative,mask_beyond_3utr)\n",
    "            f.write(f'>{motif_id}\\n')\n",
    "            for line in wrap(refseq, 80): #wrap reference sequence with standard FASTA width\n",
    "                f.write(line+'\\n')\n",
    "            c += 1\n",
    "    return c"
   ]
  },
  {
   "cell_type": "code",
   "execution_count": 39,
   "id": "3b9ac8c6-00b9-47cd-9b30-3f583f30330b",
   "metadata": {},
   "outputs": [
    {
     "name": "stderr",
     "output_type": "stream",
     "text": [
      "100%|██████████| 50228/50228 [06:48<00:00, 122.96it/s]\n"
     ]
    },
    {
     "name": "stdout",
     "output_type": "stream",
     "text": [
      "50228 pairs written\n"
     ]
    },
    {
     "name": "stderr",
     "output_type": "stream",
     "text": [
      "100%|██████████| 50228/50228 [04:13<00:00, 198.33it/s]\n"
     ]
    },
    {
     "name": "stdout",
     "output_type": "stream",
     "text": [
      "50228 pairs written\n"
     ]
    }
   ],
   "source": [
    "os.makedirs(data_dir + 'fasta', exist_ok=True)\n",
    "\n",
    "N_pairs=write_fasta(data_dir + f'fasta/motifs_dna_fwd.fa',WINDOW_WIDTH,False,False)\n",
    "print(f'{N_pairs} pairs written')\n",
    "\n",
    "N_pairs=write_fasta(data_dir + f'fasta/motifs_rna.fa',WINDOW_WIDTH,True,True)\n",
    "print(f'{N_pairs} pairs written')"
   ]
  },
  {
   "cell_type": "code",
   "execution_count": 40,
   "id": "e63244d7-95bf-4838-90db-26a667e2d00d",
   "metadata": {},
   "outputs": [],
   "source": [
    "! samtools faidx {data_dir}/selected/variants_rna.fa"
   ]
  },
  {
   "cell_type": "code",
   "execution_count": 41,
   "id": "8b776f56-d137-4a64-8e22-b0bfcee40a56",
   "metadata": {},
   "outputs": [],
   "source": [
    "! samtools faidx {data_dir}/selected/variants_dna_fwd.fa"
   ]
  },
  {
   "cell_type": "code",
   "execution_count": null,
   "id": "af6ba79a-9ae9-4642-bc8b-00c654d89f50",
   "metadata": {},
   "outputs": [],
   "source": []
  }
 ],
 "metadata": {
  "kernelspec": {
   "display_name": "Python 3 (ipykernel)",
   "language": "python",
   "name": "python3"
  },
  "language_info": {
   "codemirror_mode": {
    "name": "ipython",
    "version": 3
   },
   "file_extension": ".py",
   "mimetype": "text/x-python",
   "name": "python",
   "nbconvert_exporter": "python",
   "pygments_lexer": "ipython3",
   "version": "3.10.16"
  }
 },
 "nbformat": 4,
 "nbformat_minor": 5
}

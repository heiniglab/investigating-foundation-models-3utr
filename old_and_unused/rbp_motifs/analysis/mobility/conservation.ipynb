{
 "cells": [
  {
   "cell_type": "code",
   "execution_count": 1,
   "id": "7b51fa44-9476-4472-82c2-842bc90724ba",
   "metadata": {
    "tags": []
   },
   "outputs": [],
   "source": [
    "import os\n",
    "from glob import glob\n",
    "\n",
    "import itertools\n",
    "\n",
    "import pandas as pd\n",
    "import numpy as np\n",
    "\n",
    "import re\n",
    "\n",
    "from collections import defaultdict\n",
    "\n",
    "from tqdm.notebook import tqdm\n",
    "\n",
    "import warnings\n",
    "warnings.filterwarnings(\"ignore\", category=RuntimeWarning) "
   ]
  },
  {
   "cell_type": "code",
   "execution_count": 2,
   "id": "6d99af61-03c9-43d0-a058-beff5087f9a0",
   "metadata": {},
   "outputs": [],
   "source": [
    "motif_len = 5 #5 or 6\n",
    "NOREPEATS = False #ignore all motif matches in repeats (lowercase in fasta)"
   ]
  },
  {
   "cell_type": "code",
   "execution_count": 3,
   "id": "53b575e4-e529-4df8-a1f9-bfb2f131ecb4",
   "metadata": {
    "tags": []
   },
   "outputs": [],
   "source": [
    "data_dir = '/lustre/groups/epigenereg01/workspace/projects/vale/mlm/motif_analysis/'"
   ]
  },
  {
   "cell_type": "code",
   "execution_count": 8,
   "id": "3ab0fb94-8ee3-41aa-a046-90e60edf1ca9",
   "metadata": {},
   "outputs": [
    {
     "name": "stderr",
     "output_type": "stream",
     "text": [
      "/tmp/ipykernel_3006113/427303850.py:3: DtypeWarning: Columns (5) have mixed types. Specify dtype option on import or set low_memory=False.\n",
      "  eclip_df = pd.read_csv(eclip_tsv,sep='\\t')\n"
     ]
    },
    {
     "data": {
      "text/html": [
       "<div>\n",
       "<style scoped>\n",
       "    .dataframe tbody tr th:only-of-type {\n",
       "        vertical-align: middle;\n",
       "    }\n",
       "\n",
       "    .dataframe tbody tr th {\n",
       "        vertical-align: top;\n",
       "    }\n",
       "\n",
       "    .dataframe thead th {\n",
       "        text-align: right;\n",
       "    }\n",
       "</style>\n",
       "<table border=\"1\" class=\"dataframe\">\n",
       "  <thead>\n",
       "    <tr style=\"text-align: right;\">\n",
       "      <th></th>\n",
       "      <th>seq_name</th>\n",
       "      <th>motif_start</th>\n",
       "      <th>motif</th>\n",
       "    </tr>\n",
       "  </thead>\n",
       "  <tbody>\n",
       "    <tr>\n",
       "      <th>0</th>\n",
       "      <td>ENST00000379370.7_utr3_35_0_chr1_1054982_f</td>\n",
       "      <td>30</td>\n",
       "      <td>TTATT</td>\n",
       "    </tr>\n",
       "    <tr>\n",
       "      <th>1</th>\n",
       "      <td>ENST00000379370.7_utr3_35_0_chr1_1054982_f</td>\n",
       "      <td>40</td>\n",
       "      <td>TTTTT</td>\n",
       "    </tr>\n",
       "    <tr>\n",
       "      <th>2</th>\n",
       "      <td>ENST00000379370.7_utr3_35_0_chr1_1054982_f</td>\n",
       "      <td>58</td>\n",
       "      <td>TTTTT</td>\n",
       "    </tr>\n",
       "    <tr>\n",
       "      <th>3</th>\n",
       "      <td>ENST00000379370.7_utr3_35_0_chr1_1054982_f</td>\n",
       "      <td>764</td>\n",
       "      <td>ACCCC</td>\n",
       "    </tr>\n",
       "    <tr>\n",
       "      <th>4</th>\n",
       "      <td>ENST00000379370.7_utr3_35_0_chr1_1054982_f</td>\n",
       "      <td>789</td>\n",
       "      <td>TTCCC</td>\n",
       "    </tr>\n",
       "  </tbody>\n",
       "</table>\n",
       "</div>"
      ],
      "text/plain": [
       "                                     seq_name  motif_start  motif\n",
       "0  ENST00000379370.7_utr3_35_0_chr1_1054982_f           30  TTATT\n",
       "1  ENST00000379370.7_utr3_35_0_chr1_1054982_f           40  TTTTT\n",
       "2  ENST00000379370.7_utr3_35_0_chr1_1054982_f           58  TTTTT\n",
       "3  ENST00000379370.7_utr3_35_0_chr1_1054982_f          764  ACCCC\n",
       "4  ENST00000379370.7_utr3_35_0_chr1_1054982_f          789  TTCCC"
      ]
     },
     "execution_count": 8,
     "metadata": {},
     "output_type": "execute_result"
    }
   ],
   "source": [
    "eclip_tsv  = data_dir + 'eclip.tsv'\n",
    "\n",
    "eclip_df = pd.read_csv(eclip_tsv,sep='\\t')\n",
    "\n",
    "eclip_df = eclip_df[['seq_name','motif_start','motif']].drop_duplicates()\n",
    "\n",
    "eclip_df.head()"
   ]
  },
  {
   "cell_type": "code",
   "execution_count": 5,
   "id": "856bdd70-8ffd-4d5e-a779-f4e0056f765c",
   "metadata": {},
   "outputs": [],
   "source": [
    "eclip_motifs = eclip_df.groupby('seq_name').motif.apply(np.unique)"
   ]
  },
  {
   "cell_type": "markdown",
   "id": "3fbcd553-b6ed-477b-8c21-e51ca60f48b0",
   "metadata": {},
   "source": [
    "# Conservation\n",
    "\n",
    "For each motif in each 3'UTR Human sequence, compute the number of sequences (species) that also have this motif"
   ]
  },
  {
   "cell_type": "code",
   "execution_count": 9,
   "id": "ec697290-b3fb-4ec6-8908-63731a13b7fc",
   "metadata": {
    "tags": []
   },
   "outputs": [
    {
     "data": {
      "text/plain": [
       "seq_name\n",
       "ENST00000394232.6_utr3_12_0_chr15_91292553_f    18\n",
       "ENST00000291442.4_utr3_3_0_chr19_17231883_r     18\n",
       "ENST00000310981.6_utr3_0_0_chr2_127702177_f     18\n",
       "ENST00000418260.3_utr3_1_0_chr12_31615023_r     18\n",
       "ENST00000380985.10_utr3_12_0_chr5_65822916_f    18\n",
       "Name: folder, dtype: object"
      ]
     },
     "execution_count": 9,
     "metadata": {},
     "output_type": "execute_result"
    }
   ],
   "source": [
    "# all 3'UTR FASTA alignments are distributed across subfolders\n",
    "# find all FASTA files and their subfolders\n",
    "\n",
    "fasta_path = data_dir + '../fasta/aligned_3UTR/fa/'\n",
    "\n",
    "fasta_dirs = []\n",
    "\n",
    "for file in glob(fasta_path + '**/*.fa', recursive=True):\n",
    "    relative_path = os.path.relpath(file, fasta_path)\n",
    "    folder, seq_id = relative_path.split('/')\n",
    "    seq_id = seq_id.replace('.fa','')\n",
    "    fasta_dirs.append((folder,seq_id))\n",
    "    \n",
    "fasta_dirs = pd.DataFrame(fasta_dirs, columns=['folder','seq_name']).set_index('seq_name').squeeze()\n",
    "\n",
    "fasta_dirs.head()"
   ]
  },
  {
   "cell_type": "code",
   "execution_count": 10,
   "id": "21676f75-5cfd-4af8-93e7-98b3ab81d974",
   "metadata": {
    "tags": []
   },
   "outputs": [],
   "source": [
    "def read_fasta(fasta):\n",
    "\n",
    "    seqs = defaultdict(str)\n",
    "    \n",
    "    with open(fasta, 'r') as f:\n",
    "        for line in f:\n",
    "            if line.startswith('>'):\n",
    "                seq_name = line[1:].rstrip()\n",
    "            else:\n",
    "                seq = line.rstrip()\n",
    "                if NOREPEATS:\n",
    "                    seq = re.sub('a|c|g|t','-',seq) #treat repeats as deletions\n",
    "                seqs[seq_name] += seq.upper()\n",
    "    return seqs"
   ]
  },
  {
   "cell_type": "code",
   "execution_count": 11,
   "id": "1b32e556-d5f6-4c52-aba7-b71374a2db4b",
   "metadata": {},
   "outputs": [],
   "source": [
    "def is_interval_in_seq(find_me, interval_seq):\n",
    "    '''\n",
    "    checks if a given interval is in a sequence of intervals\n",
    "    the sequence should be sorted by the 0th coordinate\n",
    "    '''\n",
    "    for interval in interval_seq:\n",
    "        if find_me[-1]<interval[0]:\n",
    "            # since interval_seq is sorted by the 0th coordinate, there is no more chance to encounter a region containing find_me\n",
    "            return False\n",
    "        # sought interval is included in the current interval\n",
    "        if find_me[0]>=interval[0] and find_me[1]<=interval[1]:\n",
    "            return True\n",
    "    \n",
    "    return False"
   ]
  },
  {
   "cell_type": "code",
   "execution_count": 12,
   "id": "b65b7fc0-5533-4ced-b8d4-54907b20e234",
   "metadata": {},
   "outputs": [],
   "source": [
    "def best_match_dm(motif_pos_ref, motif_pos_test):\n",
    "    '''\n",
    "    Find the best matching positions between reference and test motif positions\n",
    "    '''\n",
    "    n_ref = len(motif_pos_ref)\n",
    "    n_test = len(motif_pos_test)\n",
    "\n",
    "    motif_pos_ref = sorted(motif_pos_ref)\n",
    "    \n",
    "    distance_matrix = np.empty((n_ref,n_test))\n",
    "    distance_matrix[:] = np.nan\n",
    "    \n",
    "    for row_idx,pos_ref in enumerate(motif_pos_ref): #current reference position\n",
    "        if row_idx>0:\n",
    "            dist_max_left = motif_pos_ref[row_idx]-motif_pos_ref[row_idx-1] #distance between current reference position and the next reference position to the left\n",
    "        else:\n",
    "            dist_max_left = 1e10 #very large number\n",
    "        if row_idx<n_ref-1:\n",
    "            dist_max_right = motif_pos_ref[row_idx+1]-motif_pos_ref[row_idx] #distance between current reference position and the next reference position to the right\n",
    "        else:\n",
    "            dist_max_right = 1e10 #very large number\n",
    "        for col_idx,pos_cur in enumerate(motif_pos_test):\n",
    "            R = abs(pos_ref-pos_cur) #absolute distance\n",
    "            if (pos_ref>=pos_cur and R<dist_max_left) or (pos_ref<pos_cur and R<dist_max_right): #avoid that conservation windows around reference motifs overlap\n",
    "                distance_matrix[row_idx,col_idx] = R                \n",
    "\n",
    "    matched_pairs = [] #best (reference,test) matches\n",
    "    \n",
    "    while True:\n",
    "        \n",
    "        #repeat until all elements of distance_matrix are nan\n",
    "\n",
    "        min_dist = np.nanmin(distance_matrix)\n",
    "\n",
    "        if np.isnan(min_dist):\n",
    "            break\n",
    "            \n",
    "        row_idx, col_idx = np.argwhere(distance_matrix == min_dist)[0] #find indexes of minimal distance\n",
    "        \n",
    "        distance_matrix[row_idx,:] = np.nan\n",
    "        distance_matrix[:,col_idx] = np.nan\n",
    "\n",
    "        matched_pairs.append((motif_pos_ref[row_idx],motif_pos_test[col_idx]))\n",
    "\n",
    "    return matched_pairs"
   ]
  },
  {
   "cell_type": "code",
   "execution_count": 13,
   "id": "49eb399d-b321-49c3-ab52-14d62f97aaa2",
   "metadata": {},
   "outputs": [],
   "source": [
    "#motif = 'ACTAC'\n",
    "#\n",
    "#refseq = 'TAACTACACTAC'\n",
    "#testseq = 'ACTACACTAC'\n",
    "#\n",
    "#motif_pos_ref = [m.start() for m in re.finditer(motif,refseq)] #all positions of given motif in the sequence\n",
    "#motif_pos_test = [m.start() for m in re.finditer(motif,testseq)] #all positions of given motif in the sequence\n",
    "#\n",
    "#\n",
    "#best_match_dm(motif_pos_ref, motif_pos_test)"
   ]
  },
  {
   "cell_type": "code",
   "execution_count": 16,
   "id": "7062b0f9-3059-42c2-8610-b3c5e59dae4e",
   "metadata": {},
   "outputs": [],
   "source": [
    "def get_matches(fasta_seqs, tol_distances, motif_len, eCLIP_intervals_seq):\n",
    "    '''\n",
    "    compute conservation scores for various tol_distances in given fasta_seqs for all eCLIP motifs\n",
    "    '''\n",
    "    \n",
    "    seq_res =[]\n",
    "\n",
    "    for motif in eCLIP_intervals_seq:\n",
    "        motif_res = {} #conservation scores for given motif\n",
    "        for seq_idx, (seq_name,seq) in enumerate(fasta_seqs.items()):\n",
    "            utr_name, species_name, *_ = seq_name.split(':')\n",
    "            motif_pos_cur = [m.start() for m in re.finditer(motif,seq)] #all positions of given motif in the sequence\n",
    "            n_matches = len(motif_pos_cur)\n",
    "            if seq_idx == 0:\n",
    "                if n_matches == 0: #motif isn't found in reference\n",
    "                    break\n",
    "                motif_pos_ref = motif_pos_cur\n",
    "            elif n_matches>0:\n",
    "                conditional_counts_motif = defaultdict(int)\n",
    "                best_matches = best_match_dm(motif_pos_ref, motif_pos_cur)\n",
    "                for matched_pos_ref, matched_pos_cur in best_matches:\n",
    "                    if not matched_pos_ref in motif_res.keys():\n",
    "                            motif_res[matched_pos_ref] = {R:0 for R in tol_distances}\n",
    "                    for R in tol_distances:\n",
    "                        if abs(matched_pos_ref-matched_pos_cur) <= R:\n",
    "                            motif_res[matched_pos_ref][R] += 1\n",
    "\n",
    "        for matched_pos_ref, motif_counts in motif_res.items():\n",
    "            seq_res.append((motif,matched_pos_ref,*motif_counts.values()))\n",
    "\n",
    "    return seq_res"
   ]
  },
  {
   "cell_type": "code",
   "execution_count": 28,
   "id": "6013f714-bcc0-40fe-9ea7-6f385bddc20c",
   "metadata": {},
   "outputs": [],
   "source": [
    "#tol_distance = W//2\n",
    "\n",
    "tol_distances =  (10**np.linspace(1,4,16)/2).astype(int) \n",
    "tol_distances =  np.insert(tol_distances,0,0)"
   ]
  },
  {
   "cell_type": "code",
   "execution_count": 29,
   "id": "3a3a7b16-758e-43b3-8c95-ffc4690cfc2f",
   "metadata": {},
   "outputs": [],
   "source": [
    "human_3utr = read_fasta(data_dir + '../fasta/Homo_sapiens_rna.fa')\n",
    "human_3utr = {seq_name:seq for seq_name,seq in human_3utr.items() if seq_name in eclip_motifs.index}"
   ]
  },
  {
   "cell_type": "code",
   "execution_count": 30,
   "id": "4e3ab700-3a10-4450-8a77-7029eb371d68",
   "metadata": {},
   "outputs": [
    {
     "data": {
      "application/vnd.jupyter.widget-view+json": {
       "model_id": "0ecf0f5c9bef456ea6c7b6a6520dcd1b",
       "version_major": 2,
       "version_minor": 0
      },
      "text/plain": [
       "  0%|          | 0/11503 [00:00<?, ?it/s]"
      ]
     },
     "metadata": {},
     "output_type": "display_data"
    }
   ],
   "source": [
    "consv_df = []\n",
    "\n",
    "for seq_idx,(seq_name,seq) in enumerate(tqdm(human_3utr.items())):\n",
    "\n",
    "    #print(f'{seq_idx+1}/{len(human_3utr)}:{seq_name}')\n",
    "        \n",
    "    file_path = fasta_path + fasta_dirs.loc[seq_name] + '/' + seq_name + '.fa'\n",
    "    \n",
    "    fasta_seqs = read_fasta(file_path)\n",
    "\n",
    "    seq_res = get_matches(fasta_seqs, tol_distances, motif_len, eclip_motifs.loc[seq_name])\n",
    "    \n",
    "    seq_res = pd.DataFrame(seq_res,columns=['motif','motif_start']+[f'R_{R}' for R in tol_distances])\n",
    "\n",
    "    refseq=list(fasta_seqs.values())[0]\n",
    "    \n",
    "    for motif,motif_start in seq_res[['motif','motif_start']].values.tolist():\n",
    "        assert seq[motif_start:motif_start+motif_len]==motif #Homo_sapiens sequence from reference RNA fasta\n",
    "        assert refseq[motif_start:motif_start+motif_len]==motif #Homo_sapiens sequence from alignment \n",
    "\n",
    "    seq_res['seq_name'] = seq_name\n",
    "\n",
    "    consv_df.append(seq_res)\n",
    "    \n",
    "consv_df = pd.concat(consv_df)"
   ]
  },
  {
   "cell_type": "code",
   "execution_count": 31,
   "id": "063f7695-883e-48d6-a2da-226325e91369",
   "metadata": {},
   "outputs": [],
   "source": [
    "consv_df = consv_df.merge(eclip_df,how='inner')[['seq_name','motif','motif_start']+[f'R_{R}' for R in tol_distances]]\n",
    "\n",
    "consv_df.to_csv(data_dir + f'conservation_k{motif_len}.tsv', sep='\\t', index=None)"
   ]
  }
 ],
 "metadata": {
  "kernelspec": {
   "display_name": "Python 3 (ipykernel)",
   "language": "python",
   "name": "python3"
  },
  "language_info": {
   "codemirror_mode": {
    "name": "ipython",
    "version": 3
   },
   "file_extension": ".py",
   "mimetype": "text/x-python",
   "name": "python",
   "nbconvert_exporter": "python",
   "pygments_lexer": "ipython3",
   "version": "3.10.13"
  }
 },
 "nbformat": 4,
 "nbformat_minor": 5
}

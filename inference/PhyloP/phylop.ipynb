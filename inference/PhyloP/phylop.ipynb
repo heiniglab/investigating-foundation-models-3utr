{
 "cells": [
  {
   "cell_type": "code",
   "execution_count": 30,
   "id": "a6d2af15-7a15-449d-928d-da016178ca8f",
   "metadata": {},
   "outputs": [],
   "source": [
    "import pickle\n",
    "import pandas as pd\n",
    "import numpy as np\n",
    "from tqdm import tqdm"
   ]
  },
  {
   "cell_type": "code",
   "execution_count": 55,
   "id": "9dea735e-c080-42a4-92f7-8bb2e9ae52c1",
   "metadata": {},
   "outputs": [],
   "source": [
    "data_dir = '/lustre/groups/epigenereg01/workspace/projects/vale/MLM/'"
   ]
  },
  {
   "cell_type": "code",
   "execution_count": 60,
   "id": "7cf13889-735d-4809-ba25-ad3dae834442",
   "metadata": {},
   "outputs": [],
   "source": [
    "model = 'PhyloP241' #PhyloP100 or PhyloP241"
   ]
  },
  {
   "cell_type": "code",
   "execution_count": 24,
   "id": "7933789c-84c7-4fa2-beac-cabf6c004d4e",
   "metadata": {},
   "outputs": [],
   "source": [
    "utr_table = pd.read_csv(data_dir + 'UTR_coords/GRCh38_3_prime_UTR_clean-sorted.bed', sep='\\t',\n",
    "                       header = None, names=['chrom','seq_start','seq_end','seq_name','strand'], usecols=[0,1,2,3,5]).set_index('seq_name')"
   ]
  },
  {
   "cell_type": "code",
   "execution_count": 32,
   "id": "25c91ff7-3d13-4b18-afd3-84219a637d39",
   "metadata": {},
   "outputs": [],
   "source": [
    "phylop_res = pd.read_csv(data_dir + '../tools/PhyloP/PhyloP100_PhyloP241_intersect.tsv.gz', sep=' ',\n",
    "                       header = None, names=['chrom','pos','PhyloP100','PhyloP241']).sort_values(by=['chrom','pos']).set_index('chrom')"
   ]
  },
  {
   "cell_type": "code",
   "execution_count": 53,
   "id": "0e02305a-0d7e-481f-bfa9-f433bd25ad1a",
   "metadata": {},
   "outputs": [],
   "source": [
    "phylop_res.pos = phylop_res.pos-1 #to 0-based"
   ]
  },
  {
   "cell_type": "code",
   "execution_count": 61,
   "id": "e0d8ddc0-b53e-4bcb-99a7-a93fdfa8c64d",
   "metadata": {},
   "outputs": [
    {
     "name": "stderr",
     "output_type": "stream",
     "text": [
      "100%|██████████| 18178/18178 [14:21<00:00, 21.09it/s]\n"
     ]
    }
   ],
   "source": [
    "phylop_scores = {}\n",
    "\n",
    "for seq_name, (chrom, start_seq,end_seq,strand) in tqdm(utr_table.iterrows(),total=len(utr_table)):\n",
    "    L = end_seq-start_seq #sequence length\n",
    "    phylop_scores[seq_name] = np.full((L,), np.nan)\n",
    "    df = phylop_res.loc[chrom]\n",
    "    start_idx = np.searchsorted(df.pos,start_seq)\n",
    "    end_idx = np.searchsorted(df.pos,end_seq)\n",
    "    for _, row in df.iloc[start_idx:end_idx].iterrows():\n",
    "        phylop_scores[seq_name][int(row.pos)-start_seq] = row[model]\n",
    "    if strand=='-':\n",
    "        phylop_scores[seq_name] = phylop_scores[seq_name][::-1] #reverse scores on negative strand to be compatible with other models"
   ]
  },
  {
   "cell_type": "code",
   "execution_count": 62,
   "id": "3a9ab093-5dae-4de3-b8f4-26e06886d434",
   "metadata": {},
   "outputs": [],
   "source": [
    "with open(data_dir + f'PhyloP/{model}_3UTR.pickle', 'wb') as f:\n",
    "    pickle.dump(phylop_scores,f)"
   ]
  },
  {
   "cell_type": "code",
   "execution_count": null,
   "id": "6199fa21-eb73-4149-aa2d-a03a15a33ac1",
   "metadata": {},
   "outputs": [],
   "source": []
  }
 ],
 "metadata": {
  "kernelspec": {
   "display_name": "Python 3 (ipykernel)",
   "language": "python",
   "name": "python3"
  },
  "language_info": {
   "codemirror_mode": {
    "name": "ipython",
    "version": 3
   },
   "file_extension": ".py",
   "mimetype": "text/x-python",
   "name": "python",
   "nbconvert_exporter": "python",
   "pygments_lexer": "ipython3",
   "version": "3.10.13"
  }
 },
 "nbformat": 4,
 "nbformat_minor": 5
}

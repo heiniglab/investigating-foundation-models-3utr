{
 "cells": [
  {
   "cell_type": "code",
   "execution_count": 1,
   "id": "bb58da27-c136-44c2-bd19-0854512e54e9",
   "metadata": {},
   "outputs": [],
   "source": [
    "import numpy as np\n",
    "import pandas as pd\n",
    "import sys\n",
    "import os\n",
    "\n",
    "from sklearn.metrics import roc_auc_score\n",
    "\n",
    "import scipy.stats"
   ]
  },
  {
   "cell_type": "code",
   "execution_count": 2,
   "id": "890b6ff8-30b1-4bbc-b666-dce036d99786",
   "metadata": {},
   "outputs": [],
   "source": [
    "data_dir = '/lustre/groups/epigenereg01/workspace/projects/vale/MLM/'"
   ]
  },
  {
   "cell_type": "markdown",
   "id": "e36d1ade-7ead-4d3b-9815-1de393b97f89",
   "metadata": {},
   "source": [
    "# Compute AUC\n",
    "\n",
    "for each split, compute AUC and get confidence intervals via bootstrapping"
   ]
  },
  {
   "cell_type": "code",
   "execution_count": 16,
   "id": "38126cd7-2b4f-4075-9f35-2521a95eb2a8",
   "metadata": {},
   "outputs": [
    {
     "data": {
      "text/plain": [
       "split    label\n",
       "clinvar  1.0        215\n",
       "         0.0        215\n",
       "eQTL     1.0       2196\n",
       "         0.0       2196\n",
       "gnomAD   0.0      10000\n",
       "         1.0      10000\n",
       "Name: count, dtype: int64"
      ]
     },
     "execution_count": 16,
     "metadata": {},
     "output_type": "execute_result"
    }
   ],
   "source": [
    "utr_variants = pd.read_csv(data_dir + 'perbase_pred/model_scores_snp.tsv', sep='\\t')\n",
    "\n",
    "utr_variants.groupby('split').label.value_counts()"
   ]
  },
  {
   "cell_type": "code",
   "execution_count": 17,
   "id": "6add6e8c-40fb-4141-871c-e64f9caa4f7b",
   "metadata": {},
   "outputs": [],
   "source": [
    "split = 'clinvar' # clinvar, gnomAD or eQTL\n",
    "\n",
    "#split = sys.argv[1]\n",
    "#output_name = sys.argv[2]"
   ]
  },
  {
   "cell_type": "code",
   "execution_count": 18,
   "id": "404779a9-6757-4fc7-bbd2-07b95d20e533",
   "metadata": {},
   "outputs": [],
   "source": [
    "utr_variants = utr_variants[utr_variants.split==split]"
   ]
  },
  {
   "cell_type": "code",
   "execution_count": 19,
   "id": "eec2fc83-cdcc-4016-aee1-84641c30138b",
   "metadata": {},
   "outputs": [],
   "source": [
    "models = ('Species-aware','Species-agnostic','DNABERT','NT-MS-v2-500M','13-mer','PhyloP100','PhyloP240')"
   ]
  },
  {
   "cell_type": "code",
   "execution_count": 30,
   "id": "78ecf86f-0476-48dc-804f-cd21da6be23f",
   "metadata": {},
   "outputs": [
    {
     "name": "stdout",
     "output_type": "stream",
     "text": [
      "Species-aware\n",
      "Pref AUC\n",
      "P alt inv AUC\n",
      "P ratio AUC\n",
      "Species-agnostic\n",
      "Pref AUC\n",
      "P alt inv AUC\n",
      "P ratio AUC\n",
      "DNABERT\n",
      "Pref AUC\n",
      "P alt inv AUC\n",
      "P ratio AUC\n",
      "NT-MS-v2-500M\n",
      "Pref AUC\n",
      "P alt inv AUC\n",
      "P ratio AUC\n",
      "13-mer\n",
      "Pref AUC\n",
      "P alt inv AUC\n",
      "P ratio AUC\n",
      "PhyloP100\n",
      "Pref AUC\n",
      "PhyloP240\n",
      "Pref AUC\n"
     ]
    }
   ],
   "source": [
    "from scipy.stats import bootstrap\n",
    "\n",
    "def bootstrap_auc(score):\n",
    "\n",
    "    y_true = utr_variants.label[~score.isna()].values\n",
    "    y_pred = score[~score.isna()].values\n",
    "    \n",
    "    bs = bootstrap((y_true, y_pred),statistic=lambda x,y:roc_auc_score(x,y),\n",
    "                   vectorized=False, paired=True,n_resamples=100)\n",
    "\n",
    "    auc = roc_auc_score(y_true,y_pred)\n",
    "    auc_err = np.diff(bs.confidence_interval)/2\n",
    "    return auc, auc_err[0]\n",
    "\n",
    "roc_df = []\n",
    "\n",
    "for model_name in models:\n",
    "\n",
    "    print(model_name)\n",
    "\n",
    "    print('Pref AUC')\n",
    "    \n",
    "    ref_auc = bootstrap_auc(utr_variants[f'{model_name}_ref'])\n",
    "    \n",
    "    if not 'PhyloP' in model_name:\n",
    "\n",
    "        print('P alt inv AUC')\n",
    "        inv_alt_auc = bootstrap_auc(np.log(1/utr_variants[f'{model_name}_alt']))\n",
    "        print('P ratio AUC')\n",
    "        ratio_auc = bootstrap_auc(np.log(utr_variants[f'{model_name}_ref']/utr_variants[f'{model_name}_alt']))\n",
    "\n",
    "    else:\n",
    "        \n",
    "        inv_alt_auc = None\n",
    "        ratio_auc = None\n",
    "\n",
    "    roc_df.append((model_name, ref_auc, inv_alt_auc, ratio_auc))"
   ]
  },
  {
   "cell_type": "code",
   "execution_count": 31,
   "id": "106f162d-2f4a-4eec-ab5b-b07f6fe3279b",
   "metadata": {},
   "outputs": [],
   "source": [
    "roc_df = pd.DataFrame(roc_df,columns=['model','ref_auc','inv_alt_auc','ratio_auc'])"
   ]
  },
  {
   "cell_type": "code",
   "execution_count": 22,
   "id": "64c29c38-1b61-45b8-bc2e-0e0e936fae7b",
   "metadata": {},
   "outputs": [],
   "source": [
    "#roc_df.to_csv(output_name, index=False)"
   ]
  },
  {
   "cell_type": "markdown",
   "id": "4e499fbb-760a-4423-aca0-c2654d336324",
   "metadata": {},
   "source": [
    "# Make auc table"
   ]
  },
  {
   "cell_type": "code",
   "execution_count": 71,
   "id": "6b08d414-66b2-49e4-8773-68d3be3b14ce",
   "metadata": {},
   "outputs": [],
   "source": [
    "models = ['DNABERT', 'NT-MS-v2-500M','13-mer', 'Species-agnostic','Species-aware', 'PhyloP100','PhyloP240']"
   ]
  },
  {
   "cell_type": "code",
   "execution_count": 72,
   "id": "25d18fa9-251d-4276-b80a-834b6328dc62",
   "metadata": {},
   "outputs": [],
   "source": [
    "roc_df = []\n",
    "\n",
    "for split in ('clinvar','gnomAD','eQTL'):\n",
    "    df = pd.read_csv(data_dir + f'perbase_pred/auc/snps/{split}.tsv', sep='\\t')\n",
    "    df['split']=split\n",
    "    df = df.set_index('model').loc[models].reset_index()\n",
    "    roc_df.append(df)\n",
    "    \n",
    "roc_df = pd.concat(roc_df)\n",
    "\n",
    "roc_df = roc_df.map(lambda x: '(0,0)' if type(x)!=str else x)"
   ]
  },
  {
   "cell_type": "code",
   "execution_count": 73,
   "id": "34f99606-fd5c-428d-82d0-51e3717c4652",
   "metadata": {},
   "outputs": [],
   "source": [
    "roc_df.set_index(['split','model'], inplace=True)\n",
    "roc_df = roc_df.map(lambda x: (float(x.split(',')[0].lstrip('(')),\n",
    "                               float(x.split(',')[1].rstrip(')'))))"
   ]
  },
  {
   "cell_type": "code",
   "execution_count": 74,
   "id": "e8b7983b-871c-4c5d-babd-554857a4a87e",
   "metadata": {},
   "outputs": [],
   "source": [
    "N_models = len(models)\n",
    "\n",
    "def is_overlap(a, b):\n",
    "    return max(0, min(a[1], b[1]) - max(a[0], b[0]))>0\n",
    "\n",
    "best_models = {}\n",
    "\n",
    "for split in ('clinvar','gnomAD','eQTL'):\n",
    "    \n",
    "    split_data = roc_df.loc[split]\n",
    "    \n",
    "    best_auc, best_auc_err =  sorted(split_data.values.flatten())[-1]\n",
    "\n",
    "    best_models[split] = []\n",
    "\n",
    "    for model in split_data.index:\n",
    "        for score in split_data.columns:\n",
    "            auc, auc_err = split_data.loc[model,score]\n",
    "            #print (split,model,score,auc,auc_err,'T')\n",
    "            if auc-auc_err>0.5 and is_overlap((best_auc-best_auc_err,best_auc+best_auc_err),(auc-auc_err,auc+auc_err)):\n",
    "                #print (split,model,score,auc,auc_err)\n",
    "                best_models[split].append((model,score))\n",
    "\n",
    "def highlight_ns(x,best_models):\n",
    "    #make the best model and models with insignificant difference with the best model bold\n",
    "    split, model = x.name\n",
    "    return ['font-weight: bold' if (model,score) in best_models[split] else ''\n",
    "                for score in x.index]"
   ]
  },
  {
   "cell_type": "code",
   "execution_count": 75,
   "id": "9e3438b7-f2c4-4c8c-badb-5b3dd62c57ed",
   "metadata": {},
   "outputs": [],
   "source": [
    "df = roc_df.copy()\n",
    "\n",
    "for col in df.columns:\n",
    "    df[col] = df[col].apply(lambda x: f'{x[0]:.3f}±{x[1]:.3f}' if x!=(0,0) else '-')\n",
    "\n",
    "#df = df.rename(columns={'ref_auc':'$P_{ref}$','inv_alt_auc':'$P^{-1}_{alt}$','ratio_auc':'$P_{ref}/P_{alt}$'})"
   ]
  },
  {
   "cell_type": "code",
   "execution_count": 76,
   "id": "a94d0b63-35a2-4748-ada2-bb408a9344e0",
   "metadata": {},
   "outputs": [
    {
     "data": {
      "text/html": [
       "<style type=\"text/css\">\n",
       "#T_2b7dc_row5_col0, #T_2b7dc_row12_col0, #T_2b7dc_row20_col0 {\n",
       "  font-weight: bold;\n",
       "}\n",
       "</style>\n",
       "<table id=\"T_2b7dc\">\n",
       "  <thead>\n",
       "    <tr>\n",
       "      <th class=\"blank\" >&nbsp;</th>\n",
       "      <th class=\"blank level0\" >&nbsp;</th>\n",
       "      <th id=\"T_2b7dc_level0_col0\" class=\"col_heading level0 col0\" >ref_auc</th>\n",
       "      <th id=\"T_2b7dc_level0_col1\" class=\"col_heading level0 col1\" >inv_alt_auc</th>\n",
       "      <th id=\"T_2b7dc_level0_col2\" class=\"col_heading level0 col2\" >ratio_auc</th>\n",
       "    </tr>\n",
       "    <tr>\n",
       "      <th class=\"index_name level0\" >split</th>\n",
       "      <th class=\"index_name level1\" >model</th>\n",
       "      <th class=\"blank col0\" >&nbsp;</th>\n",
       "      <th class=\"blank col1\" >&nbsp;</th>\n",
       "      <th class=\"blank col2\" >&nbsp;</th>\n",
       "    </tr>\n",
       "  </thead>\n",
       "  <tbody>\n",
       "    <tr>\n",
       "      <th id=\"T_2b7dc_level0_row0\" class=\"row_heading level0 row0\" rowspan=\"7\">clinvar</th>\n",
       "      <th id=\"T_2b7dc_level1_row0\" class=\"row_heading level1 row0\" >DNABERT</th>\n",
       "      <td id=\"T_2b7dc_row0_col0\" class=\"data row0 col0\" >0.483±0.036</td>\n",
       "      <td id=\"T_2b7dc_row0_col1\" class=\"data row0 col1\" >0.552±0.033</td>\n",
       "      <td id=\"T_2b7dc_row0_col2\" class=\"data row0 col2\" >0.514±0.038</td>\n",
       "    </tr>\n",
       "    <tr>\n",
       "      <th id=\"T_2b7dc_level1_row1\" class=\"row_heading level1 row1\" >NT-MS-v2-500M</th>\n",
       "      <td id=\"T_2b7dc_row1_col0\" class=\"data row1 col0\" >0.489±0.056</td>\n",
       "      <td id=\"T_2b7dc_row1_col1\" class=\"data row1 col1\" >0.537±0.055</td>\n",
       "      <td id=\"T_2b7dc_row1_col2\" class=\"data row1 col2\" >0.522±0.054</td>\n",
       "    </tr>\n",
       "    <tr>\n",
       "      <th id=\"T_2b7dc_level1_row2\" class=\"row_heading level1 row2\" >13-mer</th>\n",
       "      <td id=\"T_2b7dc_row2_col0\" class=\"data row2 col0\" >0.501±0.040</td>\n",
       "      <td id=\"T_2b7dc_row2_col1\" class=\"data row2 col1\" >0.549±0.036</td>\n",
       "      <td id=\"T_2b7dc_row2_col2\" class=\"data row2 col2\" >0.524±0.039</td>\n",
       "    </tr>\n",
       "    <tr>\n",
       "      <th id=\"T_2b7dc_level1_row3\" class=\"row_heading level1 row3\" >Species-agnostic</th>\n",
       "      <td id=\"T_2b7dc_row3_col0\" class=\"data row3 col0\" >0.490±0.039</td>\n",
       "      <td id=\"T_2b7dc_row3_col1\" class=\"data row3 col1\" >0.565±0.037</td>\n",
       "      <td id=\"T_2b7dc_row3_col2\" class=\"data row3 col2\" >0.520±0.038</td>\n",
       "    </tr>\n",
       "    <tr>\n",
       "      <th id=\"T_2b7dc_level1_row4\" class=\"row_heading level1 row4\" >Species-aware</th>\n",
       "      <td id=\"T_2b7dc_row4_col0\" class=\"data row4 col0\" >0.505±0.037</td>\n",
       "      <td id=\"T_2b7dc_row4_col1\" class=\"data row4 col1\" >0.589±0.035</td>\n",
       "      <td id=\"T_2b7dc_row4_col2\" class=\"data row4 col2\" >0.544±0.038</td>\n",
       "    </tr>\n",
       "    <tr>\n",
       "      <th id=\"T_2b7dc_level1_row5\" class=\"row_heading level1 row5\" >PhyloP100</th>\n",
       "      <td id=\"T_2b7dc_row5_col0\" class=\"data row5 col0\" >0.911±0.024</td>\n",
       "      <td id=\"T_2b7dc_row5_col1\" class=\"data row5 col1\" >-</td>\n",
       "      <td id=\"T_2b7dc_row5_col2\" class=\"data row5 col2\" >-</td>\n",
       "    </tr>\n",
       "    <tr>\n",
       "      <th id=\"T_2b7dc_level1_row6\" class=\"row_heading level1 row6\" >PhyloP240</th>\n",
       "      <td id=\"T_2b7dc_row6_col0\" class=\"data row6 col0\" >0.777±0.045</td>\n",
       "      <td id=\"T_2b7dc_row6_col1\" class=\"data row6 col1\" >-</td>\n",
       "      <td id=\"T_2b7dc_row6_col2\" class=\"data row6 col2\" >-</td>\n",
       "    </tr>\n",
       "    <tr>\n",
       "      <th id=\"T_2b7dc_level0_row7\" class=\"row_heading level0 row7\" rowspan=\"7\">gnomAD</th>\n",
       "      <th id=\"T_2b7dc_level1_row7\" class=\"row_heading level1 row7\" >DNABERT</th>\n",
       "      <td id=\"T_2b7dc_row7_col0\" class=\"data row7 col0\" >0.582±0.008</td>\n",
       "      <td id=\"T_2b7dc_row7_col1\" class=\"data row7 col1\" >0.578±0.008</td>\n",
       "      <td id=\"T_2b7dc_row7_col2\" class=\"data row7 col2\" >0.594±0.008</td>\n",
       "    </tr>\n",
       "    <tr>\n",
       "      <th id=\"T_2b7dc_level1_row8\" class=\"row_heading level1 row8\" >NT-MS-v2-500M</th>\n",
       "      <td id=\"T_2b7dc_row8_col0\" class=\"data row8 col0\" >0.517±0.016</td>\n",
       "      <td id=\"T_2b7dc_row8_col1\" class=\"data row8 col1\" >0.548±0.016</td>\n",
       "      <td id=\"T_2b7dc_row8_col2\" class=\"data row8 col2\" >0.541±0.016</td>\n",
       "    </tr>\n",
       "    <tr>\n",
       "      <th id=\"T_2b7dc_level1_row9\" class=\"row_heading level1 row9\" >13-mer</th>\n",
       "      <td id=\"T_2b7dc_row9_col0\" class=\"data row9 col0\" >0.579±0.008</td>\n",
       "      <td id=\"T_2b7dc_row9_col1\" class=\"data row9 col1\" >0.567±0.008</td>\n",
       "      <td id=\"T_2b7dc_row9_col2\" class=\"data row9 col2\" >0.588±0.008</td>\n",
       "    </tr>\n",
       "    <tr>\n",
       "      <th id=\"T_2b7dc_level1_row10\" class=\"row_heading level1 row10\" >Species-agnostic</th>\n",
       "      <td id=\"T_2b7dc_row10_col0\" class=\"data row10 col0\" >0.581±0.008</td>\n",
       "      <td id=\"T_2b7dc_row10_col1\" class=\"data row10 col1\" >0.573±0.008</td>\n",
       "      <td id=\"T_2b7dc_row10_col2\" class=\"data row10 col2\" >0.591±0.008</td>\n",
       "    </tr>\n",
       "    <tr>\n",
       "      <th id=\"T_2b7dc_level1_row11\" class=\"row_heading level1 row11\" >Species-aware</th>\n",
       "      <td id=\"T_2b7dc_row11_col0\" class=\"data row11 col0\" >0.584±0.008</td>\n",
       "      <td id=\"T_2b7dc_row11_col1\" class=\"data row11 col1\" >0.570±0.008</td>\n",
       "      <td id=\"T_2b7dc_row11_col2\" class=\"data row11 col2\" >0.592±0.008</td>\n",
       "    </tr>\n",
       "    <tr>\n",
       "      <th id=\"T_2b7dc_level1_row12\" class=\"row_heading level1 row12\" >PhyloP100</th>\n",
       "      <td id=\"T_2b7dc_row12_col0\" class=\"data row12 col0\" >0.628±0.008</td>\n",
       "      <td id=\"T_2b7dc_row12_col1\" class=\"data row12 col1\" >-</td>\n",
       "      <td id=\"T_2b7dc_row12_col2\" class=\"data row12 col2\" >-</td>\n",
       "    </tr>\n",
       "    <tr>\n",
       "      <th id=\"T_2b7dc_level1_row13\" class=\"row_heading level1 row13\" >PhyloP240</th>\n",
       "      <td id=\"T_2b7dc_row13_col0\" class=\"data row13 col0\" >0.566±0.007</td>\n",
       "      <td id=\"T_2b7dc_row13_col1\" class=\"data row13 col1\" >-</td>\n",
       "      <td id=\"T_2b7dc_row13_col2\" class=\"data row13 col2\" >-</td>\n",
       "    </tr>\n",
       "    <tr>\n",
       "      <th id=\"T_2b7dc_level0_row14\" class=\"row_heading level0 row14\" rowspan=\"7\">eQTL</th>\n",
       "      <th id=\"T_2b7dc_level1_row14\" class=\"row_heading level1 row14\" >DNABERT</th>\n",
       "      <td id=\"T_2b7dc_row14_col0\" class=\"data row14 col0\" >0.479±0.013</td>\n",
       "      <td id=\"T_2b7dc_row14_col1\" class=\"data row14 col1\" >0.501±0.012</td>\n",
       "      <td id=\"T_2b7dc_row14_col2\" class=\"data row14 col2\" >0.491±0.013</td>\n",
       "    </tr>\n",
       "    <tr>\n",
       "      <th id=\"T_2b7dc_level1_row15\" class=\"row_heading level1 row15\" >NT-MS-v2-500M</th>\n",
       "      <td id=\"T_2b7dc_row15_col0\" class=\"data row15 col0\" >0.460±0.025</td>\n",
       "      <td id=\"T_2b7dc_row15_col1\" class=\"data row15 col1\" >0.498±0.026</td>\n",
       "      <td id=\"T_2b7dc_row15_col2\" class=\"data row15 col2\" >0.484±0.025</td>\n",
       "    </tr>\n",
       "    <tr>\n",
       "      <th id=\"T_2b7dc_level1_row16\" class=\"row_heading level1 row16\" >13-mer</th>\n",
       "      <td id=\"T_2b7dc_row16_col0\" class=\"data row16 col0\" >0.485±0.013</td>\n",
       "      <td id=\"T_2b7dc_row16_col1\" class=\"data row16 col1\" >0.512±0.013</td>\n",
       "      <td id=\"T_2b7dc_row16_col2\" class=\"data row16 col2\" >0.499±0.013</td>\n",
       "    </tr>\n",
       "    <tr>\n",
       "      <th id=\"T_2b7dc_level1_row17\" class=\"row_heading level1 row17\" >Species-agnostic</th>\n",
       "      <td id=\"T_2b7dc_row17_col0\" class=\"data row17 col0\" >0.481±0.012</td>\n",
       "      <td id=\"T_2b7dc_row17_col1\" class=\"data row17 col1\" >0.501±0.013</td>\n",
       "      <td id=\"T_2b7dc_row17_col2\" class=\"data row17 col2\" >0.494±0.012</td>\n",
       "    </tr>\n",
       "    <tr>\n",
       "      <th id=\"T_2b7dc_level1_row18\" class=\"row_heading level1 row18\" >Species-aware</th>\n",
       "      <td id=\"T_2b7dc_row18_col0\" class=\"data row18 col0\" >0.478±0.012</td>\n",
       "      <td id=\"T_2b7dc_row18_col1\" class=\"data row18 col1\" >0.502±0.012</td>\n",
       "      <td id=\"T_2b7dc_row18_col2\" class=\"data row18 col2\" >0.492±0.012</td>\n",
       "    </tr>\n",
       "    <tr>\n",
       "      <th id=\"T_2b7dc_level1_row19\" class=\"row_heading level1 row19\" >PhyloP100</th>\n",
       "      <td id=\"T_2b7dc_row19_col0\" class=\"data row19 col0\" >0.509±0.013</td>\n",
       "      <td id=\"T_2b7dc_row19_col1\" class=\"data row19 col1\" >-</td>\n",
       "      <td id=\"T_2b7dc_row19_col2\" class=\"data row19 col2\" >-</td>\n",
       "    </tr>\n",
       "    <tr>\n",
       "      <th id=\"T_2b7dc_level1_row20\" class=\"row_heading level1 row20\" >PhyloP240</th>\n",
       "      <td id=\"T_2b7dc_row20_col0\" class=\"data row20 col0\" >0.536±0.014</td>\n",
       "      <td id=\"T_2b7dc_row20_col1\" class=\"data row20 col1\" >-</td>\n",
       "      <td id=\"T_2b7dc_row20_col2\" class=\"data row20 col2\" >-</td>\n",
       "    </tr>\n",
       "  </tbody>\n",
       "</table>\n"
      ],
      "text/plain": [
       "<pandas.io.formats.style.Styler at 0x7fed4755b3d0>"
      ]
     },
     "execution_count": 76,
     "metadata": {},
     "output_type": "execute_result"
    }
   ],
   "source": [
    "df.style.apply(lambda x: highlight_ns(x, best_models),axis=1)"
   ]
  },
  {
   "cell_type": "code",
   "execution_count": null,
   "id": "152f842d-5054-4a0e-baa1-a24225a708cf",
   "metadata": {},
   "outputs": [],
   "source": []
  }
 ],
 "metadata": {
  "kernelspec": {
   "display_name": "Python 3 (ipykernel)",
   "language": "python",
   "name": "python3"
  },
  "language_info": {
   "codemirror_mode": {
    "name": "ipython",
    "version": 3
   },
   "file_extension": ".py",
   "mimetype": "text/x-python",
   "name": "python",
   "nbconvert_exporter": "python",
   "pygments_lexer": "ipython3",
   "version": "3.10.13"
  }
 },
 "nbformat": 4,
 "nbformat_minor": 5
}

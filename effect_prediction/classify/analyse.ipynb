{
 "cells": [
  {
   "cell_type": "code",
   "execution_count": 1,
   "id": "675d33de-ab99-477c-940c-fa2631fe7212",
   "metadata": {
    "tags": []
   },
   "outputs": [],
   "source": [
    "import numpy as np\n",
    "import pandas as pd\n",
    "import scipy\n",
    "import sklearn.metrics\n",
    "import os\n",
    "\n",
    "import matplotlib.pyplot as plt\n",
    "import matplotlib as mpl\n",
    "#import seaborn as sns\n",
    "\n",
    "from sklearn.metrics import roc_auc_score\n",
    "import statsmodels.stats.multicomp as mc"
   ]
  },
  {
   "cell_type": "markdown",
   "id": "e430f7c8-7cd0-4194-8bf7-26c19cc0efa1",
   "metadata": {},
   "source": [
    "# Collect predictions"
   ]
  },
  {
   "cell_type": "code",
   "execution_count": 2,
   "id": "c6b77ddf-2b51-4a9f-ace6-d16c65a03fc9",
   "metadata": {
    "tags": []
   },
   "outputs": [],
   "source": [
    "regressor = 'MLP'\n",
    "merge_embeddings = 1"
   ]
  },
  {
   "cell_type": "code",
   "execution_count": 3,
   "id": "bb9145a5-0756-4fd1-9362-952a1de453fe",
   "metadata": {},
   "outputs": [],
   "source": [
    "data_dir = f'/lustre/groups/epigenereg01/workspace/projects/vale/mlm/variants/predictions/merge_embeddings_{merge_embeddings}/{regressor}/'"
   ]
  },
  {
   "cell_type": "code",
   "execution_count": 4,
   "id": "ba0d9e61-0bcf-4d8b-ba1b-6af7f5a88922",
   "metadata": {
    "tags": []
   },
   "outputs": [],
   "source": [
    "#models = ['Species-aware','Species-agnostic','DNABERT','DNABERT-2','NT-MS-v2-500M','4mers','5mers','word2vec','effective_length']\n",
    "models = ['dnabert','dnabert-3utr',  'dnabert2', 'dnabert2-3utr',  'ntrans-v2-250m',  'ntrans-v2-250m-3utr', 'stspace', 'stspace-spaw',\n",
    "          '5mers', 'effective_length', ]"
   ]
  },
  {
   "cell_type": "code",
   "execution_count": 5,
   "id": "eb820876-4815-409b-b40d-90bbc8979907",
   "metadata": {},
   "outputs": [
    {
     "name": "stdout",
     "output_type": "stream",
     "text": [
      "clinvar\n",
      "gnomAD\n",
      "eQTL-susie\n",
      "eQTL-GRASP\n"
     ]
    }
   ],
   "source": [
    "res = {}\n",
    "\n",
    "for subset in ('clinvar', 'gnomAD','eQTL-susie','eQTL-GRASP'):\n",
    "        res[subset] = []\n",
    "        for model in models:\n",
    "            res_tsv = data_dir + f'{subset}-{model}.tsv'\n",
    "            if os.path.isfile(res_tsv):\n",
    "                df = pd.read_csv(res_tsv, sep='\\t')\n",
    "                df['model'] = model\n",
    "                res[subset].append(df)\n",
    "        if len(res[subset])>0:\n",
    "            res[subset] = pd.concat(res[subset])\n",
    "            N=res[subset].groupby('model').size().mean()\n",
    "            print(subset)"
   ]
  },
  {
   "cell_type": "code",
   "execution_count": 6,
   "id": "1d9172f3-beb1-4cbc-80a5-58af28b553a2",
   "metadata": {
    "tags": []
   },
   "outputs": [
    {
     "data": {
      "text/html": [
       "<div>\n",
       "<style scoped>\n",
       "    .dataframe tbody tr th:only-of-type {\n",
       "        vertical-align: middle;\n",
       "    }\n",
       "\n",
       "    .dataframe tbody tr th {\n",
       "        vertical-align: top;\n",
       "    }\n",
       "\n",
       "    .dataframe thead th {\n",
       "        text-align: right;\n",
       "    }\n",
       "</style>\n",
       "<table border=\"1\" class=\"dataframe\">\n",
       "  <thead>\n",
       "    <tr style=\"text-align: right;\">\n",
       "      <th></th>\n",
       "      <th>clinvar</th>\n",
       "      <th>gnomAD</th>\n",
       "      <th>eQTL-susie</th>\n",
       "      <th>eQTL-GRASP</th>\n",
       "    </tr>\n",
       "    <tr>\n",
       "      <th>model</th>\n",
       "      <th></th>\n",
       "      <th></th>\n",
       "      <th></th>\n",
       "      <th></th>\n",
       "    </tr>\n",
       "  </thead>\n",
       "  <tbody>\n",
       "    <tr>\n",
       "      <th>dnabert</th>\n",
       "      <td>0.937998</td>\n",
       "      <td>0.595723</td>\n",
       "      <td>0.571797</td>\n",
       "      <td>0.627077</td>\n",
       "    </tr>\n",
       "    <tr>\n",
       "      <th>dnabert-3utr</th>\n",
       "      <td>0.943638</td>\n",
       "      <td>0.606252</td>\n",
       "      <td>0.580178</td>\n",
       "      <td>0.647999</td>\n",
       "    </tr>\n",
       "    <tr>\n",
       "      <th>dnabert2</th>\n",
       "      <td>0.957653</td>\n",
       "      <td>0.597439</td>\n",
       "      <td>0.686390</td>\n",
       "      <td>0.659115</td>\n",
       "    </tr>\n",
       "    <tr>\n",
       "      <th>dnabert2-3utr</th>\n",
       "      <td>0.932629</td>\n",
       "      <td>0.549542</td>\n",
       "      <td>0.629469</td>\n",
       "      <td>0.608714</td>\n",
       "    </tr>\n",
       "    <tr>\n",
       "      <th>ntrans-v2-250m</th>\n",
       "      <td>0.916932</td>\n",
       "      <td>0.563236</td>\n",
       "      <td>0.593616</td>\n",
       "      <td>0.591837</td>\n",
       "    </tr>\n",
       "    <tr>\n",
       "      <th>ntrans-v2-250m-3utr</th>\n",
       "      <td>0.886992</td>\n",
       "      <td>0.560595</td>\n",
       "      <td>0.594009</td>\n",
       "      <td>0.590018</td>\n",
       "    </tr>\n",
       "    <tr>\n",
       "      <th>stspace</th>\n",
       "      <td>0.941299</td>\n",
       "      <td>0.586070</td>\n",
       "      <td>0.627471</td>\n",
       "      <td>0.639632</td>\n",
       "    </tr>\n",
       "    <tr>\n",
       "      <th>stspace-spaw</th>\n",
       "      <td>0.940304</td>\n",
       "      <td>0.584976</td>\n",
       "      <td>0.620793</td>\n",
       "      <td>0.625126</td>\n",
       "    </tr>\n",
       "  </tbody>\n",
       "</table>\n",
       "</div>"
      ],
      "text/plain": [
       "                      clinvar    gnomAD  eQTL-susie  eQTL-GRASP\n",
       "model                                                          \n",
       "dnabert              0.937998  0.595723    0.571797    0.627077\n",
       "dnabert-3utr         0.943638  0.606252    0.580178    0.647999\n",
       "dnabert2             0.957653  0.597439    0.686390    0.659115\n",
       "dnabert2-3utr        0.932629  0.549542    0.629469    0.608714\n",
       "ntrans-v2-250m       0.916932  0.563236    0.593616    0.591837\n",
       "ntrans-v2-250m-3utr  0.886992  0.560595    0.594009    0.590018\n",
       "stspace              0.941299  0.586070    0.627471    0.639632\n",
       "stspace-spaw         0.940304  0.584976    0.620793    0.625126"
      ]
     },
     "execution_count": 6,
     "metadata": {},
     "output_type": "execute_result"
    }
   ],
   "source": [
    "preds_res = {}\n",
    "best_models = {}\n",
    "\n",
    "\n",
    "for subset in ('clinvar', 'gnomAD','eQTL-susie','eQTL-GRASP'):\n",
    "\n",
    "        if len(res[subset])>0:\n",
    "        \n",
    "            preds_res[subset] = res[subset].groupby('model').apply(lambda x:roc_auc_score(x.label.values,x.y_pred.values))\n",
    "        \n",
    "preds_res = pd.DataFrame(preds_res).map(lambda x: f'{x[0]:.2f}±{x[1]:.2f}' if type(x)==tuple else x)\n",
    "\n",
    "preds_res"
   ]
  },
  {
   "cell_type": "code",
   "execution_count": null,
   "id": "a686b955-8863-4639-91a4-b21395b0ecca",
   "metadata": {},
   "outputs": [],
   "source": []
  }
 ],
 "metadata": {
  "kernelspec": {
   "display_name": "Python 3 (ipykernel)",
   "language": "python",
   "name": "python3"
  },
  "language_info": {
   "codemirror_mode": {
    "name": "ipython",
    "version": 3
   },
   "file_extension": ".py",
   "mimetype": "text/x-python",
   "name": "python",
   "nbconvert_exporter": "python",
   "pygments_lexer": "ipython3",
   "version": "3.10.13"
  }
 },
 "nbformat": 4,
 "nbformat_minor": 5
}

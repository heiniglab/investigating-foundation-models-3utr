{
 "cells": [
  {
   "cell_type": "code",
   "execution_count": 1,
   "id": "632da78c-658c-4fe3-b6af-4e423837db11",
   "metadata": {},
   "outputs": [],
   "source": [
    "import pandas as pd\n",
    "import numpy as np\n",
    "import re\n",
    "import os\n",
    "import pysam\n",
    "from textwrap import wrap\n",
    "from tqdm import tqdm"
   ]
  },
  {
   "cell_type": "code",
   "execution_count": 2,
   "id": "71dd8f8d-dd33-4bde-b12d-ee09bf3efb8c",
   "metadata": {},
   "outputs": [],
   "source": [
    "data_dir = '/lustre/groups/epigenereg01/workspace/projects/vale/mlm/variants/'"
   ]
  },
  {
   "cell_type": "code",
   "execution_count": 3,
   "id": "291abab3-3dcf-4bb2-b281-77607943cb7b",
   "metadata": {},
   "outputs": [],
   "source": [
    "gnomAD_variants = pd.read_csv(data_dir + 'prefiltered/gnomAD/gnomAD_GRCh38.utr3.bed', usecols=[0,1,3],names=['chrom','pos','info'], sep='\\t')\n",
    "\n",
    "is_low_frequency = gnomAD_variants['info'].apply(lambda x: re.search('AC=([0-9]+)',x).groups()[0]=='1') #putative functional variants with AC=1\n",
    "gnomAD_variants.loc[is_low_frequency,'label'] = 1 \n",
    "gnomAD_variants.loc[~is_low_frequency,'label'] = 0 #putative non-functional, must be only with AF>5% (see dataprep pipeline)\n",
    "gnomAD_variants['source'] = 'gnomAD'\n",
    "\n",
    "clinvar_variants = pd.read_csv(data_dir + 'prefiltered/clinvar/clinvar.3utr.pathogenic.bed', usecols=[0,1,3],names=['chrom','pos','info'], sep='\\t') #clinvar (Likely) pathogenic\n",
    "clinvar_variants['source'] = 'clinvar'\n",
    "clinvar_variants['label'] = 1\n",
    "\n",
    "eQTL_susie = pd.read_csv(data_dir + 'prefiltered/eQTL-susie/eQTL.3utr.bed', usecols=[0,1,3],names=['chrom','pos','info'], sep='\\t') #eQTLs with pvalue<1e-30\n",
    "eQTL_susie['pvalue'] = eQTL_susie['info'].apply(lambda x: re.search('pvalue=([0-9\\.\\-eE]+)',x).groups()[0]).astype(float)\n",
    "#eQTL_susie = eQTL_susie[pvalue<1e-70]\n",
    "\n",
    "eQTL_susie['source'] = 'eQTL-susie'\n",
    "eQTL_susie['label'] = 1\n",
    "\n",
    "eQTL_GRASP = pd.read_csv(data_dir + 'prefiltered/GRASP/GRASP2eQTL.3utr.bed', usecols=[0,1,3],names=['chrom','pos','info'], sep='\\t') #eQTLs with pvalue<1e-30\n",
    "eQTL_GRASP['pvalue'] = eQTL_GRASP['info'].apply(lambda x: re.search('pvalue=([0-9\\.\\-eE]+)',x).groups()[0]).astype(float)\n",
    "\n",
    "eQTL_GRASP['source'] = 'eQTL-GRASP'\n",
    "eQTL_GRASP['label'] = 1\n",
    "\n",
    "variants_df = pd.concat([clinvar_variants,eQTL_GRASP,eQTL_susie,gnomAD_variants])"
   ]
  },
  {
   "cell_type": "code",
   "execution_count": 4,
   "id": "3afd9bdd-8f8b-423d-97d3-1c8d0c237c66",
   "metadata": {},
   "outputs": [],
   "source": [
    "variants_df['ref'] = variants_df['info'].apply(lambda x: re.search('GT=([ACTG/]+)',x).groups()[0].split('/')[0]) \n",
    "variants_df['alt'] = variants_df['info'].apply(lambda x: re.search('GT=([ACTG/]+)',x).groups()[0].split('/')[1]) "
   ]
  },
  {
   "cell_type": "code",
   "execution_count": 5,
   "id": "1491fcbb-d151-4739-853a-bd61283d75f2",
   "metadata": {},
   "outputs": [],
   "source": [
    "#variants_df = variants_df[(variants_df.ref.isin(list('ACGT')))&(variants_df.alt.isin(list('ACGT')))] #only correct SNPs"
   ]
  },
  {
   "cell_type": "code",
   "execution_count": 6,
   "id": "ed755eac-dc3b-44f5-9e04-d2c8412f21dd",
   "metadata": {},
   "outputs": [
    {
     "name": "stderr",
     "output_type": "stream",
     "text": [
      "/tmp/ipykernel_1351803/106777379.py:4: FutureWarning: Setting an item of incompatible dtype is deprecated and will raise in a future error of pandas. Value 'SNP' has dtype incompatible with float64, please explicitly cast to a compatible dtype first.\n",
      "  variants_df.loc[(len_ref==1)&(len_alt==1),'vartype'] = 'SNP'\n"
     ]
    }
   ],
   "source": [
    "len_ref = variants_df.ref.apply(len)\n",
    "len_alt = variants_df.alt.apply(len)\n",
    "\n",
    "variants_df.loc[(len_ref==1)&(len_alt==1),'vartype'] = 'SNP'\n",
    "variants_df.loc[(len_ref>1)&(len_alt==1),'vartype'] = 'DEL'\n",
    "variants_df.loc[(len_ref==1)&(len_alt>1),'vartype'] = 'INS'\n",
    "\n",
    "variants_df = variants_df[variants_df.vartype=='SNP'] #take only SNPs"
   ]
  },
  {
   "cell_type": "code",
   "execution_count": 7,
   "id": "c9b6764b-83fb-4900-8c89-78b7ed3c94aa",
   "metadata": {},
   "outputs": [],
   "source": [
    "variants_df.drop_duplicates(subset=['chrom','pos'], inplace=True) #drop gnomAD variants that overlap with positive variants"
   ]
  },
  {
   "cell_type": "code",
   "execution_count": 8,
   "id": "2db2d5f8-9069-43f8-8f8e-1c2435e2cdb0",
   "metadata": {},
   "outputs": [],
   "source": [
    "variants_df = variants_df[(variants_df.source!='eQTL-GRASP')|(variants_df.pvalue<=1e-12)]\n",
    "variants_df = variants_df[(variants_df.source!='eQTL-susie')|(variants_df.pvalue<=1e-12)]"
   ]
  },
  {
   "cell_type": "code",
   "execution_count": 9,
   "id": "0d6b4924-a8e8-42b8-ae11-b932f242836f",
   "metadata": {},
   "outputs": [],
   "source": [
    "variants_df['seq_name'] = variants_df['info'].apply(lambda x: re.search('seq_name=([^;]+)',x).groups()[0])"
   ]
  },
  {
   "cell_type": "code",
   "execution_count": 10,
   "id": "1afa49af-a1c1-46a5-982b-38dcb16347dc",
   "metadata": {},
   "outputs": [],
   "source": [
    "variants_df.drop(columns=['info','pvalue'], inplace=True) # we don't need infor column anymore"
   ]
  },
  {
   "cell_type": "code",
   "execution_count": 11,
   "id": "8acaf808-147c-4493-8e1c-adebc947ec34",
   "metadata": {},
   "outputs": [],
   "source": [
    "variants_df.seq_name = variants_df.seq_name.apply(lambda x:x.split(',')[0] if ',' in x else x) #take only the 1st region when multiple regions assigned"
   ]
  },
  {
   "cell_type": "code",
   "execution_count": 12,
   "id": "7166c829-72f2-4687-ad2c-9af5df94efa7",
   "metadata": {},
   "outputs": [],
   "source": [
    "#3'UTR table\n",
    "\n",
    "utr_table = pd.read_csv(data_dir + '../UTR_coords/GRCh38_3_prime_UTR_clean-sorted.bed', sep='\\t',\n",
    "                       header = None, names=['seq_start','seq_end','seq_name','strand'], usecols=[1,2,3,5])"
   ]
  },
  {
   "cell_type": "code",
   "execution_count": 13,
   "id": "39ac1967-ea0c-4cba-ab5c-7cd1836845fb",
   "metadata": {},
   "outputs": [],
   "source": [
    "variants_df = variants_df.merge(utr_table, how='left')"
   ]
  },
  {
   "cell_type": "code",
   "execution_count": 14,
   "id": "d0685d1a-b491-4f89-b00f-1b4740b1a307",
   "metadata": {},
   "outputs": [],
   "source": [
    "#compute the relative position of the variant in the sequence\n",
    "variants_df.loc[variants_df.strand=='+','pos_rel'] = variants_df[variants_df.strand=='+'].pos - variants_df[variants_df.strand=='+'].seq_start\n",
    "variants_df.loc[variants_df.strand=='-','pos_rel'] = variants_df[variants_df.strand=='-'].seq_end - variants_df[variants_df.strand=='-'].pos-1 #position on the reverse complemented sequence\n",
    "variants_df.pos_rel = variants_df.pos_rel.astype(int)"
   ]
  },
  {
   "cell_type": "code",
   "execution_count": 15,
   "id": "44f2e639-7011-44d3-b833-696ebf7d6677",
   "metadata": {},
   "outputs": [],
   "source": [
    "#variants_df = variants_df[variants_df.pos_rel<5000] #limit by the maximum sequence length of trained models"
   ]
  },
  {
   "cell_type": "code",
   "execution_count": 16,
   "id": "3590cf62-3fcb-4d99-92e5-99e9992c7a60",
   "metadata": {},
   "outputs": [],
   "source": [
    "# for each positive variant assign a negative variant\n",
    "#\n",
    "#N_pairs = 10000\n",
    "#\n",
    "#neg_df = variants_df[variants_df.label==0]\n",
    "#pos_df = variants_df[variants_df.label==1]\n",
    "#\n",
    "#variants_df['bucket'] = None\n",
    "#variants_df['split'] = None\n",
    "#\n",
    "#last_bucket_source = {source:0 for source in variants_df.source.unique()} #index of last positive-negative pair for each source\n",
    "#\n",
    "#for chrom in tqdm(pos_df.chrom.unique()):\n",
    "#    chrom_df_pos = pos_df[pos_df.chrom==chrom].copy()\n",
    "#    chrom_df_neg = neg_df[neg_df.chrom==chrom].copy()\n",
    "#    for pos_idx, pos in chrom_df_pos.pos.items():\n",
    "#        if len(chrom_df_neg)==0:\n",
    "#            break\n",
    "#        neg_idx_nearest = np.searchsorted(chrom_df_neg.pos, pos) #nearest negative variant index\n",
    "#        neg_idx = chrom_df_neg.index[min(neg_idx_nearest,len(chrom_df_neg)-1)]\n",
    "#        pos_diff = abs(chrom_df_neg.loc[neg_idx,'pos']-pos) #difference between the variant positions in the pair\n",
    "#        source = variants_df.loc[pos_idx,'source'] #source of the positive variant\n",
    "#        if abs(pos_diff)<1e10:\n",
    "#            variants_df.loc[[neg_idx,pos_idx],'bucket']=last_bucket_source[source]\n",
    "#            variants_df.loc[[neg_idx,pos_idx],'split']= source\n",
    "#            last_bucket_source[source] += 1\n",
    "#            chrom_df_neg.drop(neg_idx, inplace=True) # once the negative variant is chosen we can't take it anymore\n",
    "#\n",
    "#variants_df = variants_df[~variants_df.split.isna()] #remove variants without a pair\n",
    "#\n",
    "#limit the number of variant pairs from each source to N_pairs\n",
    "#for split in ('gnomAD','clinvar','eQTL'):\n",
    "#    buckets_chosen = np.random.choice(np.arange(last_bucket_source[split]), replace=False, size=min(N_pairs,last_bucket_source[split]))\n",
    "#    variants_df = variants_df[(variants_df.split!=split)|(variants_df.bucket.isin(buckets_chosen))]\n",
    "#\n",
    "#variants_df.groupby('split').label.value_counts()"
   ]
  },
  {
   "cell_type": "code",
   "execution_count": 17,
   "id": "e834e276-73a1-49f5-9b3d-3c1ae17e4d45",
   "metadata": {},
   "outputs": [],
   "source": [
    "#variants_df.to_csv(data_dir+'perbase_pred/variants_snp_balanced.tsv', sep='\\t', index=None) #POSITIONS are 0-based!"
   ]
  },
  {
   "cell_type": "code",
   "execution_count": 18,
   "id": "e14dca98-a20e-454a-bc2c-2afea535c33d",
   "metadata": {},
   "outputs": [
    {
     "data": {
      "text/plain": [
       "split       label\n",
       "clinvar     0.0      10000\n",
       "            1.0        249\n",
       "eQTL-GRASP  0.0      10000\n",
       "            1.0        751\n",
       "eQTL-susie  1.0      10000\n",
       "            0.0      10000\n",
       "gnomAD      0.0      10000\n",
       "            1.0      10000\n",
       "Name: count, dtype: int64"
      ]
     },
     "execution_count": 18,
     "metadata": {},
     "output_type": "execute_result"
    }
   ],
   "source": [
    "# take at most N_vars positive variants for each split\n",
    "# for each split, choose N_vars negative variants\n",
    "# negative variants for different splits will not overlap\n",
    "\n",
    "N_vars = 10000\n",
    "\n",
    "df = []\n",
    "\n",
    "neg_df = variants_df[variants_df.label==0].copy()\n",
    "\n",
    "for source in ('gnomAD','clinvar','eQTL-GRASP','eQTL-susie'):\n",
    "    pos_source = variants_df[(variants_df.source==source)&(variants_df.label==1)]\n",
    "    pos_source = pos_source.sample(n=min(len(pos_source),N_vars), replace=False, random_state=1)\n",
    "    neg_source = neg_df.sample(n=N_vars, replace=False, random_state=1)\n",
    "    pos_source['split'] = source\n",
    "    neg_source['split'] = source\n",
    "    df.append(pos_source)\n",
    "    df.append(neg_source)\n",
    "    if not 'eQTL' in source:\n",
    "        neg_df.drop(neg_source.index, inplace=True)\n",
    "\n",
    "df = pd.concat(df)\n",
    "\n",
    "variants_df = df[~df.split.isna()] #remove variants without a pair\n",
    "\n",
    "variants_df.groupby('split').label.value_counts()"
   ]
  },
  {
   "cell_type": "code",
   "execution_count": 19,
   "id": "10011595-341e-467e-82f4-2eb136f97a52",
   "metadata": {},
   "outputs": [],
   "source": [
    "variants_df.to_csv(data_dir+'selected/variants_snp.tsv', sep='\\t', index=None) #POSITIONS are 0-based!"
   ]
  },
  {
   "cell_type": "markdown",
   "id": "b468e0d5-aeac-471d-a070-98a20c08bc1f",
   "metadata": {},
   "source": [
    "# Seed variants to sequences\n",
    "\n",
    "we will create fasta files for foundation models to get ref and alt embeddings for each variant"
   ]
  },
  {
   "cell_type": "code",
   "execution_count": 20,
   "id": "ecad11d6-0c63-4908-a628-1a1802702a4a",
   "metadata": {},
   "outputs": [],
   "source": [
    "variants_df = pd.read_csv(data_dir+'selected/variants_snp.tsv', sep='\\t') "
   ]
  },
  {
   "cell_type": "code",
   "execution_count": 21,
   "id": "89314d49-994a-4655-b88d-07136eb43904",
   "metadata": {},
   "outputs": [],
   "source": [
    "variants_df = variants_df.sort_values(by='label',ascending=False)"
   ]
  },
  {
   "cell_type": "code",
   "execution_count": 22,
   "id": "5a0408ba-57f4-4280-a5f7-ff7387ce4905",
   "metadata": {},
   "outputs": [],
   "source": [
    "def reverse_complement(seq):\n",
    "    '''\n",
    "    Take sequence reverse complement\n",
    "    '''\n",
    "    compl_dict = {'A':'T', 'C':'G', 'G':'C', 'T':'A'}\n",
    "    compl_seq = ''.join([compl_dict.get(x,x) for x in seq])\n",
    "    rev_seq = compl_seq[::-1]\n",
    "    return rev_seq"
   ]
  },
  {
   "cell_type": "code",
   "execution_count": 23,
   "id": "99947ccd-3595-42e9-9f36-08797a0a69aa",
   "metadata": {},
   "outputs": [],
   "source": [
    "def extract_utr_seq(var, seq_len, rc_on_negative=False):\n",
    "\n",
    "    refseq = human_fasta.fetch(var.chrom, var.pos-seq_len//2, var.pos+seq_len//2).upper()\n",
    "    \n",
    "    assert len(refseq)==seq_len\n",
    "    \n",
    "    varpos = seq_len//2 #relative variant position in the sequence\n",
    "\n",
    "    assert not 'N' in refseq #avoid N's for NT models\n",
    "\n",
    "    altseq = list(refseq)\n",
    "     \n",
    "    if var.vartype!='DEL':\n",
    "        if refseq[varpos] != var.ref:\n",
    "            return (None, None)\n",
    "        else:\n",
    "            altseq[varpos] = var.alt\n",
    "    else:\n",
    "        if refseq[varpos:varpos+len(var.ref)] != var.ref:\n",
    "            return (None, None)\n",
    "        else:\n",
    "            altseq[varpos+1:varpos+len(var.ref)] = ''\n",
    "                 \n",
    "    altseq = ''.join(altseq)\n",
    "\n",
    "    #for genes on the negative strand, take reverse complement\n",
    "    if rc_on_negative and var.strand=='-':\n",
    "        altseq = reverse_complement(altseq)\n",
    "        refseq = reverse_complement(refseq)\n",
    "\n",
    "    return refseq, altseq"
   ]
  },
  {
   "cell_type": "code",
   "execution_count": 24,
   "id": "58f94718-1202-4d3c-a7f5-b6d0936e0053",
   "metadata": {},
   "outputs": [],
   "source": [
    "human_fasta = pysam.FastaFile('/lustre/groups/epigenereg01/workspace/projects/vale/human_genomes/hg38.fa')"
   ]
  },
  {
   "cell_type": "code",
   "execution_count": 25,
   "id": "6a71c318-9475-4e04-9827-6310243f79d4",
   "metadata": {},
   "outputs": [],
   "source": [
    "variants_df.loc[:,'var_id'] = variants_df.chrom + '_' + variants_df.pos.astype(str) + '_' + variants_df.ref + '_' + variants_df.alt"
   ]
  },
  {
   "cell_type": "code",
   "execution_count": 26,
   "id": "60ce89ea-562a-46e4-b41d-e88f33288b09",
   "metadata": {},
   "outputs": [],
   "source": [
    "variants_df.drop_duplicates(subset='var_id', inplace=True)"
   ]
  },
  {
   "cell_type": "code",
   "execution_count": 27,
   "id": "86b2c4aa-f948-4509-b2da-37f7eba6bc0e",
   "metadata": {},
   "outputs": [],
   "source": [
    "def write_fasta(fasta_path, seq_len, rc_on_negative):\n",
    "\n",
    "    c = 0\n",
    "    \n",
    "    with open(fasta_path, 'w') as f:\n",
    "        for idx, var in tqdm(variants_df.iterrows(), total=len(variants_df)):\n",
    "            refseq, altseq = extract_utr_seq(var, seq_len, rc_on_negative)\n",
    "            assert refseq!=altseq\n",
    "            assert refseq!=None\n",
    "            f.write(f'>{var.var_id}_ref\\n')\n",
    "            for line in wrap(refseq, 80): #wrap reference sequence with standard FASTA width\n",
    "                f.write(line+'\\n')\n",
    "            f.write(f'>{var.var_id}_alt\\n')\n",
    "            for line in wrap(altseq, 80): #wrap alternative sequence with standard FASTA width\n",
    "                f.write(line+'\\n')\n",
    "            c += 1\n",
    "    return c"
   ]
  },
  {
   "cell_type": "code",
   "execution_count": 28,
   "id": "a23298a6-4a93-43e5-9b4d-9cea9b73ea2c",
   "metadata": {},
   "outputs": [
    {
     "name": "stderr",
     "output_type": "stream",
     "text": [
      "100%|██████████| 51000/51000 [00:45<00:00, 1123.89it/s]\n"
     ]
    },
    {
     "name": "stdout",
     "output_type": "stream",
     "text": [
      "51000 pairs written\n"
     ]
    },
    {
     "name": "stderr",
     "output_type": "stream",
     "text": [
      "100%|██████████| 51000/51000 [00:21<00:00, 2387.94it/s]"
     ]
    },
    {
     "name": "stdout",
     "output_type": "stream",
     "text": [
      "51000 pairs written\n"
     ]
    },
    {
     "name": "stderr",
     "output_type": "stream",
     "text": [
      "\n"
     ]
    }
   ],
   "source": [
    "for seq_len in (1024,):\n",
    "    \n",
    "    N_pairs=write_fasta(data_dir + f'selected/variants_dna_fwd_{seq_len}bp.fa',seq_len,False)\n",
    "    print(f'{N_pairs} pairs written')\n",
    "\n",
    "    N_pairs=write_fasta(data_dir + f'selected/variants_rna_{seq_len}bp.fa',seq_len,True)\n",
    "    print(f'{N_pairs} pairs written')\n"
   ]
  },
  {
   "cell_type": "code",
   "execution_count": null,
   "id": "626d0c21-0268-4dc6-8b69-ddd06dd7c97f",
   "metadata": {},
   "outputs": [],
   "source": []
  }
 ],
 "metadata": {
  "kernelspec": {
   "display_name": "Python 3 (ipykernel)",
   "language": "python",
   "name": "python3"
  },
  "language_info": {
   "codemirror_mode": {
    "name": "ipython",
    "version": 3
   },
   "file_extension": ".py",
   "mimetype": "text/x-python",
   "name": "python",
   "nbconvert_exporter": "python",
   "pygments_lexer": "ipython3",
   "version": "3.10.13"
  }
 },
 "nbformat": 4,
 "nbformat_minor": 5
}

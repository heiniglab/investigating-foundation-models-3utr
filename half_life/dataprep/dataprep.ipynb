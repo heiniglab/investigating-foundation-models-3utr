{
 "cells": [
  {
   "cell_type": "code",
   "execution_count": 2,
   "id": "c20d5284-43a5-4c57-9006-828f0883a2b7",
   "metadata": {
    "tags": []
   },
   "outputs": [],
   "source": [
    "import pandas as pd"
   ]
  },
  {
   "cell_type": "code",
   "execution_count": 1,
   "id": "2e82215c-3d72-4985-acbf-fd521ff920d3",
   "metadata": {
    "tags": []
   },
   "outputs": [],
   "source": [
    "data_dir = '/lustre/groups/epigenereg01/workspace/projects/vale/mlm/half_life/agarwal_2022/'"
   ]
  },
  {
   "cell_type": "code",
   "execution_count": 3,
   "id": "817e0df3-e2d5-4a5d-a727-ee57f2006ffa",
   "metadata": {},
   "outputs": [],
   "source": [
    "features_df = pd.read_csv(data_dir + 'agarwal_data/human/seqFeatWithKmerFreqs.txt.gz', sep='\\t', \n",
    "                                      usecols=lambda x: not 'ORF.' in x and not '5UTR.' in x) #basic features. 3'UTR and 5'UTR k-mers, ORF, target\n",
    "\n",
    "features_df.to_parquet(data_dir + 'preprocessing/seqFeatWithKmerFreqs_no5UTR.parquet')"
   ]
  }
 ],
 "metadata": {
  "kernelspec": {
   "display_name": "Python 3 (ipykernel)",
   "language": "python",
   "name": "python3"
  },
  "language_info": {
   "codemirror_mode": {
    "name": "ipython",
    "version": 3
   },
   "file_extension": ".py",
   "mimetype": "text/x-python",
   "name": "python",
   "nbconvert_exporter": "python",
   "pygments_lexer": "ipython3",
   "version": "3.10.13"
  }
 },
 "nbformat": 4,
 "nbformat_minor": 5
}

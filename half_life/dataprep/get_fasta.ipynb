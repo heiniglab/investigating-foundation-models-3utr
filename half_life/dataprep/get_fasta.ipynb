{
 "cells": [
  {
   "cell_type": "code",
   "execution_count": 2,
   "id": "41c1e253-94fe-4e7c-8c2d-0984893930a2",
   "metadata": {},
   "outputs": [],
   "source": [
    "import pickle\n",
    "import pandas as pd"
   ]
  },
  {
   "cell_type": "code",
   "execution_count": 3,
   "id": "925e9a3f-510f-47e9-bd79-2542ea071d4f",
   "metadata": {},
   "outputs": [],
   "source": [
    "data_dir = '/lustre/groups/epigenereg01/workspace/projects/vale/MLM/agarwal_2022/'"
   ]
  },
  {
   "cell_type": "code",
   "execution_count": 16,
   "id": "7c9bbbc2-8d79-407f-96aa-6cbb19281f00",
   "metadata": {},
   "outputs": [],
   "source": [
    "folds_df = pd.read_csv(data_dir + 'data/saluki_paper/Fig3_S4/binnedgenes.txt', sep='\\t', usecols=[0,1],\n",
    "                      names=['Fold','gene_id'], skiprows=1)#folds as they are in Agarwal article"
   ]
  },
  {
   "cell_type": "code",
   "execution_count": 17,
   "id": "eb0cf3dc-c043-4586-86ac-b8dce5d6cbe0",
   "metadata": {},
   "outputs": [],
   "source": [
    "transcript_to_gene = pd.read_csv(data_dir + '../UTR_coords/GRCh38_EnsembleCanonical_HGNC.tsv.gz', sep='\\t', \n",
    "                                     names=['gene_id','transcript_id'], skiprows=1,usecols=[0,1])"
   ]
  },
  {
   "cell_type": "code",
   "execution_count": 34,
   "id": "112f4add-20df-4c1e-a6ad-7d5cd993acaa",
   "metadata": {},
   "outputs": [],
   "source": [
    "used_transcripts = transcript_to_gene[transcript_to_gene.gene_id.isin(folds_df.gene_id)].transcript_id.values"
   ]
  },
  {
   "cell_type": "code",
   "execution_count": 24,
   "id": "e9665bc4-4835-4e33-b5a0-8d2296572fab",
   "metadata": {},
   "outputs": [],
   "source": [
    "input_fasta = data_dir + '../fasta/Homo_sapiens_no_reverse.fa'\n",
    "output_fasta = data_dir + '/fasta/Homo_sapiens_dna_fwd.fa'"
   ]
  },
  {
   "cell_type": "code",
   "execution_count": 49,
   "id": "39089d37-3cdd-407a-95b9-12034e751294",
   "metadata": {},
   "outputs": [],
   "source": [
    "faidx = pd.read_csv(input_fasta + '.fai', sep='\\t',header=None,names=['name','length','offset','linebases','linewidth'])\n",
    "faidx['transcript_id'] = faidx.name.apply(lambda x:x.split('.')[0])\n",
    "faidx = faidx[faidx.transcript_id.isin(used_transcripts)].drop(columns='transcript_id')\n",
    "\n",
    "faidx.name.to_csv(data_dir + '/fasta/regions.tsv',index=None,header=None)"
   ]
  },
  {
   "cell_type": "code",
   "execution_count": 50,
   "id": "500e6cae-fbe1-413a-867b-9fafede59685",
   "metadata": {},
   "outputs": [],
   "source": [
    "! samtools faidx -r {data_dir + '/fasta/regions.tsv'} {input_fasta} > {output_fasta}"
   ]
  },
  {
   "cell_type": "code",
   "execution_count": 51,
   "id": "22c6de75-8dcd-4172-b49b-597e14783143",
   "metadata": {},
   "outputs": [],
   "source": [
    "! samtools faidx {output_fasta}"
   ]
  },
  {
   "cell_type": "code",
   "execution_count": null,
   "id": "8a8fb1a4-a203-45d3-b0bf-b07ac3856178",
   "metadata": {},
   "outputs": [],
   "source": []
  }
 ],
 "metadata": {
  "kernelspec": {
   "display_name": "Python 3 (ipykernel)",
   "language": "python",
   "name": "python3"
  },
  "language_info": {
   "codemirror_mode": {
    "name": "ipython",
    "version": 3
   },
   "file_extension": ".py",
   "mimetype": "text/x-python",
   "name": "python",
   "nbconvert_exporter": "python",
   "pygments_lexer": "ipython3",
   "version": "3.10.13"
  }
 },
 "nbformat": 4,
 "nbformat_minor": 5
}
